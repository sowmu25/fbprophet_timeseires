{
  "nbformat": 4,
  "nbformat_minor": 0,
  "metadata": {
    "colab": {
      "provenance": []
    },
    "kernelspec": {
      "name": "python3",
      "display_name": "Python 3"
    },
    "language_info": {
      "name": "python"
    },
    "widgets": {
      "application/vnd.jupyter.widget-state+json": {
        "4ad3db2fb18d41e89e989be940788d7a": {
          "model_module": "@jupyter-widgets/controls",
          "model_name": "IntProgressModel",
          "model_module_version": "1.5.0",
          "state": {
            "_dom_classes": [],
            "_model_module": "@jupyter-widgets/controls",
            "_model_module_version": "1.5.0",
            "_model_name": "IntProgressModel",
            "_view_count": null,
            "_view_module": "@jupyter-widgets/controls",
            "_view_module_version": "1.5.0",
            "_view_name": "ProgressView",
            "bar_style": "",
            "description": "Processing: ",
            "description_tooltip": null,
            "layout": "IPY_MODEL_d66300b4b3cd4ef6bdaafea6c7544697",
            "max": 4,
            "min": 0,
            "orientation": "horizontal",
            "style": "IPY_MODEL_b8319bcc101b45bcb4cc59a01c225e1d",
            "value": 3
          }
        },
        "d66300b4b3cd4ef6bdaafea6c7544697": {
          "model_module": "@jupyter-widgets/base",
          "model_name": "LayoutModel",
          "model_module_version": "1.2.0",
          "state": {
            "_model_module": "@jupyter-widgets/base",
            "_model_module_version": "1.2.0",
            "_model_name": "LayoutModel",
            "_view_count": null,
            "_view_module": "@jupyter-widgets/base",
            "_view_module_version": "1.2.0",
            "_view_name": "LayoutView",
            "align_content": null,
            "align_items": null,
            "align_self": null,
            "border": null,
            "bottom": null,
            "display": null,
            "flex": null,
            "flex_flow": null,
            "grid_area": null,
            "grid_auto_columns": null,
            "grid_auto_flow": null,
            "grid_auto_rows": null,
            "grid_column": null,
            "grid_gap": null,
            "grid_row": null,
            "grid_template_areas": null,
            "grid_template_columns": null,
            "grid_template_rows": null,
            "height": null,
            "justify_content": null,
            "justify_items": null,
            "left": null,
            "margin": null,
            "max_height": null,
            "max_width": null,
            "min_height": null,
            "min_width": null,
            "object_fit": null,
            "object_position": null,
            "order": null,
            "overflow": null,
            "overflow_x": null,
            "overflow_y": null,
            "padding": null,
            "right": null,
            "top": null,
            "visibility": null,
            "width": null
          }
        },
        "b8319bcc101b45bcb4cc59a01c225e1d": {
          "model_module": "@jupyter-widgets/controls",
          "model_name": "ProgressStyleModel",
          "model_module_version": "1.5.0",
          "state": {
            "_model_module": "@jupyter-widgets/controls",
            "_model_module_version": "1.5.0",
            "_model_name": "ProgressStyleModel",
            "_view_count": null,
            "_view_module": "@jupyter-widgets/base",
            "_view_module_version": "1.2.0",
            "_view_name": "StyleView",
            "bar_color": null,
            "description_width": ""
          }
        },
        "e53abd3f9b34417faf330df4d5852752": {
          "model_module": "@jupyter-widgets/controls",
          "model_name": "TextModel",
          "model_module_version": "1.5.0",
          "state": {
            "_dom_classes": [],
            "_model_module": "@jupyter-widgets/controls",
            "_model_module_version": "1.5.0",
            "_model_name": "TextModel",
            "_view_count": null,
            "_view_module": "@jupyter-widgets/controls",
            "_view_module_version": "1.5.0",
            "_view_name": "TextView",
            "continuous_update": true,
            "description": "",
            "description_tooltip": null,
            "disabled": false,
            "layout": "IPY_MODEL_550232bc58924bc389086b0afddbc428",
            "placeholder": "​",
            "style": "IPY_MODEL_7b259c4a63a94da0a4ac954f673df1bb",
            "value": "Following data types have been inferred automatically, if they are correct press enter to continue or type 'quit' otherwise."
          }
        },
        "550232bc58924bc389086b0afddbc428": {
          "model_module": "@jupyter-widgets/base",
          "model_name": "LayoutModel",
          "model_module_version": "1.2.0",
          "state": {
            "_model_module": "@jupyter-widgets/base",
            "_model_module_version": "1.2.0",
            "_model_name": "LayoutModel",
            "_view_count": null,
            "_view_module": "@jupyter-widgets/base",
            "_view_module_version": "1.2.0",
            "_view_name": "LayoutView",
            "align_content": null,
            "align_items": null,
            "align_self": null,
            "border": null,
            "bottom": null,
            "display": null,
            "flex": null,
            "flex_flow": null,
            "grid_area": null,
            "grid_auto_columns": null,
            "grid_auto_flow": null,
            "grid_auto_rows": null,
            "grid_column": null,
            "grid_gap": null,
            "grid_row": null,
            "grid_template_areas": null,
            "grid_template_columns": null,
            "grid_template_rows": null,
            "height": null,
            "justify_content": null,
            "justify_items": null,
            "left": null,
            "margin": null,
            "max_height": null,
            "max_width": null,
            "min_height": null,
            "min_width": null,
            "object_fit": null,
            "object_position": null,
            "order": null,
            "overflow": null,
            "overflow_x": null,
            "overflow_y": null,
            "padding": null,
            "right": null,
            "top": null,
            "visibility": null,
            "width": "100%"
          }
        },
        "7b259c4a63a94da0a4ac954f673df1bb": {
          "model_module": "@jupyter-widgets/controls",
          "model_name": "DescriptionStyleModel",
          "model_module_version": "1.5.0",
          "state": {
            "_model_module": "@jupyter-widgets/controls",
            "_model_module_version": "1.5.0",
            "_model_name": "DescriptionStyleModel",
            "_view_count": null,
            "_view_module": "@jupyter-widgets/base",
            "_view_module_version": "1.2.0",
            "_view_name": "StyleView",
            "description_width": ""
          }
        },
        "c86137fb9d474a5cabcb9d378981c362": {
          "model_module": "@jupyter-widgets/controls",
          "model_name": "IntProgressModel",
          "model_module_version": "1.5.0",
          "state": {
            "_dom_classes": [],
            "_model_module": "@jupyter-widgets/controls",
            "_model_module_version": "1.5.0",
            "_model_name": "IntProgressModel",
            "_view_count": null,
            "_view_module": "@jupyter-widgets/controls",
            "_view_module_version": "1.5.0",
            "_view_name": "ProgressView",
            "bar_style": "",
            "description": "Processing: ",
            "description_tooltip": null,
            "layout": "IPY_MODEL_b174c7b0ede24261add256db7692a073",
            "max": 4,
            "min": 0,
            "orientation": "horizontal",
            "style": "IPY_MODEL_7c7ed87a6eb9414facabaf81e75b7bf2",
            "value": 4
          }
        },
        "b174c7b0ede24261add256db7692a073": {
          "model_module": "@jupyter-widgets/base",
          "model_name": "LayoutModel",
          "model_module_version": "1.2.0",
          "state": {
            "_model_module": "@jupyter-widgets/base",
            "_model_module_version": "1.2.0",
            "_model_name": "LayoutModel",
            "_view_count": null,
            "_view_module": "@jupyter-widgets/base",
            "_view_module_version": "1.2.0",
            "_view_name": "LayoutView",
            "align_content": null,
            "align_items": null,
            "align_self": null,
            "border": null,
            "bottom": null,
            "display": null,
            "flex": null,
            "flex_flow": null,
            "grid_area": null,
            "grid_auto_columns": null,
            "grid_auto_flow": null,
            "grid_auto_rows": null,
            "grid_column": null,
            "grid_gap": null,
            "grid_row": null,
            "grid_template_areas": null,
            "grid_template_columns": null,
            "grid_template_rows": null,
            "height": null,
            "justify_content": null,
            "justify_items": null,
            "left": null,
            "margin": null,
            "max_height": null,
            "max_width": null,
            "min_height": null,
            "min_width": null,
            "object_fit": null,
            "object_position": null,
            "order": null,
            "overflow": null,
            "overflow_x": null,
            "overflow_y": null,
            "padding": null,
            "right": null,
            "top": null,
            "visibility": null,
            "width": null
          }
        },
        "7c7ed87a6eb9414facabaf81e75b7bf2": {
          "model_module": "@jupyter-widgets/controls",
          "model_name": "ProgressStyleModel",
          "model_module_version": "1.5.0",
          "state": {
            "_model_module": "@jupyter-widgets/controls",
            "_model_module_version": "1.5.0",
            "_model_name": "ProgressStyleModel",
            "_view_count": null,
            "_view_module": "@jupyter-widgets/base",
            "_view_module_version": "1.2.0",
            "_view_name": "StyleView",
            "bar_color": null,
            "description_width": ""
          }
        }
      }
    }
  },
  "cells": [
    {
      "cell_type": "code",
      "execution_count": 2,
      "metadata": {
        "colab": {
          "base_uri": "https://localhost:8080/"
        },
        "id": "c_b5SLrIOzs0",
        "outputId": "b1f482f9-7d11-49d6-893e-e83426955664"
      },
      "outputs": [
        {
          "output_type": "stream",
          "name": "stdout",
          "text": [
            "Looking in indexes: https://pypi.org/simple, https://us-python.pkg.dev/colab-wheels/public/simple/\n",
            "Collecting pycaret==2.0\n",
            "  Downloading pycaret-2.0-py3-none-any.whl (255 kB)\n",
            "\u001b[2K     \u001b[90m━━━━━━━━━━━━━━━━━━━━━━━━━━━━━━━━━━━━━━\u001b[0m \u001b[32m255.6/255.6 KB\u001b[0m \u001b[31m11.3 MB/s\u001b[0m eta \u001b[36m0:00:00\u001b[0m\n",
            "\u001b[?25hRequirement already satisfied: wordcloud in /usr/local/lib/python3.8/dist-packages (from pycaret==2.0) (1.8.2.2)\n",
            "Requirement already satisfied: nltk in /usr/local/lib/python3.8/dist-packages (from pycaret==2.0) (3.7)\n",
            "Requirement already satisfied: xgboost>=0.90 in /usr/local/lib/python3.8/dist-packages (from pycaret==2.0) (0.90)\n",
            "Requirement already satisfied: mlflow in /usr/local/lib/python3.8/dist-packages (from pycaret==2.0) (2.1.1)\n",
            "Requirement already satisfied: scikit-learn>=0.23 in /usr/local/lib/python3.8/dist-packages (from pycaret==2.0) (0.23.2)\n",
            "Collecting DateTime>=4.3\n",
            "  Downloading DateTime-5.0-py3-none-any.whl (52 kB)\n",
            "\u001b[2K     \u001b[90m━━━━━━━━━━━━━━━━━━━━━━━━━━━━━━━━━━━━━━━━\u001b[0m \u001b[32m52.1/52.1 KB\u001b[0m \u001b[31m6.4 MB/s\u001b[0m eta \u001b[36m0:00:00\u001b[0m\n",
            "\u001b[?25hRequirement already satisfied: pandas-profiling>=2.3.0 in /usr/local/lib/python3.8/dist-packages (from pycaret==2.0) (3.6.2)\n",
            "Requirement already satisfied: cufflinks>=0.17.0 in /usr/local/lib/python3.8/dist-packages (from pycaret==2.0) (0.17.3)\n",
            "Collecting datefinder>=0.7.0\n",
            "  Downloading datefinder-0.7.3-py2.py3-none-any.whl (10 kB)\n",
            "Requirement already satisfied: kmodes>=0.10.1 in /usr/local/lib/python3.8/dist-packages (from pycaret==2.0) (0.12.2)\n",
            "Requirement already satisfied: pandas in /usr/local/lib/python3.8/dist-packages (from pycaret==2.0) (1.3.5)\n",
            "Requirement already satisfied: spacy in /usr/local/lib/python3.8/dist-packages (from pycaret==2.0) (2.3.9)\n",
            "Requirement already satisfied: ipywidgets in /usr/local/lib/python3.8/dist-packages (from pycaret==2.0) (7.7.1)\n",
            "Requirement already satisfied: umap-learn in /usr/local/lib/python3.8/dist-packages (from pycaret==2.0) (0.5.3)\n",
            "Collecting catboost\n",
            "  Downloading catboost-1.1.1-cp38-none-manylinux1_x86_64.whl (76.6 MB)\n",
            "\u001b[2K     \u001b[90m━━━━━━━━━━━━━━━━━━━━━━━━━━━━━━━━━━━━━━━━\u001b[0m \u001b[32m76.6/76.6 MB\u001b[0m \u001b[31m9.7 MB/s\u001b[0m eta \u001b[36m0:00:00\u001b[0m\n",
            "\u001b[?25hRequirement already satisfied: imbalanced-learn in /usr/local/lib/python3.8/dist-packages (from pycaret==2.0) (0.7.0)\n",
            "Requirement already satisfied: plotly>=4.4.1 in /usr/local/lib/python3.8/dist-packages (from pycaret==2.0) (5.5.0)\n",
            "Requirement already satisfied: yellowbrick>=1.0.1 in /usr/local/lib/python3.8/dist-packages (from pycaret==2.0) (1.3.post1)\n",
            "Requirement already satisfied: mlxtend in /usr/local/lib/python3.8/dist-packages (from pycaret==2.0) (0.19.0)\n",
            "Requirement already satisfied: joblib in /usr/local/lib/python3.8/dist-packages (from pycaret==2.0) (1.2.0)\n",
            "Requirement already satisfied: lightgbm>=2.3.1 in /usr/local/lib/python3.8/dist-packages (from pycaret==2.0) (3.3.4)\n",
            "Requirement already satisfied: IPython in /usr/local/lib/python3.8/dist-packages (from pycaret==2.0) (7.9.0)\n",
            "Requirement already satisfied: pyod in /usr/local/lib/python3.8/dist-packages (from pycaret==2.0) (1.0.7)\n",
            "Requirement already satisfied: gensim in /usr/local/lib/python3.8/dist-packages (from pycaret==2.0) (3.6.0)\n",
            "Requirement already satisfied: matplotlib in /usr/local/lib/python3.8/dist-packages (from pycaret==2.0) (3.2.2)\n",
            "Requirement already satisfied: numpy>=1.17 in /usr/local/lib/python3.8/dist-packages (from pycaret==2.0) (1.19.5)\n",
            "Requirement already satisfied: seaborn in /usr/local/lib/python3.8/dist-packages (from pycaret==2.0) (0.11.2)\n",
            "Requirement already satisfied: pyLDAvis in /usr/local/lib/python3.8/dist-packages (from pycaret==2.0) (3.2.2)\n",
            "Requirement already satisfied: textblob in /usr/local/lib/python3.8/dist-packages (from pycaret==2.0) (0.15.3)\n",
            "Requirement already satisfied: colorlover>=0.2.1 in /usr/local/lib/python3.8/dist-packages (from cufflinks>=0.17.0->pycaret==2.0) (0.3.0)\n",
            "Requirement already satisfied: six>=1.9.0 in /usr/local/lib/python3.8/dist-packages (from cufflinks>=0.17.0->pycaret==2.0) (1.15.0)\n",
            "Requirement already satisfied: setuptools>=34.4.1 in /usr/local/lib/python3.8/dist-packages (from cufflinks>=0.17.0->pycaret==2.0) (57.4.0)\n",
            "Requirement already satisfied: regex>=2017.02.08 in /usr/local/lib/python3.8/dist-packages (from datefinder>=0.7.0->pycaret==2.0) (2022.6.2)\n",
            "Requirement already satisfied: python-dateutil>=2.4.2 in /usr/local/lib/python3.8/dist-packages (from datefinder>=0.7.0->pycaret==2.0) (2.8.2)\n",
            "Requirement already satisfied: pytz in /usr/local/lib/python3.8/dist-packages (from datefinder>=0.7.0->pycaret==2.0) (2022.7)\n",
            "Collecting zope.interface\n",
            "  Downloading zope.interface-5.5.2-cp38-cp38-manylinux_2_5_x86_64.manylinux1_x86_64.manylinux_2_12_x86_64.manylinux2010_x86_64.whl (261 kB)\n",
            "\u001b[2K     \u001b[90m━━━━━━━━━━━━━━━━━━━━━━━━━━━━━━━━━━━━━━\u001b[0m \u001b[32m261.4/261.4 KB\u001b[0m \u001b[31m21.1 MB/s\u001b[0m eta \u001b[36m0:00:00\u001b[0m\n",
            "\u001b[?25hRequirement already satisfied: jedi>=0.10 in /usr/local/lib/python3.8/dist-packages (from IPython->pycaret==2.0) (0.18.2)\n",
            "Requirement already satisfied: prompt-toolkit<2.1.0,>=2.0.0 in /usr/local/lib/python3.8/dist-packages (from IPython->pycaret==2.0) (2.0.10)\n",
            "Requirement already satisfied: pickleshare in /usr/local/lib/python3.8/dist-packages (from IPython->pycaret==2.0) (0.7.5)\n",
            "Requirement already satisfied: backcall in /usr/local/lib/python3.8/dist-packages (from IPython->pycaret==2.0) (0.2.0)\n",
            "Requirement already satisfied: pygments in /usr/local/lib/python3.8/dist-packages (from IPython->pycaret==2.0) (2.6.1)\n",
            "Requirement already satisfied: pexpect in /usr/local/lib/python3.8/dist-packages (from IPython->pycaret==2.0) (4.8.0)\n",
            "Requirement already satisfied: traitlets>=4.2 in /usr/local/lib/python3.8/dist-packages (from IPython->pycaret==2.0) (5.7.1)\n",
            "Requirement already satisfied: decorator in /usr/local/lib/python3.8/dist-packages (from IPython->pycaret==2.0) (4.4.2)\n",
            "Requirement already satisfied: widgetsnbextension~=3.6.0 in /usr/local/lib/python3.8/dist-packages (from ipywidgets->pycaret==2.0) (3.6.1)\n",
            "Requirement already satisfied: ipython-genutils~=0.2.0 in /usr/local/lib/python3.8/dist-packages (from ipywidgets->pycaret==2.0) (0.2.0)\n",
            "Requirement already satisfied: ipykernel>=4.5.1 in /usr/local/lib/python3.8/dist-packages (from ipywidgets->pycaret==2.0) (5.3.4)\n",
            "Requirement already satisfied: jupyterlab-widgets>=1.0.0 in /usr/local/lib/python3.8/dist-packages (from ipywidgets->pycaret==2.0) (3.0.5)\n",
            "Requirement already satisfied: scipy>=0.13.3 in /usr/local/lib/python3.8/dist-packages (from kmodes>=0.10.1->pycaret==2.0) (1.5.4)\n",
            "Requirement already satisfied: wheel in /usr/local/lib/python3.8/dist-packages (from lightgbm>=2.3.1->pycaret==2.0) (0.38.4)\n",
            "Requirement already satisfied: statsmodels<0.14,>=0.13.2 in /usr/local/lib/python3.8/dist-packages (from pandas-profiling>=2.3.0->pycaret==2.0) (0.13.5)\n",
            "Requirement already satisfied: jinja2<3.2,>=2.11.1 in /usr/local/lib/python3.8/dist-packages (from pandas-profiling>=2.3.0->pycaret==2.0) (2.11.3)\n",
            "Requirement already satisfied: PyYAML<6.1,>=5.0.0 in /usr/local/lib/python3.8/dist-packages (from pandas-profiling>=2.3.0->pycaret==2.0) (5.4.1)\n",
            "Requirement already satisfied: pydantic<1.11,>=1.8.1 in /usr/local/lib/python3.8/dist-packages (from pandas-profiling>=2.3.0->pycaret==2.0) (1.10.4)\n",
            "Requirement already satisfied: multimethod<1.10,>=1.4 in /usr/local/lib/python3.8/dist-packages (from pandas-profiling>=2.3.0->pycaret==2.0) (1.9.1)\n",
            "Requirement already satisfied: requests<2.29,>=2.24.0 in /usr/local/lib/python3.8/dist-packages (from pandas-profiling>=2.3.0->pycaret==2.0) (2.28.2)\n",
            "Requirement already satisfied: htmlmin==0.1.12 in /usr/local/lib/python3.8/dist-packages (from pandas-profiling>=2.3.0->pycaret==2.0) (0.1.12)\n",
            "Requirement already satisfied: tqdm<4.65,>=4.48.2 in /usr/local/lib/python3.8/dist-packages (from pandas-profiling>=2.3.0->pycaret==2.0) (4.64.1)\n",
            "Requirement already satisfied: typeguard<2.14,>=2.13.2 in /usr/local/lib/python3.8/dist-packages (from pandas-profiling>=2.3.0->pycaret==2.0) (2.13.3)\n",
            "Requirement already satisfied: visions[type_image_path]==0.7.5 in /usr/local/lib/python3.8/dist-packages (from pandas-profiling>=2.3.0->pycaret==2.0) (0.7.5)\n",
            "Requirement already satisfied: phik<0.13,>=0.11.1 in /usr/local/lib/python3.8/dist-packages (from pandas-profiling>=2.3.0->pycaret==2.0) (0.12.3)\n",
            "Requirement already satisfied: networkx>=2.4 in /usr/local/lib/python3.8/dist-packages (from visions[type_image_path]==0.7.5->pandas-profiling>=2.3.0->pycaret==2.0) (2.8.8)\n",
            "Requirement already satisfied: tangled-up-in-unicode>=0.0.4 in /usr/local/lib/python3.8/dist-packages (from visions[type_image_path]==0.7.5->pandas-profiling>=2.3.0->pycaret==2.0) (0.2.0)\n",
            "Requirement already satisfied: attrs>=19.3.0 in /usr/local/lib/python3.8/dist-packages (from visions[type_image_path]==0.7.5->pandas-profiling>=2.3.0->pycaret==2.0) (22.2.0)\n",
            "Requirement already satisfied: Pillow in /usr/local/lib/python3.8/dist-packages (from visions[type_image_path]==0.7.5->pandas-profiling>=2.3.0->pycaret==2.0) (7.1.2)\n",
            "Requirement already satisfied: imagehash in /usr/local/lib/python3.8/dist-packages (from visions[type_image_path]==0.7.5->pandas-profiling>=2.3.0->pycaret==2.0) (4.3.1)\n",
            "Requirement already satisfied: pyparsing!=2.0.4,!=2.1.2,!=2.1.6,>=2.0.1 in /usr/local/lib/python3.8/dist-packages (from matplotlib->pycaret==2.0) (3.0.9)\n",
            "Requirement already satisfied: cycler>=0.10 in /usr/local/lib/python3.8/dist-packages (from matplotlib->pycaret==2.0) (0.11.0)\n",
            "Requirement already satisfied: kiwisolver>=1.0.1 in /usr/local/lib/python3.8/dist-packages (from matplotlib->pycaret==2.0) (1.4.4)\n",
            "Requirement already satisfied: tenacity>=6.2.0 in /usr/local/lib/python3.8/dist-packages (from plotly>=4.4.1->pycaret==2.0) (8.1.0)\n",
            "Requirement already satisfied: threadpoolctl>=2.0.0 in /usr/local/lib/python3.8/dist-packages (from scikit-learn>=0.23->pycaret==2.0) (3.1.0)\n",
            "Requirement already satisfied: graphviz in /usr/local/lib/python3.8/dist-packages (from catboost->pycaret==2.0) (0.10.1)\n",
            "Requirement already satisfied: smart-open>=1.2.1 in /usr/local/lib/python3.8/dist-packages (from gensim->pycaret==2.0) (6.3.0)\n",
            "Requirement already satisfied: importlib-metadata!=4.7.0,<6,>=3.7.0 in /usr/local/lib/python3.8/dist-packages (from mlflow->pycaret==2.0) (5.2.0)\n",
            "Requirement already satisfied: gunicorn<21 in /usr/local/lib/python3.8/dist-packages (from mlflow->pycaret==2.0) (20.1.0)\n",
            "Requirement already satisfied: sqlalchemy<2,>=1.4.0 in /usr/local/lib/python3.8/dist-packages (from mlflow->pycaret==2.0) (1.4.46)\n",
            "Requirement already satisfied: alembic<2 in /usr/local/lib/python3.8/dist-packages (from mlflow->pycaret==2.0) (1.9.2)\n",
            "Requirement already satisfied: shap<1,>=0.40 in /usr/local/lib/python3.8/dist-packages (from mlflow->pycaret==2.0) (0.41.0)\n",
            "Requirement already satisfied: sqlparse<1,>=0.4.0 in /usr/local/lib/python3.8/dist-packages (from mlflow->pycaret==2.0) (0.4.3)\n",
            "Requirement already satisfied: querystring-parser<2 in /usr/local/lib/python3.8/dist-packages (from mlflow->pycaret==2.0) (1.2.4)\n",
            "Requirement already satisfied: entrypoints<1 in /usr/local/lib/python3.8/dist-packages (from mlflow->pycaret==2.0) (0.4)\n",
            "Requirement already satisfied: databricks-cli<1,>=0.8.7 in /usr/local/lib/python3.8/dist-packages (from mlflow->pycaret==2.0) (0.17.4)\n",
            "Requirement already satisfied: markdown<4,>=3.3 in /usr/local/lib/python3.8/dist-packages (from mlflow->pycaret==2.0) (3.4.1)\n",
            "Requirement already satisfied: protobuf<5,>=3.12.0 in /usr/local/lib/python3.8/dist-packages (from mlflow->pycaret==2.0) (3.19.6)\n",
            "Requirement already satisfied: click<9,>=7.0 in /usr/local/lib/python3.8/dist-packages (from mlflow->pycaret==2.0) (7.1.2)\n",
            "Requirement already satisfied: docker<7,>=4.0.0 in /usr/local/lib/python3.8/dist-packages (from mlflow->pycaret==2.0) (6.0.1)\n",
            "Requirement already satisfied: pyarrow<11,>=4.0.0 in /usr/local/lib/python3.8/dist-packages (from mlflow->pycaret==2.0) (9.0.0)\n",
            "Requirement already satisfied: cloudpickle<3 in /usr/local/lib/python3.8/dist-packages (from mlflow->pycaret==2.0) (2.2.0)\n",
            "Requirement already satisfied: packaging<23 in /usr/local/lib/python3.8/dist-packages (from mlflow->pycaret==2.0) (21.3)\n",
            "Requirement already satisfied: gitpython<4,>=2.1.0 in /usr/local/lib/python3.8/dist-packages (from mlflow->pycaret==2.0) (3.1.30)\n",
            "Requirement already satisfied: Flask<3 in /usr/local/lib/python3.8/dist-packages (from mlflow->pycaret==2.0) (1.1.4)\n",
            "Requirement already satisfied: funcy in /usr/local/lib/python3.8/dist-packages (from pyLDAvis->pycaret==2.0) (1.17)\n",
            "Requirement already satisfied: numexpr in /usr/local/lib/python3.8/dist-packages (from pyLDAvis->pycaret==2.0) (2.8.4)\n",
            "Requirement already satisfied: future in /usr/local/lib/python3.8/dist-packages (from pyLDAvis->pycaret==2.0) (0.16.0)\n",
            "Requirement already satisfied: numba>=0.51 in /usr/local/lib/python3.8/dist-packages (from pyod->pycaret==2.0) (0.54.1)\n",
            "Requirement already satisfied: wasabi<1.1.0,>=0.4.0 in /usr/local/lib/python3.8/dist-packages (from spacy->pycaret==2.0) (0.10.1)\n",
            "Requirement already satisfied: srsly<1.1.0,>=1.0.2 in /usr/local/lib/python3.8/dist-packages (from spacy->pycaret==2.0) (1.0.6)\n",
            "Requirement already satisfied: thinc<7.5.0,>=7.4.1 in /usr/local/lib/python3.8/dist-packages (from spacy->pycaret==2.0) (7.4.6)\n",
            "Requirement already satisfied: murmurhash<1.1.0,>=0.28.0 in /usr/local/lib/python3.8/dist-packages (from spacy->pycaret==2.0) (1.0.9)\n",
            "Requirement already satisfied: catalogue<1.1.0,>=0.0.7 in /usr/local/lib/python3.8/dist-packages (from spacy->pycaret==2.0) (1.0.2)\n",
            "Requirement already satisfied: blis<0.8.0,>=0.4.0 in /usr/local/lib/python3.8/dist-packages (from spacy->pycaret==2.0) (0.7.9)\n",
            "Requirement already satisfied: preshed<3.1.0,>=3.0.2 in /usr/local/lib/python3.8/dist-packages (from spacy->pycaret==2.0) (3.0.8)\n",
            "Requirement already satisfied: cymem<2.1.0,>=2.0.2 in /usr/local/lib/python3.8/dist-packages (from spacy->pycaret==2.0) (2.0.7)\n",
            "Requirement already satisfied: plac<1.2.0,>=0.9.6 in /usr/local/lib/python3.8/dist-packages (from spacy->pycaret==2.0) (1.1.3)\n",
            "Requirement already satisfied: pynndescent>=0.5 in /usr/local/lib/python3.8/dist-packages (from umap-learn->pycaret==2.0) (0.5.8)\n",
            "Requirement already satisfied: Mako in /usr/local/lib/python3.8/dist-packages (from alembic<2->mlflow->pycaret==2.0) (1.2.4)\n",
            "Requirement already satisfied: importlib-resources in /usr/local/lib/python3.8/dist-packages (from alembic<2->mlflow->pycaret==2.0) (5.10.2)\n",
            "Requirement already satisfied: pyjwt>=1.7.0 in /usr/local/lib/python3.8/dist-packages (from databricks-cli<1,>=0.8.7->mlflow->pycaret==2.0) (2.6.0)\n",
            "Requirement already satisfied: oauthlib>=3.1.0 in /usr/local/lib/python3.8/dist-packages (from databricks-cli<1,>=0.8.7->mlflow->pycaret==2.0) (3.2.2)\n",
            "Requirement already satisfied: tabulate>=0.7.7 in /usr/local/lib/python3.8/dist-packages (from databricks-cli<1,>=0.8.7->mlflow->pycaret==2.0) (0.8.10)\n",
            "Requirement already satisfied: urllib3>=1.26.0 in /usr/local/lib/python3.8/dist-packages (from docker<7,>=4.0.0->mlflow->pycaret==2.0) (1.26.14)\n",
            "Requirement already satisfied: websocket-client>=0.32.0 in /usr/local/lib/python3.8/dist-packages (from docker<7,>=4.0.0->mlflow->pycaret==2.0) (1.4.2)\n",
            "Requirement already satisfied: itsdangerous<2.0,>=0.24 in /usr/local/lib/python3.8/dist-packages (from Flask<3->mlflow->pycaret==2.0) (1.1.0)\n",
            "Requirement already satisfied: Werkzeug<2.0,>=0.15 in /usr/local/lib/python3.8/dist-packages (from Flask<3->mlflow->pycaret==2.0) (1.0.1)\n",
            "Requirement already satisfied: gitdb<5,>=4.0.1 in /usr/local/lib/python3.8/dist-packages (from gitpython<4,>=2.1.0->mlflow->pycaret==2.0) (4.0.10)\n",
            "Requirement already satisfied: zipp>=0.5 in /usr/local/lib/python3.8/dist-packages (from importlib-metadata!=4.7.0,<6,>=3.7.0->mlflow->pycaret==2.0) (3.11.0)\n",
            "Requirement already satisfied: tornado>=4.2 in /usr/local/lib/python3.8/dist-packages (from ipykernel>=4.5.1->ipywidgets->pycaret==2.0) (6.0.4)\n",
            "Requirement already satisfied: jupyter-client in /usr/local/lib/python3.8/dist-packages (from ipykernel>=4.5.1->ipywidgets->pycaret==2.0) (6.1.12)\n",
            "Requirement already satisfied: parso<0.9.0,>=0.8.0 in /usr/local/lib/python3.8/dist-packages (from jedi>=0.10->IPython->pycaret==2.0) (0.8.3)\n",
            "Requirement already satisfied: MarkupSafe>=0.23 in /usr/local/lib/python3.8/dist-packages (from jinja2<3.2,>=2.11.1->pandas-profiling>=2.3.0->pycaret==2.0) (2.0.1)\n",
            "Requirement already satisfied: llvmlite<0.38,>=0.37.0rc1 in /usr/local/lib/python3.8/dist-packages (from numba>=0.51->pyod->pycaret==2.0) (0.37.0)\n",
            "Requirement already satisfied: wcwidth in /usr/local/lib/python3.8/dist-packages (from prompt-toolkit<2.1.0,>=2.0.0->IPython->pycaret==2.0) (0.2.5)\n",
            "Requirement already satisfied: typing-extensions>=4.2.0 in /usr/local/lib/python3.8/dist-packages (from pydantic<1.11,>=1.8.1->pandas-profiling>=2.3.0->pycaret==2.0) (4.4.0)\n",
            "Requirement already satisfied: idna<4,>=2.5 in /usr/local/lib/python3.8/dist-packages (from requests<2.29,>=2.24.0->pandas-profiling>=2.3.0->pycaret==2.0) (2.10)\n",
            "Requirement already satisfied: certifi>=2017.4.17 in /usr/local/lib/python3.8/dist-packages (from requests<2.29,>=2.24.0->pandas-profiling>=2.3.0->pycaret==2.0) (2022.12.7)\n",
            "Requirement already satisfied: charset-normalizer<4,>=2 in /usr/local/lib/python3.8/dist-packages (from requests<2.29,>=2.24.0->pandas-profiling>=2.3.0->pycaret==2.0) (2.1.1)\n",
            "Requirement already satisfied: slicer==0.0.7 in /usr/local/lib/python3.8/dist-packages (from shap<1,>=0.40->mlflow->pycaret==2.0) (0.0.7)\n",
            "Requirement already satisfied: greenlet!=0.4.17 in /usr/local/lib/python3.8/dist-packages (from sqlalchemy<2,>=1.4.0->mlflow->pycaret==2.0) (2.0.1)\n",
            "Requirement already satisfied: patsy>=0.5.2 in /usr/local/lib/python3.8/dist-packages (from statsmodels<0.14,>=0.13.2->pandas-profiling>=2.3.0->pycaret==2.0) (0.5.3)\n",
            "Requirement already satisfied: notebook>=4.4.1 in /usr/local/lib/python3.8/dist-packages (from widgetsnbextension~=3.6.0->ipywidgets->pycaret==2.0) (5.7.16)\n",
            "Requirement already satisfied: ptyprocess>=0.5 in /usr/local/lib/python3.8/dist-packages (from pexpect->IPython->pycaret==2.0) (0.7.0)\n",
            "Requirement already satisfied: smmap<6,>=3.0.1 in /usr/local/lib/python3.8/dist-packages (from gitdb<5,>=4.0.1->gitpython<4,>=2.1.0->mlflow->pycaret==2.0) (5.0.0)\n",
            "Requirement already satisfied: jupyter-core>=4.4.0 in /usr/local/lib/python3.8/dist-packages (from notebook>=4.4.1->widgetsnbextension~=3.6.0->ipywidgets->pycaret==2.0) (5.1.2)\n",
            "Requirement already satisfied: Send2Trash in /usr/local/lib/python3.8/dist-packages (from notebook>=4.4.1->widgetsnbextension~=3.6.0->ipywidgets->pycaret==2.0) (1.8.0)\n",
            "Requirement already satisfied: terminado>=0.8.1 in /usr/local/lib/python3.8/dist-packages (from notebook>=4.4.1->widgetsnbextension~=3.6.0->ipywidgets->pycaret==2.0) (0.13.3)\n",
            "Requirement already satisfied: pyzmq>=17 in /usr/local/lib/python3.8/dist-packages (from notebook>=4.4.1->widgetsnbextension~=3.6.0->ipywidgets->pycaret==2.0) (23.2.1)\n",
            "Requirement already satisfied: nbconvert<6.0 in /usr/local/lib/python3.8/dist-packages (from notebook>=4.4.1->widgetsnbextension~=3.6.0->ipywidgets->pycaret==2.0) (5.6.1)\n",
            "Requirement already satisfied: prometheus-client in /usr/local/lib/python3.8/dist-packages (from notebook>=4.4.1->widgetsnbextension~=3.6.0->ipywidgets->pycaret==2.0) (0.15.0)\n",
            "Requirement already satisfied: nbformat in /usr/local/lib/python3.8/dist-packages (from notebook>=4.4.1->widgetsnbextension~=3.6.0->ipywidgets->pycaret==2.0) (5.7.1)\n",
            "Requirement already satisfied: PyWavelets in /usr/local/lib/python3.8/dist-packages (from imagehash->visions[type_image_path]==0.7.5->pandas-profiling>=2.3.0->pycaret==2.0) (1.4.1)\n",
            "Requirement already satisfied: platformdirs>=2.5 in /usr/local/lib/python3.8/dist-packages (from jupyter-core>=4.4.0->notebook>=4.4.1->widgetsnbextension~=3.6.0->ipywidgets->pycaret==2.0) (2.6.2)\n",
            "Requirement already satisfied: bleach in /usr/local/lib/python3.8/dist-packages (from nbconvert<6.0->notebook>=4.4.1->widgetsnbextension~=3.6.0->ipywidgets->pycaret==2.0) (5.0.1)\n",
            "Requirement already satisfied: defusedxml in /usr/local/lib/python3.8/dist-packages (from nbconvert<6.0->notebook>=4.4.1->widgetsnbextension~=3.6.0->ipywidgets->pycaret==2.0) (0.7.1)\n",
            "Requirement already satisfied: testpath in /usr/local/lib/python3.8/dist-packages (from nbconvert<6.0->notebook>=4.4.1->widgetsnbextension~=3.6.0->ipywidgets->pycaret==2.0) (0.6.0)\n",
            "Requirement already satisfied: mistune<2,>=0.8.1 in /usr/local/lib/python3.8/dist-packages (from nbconvert<6.0->notebook>=4.4.1->widgetsnbextension~=3.6.0->ipywidgets->pycaret==2.0) (0.8.4)\n",
            "Requirement already satisfied: pandocfilters>=1.4.1 in /usr/local/lib/python3.8/dist-packages (from nbconvert<6.0->notebook>=4.4.1->widgetsnbextension~=3.6.0->ipywidgets->pycaret==2.0) (1.5.0)\n",
            "Requirement already satisfied: jsonschema>=2.6 in /usr/local/lib/python3.8/dist-packages (from nbformat->notebook>=4.4.1->widgetsnbextension~=3.6.0->ipywidgets->pycaret==2.0) (4.3.3)\n",
            "Requirement already satisfied: fastjsonschema in /usr/local/lib/python3.8/dist-packages (from nbformat->notebook>=4.4.1->widgetsnbextension~=3.6.0->ipywidgets->pycaret==2.0) (2.16.2)\n",
            "Requirement already satisfied: pyrsistent!=0.17.0,!=0.17.1,!=0.17.2,>=0.14.0 in /usr/local/lib/python3.8/dist-packages (from jsonschema>=2.6->nbformat->notebook>=4.4.1->widgetsnbextension~=3.6.0->ipywidgets->pycaret==2.0) (0.19.3)\n",
            "Requirement already satisfied: webencodings in /usr/local/lib/python3.8/dist-packages (from bleach->nbconvert<6.0->notebook>=4.4.1->widgetsnbextension~=3.6.0->ipywidgets->pycaret==2.0) (0.5.1)\n",
            "Installing collected packages: zope.interface, DateTime, datefinder, catboost, pycaret\n",
            "  Attempting uninstall: pycaret\n",
            "    Found existing installation: pycaret 2.3.10\n",
            "    Uninstalling pycaret-2.3.10:\n",
            "      Successfully uninstalled pycaret-2.3.10\n",
            "Successfully installed DateTime-5.0 catboost-1.1.1 datefinder-0.7.3 pycaret-2.0 zope.interface-5.5.2\n"
          ]
        }
      ],
      "source": [
        "!pip install pycaret==2.0\n"
      ]
    },
    {
      "cell_type": "code",
      "source": [
        "from pycaret.datasets import get_data\n",
        "anomaly = get_data('anomaly')\n",
        "#import anomaly detection module\n",
        "from pycaret.anomaly import setup\n",
        "#intialize the setup\n",
        "#"
      ],
      "metadata": {
        "colab": {
          "base_uri": "https://localhost:8080/",
          "height": 206
        },
        "id": "emlsIs9mO0g2",
        "outputId": "23060ea7-3dbe-45bb-881f-4615cd181ee7"
      },
      "execution_count": 3,
      "outputs": [
        {
          "output_type": "display_data",
          "data": {
            "text/plain": [
              "       Col1      Col2      Col3      Col4      Col5      Col6      Col7  \\\n",
              "0  0.263995  0.764929  0.138424  0.935242  0.605867  0.518790  0.912225   \n",
              "1  0.546092  0.653975  0.065575  0.227772  0.845269  0.837066  0.272379   \n",
              "2  0.336714  0.538842  0.192801  0.553563  0.074515  0.332993  0.365792   \n",
              "3  0.092108  0.995017  0.014465  0.176371  0.241530  0.514724  0.562208   \n",
              "4  0.325261  0.805968  0.957033  0.331665  0.307923  0.355315  0.501899   \n",
              "\n",
              "       Col8      Col9     Col10  \n",
              "0  0.608234  0.723782  0.733591  \n",
              "1  0.331679  0.429297  0.367422  \n",
              "2  0.861309  0.899017  0.088600  \n",
              "3  0.158963  0.073715  0.208463  \n",
              "4  0.558449  0.885169  0.182754  "
            ],
            "text/html": [
              "\n",
              "  <div id=\"df-72ba0c41-030d-4124-9f33-ca1fb2da9f59\">\n",
              "    <div class=\"colab-df-container\">\n",
              "      <div>\n",
              "<style scoped>\n",
              "    .dataframe tbody tr th:only-of-type {\n",
              "        vertical-align: middle;\n",
              "    }\n",
              "\n",
              "    .dataframe tbody tr th {\n",
              "        vertical-align: top;\n",
              "    }\n",
              "\n",
              "    .dataframe thead th {\n",
              "        text-align: right;\n",
              "    }\n",
              "</style>\n",
              "<table border=\"1\" class=\"dataframe\">\n",
              "  <thead>\n",
              "    <tr style=\"text-align: right;\">\n",
              "      <th></th>\n",
              "      <th>Col1</th>\n",
              "      <th>Col2</th>\n",
              "      <th>Col3</th>\n",
              "      <th>Col4</th>\n",
              "      <th>Col5</th>\n",
              "      <th>Col6</th>\n",
              "      <th>Col7</th>\n",
              "      <th>Col8</th>\n",
              "      <th>Col9</th>\n",
              "      <th>Col10</th>\n",
              "    </tr>\n",
              "  </thead>\n",
              "  <tbody>\n",
              "    <tr>\n",
              "      <th>0</th>\n",
              "      <td>0.263995</td>\n",
              "      <td>0.764929</td>\n",
              "      <td>0.138424</td>\n",
              "      <td>0.935242</td>\n",
              "      <td>0.605867</td>\n",
              "      <td>0.518790</td>\n",
              "      <td>0.912225</td>\n",
              "      <td>0.608234</td>\n",
              "      <td>0.723782</td>\n",
              "      <td>0.733591</td>\n",
              "    </tr>\n",
              "    <tr>\n",
              "      <th>1</th>\n",
              "      <td>0.546092</td>\n",
              "      <td>0.653975</td>\n",
              "      <td>0.065575</td>\n",
              "      <td>0.227772</td>\n",
              "      <td>0.845269</td>\n",
              "      <td>0.837066</td>\n",
              "      <td>0.272379</td>\n",
              "      <td>0.331679</td>\n",
              "      <td>0.429297</td>\n",
              "      <td>0.367422</td>\n",
              "    </tr>\n",
              "    <tr>\n",
              "      <th>2</th>\n",
              "      <td>0.336714</td>\n",
              "      <td>0.538842</td>\n",
              "      <td>0.192801</td>\n",
              "      <td>0.553563</td>\n",
              "      <td>0.074515</td>\n",
              "      <td>0.332993</td>\n",
              "      <td>0.365792</td>\n",
              "      <td>0.861309</td>\n",
              "      <td>0.899017</td>\n",
              "      <td>0.088600</td>\n",
              "    </tr>\n",
              "    <tr>\n",
              "      <th>3</th>\n",
              "      <td>0.092108</td>\n",
              "      <td>0.995017</td>\n",
              "      <td>0.014465</td>\n",
              "      <td>0.176371</td>\n",
              "      <td>0.241530</td>\n",
              "      <td>0.514724</td>\n",
              "      <td>0.562208</td>\n",
              "      <td>0.158963</td>\n",
              "      <td>0.073715</td>\n",
              "      <td>0.208463</td>\n",
              "    </tr>\n",
              "    <tr>\n",
              "      <th>4</th>\n",
              "      <td>0.325261</td>\n",
              "      <td>0.805968</td>\n",
              "      <td>0.957033</td>\n",
              "      <td>0.331665</td>\n",
              "      <td>0.307923</td>\n",
              "      <td>0.355315</td>\n",
              "      <td>0.501899</td>\n",
              "      <td>0.558449</td>\n",
              "      <td>0.885169</td>\n",
              "      <td>0.182754</td>\n",
              "    </tr>\n",
              "  </tbody>\n",
              "</table>\n",
              "</div>\n",
              "      <button class=\"colab-df-convert\" onclick=\"convertToInteractive('df-72ba0c41-030d-4124-9f33-ca1fb2da9f59')\"\n",
              "              title=\"Convert this dataframe to an interactive table.\"\n",
              "              style=\"display:none;\">\n",
              "        \n",
              "  <svg xmlns=\"http://www.w3.org/2000/svg\" height=\"24px\"viewBox=\"0 0 24 24\"\n",
              "       width=\"24px\">\n",
              "    <path d=\"M0 0h24v24H0V0z\" fill=\"none\"/>\n",
              "    <path d=\"M18.56 5.44l.94 2.06.94-2.06 2.06-.94-2.06-.94-.94-2.06-.94 2.06-2.06.94zm-11 1L8.5 8.5l.94-2.06 2.06-.94-2.06-.94L8.5 2.5l-.94 2.06-2.06.94zm10 10l.94 2.06.94-2.06 2.06-.94-2.06-.94-.94-2.06-.94 2.06-2.06.94z\"/><path d=\"M17.41 7.96l-1.37-1.37c-.4-.4-.92-.59-1.43-.59-.52 0-1.04.2-1.43.59L10.3 9.45l-7.72 7.72c-.78.78-.78 2.05 0 2.83L4 21.41c.39.39.9.59 1.41.59.51 0 1.02-.2 1.41-.59l7.78-7.78 2.81-2.81c.8-.78.8-2.07 0-2.86zM5.41 20L4 18.59l7.72-7.72 1.47 1.35L5.41 20z\"/>\n",
              "  </svg>\n",
              "      </button>\n",
              "      \n",
              "  <style>\n",
              "    .colab-df-container {\n",
              "      display:flex;\n",
              "      flex-wrap:wrap;\n",
              "      gap: 12px;\n",
              "    }\n",
              "\n",
              "    .colab-df-convert {\n",
              "      background-color: #E8F0FE;\n",
              "      border: none;\n",
              "      border-radius: 50%;\n",
              "      cursor: pointer;\n",
              "      display: none;\n",
              "      fill: #1967D2;\n",
              "      height: 32px;\n",
              "      padding: 0 0 0 0;\n",
              "      width: 32px;\n",
              "    }\n",
              "\n",
              "    .colab-df-convert:hover {\n",
              "      background-color: #E2EBFA;\n",
              "      box-shadow: 0px 1px 2px rgba(60, 64, 67, 0.3), 0px 1px 3px 1px rgba(60, 64, 67, 0.15);\n",
              "      fill: #174EA6;\n",
              "    }\n",
              "\n",
              "    [theme=dark] .colab-df-convert {\n",
              "      background-color: #3B4455;\n",
              "      fill: #D2E3FC;\n",
              "    }\n",
              "\n",
              "    [theme=dark] .colab-df-convert:hover {\n",
              "      background-color: #434B5C;\n",
              "      box-shadow: 0px 1px 3px 1px rgba(0, 0, 0, 0.15);\n",
              "      filter: drop-shadow(0px 1px 2px rgba(0, 0, 0, 0.3));\n",
              "      fill: #FFFFFF;\n",
              "    }\n",
              "  </style>\n",
              "\n",
              "      <script>\n",
              "        const buttonEl =\n",
              "          document.querySelector('#df-72ba0c41-030d-4124-9f33-ca1fb2da9f59 button.colab-df-convert');\n",
              "        buttonEl.style.display =\n",
              "          google.colab.kernel.accessAllowed ? 'block' : 'none';\n",
              "\n",
              "        async function convertToInteractive(key) {\n",
              "          const element = document.querySelector('#df-72ba0c41-030d-4124-9f33-ca1fb2da9f59');\n",
              "          const dataTable =\n",
              "            await google.colab.kernel.invokeFunction('convertToInteractive',\n",
              "                                                     [key], {});\n",
              "          if (!dataTable) return;\n",
              "\n",
              "          const docLinkHtml = 'Like what you see? Visit the ' +\n",
              "            '<a target=\"_blank\" href=https://colab.research.google.com/notebooks/data_table.ipynb>data table notebook</a>'\n",
              "            + ' to learn more about interactive tables.';\n",
              "          element.innerHTML = '';\n",
              "          dataTable['output_type'] = 'display_data';\n",
              "          await google.colab.output.renderOutput(dataTable, element);\n",
              "          const docLink = document.createElement('div');\n",
              "          docLink.innerHTML = docLinkHtml;\n",
              "          element.appendChild(docLink);\n",
              "        }\n",
              "      </script>\n",
              "    </div>\n",
              "  </div>\n",
              "  "
            ]
          },
          "metadata": {}
        }
      ]
    },
    {
      "cell_type": "code",
      "source": [
        "exp_ano = setup(anomaly)"
      ],
      "metadata": {
        "colab": {
          "base_uri": "https://localhost:8080/",
          "height": 1000,
          "referenced_widgets": [
            "4ad3db2fb18d41e89e989be940788d7a",
            "d66300b4b3cd4ef6bdaafea6c7544697",
            "b8319bcc101b45bcb4cc59a01c225e1d",
            "e53abd3f9b34417faf330df4d5852752",
            "550232bc58924bc389086b0afddbc428",
            "7b259c4a63a94da0a4ac954f673df1bb"
          ]
        },
        "id": "c6mPxsorUZh0",
        "outputId": "5059a154-e621-4ab4-ba6f-81d686778e6c"
      },
      "execution_count": 4,
      "outputs": [
        {
          "output_type": "stream",
          "name": "stdout",
          "text": [
            "Setup Succesfully Completed!\n"
          ]
        },
        {
          "output_type": "display_data",
          "data": {
            "text/plain": [
              "<pandas.io.formats.style.Styler at 0x7f428ec957f0>"
            ],
            "text/html": [
              "<style type=\"text/css\">\n",
              "</style>\n",
              "<table id=\"T_854dd_\" class=\"dataframe\">\n",
              "  <thead>\n",
              "    <tr>\n",
              "      <th class=\"blank level0\" >&nbsp;</th>\n",
              "      <th class=\"col_heading level0 col0\" >Description</th>\n",
              "      <th class=\"col_heading level0 col1\" >Value</th>\n",
              "    </tr>\n",
              "  </thead>\n",
              "  <tbody>\n",
              "    <tr>\n",
              "      <th id=\"T_854dd_level0_row0\" class=\"row_heading level0 row0\" >0</th>\n",
              "      <td id=\"T_854dd_row0_col0\" class=\"data row0 col0\" >session_id </td>\n",
              "      <td id=\"T_854dd_row0_col1\" class=\"data row0 col1\" >5262</td>\n",
              "    </tr>\n",
              "    <tr>\n",
              "      <th id=\"T_854dd_level0_row1\" class=\"row_heading level0 row1\" >1</th>\n",
              "      <td id=\"T_854dd_row1_col0\" class=\"data row1 col0\" >Original Data </td>\n",
              "      <td id=\"T_854dd_row1_col1\" class=\"data row1 col1\" >(1000, 10)</td>\n",
              "    </tr>\n",
              "    <tr>\n",
              "      <th id=\"T_854dd_level0_row2\" class=\"row_heading level0 row2\" >2</th>\n",
              "      <td id=\"T_854dd_row2_col0\" class=\"data row2 col0\" >Missing Values </td>\n",
              "      <td id=\"T_854dd_row2_col1\" class=\"data row2 col1\" >False</td>\n",
              "    </tr>\n",
              "    <tr>\n",
              "      <th id=\"T_854dd_level0_row3\" class=\"row_heading level0 row3\" >3</th>\n",
              "      <td id=\"T_854dd_row3_col0\" class=\"data row3 col0\" >Numeric Features </td>\n",
              "      <td id=\"T_854dd_row3_col1\" class=\"data row3 col1\" >10</td>\n",
              "    </tr>\n",
              "    <tr>\n",
              "      <th id=\"T_854dd_level0_row4\" class=\"row_heading level0 row4\" >4</th>\n",
              "      <td id=\"T_854dd_row4_col0\" class=\"data row4 col0\" >Categorical Features </td>\n",
              "      <td id=\"T_854dd_row4_col1\" class=\"data row4 col1\" >0</td>\n",
              "    </tr>\n",
              "    <tr>\n",
              "      <th id=\"T_854dd_level0_row5\" class=\"row_heading level0 row5\" >5</th>\n",
              "      <td id=\"T_854dd_row5_col0\" class=\"data row5 col0\" >Ordinal Features </td>\n",
              "      <td id=\"T_854dd_row5_col1\" class=\"data row5 col1\" >False</td>\n",
              "    </tr>\n",
              "    <tr>\n",
              "      <th id=\"T_854dd_level0_row6\" class=\"row_heading level0 row6\" >6</th>\n",
              "      <td id=\"T_854dd_row6_col0\" class=\"data row6 col0\" >High Cardinality Features </td>\n",
              "      <td id=\"T_854dd_row6_col1\" class=\"data row6 col1\" >False</td>\n",
              "    </tr>\n",
              "    <tr>\n",
              "      <th id=\"T_854dd_level0_row7\" class=\"row_heading level0 row7\" >7</th>\n",
              "      <td id=\"T_854dd_row7_col0\" class=\"data row7 col0\" >Transformed Data </td>\n",
              "      <td id=\"T_854dd_row7_col1\" class=\"data row7 col1\" >(1000, 10)</td>\n",
              "    </tr>\n",
              "    <tr>\n",
              "      <th id=\"T_854dd_level0_row8\" class=\"row_heading level0 row8\" >8</th>\n",
              "      <td id=\"T_854dd_row8_col0\" class=\"data row8 col0\" >Numeric Imputer </td>\n",
              "      <td id=\"T_854dd_row8_col1\" class=\"data row8 col1\" >mean</td>\n",
              "    </tr>\n",
              "    <tr>\n",
              "      <th id=\"T_854dd_level0_row9\" class=\"row_heading level0 row9\" >9</th>\n",
              "      <td id=\"T_854dd_row9_col0\" class=\"data row9 col0\" >Categorical Imputer </td>\n",
              "      <td id=\"T_854dd_row9_col1\" class=\"data row9 col1\" >constant</td>\n",
              "    </tr>\n",
              "    <tr>\n",
              "      <th id=\"T_854dd_level0_row10\" class=\"row_heading level0 row10\" >10</th>\n",
              "      <td id=\"T_854dd_row10_col0\" class=\"data row10 col0\" >Normalize </td>\n",
              "      <td id=\"T_854dd_row10_col1\" class=\"data row10 col1\" >False</td>\n",
              "    </tr>\n",
              "    <tr>\n",
              "      <th id=\"T_854dd_level0_row11\" class=\"row_heading level0 row11\" >11</th>\n",
              "      <td id=\"T_854dd_row11_col0\" class=\"data row11 col0\" >Normalize Method </td>\n",
              "      <td id=\"T_854dd_row11_col1\" class=\"data row11 col1\" >None</td>\n",
              "    </tr>\n",
              "    <tr>\n",
              "      <th id=\"T_854dd_level0_row12\" class=\"row_heading level0 row12\" >12</th>\n",
              "      <td id=\"T_854dd_row12_col0\" class=\"data row12 col0\" >Transformation </td>\n",
              "      <td id=\"T_854dd_row12_col1\" class=\"data row12 col1\" >False</td>\n",
              "    </tr>\n",
              "    <tr>\n",
              "      <th id=\"T_854dd_level0_row13\" class=\"row_heading level0 row13\" >13</th>\n",
              "      <td id=\"T_854dd_row13_col0\" class=\"data row13 col0\" >Transformation Method </td>\n",
              "      <td id=\"T_854dd_row13_col1\" class=\"data row13 col1\" >None</td>\n",
              "    </tr>\n",
              "    <tr>\n",
              "      <th id=\"T_854dd_level0_row14\" class=\"row_heading level0 row14\" >14</th>\n",
              "      <td id=\"T_854dd_row14_col0\" class=\"data row14 col0\" >PCA </td>\n",
              "      <td id=\"T_854dd_row14_col1\" class=\"data row14 col1\" >False</td>\n",
              "    </tr>\n",
              "    <tr>\n",
              "      <th id=\"T_854dd_level0_row15\" class=\"row_heading level0 row15\" >15</th>\n",
              "      <td id=\"T_854dd_row15_col0\" class=\"data row15 col0\" >PCA Method </td>\n",
              "      <td id=\"T_854dd_row15_col1\" class=\"data row15 col1\" >None</td>\n",
              "    </tr>\n",
              "    <tr>\n",
              "      <th id=\"T_854dd_level0_row16\" class=\"row_heading level0 row16\" >16</th>\n",
              "      <td id=\"T_854dd_row16_col0\" class=\"data row16 col0\" >PCA components </td>\n",
              "      <td id=\"T_854dd_row16_col1\" class=\"data row16 col1\" >None</td>\n",
              "    </tr>\n",
              "    <tr>\n",
              "      <th id=\"T_854dd_level0_row17\" class=\"row_heading level0 row17\" >17</th>\n",
              "      <td id=\"T_854dd_row17_col0\" class=\"data row17 col0\" >Ignore Low Variance </td>\n",
              "      <td id=\"T_854dd_row17_col1\" class=\"data row17 col1\" >False</td>\n",
              "    </tr>\n",
              "    <tr>\n",
              "      <th id=\"T_854dd_level0_row18\" class=\"row_heading level0 row18\" >18</th>\n",
              "      <td id=\"T_854dd_row18_col0\" class=\"data row18 col0\" >Combine Rare Levels </td>\n",
              "      <td id=\"T_854dd_row18_col1\" class=\"data row18 col1\" >False</td>\n",
              "    </tr>\n",
              "    <tr>\n",
              "      <th id=\"T_854dd_level0_row19\" class=\"row_heading level0 row19\" >19</th>\n",
              "      <td id=\"T_854dd_row19_col0\" class=\"data row19 col0\" >Rare Level Threshold </td>\n",
              "      <td id=\"T_854dd_row19_col1\" class=\"data row19 col1\" >None</td>\n",
              "    </tr>\n",
              "    <tr>\n",
              "      <th id=\"T_854dd_level0_row20\" class=\"row_heading level0 row20\" >20</th>\n",
              "      <td id=\"T_854dd_row20_col0\" class=\"data row20 col0\" >Numeric Binning </td>\n",
              "      <td id=\"T_854dd_row20_col1\" class=\"data row20 col1\" >False</td>\n",
              "    </tr>\n",
              "    <tr>\n",
              "      <th id=\"T_854dd_level0_row21\" class=\"row_heading level0 row21\" >21</th>\n",
              "      <td id=\"T_854dd_row21_col0\" class=\"data row21 col0\" >Remove Multicollinearity </td>\n",
              "      <td id=\"T_854dd_row21_col1\" class=\"data row21 col1\" >False</td>\n",
              "    </tr>\n",
              "    <tr>\n",
              "      <th id=\"T_854dd_level0_row22\" class=\"row_heading level0 row22\" >22</th>\n",
              "      <td id=\"T_854dd_row22_col0\" class=\"data row22 col0\" >Multicollinearity Threshold </td>\n",
              "      <td id=\"T_854dd_row22_col1\" class=\"data row22 col1\" >None</td>\n",
              "    </tr>\n",
              "    <tr>\n",
              "      <th id=\"T_854dd_level0_row23\" class=\"row_heading level0 row23\" >23</th>\n",
              "      <td id=\"T_854dd_row23_col0\" class=\"data row23 col0\" >Group Features </td>\n",
              "      <td id=\"T_854dd_row23_col1\" class=\"data row23 col1\" >False</td>\n",
              "    </tr>\n",
              "  </tbody>\n",
              "</table>\n"
            ]
          },
          "metadata": {}
        },
        {
          "output_type": "stream",
          "name": "stderr",
          "text": [
            "INFO:logs:Pipeline(memory=None,\n",
            "         steps=[('dtypes',\n",
            "                 DataTypes_Auto_infer(categorical_features=[],\n",
            "                                      display_types=True, features_todrop=[],\n",
            "                                      ml_usecase='regression',\n",
            "                                      numerical_features=[],\n",
            "                                      target='dummy_target',\n",
            "                                      time_features=[])),\n",
            "                ('imputer',\n",
            "                 Simple_Imputer(categorical_strategy='not_available',\n",
            "                                numeric_strategy='mean',\n",
            "                                target_variable=None)),\n",
            "                ('new_levels1',\n",
            "                 New_Catagorical_L...\n",
            "                                                    target='dummy_target')),\n",
            "                ('feature_time',\n",
            "                 Make_Time_Features(list_of_features=None, time_feature=[])),\n",
            "                ('group', Empty()), ('scaling', Empty()),\n",
            "                ('P_transform', Empty()), ('binn', Empty()),\n",
            "                ('fix_perfect', Empty()), ('rem_outliers', Empty()),\n",
            "                ('dummy', Dummify(target='dummy_target')),\n",
            "                ('clean_names', Clean_Colum_Names()), ('fix_multi', Empty()),\n",
            "                ('pca', Empty())],\n",
            "         verbose=False)\n",
            "INFO:logs:setup() succesfully completed......................................\n"
          ]
        }
      ]
    },
    {
      "cell_type": "code",
      "source": [
        "anomaly"
      ],
      "metadata": {
        "colab": {
          "base_uri": "https://localhost:8080/",
          "height": 423
        },
        "id": "n2jbHG8KY_iw",
        "outputId": "8529e58a-a273-49dd-ea5f-5dbf39ef12e0"
      },
      "execution_count": 5,
      "outputs": [
        {
          "output_type": "execute_result",
          "data": {
            "text/plain": [
              "         Col1      Col2      Col3      Col4      Col5      Col6      Col7  \\\n",
              "0    0.263995  0.764929  0.138424  0.935242  0.605867  0.518790  0.912225   \n",
              "1    0.546092  0.653975  0.065575  0.227772  0.845269  0.837066  0.272379   \n",
              "2    0.336714  0.538842  0.192801  0.553563  0.074515  0.332993  0.365792   \n",
              "3    0.092108  0.995017  0.014465  0.176371  0.241530  0.514724  0.562208   \n",
              "4    0.325261  0.805968  0.957033  0.331665  0.307923  0.355315  0.501899   \n",
              "..        ...       ...       ...       ...       ...       ...       ...   \n",
              "995  0.305055  0.656837  0.331665  0.822525  0.907127  0.882276  0.855732   \n",
              "996  0.812627  0.864258  0.616604  0.167966  0.811223  0.938071  0.418462   \n",
              "997  0.250967  0.138627  0.919703  0.461234  0.886555  0.869888  0.800908   \n",
              "998  0.502436  0.936820  0.580062  0.540773  0.151995  0.059452  0.225220   \n",
              "999  0.457991  0.017755  0.714113  0.125992  0.063316  0.154739  0.922974   \n",
              "\n",
              "         Col8      Col9     Col10  \n",
              "0    0.608234  0.723782  0.733591  \n",
              "1    0.331679  0.429297  0.367422  \n",
              "2    0.861309  0.899017  0.088600  \n",
              "3    0.158963  0.073715  0.208463  \n",
              "4    0.558449  0.885169  0.182754  \n",
              "..        ...       ...       ...  \n",
              "995  0.584786  0.808640  0.242762  \n",
              "996  0.472306  0.348347  0.671129  \n",
              "997  0.530324  0.779433  0.234952  \n",
              "998  0.242755  0.279385  0.538755  \n",
              "999  0.692299  0.816777  0.307592  \n",
              "\n",
              "[1000 rows x 10 columns]"
            ],
            "text/html": [
              "\n",
              "  <div id=\"df-ebc9f3e4-91db-476d-b43c-ce0dbd5b1863\">\n",
              "    <div class=\"colab-df-container\">\n",
              "      <div>\n",
              "<style scoped>\n",
              "    .dataframe tbody tr th:only-of-type {\n",
              "        vertical-align: middle;\n",
              "    }\n",
              "\n",
              "    .dataframe tbody tr th {\n",
              "        vertical-align: top;\n",
              "    }\n",
              "\n",
              "    .dataframe thead th {\n",
              "        text-align: right;\n",
              "    }\n",
              "</style>\n",
              "<table border=\"1\" class=\"dataframe\">\n",
              "  <thead>\n",
              "    <tr style=\"text-align: right;\">\n",
              "      <th></th>\n",
              "      <th>Col1</th>\n",
              "      <th>Col2</th>\n",
              "      <th>Col3</th>\n",
              "      <th>Col4</th>\n",
              "      <th>Col5</th>\n",
              "      <th>Col6</th>\n",
              "      <th>Col7</th>\n",
              "      <th>Col8</th>\n",
              "      <th>Col9</th>\n",
              "      <th>Col10</th>\n",
              "    </tr>\n",
              "  </thead>\n",
              "  <tbody>\n",
              "    <tr>\n",
              "      <th>0</th>\n",
              "      <td>0.263995</td>\n",
              "      <td>0.764929</td>\n",
              "      <td>0.138424</td>\n",
              "      <td>0.935242</td>\n",
              "      <td>0.605867</td>\n",
              "      <td>0.518790</td>\n",
              "      <td>0.912225</td>\n",
              "      <td>0.608234</td>\n",
              "      <td>0.723782</td>\n",
              "      <td>0.733591</td>\n",
              "    </tr>\n",
              "    <tr>\n",
              "      <th>1</th>\n",
              "      <td>0.546092</td>\n",
              "      <td>0.653975</td>\n",
              "      <td>0.065575</td>\n",
              "      <td>0.227772</td>\n",
              "      <td>0.845269</td>\n",
              "      <td>0.837066</td>\n",
              "      <td>0.272379</td>\n",
              "      <td>0.331679</td>\n",
              "      <td>0.429297</td>\n",
              "      <td>0.367422</td>\n",
              "    </tr>\n",
              "    <tr>\n",
              "      <th>2</th>\n",
              "      <td>0.336714</td>\n",
              "      <td>0.538842</td>\n",
              "      <td>0.192801</td>\n",
              "      <td>0.553563</td>\n",
              "      <td>0.074515</td>\n",
              "      <td>0.332993</td>\n",
              "      <td>0.365792</td>\n",
              "      <td>0.861309</td>\n",
              "      <td>0.899017</td>\n",
              "      <td>0.088600</td>\n",
              "    </tr>\n",
              "    <tr>\n",
              "      <th>3</th>\n",
              "      <td>0.092108</td>\n",
              "      <td>0.995017</td>\n",
              "      <td>0.014465</td>\n",
              "      <td>0.176371</td>\n",
              "      <td>0.241530</td>\n",
              "      <td>0.514724</td>\n",
              "      <td>0.562208</td>\n",
              "      <td>0.158963</td>\n",
              "      <td>0.073715</td>\n",
              "      <td>0.208463</td>\n",
              "    </tr>\n",
              "    <tr>\n",
              "      <th>4</th>\n",
              "      <td>0.325261</td>\n",
              "      <td>0.805968</td>\n",
              "      <td>0.957033</td>\n",
              "      <td>0.331665</td>\n",
              "      <td>0.307923</td>\n",
              "      <td>0.355315</td>\n",
              "      <td>0.501899</td>\n",
              "      <td>0.558449</td>\n",
              "      <td>0.885169</td>\n",
              "      <td>0.182754</td>\n",
              "    </tr>\n",
              "    <tr>\n",
              "      <th>...</th>\n",
              "      <td>...</td>\n",
              "      <td>...</td>\n",
              "      <td>...</td>\n",
              "      <td>...</td>\n",
              "      <td>...</td>\n",
              "      <td>...</td>\n",
              "      <td>...</td>\n",
              "      <td>...</td>\n",
              "      <td>...</td>\n",
              "      <td>...</td>\n",
              "    </tr>\n",
              "    <tr>\n",
              "      <th>995</th>\n",
              "      <td>0.305055</td>\n",
              "      <td>0.656837</td>\n",
              "      <td>0.331665</td>\n",
              "      <td>0.822525</td>\n",
              "      <td>0.907127</td>\n",
              "      <td>0.882276</td>\n",
              "      <td>0.855732</td>\n",
              "      <td>0.584786</td>\n",
              "      <td>0.808640</td>\n",
              "      <td>0.242762</td>\n",
              "    </tr>\n",
              "    <tr>\n",
              "      <th>996</th>\n",
              "      <td>0.812627</td>\n",
              "      <td>0.864258</td>\n",
              "      <td>0.616604</td>\n",
              "      <td>0.167966</td>\n",
              "      <td>0.811223</td>\n",
              "      <td>0.938071</td>\n",
              "      <td>0.418462</td>\n",
              "      <td>0.472306</td>\n",
              "      <td>0.348347</td>\n",
              "      <td>0.671129</td>\n",
              "    </tr>\n",
              "    <tr>\n",
              "      <th>997</th>\n",
              "      <td>0.250967</td>\n",
              "      <td>0.138627</td>\n",
              "      <td>0.919703</td>\n",
              "      <td>0.461234</td>\n",
              "      <td>0.886555</td>\n",
              "      <td>0.869888</td>\n",
              "      <td>0.800908</td>\n",
              "      <td>0.530324</td>\n",
              "      <td>0.779433</td>\n",
              "      <td>0.234952</td>\n",
              "    </tr>\n",
              "    <tr>\n",
              "      <th>998</th>\n",
              "      <td>0.502436</td>\n",
              "      <td>0.936820</td>\n",
              "      <td>0.580062</td>\n",
              "      <td>0.540773</td>\n",
              "      <td>0.151995</td>\n",
              "      <td>0.059452</td>\n",
              "      <td>0.225220</td>\n",
              "      <td>0.242755</td>\n",
              "      <td>0.279385</td>\n",
              "      <td>0.538755</td>\n",
              "    </tr>\n",
              "    <tr>\n",
              "      <th>999</th>\n",
              "      <td>0.457991</td>\n",
              "      <td>0.017755</td>\n",
              "      <td>0.714113</td>\n",
              "      <td>0.125992</td>\n",
              "      <td>0.063316</td>\n",
              "      <td>0.154739</td>\n",
              "      <td>0.922974</td>\n",
              "      <td>0.692299</td>\n",
              "      <td>0.816777</td>\n",
              "      <td>0.307592</td>\n",
              "    </tr>\n",
              "  </tbody>\n",
              "</table>\n",
              "<p>1000 rows × 10 columns</p>\n",
              "</div>\n",
              "      <button class=\"colab-df-convert\" onclick=\"convertToInteractive('df-ebc9f3e4-91db-476d-b43c-ce0dbd5b1863')\"\n",
              "              title=\"Convert this dataframe to an interactive table.\"\n",
              "              style=\"display:none;\">\n",
              "        \n",
              "  <svg xmlns=\"http://www.w3.org/2000/svg\" height=\"24px\"viewBox=\"0 0 24 24\"\n",
              "       width=\"24px\">\n",
              "    <path d=\"M0 0h24v24H0V0z\" fill=\"none\"/>\n",
              "    <path d=\"M18.56 5.44l.94 2.06.94-2.06 2.06-.94-2.06-.94-.94-2.06-.94 2.06-2.06.94zm-11 1L8.5 8.5l.94-2.06 2.06-.94-2.06-.94L8.5 2.5l-.94 2.06-2.06.94zm10 10l.94 2.06.94-2.06 2.06-.94-2.06-.94-.94-2.06-.94 2.06-2.06.94z\"/><path d=\"M17.41 7.96l-1.37-1.37c-.4-.4-.92-.59-1.43-.59-.52 0-1.04.2-1.43.59L10.3 9.45l-7.72 7.72c-.78.78-.78 2.05 0 2.83L4 21.41c.39.39.9.59 1.41.59.51 0 1.02-.2 1.41-.59l7.78-7.78 2.81-2.81c.8-.78.8-2.07 0-2.86zM5.41 20L4 18.59l7.72-7.72 1.47 1.35L5.41 20z\"/>\n",
              "  </svg>\n",
              "      </button>\n",
              "      \n",
              "  <style>\n",
              "    .colab-df-container {\n",
              "      display:flex;\n",
              "      flex-wrap:wrap;\n",
              "      gap: 12px;\n",
              "    }\n",
              "\n",
              "    .colab-df-convert {\n",
              "      background-color: #E8F0FE;\n",
              "      border: none;\n",
              "      border-radius: 50%;\n",
              "      cursor: pointer;\n",
              "      display: none;\n",
              "      fill: #1967D2;\n",
              "      height: 32px;\n",
              "      padding: 0 0 0 0;\n",
              "      width: 32px;\n",
              "    }\n",
              "\n",
              "    .colab-df-convert:hover {\n",
              "      background-color: #E2EBFA;\n",
              "      box-shadow: 0px 1px 2px rgba(60, 64, 67, 0.3), 0px 1px 3px 1px rgba(60, 64, 67, 0.15);\n",
              "      fill: #174EA6;\n",
              "    }\n",
              "\n",
              "    [theme=dark] .colab-df-convert {\n",
              "      background-color: #3B4455;\n",
              "      fill: #D2E3FC;\n",
              "    }\n",
              "\n",
              "    [theme=dark] .colab-df-convert:hover {\n",
              "      background-color: #434B5C;\n",
              "      box-shadow: 0px 1px 3px 1px rgba(0, 0, 0, 0.15);\n",
              "      filter: drop-shadow(0px 1px 2px rgba(0, 0, 0, 0.3));\n",
              "      fill: #FFFFFF;\n",
              "    }\n",
              "  </style>\n",
              "\n",
              "      <script>\n",
              "        const buttonEl =\n",
              "          document.querySelector('#df-ebc9f3e4-91db-476d-b43c-ce0dbd5b1863 button.colab-df-convert');\n",
              "        buttonEl.style.display =\n",
              "          google.colab.kernel.accessAllowed ? 'block' : 'none';\n",
              "\n",
              "        async function convertToInteractive(key) {\n",
              "          const element = document.querySelector('#df-ebc9f3e4-91db-476d-b43c-ce0dbd5b1863');\n",
              "          const dataTable =\n",
              "            await google.colab.kernel.invokeFunction('convertToInteractive',\n",
              "                                                     [key], {});\n",
              "          if (!dataTable) return;\n",
              "\n",
              "          const docLinkHtml = 'Like what you see? Visit the ' +\n",
              "            '<a target=\"_blank\" href=https://colab.research.google.com/notebooks/data_table.ipynb>data table notebook</a>'\n",
              "            + ' to learn more about interactive tables.';\n",
              "          element.innerHTML = '';\n",
              "          dataTable['output_type'] = 'display_data';\n",
              "          await google.colab.output.renderOutput(dataTable, element);\n",
              "          const docLink = document.createElement('div');\n",
              "          docLink.innerHTML = docLinkHtml;\n",
              "          element.appendChild(docLink);\n",
              "        }\n",
              "      </script>\n",
              "    </div>\n",
              "  </div>\n",
              "  "
            ]
          },
          "metadata": {},
          "execution_count": 5
        }
      ]
    },
    {
      "cell_type": "code",
      "source": [
        "from pycaret.anomaly import *\n",
        "## creating a model\n",
        "iforest=create_model('iforest')\n",
        "## plotting a model\n",
        "plot_model(iforest)"
      ],
      "metadata": {
        "colab": {
          "base_uri": "https://localhost:8080/",
          "height": 1000,
          "referenced_widgets": [
            "c86137fb9d474a5cabcb9d378981c362",
            "b174c7b0ede24261add256db7692a073",
            "7c7ed87a6eb9414facabaf81e75b7bf2"
          ]
        },
        "id": "ut65WZYrZc9R",
        "outputId": "da292c4a-75d8-4220-a8c5-e3dc9b2ef4e8"
      },
      "execution_count": 7,
      "outputs": [
        {
          "output_type": "stream",
          "name": "stderr",
          "text": [
            "INFO:logs:IForest(behaviour='new', bootstrap=False, contamination=0.05,\n",
            "    max_features=1.0, max_samples='auto', n_estimators=100, n_jobs=1,\n",
            "    random_state=5262, verbose=0)\n",
            "INFO:logs:create_models() succesfully completed......................................\n",
            "INFO:logs:Initializing plot_model()\n",
            "INFO:logs:plot_model(model=IForest(behaviour='new', bootstrap=False, contamination=0.05,\n",
            "    max_features=1.0, max_samples='auto', n_estimators=100, n_jobs=1,\n",
            "    random_state=5262, verbose=0), plot=tsne, feature=None, save=False, system=True)\n",
            "INFO:logs:Checking exceptions\n",
            "INFO:logs:Importing libraries\n"
          ]
        },
        {
          "output_type": "display_data",
          "data": {
            "text/html": [
              "        <script type=\"text/javascript\">\n",
              "        window.PlotlyConfig = {MathJaxConfig: 'local'};\n",
              "        if (window.MathJax) {MathJax.Hub.Config({SVG: {font: \"STIX-Web\"}});}\n",
              "        if (typeof require !== 'undefined') {\n",
              "        require.undef(\"plotly\");\n",
              "        requirejs.config({\n",
              "            paths: {\n",
              "                'plotly': ['https://cdn.plot.ly/plotly-2.8.3.min']\n",
              "            }\n",
              "        });\n",
              "        require(['plotly'], function(Plotly) {\n",
              "            window._Plotly = Plotly;\n",
              "        });\n",
              "        }\n",
              "        </script>\n",
              "        "
            ]
          },
          "metadata": {}
        },
        {
          "output_type": "stream",
          "name": "stderr",
          "text": [
            "INFO:logs:plot type: tsne\n",
            "INFO:logs:SubProcess assign_model() called ==================================\n",
            "INFO:logs:Initializing assign_model()\n",
            "INFO:logs:assign_model(model=IForest(behaviour='new', bootstrap=False, contamination=0.05,\n",
            "    max_features=1.0, max_samples='auto', n_estimators=100, n_jobs=1,\n",
            "    random_state=5262, verbose=0), transformation=True, score=False, verbose=False)\n",
            "INFO:logs:Preloading libraries\n",
            "INFO:logs:Copying data\n",
            "INFO:logs:Preparing display monitor\n",
            "INFO:logs:Determining Trained Model\n",
            "INFO:logs:Trained Model : Assigned Isolation Forest\n",
            "INFO:logs:(1000, 11)\n",
            "INFO:logs:assign_model() succesfully completed......................................\n",
            "INFO:logs:SubProcess assign_model() end ==================================\n",
            "INFO:logs:Getting dummies to cast categorical variables\n",
            "INFO:logs:Fitting TSNE()\n",
            "INFO:logs:Rendering Visual\n"
          ]
        },
        {
          "output_type": "display_data",
          "data": {
            "application/vnd.plotly.v1+json": {
              "data": [
                {
                  "customdata": [
                    [
                      0.263995357
                    ],
                    [
                      0.546092303
                    ],
                    [
                      0.336714104
                    ],
                    [
                      0.092107835
                    ],
                    [
                      0.325261175
                    ],
                    [
                      0.212464853
                    ],
                    [
                      0.258565714
                    ],
                    [
                      0.869236755
                    ],
                    [
                      0.197077957
                    ],
                    [
                      0.292984504
                    ],
                    [
                      0.82178316
                    ],
                    [
                      0.796622959
                    ],
                    [
                      0.045577011
                    ],
                    [
                      0.613660351
                    ],
                    [
                      0.950744566
                    ],
                    [
                      0.336346337
                    ],
                    [
                      0.034440667
                    ],
                    [
                      0.741544275
                    ],
                    [
                      0.18443265
                    ],
                    [
                      0.664514943
                    ],
                    [
                      0.162824858
                    ],
                    [
                      0.729838445
                    ],
                    [
                      0.62837389
                    ],
                    [
                      0.057883661
                    ],
                    [
                      0.445534827
                    ],
                    [
                      0.80183695
                    ],
                    [
                      0.27709612
                    ],
                    [
                      0.228634015
                    ],
                    [
                      0.834860657
                    ],
                    [
                      0.669766511
                    ],
                    [
                      0.532527349
                    ],
                    [
                      0.170459071
                    ],
                    [
                      0.510288468
                    ],
                    [
                      0.977561989
                    ],
                    [
                      0.249775993
                    ],
                    [
                      0.975500682
                    ],
                    [
                      0.613701727
                    ],
                    [
                      0.167420363
                    ],
                    [
                      0.537472516
                    ],
                    [
                      0.379899131
                    ],
                    [
                      0.633897303
                    ],
                    [
                      0.633960424
                    ],
                    [
                      0.549974653
                    ],
                    [
                      0.178172988
                    ],
                    [
                      0.85563814
                    ],
                    [
                      0.321796672
                    ],
                    [
                      0.817490537
                    ],
                    [
                      0.254879417
                    ],
                    [
                      0.344140513
                    ],
                    [
                      0.806145726
                    ],
                    [
                      0.277081671
                    ],
                    [
                      0.544328519
                    ],
                    [
                      0.07708393
                    ],
                    [
                      0.273081458
                    ],
                    [
                      0.390877336
                    ],
                    [
                      0.349621385
                    ],
                    [
                      0.214549744
                    ],
                    [
                      0.206075222
                    ],
                    [
                      0.86461997
                    ],
                    [
                      0.981708854
                    ],
                    [
                      0.334829646
                    ],
                    [
                      0.648387061
                    ],
                    [
                      0.093643561
                    ],
                    [
                      0.837802698
                    ],
                    [
                      0.760343967
                    ],
                    [
                      0.291404174
                    ],
                    [
                      0.3413454
                    ],
                    [
                      0.761112484
                    ],
                    [
                      0.541899775
                    ],
                    [
                      0.684176639
                    ],
                    [
                      0.983535597
                    ],
                    [
                      0.52081245
                    ],
                    [
                      0.328227724
                    ],
                    [
                      0.097157938
                    ],
                    [
                      0.876088593
                    ],
                    [
                      0.870214512
                    ],
                    [
                      0.656086992
                    ],
                    [
                      0.306791514
                    ],
                    [
                      0.48126734
                    ],
                    [
                      0.259559174
                    ],
                    [
                      0.326123655
                    ],
                    [
                      0.930568042
                    ],
                    [
                      0.6583894
                    ],
                    [
                      0.689992335
                    ],
                    [
                      0.315781109
                    ],
                    [
                      0.566905093
                    ],
                    [
                      0.637526619
                    ],
                    [
                      0.687540723
                    ],
                    [
                      0.324300602
                    ],
                    [
                      0.592704906
                    ],
                    [
                      0.740253126
                    ],
                    [
                      0.594032877
                    ],
                    [
                      0.596452977
                    ],
                    [
                      0.277680817
                    ],
                    [
                      0.258329663
                    ],
                    [
                      0.142460864
                    ],
                    [
                      0.435533461
                    ],
                    [
                      0.702499044
                    ],
                    [
                      0.58897535
                    ],
                    [
                      0.653304374
                    ],
                    [
                      0.336968524
                    ],
                    [
                      0.631244736
                    ],
                    [
                      0.73530076
                    ],
                    [
                      0.050390366
                    ],
                    [
                      0.064264924
                    ],
                    [
                      0.665359476
                    ],
                    [
                      0.917835245
                    ],
                    [
                      0.44651012
                    ],
                    [
                      0.661938199
                    ],
                    [
                      0.439359853
                    ],
                    [
                      0.687572404
                    ],
                    [
                      0.363462248
                    ],
                    [
                      0.654262182
                    ],
                    [
                      0.578553536
                    ],
                    [
                      0.065927945
                    ],
                    [
                      0.550148559
                    ],
                    [
                      0.139182814
                    ],
                    [
                      0.080004635
                    ],
                    [
                      0.278228358
                    ],
                    [
                      0.560124266
                    ],
                    [
                      0.53639864
                    ],
                    [
                      0.426531904
                    ],
                    [
                      0.789109796
                    ],
                    [
                      0.742900474
                    ],
                    [
                      0.901692589
                    ],
                    [
                      0.650337401
                    ],
                    [
                      0.114057311
                    ],
                    [
                      0.260812592
                    ],
                    [
                      0.43991232
                    ],
                    [
                      0.964409284
                    ],
                    [
                      0.184401415
                    ],
                    [
                      0.345145446
                    ],
                    [
                      0.175894581
                    ],
                    [
                      0.312514453
                    ],
                    [
                      0.674131879
                    ],
                    [
                      0.32825045
                    ],
                    [
                      0.598231057
                    ],
                    [
                      0.092598817
                    ],
                    [
                      0.497916521
                    ],
                    [
                      0.419776521
                    ],
                    [
                      0.3121767
                    ],
                    [
                      0.937857107
                    ],
                    [
                      0.049030963
                    ],
                    [
                      0.476104526
                    ],
                    [
                      0.447397526
                    ],
                    [
                      0.295806058
                    ],
                    [
                      0.737363977
                    ],
                    [
                      0.625896253
                    ],
                    [
                      0.408813429
                    ],
                    [
                      0.437511156
                    ],
                    [
                      0.691351375
                    ],
                    [
                      0.935555275
                    ],
                    [
                      0.437846654
                    ],
                    [
                      0.072217715
                    ],
                    [
                      0.67636067
                    ],
                    [
                      0.468883999
                    ],
                    [
                      0.543820644
                    ],
                    [
                      0.655522647
                    ],
                    [
                      0.693528924
                    ],
                    [
                      0.108878312
                    ],
                    [
                      0.285463743
                    ],
                    [
                      0
                    ],
                    [
                      0.706495497
                    ],
                    [
                      0.273530633
                    ],
                    [
                      0.292320271
                    ],
                    [
                      0.673984307
                    ],
                    [
                      0.126121828
                    ],
                    [
                      0.946707459
                    ],
                    [
                      0.936338898
                    ],
                    [
                      0.853755364
                    ],
                    [
                      0.706071361
                    ],
                    [
                      0.693682186
                    ],
                    [
                      0.508527882
                    ],
                    [
                      0.347170389
                    ],
                    [
                      0.704154263
                    ],
                    [
                      0.658730088
                    ],
                    [
                      0.155841557
                    ],
                    [
                      0.311085435
                    ],
                    [
                      0.281135347
                    ],
                    [
                      0.094587802
                    ],
                    [
                      0.683260954
                    ],
                    [
                      0.907729251
                    ],
                    [
                      0.291512674
                    ],
                    [
                      0.752734459
                    ],
                    [
                      0.93482964
                    ],
                    [
                      0.071413953
                    ],
                    [
                      0.594896327
                    ],
                    [
                      0.404672015
                    ],
                    [
                      0.13837621
                    ],
                    [
                      0.747338468
                    ],
                    [
                      0.530882486
                    ],
                    [
                      0.282649594
                    ],
                    [
                      0.699335734
                    ],
                    [
                      0.056111251
                    ],
                    [
                      0.855234998
                    ],
                    [
                      0.077895127
                    ],
                    [
                      0.891649583
                    ],
                    [
                      0.386742279
                    ],
                    [
                      0.27113158
                    ],
                    [
                      0.958888961
                    ],
                    [
                      0.085120869
                    ],
                    [
                      0.526902249
                    ],
                    [
                      0.066577785
                    ],
                    [
                      0.841506738
                    ],
                    [
                      0.255342095
                    ],
                    [
                      0.060545771
                    ],
                    [
                      0.073385869
                    ],
                    [
                      0.187493723
                    ],
                    [
                      0.858365688
                    ],
                    [
                      0.090640352
                    ],
                    [
                      0.709725227
                    ],
                    [
                      0.631300647
                    ],
                    [
                      0.247504474
                    ],
                    [
                      0.822843584
                    ],
                    [
                      0.373476759
                    ],
                    [
                      0.625538582
                    ],
                    [
                      0.292951715
                    ],
                    [
                      0.299730324
                    ],
                    [
                      0.25121407
                    ],
                    [
                      0.344480551
                    ],
                    [
                      0.293064767
                    ],
                    [
                      0.762803224
                    ],
                    [
                      0.738470804
                    ],
                    [
                      0.674883265
                    ],
                    [
                      0.719151612
                    ],
                    [
                      0.130980216
                    ],
                    [
                      0.511328036
                    ],
                    [
                      0.04492903
                    ],
                    [
                      0.560914449
                    ],
                    [
                      0.744040641
                    ],
                    [
                      0.266961634
                    ],
                    [
                      0.644231853
                    ],
                    [
                      0.038113352
                    ],
                    [
                      0.057155299
                    ],
                    [
                      0.341392461
                    ],
                    [
                      0.720463632
                    ],
                    [
                      0.402878236
                    ],
                    [
                      0.635148967
                    ],
                    [
                      0.320729467
                    ],
                    [
                      0.091209694
                    ],
                    [
                      0.23414609
                    ],
                    [
                      0.890221131
                    ],
                    [
                      0.602170884
                    ],
                    [
                      0.633652055
                    ],
                    [
                      0.806240837
                    ],
                    [
                      0.739731184
                    ],
                    [
                      0.465231269
                    ],
                    [
                      0.7321109
                    ],
                    [
                      0.373874305
                    ],
                    [
                      0.501587947
                    ],
                    [
                      0.115383158
                    ],
                    [
                      0.731946604
                    ],
                    [
                      0.418298728
                    ],
                    [
                      0.062259591
                    ],
                    [
                      0.391496379
                    ],
                    [
                      0.35984929
                    ],
                    [
                      0.245235627
                    ],
                    [
                      0.610028339
                    ],
                    [
                      0.435403602
                    ],
                    [
                      0.434309675
                    ],
                    [
                      0.523763344
                    ],
                    [
                      0.171187866
                    ],
                    [
                      0.187734303
                    ],
                    [
                      0.945014638
                    ],
                    [
                      0.027851097
                    ],
                    [
                      0.68445706
                    ],
                    [
                      0.178014532
                    ],
                    [
                      0.643427879
                    ],
                    [
                      0.59588355
                    ],
                    [
                      0.372361682
                    ],
                    [
                      0.586103584
                    ],
                    [
                      0.271658852
                    ],
                    [
                      0.59951107
                    ],
                    [
                      0.468363088
                    ],
                    [
                      0.314515565
                    ],
                    [
                      0.21893726
                    ],
                    [
                      0.254716562
                    ],
                    [
                      0.25612815
                    ],
                    [
                      0.602259755
                    ],
                    [
                      0.134381075
                    ],
                    [
                      0.513887424
                    ],
                    [
                      0.624241636
                    ],
                    [
                      0.160251854
                    ],
                    [
                      0.580708108
                    ],
                    [
                      0.270540486
                    ],
                    [
                      0.832919932
                    ],
                    [
                      0.93032134
                    ],
                    [
                      0.719157884
                    ],
                    [
                      0.886720033
                    ],
                    [
                      0.098792281
                    ],
                    [
                      0.787174286
                    ],
                    [
                      0.365592376
                    ],
                    [
                      0.719576193
                    ],
                    [
                      0.8058956
                    ],
                    [
                      0.755578334
                    ],
                    [
                      0.526005909
                    ],
                    [
                      0.68880424
                    ],
                    [
                      0.221115312
                    ],
                    [
                      0.739369477
                    ],
                    [
                      0.408440236
                    ],
                    [
                      0.348926542
                    ],
                    [
                      0.433713763
                    ],
                    [
                      0.596496607
                    ],
                    [
                      0.6942953
                    ],
                    [
                      0.709030966
                    ],
                    [
                      0.867652984
                    ],
                    [
                      0.89332545
                    ],
                    [
                      0.746020922
                    ],
                    [
                      0.538284443
                    ],
                    [
                      0.892219314
                    ],
                    [
                      0.935175765
                    ],
                    [
                      0.260527707
                    ],
                    [
                      0.956780449
                    ],
                    [
                      0.204932484
                    ],
                    [
                      0.687733351
                    ],
                    [
                      0.329063619
                    ],
                    [
                      0.632149831
                    ],
                    [
                      0.463744506
                    ],
                    [
                      0.698859621
                    ],
                    [
                      0.385446564
                    ],
                    [
                      0.479975377
                    ],
                    [
                      0.732279108
                    ],
                    [
                      0.3813543
                    ],
                    [
                      0.459326013
                    ],
                    [
                      0.257401434
                    ],
                    [
                      0.665014804
                    ],
                    [
                      0.103399542
                    ],
                    [
                      0.425284413
                    ],
                    [
                      0.943529051
                    ],
                    [
                      0.594750236
                    ],
                    [
                      0.543776817
                    ],
                    [
                      0.18203988
                    ],
                    [
                      0.235842084
                    ],
                    [
                      0.585984497
                    ],
                    [
                      0.762013168
                    ],
                    [
                      0.684982907
                    ],
                    [
                      0.676936933
                    ],
                    [
                      0.290184964
                    ],
                    [
                      0.481068222
                    ],
                    [
                      0.492766033
                    ],
                    [
                      0.221856234
                    ],
                    [
                      0.053875998
                    ],
                    [
                      0.082751144
                    ],
                    [
                      0.385366225
                    ],
                    [
                      0.702513961
                    ],
                    [
                      0.91553156
                    ],
                    [
                      0.082087436
                    ],
                    [
                      0.251280378
                    ],
                    [
                      0.416721817
                    ],
                    [
                      0.277032672
                    ],
                    [
                      0.579539754
                    ],
                    [
                      0.569363476
                    ],
                    [
                      0.133399703
                    ],
                    [
                      0.265045463
                    ],
                    [
                      0.936571901
                    ],
                    [
                      0.252618554
                    ],
                    [
                      0.054033081
                    ],
                    [
                      0.802481439
                    ],
                    [
                      0.528197693
                    ],
                    [
                      0.9515026
                    ],
                    [
                      0.572121173
                    ],
                    [
                      0.752938227
                    ],
                    [
                      0.143857535
                    ],
                    [
                      0.513484576
                    ],
                    [
                      0.313322389
                    ],
                    [
                      0.687797396
                    ],
                    [
                      0.37705984
                    ],
                    [
                      0.348226142
                    ],
                    [
                      0.67763282
                    ],
                    [
                      0.241387521
                    ],
                    [
                      0.850650179
                    ],
                    [
                      0.220348103
                    ],
                    [
                      0.476445464
                    ],
                    [
                      0.690324025
                    ],
                    [
                      0.364695946
                    ],
                    [
                      0.649249197
                    ],
                    [
                      0.943701921
                    ],
                    [
                      0.529645971
                    ],
                    [
                      0.299097002
                    ],
                    [
                      0.96696247
                    ],
                    [
                      0.272005242
                    ],
                    [
                      0.314161447
                    ],
                    [
                      0.752020991
                    ],
                    [
                      0.221882453
                    ],
                    [
                      0.720332673
                    ],
                    [
                      0.379204782
                    ],
                    [
                      0.60168653
                    ],
                    [
                      0.582932673
                    ],
                    [
                      0.950809853
                    ],
                    [
                      0.58830141
                    ],
                    [
                      0.880887227
                    ],
                    [
                      0.467857701
                    ],
                    [
                      0.879902171
                    ],
                    [
                      0.619844009
                    ],
                    [
                      0.359002573
                    ],
                    [
                      0.291511278
                    ],
                    [
                      0.694157143
                    ],
                    [
                      0.727960353
                    ],
                    [
                      0.617703921
                    ],
                    [
                      0.39581257
                    ],
                    [
                      0.58317282
                    ],
                    [
                      0.710332374
                    ],
                    [
                      0.253753693
                    ],
                    [
                      0.049412228
                    ],
                    [
                      0.728378695
                    ],
                    [
                      0.432432881
                    ],
                    [
                      0.58612345
                    ],
                    [
                      0.052342373
                    ],
                    [
                      0.053483902
                    ],
                    [
                      0.518729378
                    ],
                    [
                      0.933040208
                    ],
                    [
                      0.703554284
                    ],
                    [
                      0.268989899
                    ],
                    [
                      0.733006927
                    ],
                    [
                      0.444352467
                    ],
                    [
                      0.583394621
                    ],
                    [
                      0.871172692
                    ],
                    [
                      0.428767078
                    ],
                    [
                      0.300460841
                    ],
                    [
                      0.953329459
                    ],
                    [
                      0.606443965
                    ],
                    [
                      0.90986815
                    ],
                    [
                      0.714896449
                    ],
                    [
                      0.497349509
                    ],
                    [
                      0.853097486
                    ],
                    [
                      0.721804145
                    ],
                    [
                      0.303467328
                    ],
                    [
                      0.664485096
                    ],
                    [
                      0.27978062
                    ],
                    [
                      0.569481665
                    ],
                    [
                      0.628628926
                    ],
                    [
                      0.088368123
                    ],
                    [
                      0.733567326
                    ],
                    [
                      0.537436778
                    ],
                    [
                      0.638593691
                    ],
                    [
                      0.954726948
                    ],
                    [
                      0.632202332
                    ],
                    [
                      0.642134651
                    ],
                    [
                      0.744653087
                    ],
                    [
                      0.115714007
                    ],
                    [
                      0.486250073
                    ],
                    [
                      0.440356144
                    ],
                    [
                      0.08272289
                    ],
                    [
                      0.511591027
                    ],
                    [
                      0.394627555
                    ],
                    [
                      0.224394
                    ],
                    [
                      0.626927584
                    ],
                    [
                      0.290254057
                    ],
                    [
                      0.779008053
                    ],
                    [
                      0.86610579
                    ],
                    [
                      0.873326081
                    ],
                    [
                      0.49548916
                    ],
                    [
                      0.594297695
                    ],
                    [
                      0.918201584
                    ],
                    [
                      0.577042754
                    ],
                    [
                      0.019467671
                    ],
                    [
                      0.670298282
                    ],
                    [
                      0.546595316
                    ],
                    [
                      0.591665146
                    ],
                    [
                      0.42155819
                    ],
                    [
                      0.685608559
                    ],
                    [
                      0.340303024
                    ],
                    [
                      0.675626741
                    ],
                    [
                      0.319067345
                    ],
                    [
                      0.388499664
                    ],
                    [
                      0.706949589
                    ],
                    [
                      0.559409515
                    ],
                    [
                      0.687663508
                    ],
                    [
                      0.708804554
                    ],
                    [
                      0.681888094
                    ],
                    [
                      0.422535109
                    ],
                    [
                      0.320004605
                    ],
                    [
                      0.658281368
                    ],
                    [
                      0.634154867
                    ],
                    [
                      0.777332009
                    ],
                    [
                      0.812677205
                    ],
                    [
                      0.074280797
                    ],
                    [
                      0.39600217
                    ],
                    [
                      0.054933913
                    ],
                    [
                      0.825058925
                    ],
                    [
                      0.382642009
                    ],
                    [
                      0.868729818
                    ],
                    [
                      0.588043346
                    ],
                    [
                      0.891551577
                    ],
                    [
                      0.10920046
                    ],
                    [
                      0.647682781
                    ],
                    [
                      0.724342512
                    ],
                    [
                      0.070163044
                    ],
                    [
                      0.280882054
                    ],
                    [
                      0.039113261
                    ],
                    [
                      0.579641592
                    ],
                    [
                      0.639000922
                    ],
                    [
                      0.281745925
                    ],
                    [
                      0.647857744
                    ],
                    [
                      0.647905797
                    ],
                    [
                      0.875226264
                    ],
                    [
                      0.567603305
                    ],
                    [
                      0.262940591
                    ],
                    [
                      0.268026042
                    ],
                    [
                      0.40519133
                    ],
                    [
                      0.479965451
                    ],
                    [
                      0.33552403
                    ],
                    [
                      0.777165379
                    ],
                    [
                      0.425487963
                    ],
                    [
                      0.237986115
                    ],
                    [
                      0.142522971
                    ],
                    [
                      0.724176488
                    ],
                    [
                      0.234698933
                    ],
                    [
                      0.078182281
                    ],
                    [
                      0.855990155
                    ],
                    [
                      0.270251765
                    ],
                    [
                      0.435517841
                    ],
                    [
                      0.762697513
                    ],
                    [
                      0.464487258
                    ],
                    [
                      0.396112685
                    ],
                    [
                      0.376380921
                    ],
                    [
                      0.294594677
                    ],
                    [
                      0.694492121
                    ],
                    [
                      0.622767949
                    ],
                    [
                      0.847559722
                    ],
                    [
                      0.301463054
                    ],
                    [
                      0.912937812
                    ],
                    [
                      0.500017182
                    ],
                    [
                      0.902587935
                    ],
                    [
                      0.304517943
                    ],
                    [
                      0.299165673
                    ],
                    [
                      0.092014087
                    ],
                    [
                      0.488548917
                    ],
                    [
                      0.664664437
                    ],
                    [
                      0.265349549
                    ],
                    [
                      0.723657021
                    ],
                    [
                      0.149262385
                    ],
                    [
                      0.04577339
                    ],
                    [
                      0.69661064
                    ],
                    [
                      0.42181486
                    ],
                    [
                      0.733845785
                    ],
                    [
                      0.418795386
                    ],
                    [
                      0.677443529
                    ],
                    [
                      0.261283603
                    ],
                    [
                      0.268527767
                    ],
                    [
                      0.544322236
                    ],
                    [
                      0.431632036
                    ],
                    [
                      0.981018141
                    ],
                    [
                      0.214980724
                    ],
                    [
                      0.394729993
                    ],
                    [
                      0.122224944
                    ],
                    [
                      0.297496875
                    ],
                    [
                      0.374904431
                    ],
                    [
                      0.68698771
                    ],
                    [
                      0.388549207
                    ],
                    [
                      0.039296071
                    ],
                    [
                      0.73553424
                    ],
                    [
                      0.379294893
                    ],
                    [
                      0.732123386
                    ],
                    [
                      0.339221439
                    ],
                    [
                      0.659450594
                    ],
                    [
                      0.054838642
                    ],
                    [
                      0.640112102
                    ],
                    [
                      0.307141704
                    ],
                    [
                      0.396611907
                    ],
                    [
                      0.420439161
                    ],
                    [
                      0.241714974
                    ],
                    [
                      0.065893153
                    ],
                    [
                      0.910521937
                    ],
                    [
                      0.697163103
                    ],
                    [
                      0.072559853
                    ],
                    [
                      0.81825094
                    ],
                    [
                      0.311888815
                    ],
                    [
                      0.961644609
                    ],
                    [
                      0.816325524
                    ],
                    [
                      0.14647302
                    ],
                    [
                      0.548753945
                    ],
                    [
                      0.946158087
                    ],
                    [
                      0.293992717
                    ],
                    [
                      0.331479643
                    ],
                    [
                      0.906220031
                    ],
                    [
                      0.525540416
                    ],
                    [
                      0.83301411
                    ],
                    [
                      0.514849806
                    ],
                    [
                      0.574609024
                    ],
                    [
                      0.468711853
                    ],
                    [
                      0.71002775
                    ],
                    [
                      0.645973276
                    ],
                    [
                      0.229794416
                    ],
                    [
                      0.551783393
                    ],
                    [
                      0.055822991
                    ],
                    [
                      0.331750941
                    ],
                    [
                      0.715520198
                    ],
                    [
                      0.583924357
                    ],
                    [
                      0.306957691
                    ],
                    [
                      0.791478237
                    ],
                    [
                      0.164236639
                    ],
                    [
                      0.065711219
                    ],
                    [
                      0.948993132
                    ],
                    [
                      0.080423835
                    ],
                    [
                      0.052495426
                    ],
                    [
                      0.566346135
                    ],
                    [
                      0.3630266
                    ],
                    [
                      0.605442195
                    ],
                    [
                      0.630850584
                    ],
                    [
                      0.065791238
                    ],
                    [
                      0.286817071
                    ],
                    [
                      0.685462839
                    ],
                    [
                      0.260853706
                    ],
                    [
                      0.659122429
                    ],
                    [
                      0.443173922
                    ],
                    [
                      0.602063986
                    ],
                    [
                      0.060366911
                    ],
                    [
                      0.781903153
                    ],
                    [
                      0.514579807
                    ],
                    [
                      0.483886213
                    ],
                    [
                      0.600213807
                    ],
                    [
                      0.497364052
                    ],
                    [
                      0.411145245
                    ],
                    [
                      0.116999171
                    ],
                    [
                      0.341890141
                    ],
                    [
                      0.746950848
                    ],
                    [
                      0.396292746
                    ],
                    [
                      0.622143843
                    ],
                    [
                      0.335271141
                    ],
                    [
                      0.140257137
                    ],
                    [
                      0.081620681
                    ],
                    [
                      0.069837569
                    ],
                    [
                      0.468940008
                    ],
                    [
                      0.990857417
                    ],
                    [
                      0.896616832
                    ],
                    [
                      0.255310561
                    ],
                    [
                      0.224645267
                    ],
                    [
                      0.01991825
                    ],
                    [
                      0.296480415
                    ],
                    [
                      0.155458996
                    ],
                    [
                      0.577916714
                    ],
                    [
                      0.956303031
                    ],
                    [
                      0.813464394
                    ],
                    [
                      0.529675785
                    ],
                    [
                      0.287671353
                    ],
                    [
                      0.48039136
                    ],
                    [
                      0.281044822
                    ],
                    [
                      0.633196521
                    ],
                    [
                      0.093325377
                    ],
                    [
                      0.284473981
                    ],
                    [
                      0.052223775
                    ],
                    [
                      0.051129385
                    ],
                    [
                      0.967405608
                    ],
                    [
                      0.040045728
                    ],
                    [
                      0.908582921
                    ],
                    [
                      0.662117416
                    ],
                    [
                      0.424703209
                    ],
                    [
                      0.72207806
                    ],
                    [
                      0.666193327
                    ],
                    [
                      0.509681253
                    ],
                    [
                      0.751353621
                    ],
                    [
                      0.279073124
                    ],
                    [
                      0.074927
                    ],
                    [
                      0.916359535
                    ],
                    [
                      0.31040327
                    ],
                    [
                      0.716604052
                    ],
                    [
                      0.485587085
                    ],
                    [
                      0.306075181
                    ],
                    [
                      0.477558204
                    ],
                    [
                      0.711923941
                    ],
                    [
                      0.066348638
                    ],
                    [
                      0.274539351
                    ],
                    [
                      0.31082252
                    ],
                    [
                      0.476073127
                    ],
                    [
                      0.186795565
                    ],
                    [
                      0.26654207
                    ],
                    [
                      0.070231142
                    ],
                    [
                      0.26951927
                    ],
                    [
                      0.800004713
                    ],
                    [
                      0.273633667
                    ],
                    [
                      0.146479192
                    ],
                    [
                      0.378318951
                    ],
                    [
                      0.373849065
                    ],
                    [
                      0.242170835
                    ],
                    [
                      0.249796488
                    ],
                    [
                      0.066591188
                    ],
                    [
                      0.372956798
                    ],
                    [
                      0.501812291
                    ],
                    [
                      0.313097752
                    ],
                    [
                      0.880202196
                    ],
                    [
                      0.51981893
                    ],
                    [
                      0.364138746
                    ],
                    [
                      0.492682896
                    ],
                    [
                      0.285732652
                    ],
                    [
                      0.890114985
                    ],
                    [
                      0.316419561
                    ],
                    [
                      0.26866354
                    ],
                    [
                      0.771975959
                    ],
                    [
                      0.968888992
                    ],
                    [
                      0.080334377
                    ],
                    [
                      0.736828221
                    ],
                    [
                      0.300558071
                    ],
                    [
                      0.917950393
                    ],
                    [
                      0.465815039
                    ],
                    [
                      0.054036682
                    ],
                    [
                      0.963150123
                    ],
                    [
                      0.089653503
                    ],
                    [
                      0.707693234
                    ],
                    [
                      0.636416037
                    ],
                    [
                      0.539521117
                    ],
                    [
                      0.114757161
                    ],
                    [
                      0.357312419
                    ],
                    [
                      0.67639834
                    ],
                    [
                      0.43482839
                    ],
                    [
                      0.032326387
                    ],
                    [
                      0.711365605
                    ],
                    [
                      0.187486519
                    ],
                    [
                      0.052789653
                    ],
                    [
                      0.505863613
                    ],
                    [
                      0.927431873
                    ],
                    [
                      0.680984256
                    ],
                    [
                      0.882822186
                    ],
                    [
                      0.495705441
                    ],
                    [
                      0.596240398
                    ],
                    [
                      0.320610701
                    ],
                    [
                      0.3413685
                    ],
                    [
                      0.159681797
                    ],
                    [
                      0.318133669
                    ],
                    [
                      0.839301048
                    ],
                    [
                      0.064359251
                    ],
                    [
                      0.470216633
                    ],
                    [
                      0.776252291
                    ],
                    [
                      0.635843383
                    ],
                    [
                      0.62510543
                    ],
                    [
                      0.52959065
                    ],
                    [
                      0.986900166
                    ],
                    [
                      0.078585688
                    ],
                    [
                      0.233284267
                    ],
                    [
                      0.363330957
                    ],
                    [
                      0.716716981
                    ],
                    [
                      0.375889792
                    ],
                    [
                      0.223316889
                    ],
                    [
                      0.299343986
                    ],
                    [
                      0.538595767
                    ],
                    [
                      0.730297124
                    ],
                    [
                      0.66033077
                    ],
                    [
                      0.435296009
                    ],
                    [
                      0.326494313
                    ],
                    [
                      0.854402708
                    ],
                    [
                      0.573493847
                    ],
                    [
                      0.757786135
                    ],
                    [
                      0.704743233
                    ],
                    [
                      0.281575597
                    ],
                    [
                      0.671968208
                    ],
                    [
                      0.313726015
                    ],
                    [
                      0.364338275
                    ],
                    [
                      0.368216396
                    ],
                    [
                      0.386295207
                    ],
                    [
                      0.655971865
                    ],
                    [
                      0.566025273
                    ],
                    [
                      0.424999093
                    ],
                    [
                      0.090110371
                    ],
                    [
                      0.772350538
                    ],
                    [
                      0.331047258
                    ],
                    [
                      0.273716188
                    ],
                    [
                      0.23877568
                    ],
                    [
                      0.373079772
                    ],
                    [
                      0.331185868
                    ],
                    [
                      0.256134531
                    ],
                    [
                      0.678373225
                    ],
                    [
                      0.434638338
                    ],
                    [
                      0.654668307
                    ],
                    [
                      0.986681065
                    ],
                    [
                      0.371520495
                    ],
                    [
                      0.408359618
                    ],
                    [
                      0.40932365
                    ],
                    [
                      0.283412082
                    ],
                    [
                      0.395246531
                    ],
                    [
                      0.010984428
                    ],
                    [
                      0.306013869
                    ],
                    [
                      0.266194806
                    ],
                    [
                      0.299318521
                    ],
                    [
                      0.318293946
                    ],
                    [
                      0.74282591
                    ],
                    [
                      0.097664329
                    ],
                    [
                      0.079666942
                    ],
                    [
                      0.613258767
                    ],
                    [
                      0.99443072
                    ],
                    [
                      0.568835082
                    ],
                    [
                      0.708034516
                    ],
                    [
                      0.370592719
                    ],
                    [
                      0.669867361
                    ],
                    [
                      0.651295625
                    ],
                    [
                      0.462531569
                    ],
                    [
                      0.719625619
                    ],
                    [
                      0.45377248
                    ],
                    [
                      0.394863946
                    ],
                    [
                      0.323974831
                    ],
                    [
                      0.146454724
                    ],
                    [
                      0.779067041
                    ],
                    [
                      0.401828915
                    ],
                    [
                      0.601479585
                    ],
                    [
                      0.856423023
                    ],
                    [
                      0.565242962
                    ],
                    [
                      0.301225108
                    ],
                    [
                      0.282108144
                    ],
                    [
                      0.594378011
                    ],
                    [
                      0.705312368
                    ],
                    [
                      0.540869628
                    ],
                    [
                      0.319249574
                    ],
                    [
                      0.361766138
                    ],
                    [
                      0.625000704
                    ],
                    [
                      0.316287401
                    ],
                    [
                      0.047239021
                    ],
                    [
                      0.801182233
                    ],
                    [
                      0.508474436
                    ],
                    [
                      0.817893411
                    ],
                    [
                      0.399235601
                    ],
                    [
                      0.974051999
                    ],
                    [
                      0.72241535
                    ],
                    [
                      0.039564764
                    ],
                    [
                      0.908684108
                    ],
                    [
                      0.473010134
                    ],
                    [
                      0.718049628
                    ],
                    [
                      0.763479069
                    ],
                    [
                      0.647596537
                    ],
                    [
                      0.894997386
                    ],
                    [
                      0.222825901
                    ],
                    [
                      0.359012234
                    ],
                    [
                      0.944910252
                    ],
                    [
                      0.297877816
                    ],
                    [
                      0.172517997
                    ],
                    [
                      0.556586265
                    ],
                    [
                      0.876481735
                    ],
                    [
                      0.486677843
                    ],
                    [
                      0.459496733
                    ],
                    [
                      0.474126377
                    ],
                    [
                      0.70101144
                    ],
                    [
                      0.337597387
                    ],
                    [
                      0.537578886
                    ],
                    [
                      0.966992448
                    ],
                    [
                      0.056849545
                    ],
                    [
                      0.233249065
                    ],
                    [
                      0.380054711
                    ],
                    [
                      0.602929443
                    ],
                    [
                      0.303847999
                    ],
                    [
                      0.170194553
                    ],
                    [
                      0.972168554
                    ],
                    [
                      0.332168927
                    ],
                    [
                      0.688728689
                    ],
                    [
                      0.110773401
                    ],
                    [
                      0.273352065
                    ],
                    [
                      0.572939678
                    ],
                    [
                      0.491457065
                    ],
                    [
                      0.281389999
                    ],
                    [
                      0.821697261
                    ],
                    [
                      0.674977683
                    ],
                    [
                      0.585134549
                    ],
                    [
                      0.710596116
                    ],
                    [
                      0.040488789
                    ],
                    [
                      0.568054311
                    ],
                    [
                      0.321752928
                    ],
                    [
                      0.611850232
                    ],
                    [
                      0.926096887
                    ],
                    [
                      0.618347428
                    ],
                    [
                      0.667629785
                    ],
                    [
                      0.397733466
                    ],
                    [
                      0.290875487
                    ],
                    [
                      0.594375103
                    ],
                    [
                      0.508255233
                    ],
                    [
                      0.338571357
                    ],
                    [
                      0.432302347
                    ],
                    [
                      0.302221978
                    ],
                    [
                      0.87619819
                    ],
                    [
                      0.080204492
                    ],
                    [
                      0.092333532
                    ],
                    [
                      0.093656447
                    ],
                    [
                      0.608452351
                    ],
                    [
                      0.732654598
                    ],
                    [
                      0.944158855
                    ],
                    [
                      0.26742308
                    ],
                    [
                      0.731124201
                    ],
                    [
                      0.661308553
                    ],
                    [
                      0.387766262
                    ],
                    [
                      0.962585273
                    ],
                    [
                      0.322067067
                    ],
                    [
                      0.634081093
                    ],
                    [
                      0.475345002
                    ],
                    [
                      0.353558973
                    ],
                    [
                      0.885936316
                    ],
                    [
                      0.876798106
                    ],
                    [
                      0.221581064
                    ],
                    [
                      0.394362449
                    ],
                    [
                      0.805035676
                    ],
                    [
                      0.452898486
                    ],
                    [
                      0.592520516
                    ],
                    [
                      0.761026394
                    ],
                    [
                      0.245049023
                    ],
                    [
                      0.372139363
                    ],
                    [
                      0.681054822
                    ],
                    [
                      0.747143148
                    ],
                    [
                      0.920739529
                    ],
                    [
                      0.097207945
                    ],
                    [
                      0.699302998
                    ],
                    [
                      0.721647006
                    ],
                    [
                      0.535356114
                    ],
                    [
                      0.738293805
                    ],
                    [
                      0.706467551
                    ],
                    [
                      0.67395061
                    ],
                    [
                      0.711212291
                    ],
                    [
                      0.302558708
                    ],
                    [
                      0.080097855
                    ],
                    [
                      0.707010837
                    ],
                    [
                      0.512248622
                    ],
                    [
                      0.659627472
                    ],
                    [
                      0.657559694
                    ],
                    [
                      0.100645606
                    ],
                    [
                      0.92665363
                    ],
                    [
                      0.892879338
                    ],
                    [
                      0.839157508
                    ],
                    [
                      0.890959718
                    ],
                    [
                      0.556754471
                    ],
                    [
                      0.960361937
                    ],
                    [
                      0.631037864
                    ],
                    [
                      0.029838065
                    ],
                    [
                      0.278843351
                    ],
                    [
                      0.926157705
                    ],
                    [
                      0.551504258
                    ],
                    [
                      0.485942349
                    ],
                    [
                      0.437234696
                    ],
                    [
                      0.252318018
                    ],
                    [
                      0.515466972
                    ],
                    [
                      0.437252296
                    ],
                    [
                      0.493724207
                    ],
                    [
                      0.83324725
                    ],
                    [
                      0.317521477
                    ],
                    [
                      0.286234562
                    ],
                    [
                      0.726833965
                    ],
                    [
                      0.495667033
                    ],
                    [
                      0.028645255
                    ],
                    [
                      0.319671917
                    ],
                    [
                      0.674344598
                    ],
                    [
                      0.766037189
                    ],
                    [
                      0.65456992
                    ],
                    [
                      0.756514381
                    ],
                    [
                      0.528253719
                    ],
                    [
                      0.389719491
                    ],
                    [
                      0.355087459
                    ],
                    [
                      0.87015202
                    ],
                    [
                      0.739083306
                    ],
                    [
                      0.305761846
                    ],
                    [
                      0.411587673
                    ],
                    [
                      0.063633094
                    ],
                    [
                      0.735409395
                    ],
                    [
                      0.605916669
                    ],
                    [
                      0.539395562
                    ],
                    [
                      0.566183532
                    ],
                    [
                      0.674795186
                    ],
                    [
                      0.070993366
                    ],
                    [
                      0.1252641
                    ],
                    [
                      0.279601492
                    ],
                    [
                      0.952174402
                    ],
                    [
                      0.233806762
                    ],
                    [
                      0.437247429
                    ],
                    [
                      0.925423095
                    ],
                    [
                      0.433498634
                    ],
                    [
                      0.52517902
                    ],
                    [
                      0.088435529
                    ],
                    [
                      0.447677638
                    ],
                    [
                      0.647000631
                    ],
                    [
                      0.903603337
                    ],
                    [
                      0.265790738
                    ],
                    [
                      0.66419695
                    ],
                    [
                      0.498120658
                    ],
                    [
                      0.490188944
                    ],
                    [
                      0.747084187
                    ],
                    [
                      0.906783648
                    ],
                    [
                      0.678770917
                    ],
                    [
                      0.348599859
                    ],
                    [
                      0.294839683
                    ],
                    [
                      0.705691827
                    ],
                    [
                      0.211917931
                    ],
                    [
                      0.063201124
                    ],
                    [
                      0.276699543
                    ],
                    [
                      0.672459395
                    ],
                    [
                      0.808205949
                    ],
                    [
                      0.296538373
                    ],
                    [
                      0.160126862
                    ],
                    [
                      0.439385032
                    ],
                    [
                      0.555951416
                    ],
                    [
                      0.386240112
                    ],
                    [
                      0.158689619
                    ],
                    [
                      0.214499855
                    ],
                    [
                      0.299579429
                    ],
                    [
                      0.569161656
                    ],
                    [
                      0.488614799
                    ],
                    [
                      0.878295021
                    ],
                    [
                      0.649380949
                    ],
                    [
                      0.465713341
                    ],
                    [
                      0.16813774
                    ],
                    [
                      0.87529545
                    ],
                    [
                      0.841132341
                    ],
                    [
                      0.33292081
                    ],
                    [
                      0.513047859
                    ],
                    [
                      0.305055078
                    ],
                    [
                      0.812626991
                    ],
                    [
                      0.25096706
                    ],
                    [
                      0.502435578
                    ],
                    [
                      0.457990741
                    ]
                  ],
                  "hovertemplate": "0=%{x}<br>1=%{y}<br>2=%{z}<br>Feature=%{customdata[0]}<br>Label=%{marker.color}<extra></extra>",
                  "legendgroup": "",
                  "marker": {
                    "color": [
                      0,
                      0,
                      1,
                      1,
                      0,
                      0,
                      0,
                      1,
                      1,
                      0,
                      0,
                      1,
                      0,
                      0,
                      1,
                      1,
                      0,
                      1,
                      1,
                      0,
                      1,
                      0,
                      0,
                      1,
                      1,
                      1,
                      0,
                      0,
                      1,
                      1,
                      0,
                      0,
                      0,
                      1,
                      1,
                      1,
                      0,
                      0,
                      0,
                      0,
                      0,
                      0,
                      0,
                      1,
                      0,
                      0,
                      0,
                      0,
                      0,
                      0,
                      0,
                      1,
                      0,
                      1,
                      1,
                      1,
                      0,
                      0,
                      0,
                      1,
                      0,
                      0,
                      0,
                      1,
                      0,
                      0,
                      1,
                      0,
                      0,
                      1,
                      0,
                      0,
                      0,
                      0,
                      0,
                      0,
                      0,
                      0,
                      0,
                      0,
                      0,
                      0,
                      0,
                      0,
                      0,
                      0,
                      0,
                      0,
                      0,
                      0,
                      0,
                      0,
                      0,
                      0,
                      0,
                      0,
                      0,
                      0,
                      0,
                      0,
                      0,
                      0,
                      0,
                      0,
                      0,
                      0,
                      0,
                      0,
                      0,
                      0,
                      0,
                      0,
                      0,
                      0,
                      0,
                      0,
                      0,
                      0,
                      0,
                      0,
                      0,
                      0,
                      0,
                      0,
                      0,
                      0,
                      0,
                      0,
                      0,
                      0,
                      1,
                      0,
                      0,
                      0,
                      0,
                      0,
                      0,
                      0,
                      0,
                      0,
                      0,
                      0,
                      0,
                      0,
                      0,
                      0,
                      0,
                      0,
                      0,
                      0,
                      0,
                      0,
                      0,
                      0,
                      0,
                      0,
                      0,
                      0,
                      0,
                      0,
                      0,
                      0,
                      0,
                      0,
                      0,
                      0,
                      0,
                      0,
                      0,
                      0,
                      0,
                      0,
                      0,
                      0,
                      0,
                      0,
                      0,
                      0,
                      0,
                      0,
                      0,
                      0,
                      0,
                      0,
                      0,
                      0,
                      0,
                      0,
                      0,
                      0,
                      0,
                      0,
                      0,
                      0,
                      0,
                      0,
                      0,
                      0,
                      0,
                      0,
                      0,
                      0,
                      0,
                      0,
                      0,
                      0,
                      0,
                      0,
                      0,
                      0,
                      0,
                      0,
                      0,
                      0,
                      0,
                      0,
                      0,
                      0,
                      0,
                      0,
                      0,
                      0,
                      0,
                      0,
                      0,
                      0,
                      0,
                      0,
                      0,
                      1,
                      0,
                      0,
                      0,
                      0,
                      0,
                      0,
                      0,
                      0,
                      0,
                      0,
                      0,
                      0,
                      0,
                      0,
                      0,
                      0,
                      0,
                      0,
                      0,
                      0,
                      0,
                      0,
                      0,
                      0,
                      0,
                      0,
                      0,
                      0,
                      0,
                      0,
                      0,
                      0,
                      0,
                      0,
                      0,
                      0,
                      0,
                      0,
                      0,
                      0,
                      0,
                      0,
                      0,
                      0,
                      0,
                      0,
                      0,
                      0,
                      0,
                      0,
                      0,
                      0,
                      0,
                      0,
                      0,
                      0,
                      0,
                      0,
                      0,
                      0,
                      0,
                      0,
                      0,
                      0,
                      0,
                      0,
                      0,
                      0,
                      0,
                      0,
                      0,
                      0,
                      0,
                      0,
                      0,
                      0,
                      0,
                      0,
                      0,
                      0,
                      0,
                      0,
                      0,
                      0,
                      0,
                      0,
                      0,
                      0,
                      0,
                      0,
                      0,
                      0,
                      0,
                      0,
                      0,
                      0,
                      0,
                      0,
                      0,
                      0,
                      0,
                      0,
                      0,
                      0,
                      0,
                      0,
                      0,
                      0,
                      0,
                      0,
                      0,
                      0,
                      0,
                      0,
                      0,
                      0,
                      0,
                      0,
                      0,
                      0,
                      0,
                      0,
                      0,
                      0,
                      0,
                      0,
                      0,
                      0,
                      0,
                      0,
                      0,
                      0,
                      0,
                      0,
                      0,
                      0,
                      0,
                      0,
                      0,
                      0,
                      0,
                      0,
                      0,
                      0,
                      0,
                      0,
                      0,
                      0,
                      0,
                      0,
                      0,
                      0,
                      0,
                      0,
                      0,
                      0,
                      0,
                      0,
                      0,
                      0,
                      0,
                      1,
                      0,
                      0,
                      0,
                      0,
                      0,
                      0,
                      0,
                      0,
                      0,
                      0,
                      0,
                      0,
                      0,
                      0,
                      0,
                      0,
                      0,
                      0,
                      0,
                      0,
                      1,
                      0,
                      0,
                      0,
                      0,
                      0,
                      0,
                      0,
                      0,
                      0,
                      0,
                      0,
                      0,
                      0,
                      0,
                      0,
                      0,
                      0,
                      0,
                      0,
                      0,
                      0,
                      0,
                      0,
                      0,
                      0,
                      0,
                      0,
                      0,
                      0,
                      0,
                      0,
                      0,
                      0,
                      0,
                      0,
                      0,
                      0,
                      0,
                      0,
                      0,
                      0,
                      0,
                      0,
                      0,
                      0,
                      0,
                      0,
                      0,
                      0,
                      0,
                      0,
                      0,
                      0,
                      0,
                      0,
                      0,
                      0,
                      0,
                      0,
                      0,
                      0,
                      0,
                      0,
                      0,
                      0,
                      0,
                      0,
                      0,
                      0,
                      0,
                      0,
                      0,
                      0,
                      0,
                      0,
                      0,
                      0,
                      0,
                      0,
                      0,
                      0,
                      0,
                      0,
                      0,
                      0,
                      0,
                      0,
                      0,
                      0,
                      0,
                      0,
                      0,
                      0,
                      0,
                      0,
                      0,
                      0,
                      0,
                      0,
                      0,
                      0,
                      0,
                      0,
                      0,
                      0,
                      0,
                      0,
                      0,
                      0,
                      0,
                      1,
                      0,
                      0,
                      0,
                      0,
                      0,
                      0,
                      0,
                      0,
                      0,
                      0,
                      0,
                      0,
                      0,
                      0,
                      0,
                      0,
                      0,
                      0,
                      0,
                      0,
                      0,
                      0,
                      0,
                      0,
                      0,
                      0,
                      0,
                      0,
                      0,
                      0,
                      0,
                      0,
                      0,
                      0,
                      0,
                      0,
                      0,
                      0,
                      0,
                      0,
                      0,
                      0,
                      0,
                      0,
                      0,
                      0,
                      0,
                      0,
                      0,
                      0,
                      0,
                      0,
                      0,
                      0,
                      0,
                      0,
                      0,
                      0,
                      0,
                      0,
                      0,
                      0,
                      0,
                      0,
                      0,
                      0,
                      0,
                      0,
                      0,
                      0,
                      0,
                      0,
                      0,
                      0,
                      0,
                      0,
                      0,
                      0,
                      1,
                      0,
                      0,
                      0,
                      0,
                      0,
                      0,
                      0,
                      0,
                      0,
                      0,
                      0,
                      0,
                      0,
                      0,
                      0,
                      0,
                      0,
                      0,
                      0,
                      0,
                      0,
                      0,
                      0,
                      0,
                      0,
                      0,
                      0,
                      0,
                      0,
                      0,
                      0,
                      0,
                      0,
                      0,
                      0,
                      0,
                      0,
                      0,
                      0,
                      0,
                      0,
                      0,
                      0,
                      0,
                      0,
                      0,
                      0,
                      0,
                      0,
                      0,
                      0,
                      0,
                      0,
                      0,
                      0,
                      0,
                      0,
                      0,
                      0,
                      0,
                      0,
                      0,
                      0,
                      0,
                      0,
                      0,
                      0,
                      1,
                      0,
                      0,
                      0,
                      0,
                      0,
                      0,
                      0,
                      0,
                      0,
                      1,
                      0,
                      0,
                      0,
                      0,
                      0,
                      0,
                      0,
                      0,
                      0,
                      0,
                      0,
                      0,
                      0,
                      0,
                      0,
                      0,
                      0,
                      0,
                      0,
                      1,
                      1,
                      1,
                      1,
                      0,
                      0,
                      0,
                      0,
                      1,
                      0,
                      0,
                      0,
                      0,
                      1,
                      0,
                      0,
                      0,
                      1,
                      1,
                      0,
                      1,
                      0,
                      1,
                      0,
                      1,
                      0,
                      0,
                      0,
                      1,
                      0,
                      0,
                      0,
                      0,
                      0,
                      0,
                      0,
                      0,
                      0,
                      0,
                      0,
                      0,
                      0,
                      0,
                      1,
                      0,
                      0,
                      0,
                      0,
                      0,
                      0,
                      0,
                      0,
                      0,
                      0,
                      0,
                      0,
                      0,
                      0,
                      0,
                      0,
                      1,
                      0,
                      0,
                      0,
                      0,
                      0,
                      0,
                      0,
                      0,
                      0,
                      0,
                      0,
                      0,
                      0,
                      0,
                      0,
                      0,
                      0,
                      0,
                      0,
                      0,
                      0,
                      0,
                      0,
                      0,
                      0,
                      0,
                      0,
                      0,
                      0,
                      0,
                      0,
                      0,
                      0,
                      0,
                      0,
                      0,
                      0,
                      0,
                      0,
                      0,
                      0,
                      0,
                      0,
                      0,
                      0,
                      0,
                      0,
                      0,
                      0,
                      0,
                      0,
                      0,
                      0,
                      0,
                      0,
                      0,
                      0,
                      0,
                      0,
                      0,
                      0,
                      0,
                      0,
                      0,
                      0,
                      0,
                      0,
                      0,
                      0,
                      0,
                      0,
                      0,
                      0,
                      0,
                      0,
                      0,
                      0,
                      0,
                      0,
                      0,
                      0,
                      0,
                      0,
                      0,
                      0,
                      0,
                      0,
                      0,
                      0,
                      0,
                      0,
                      0,
                      0,
                      0,
                      0,
                      0,
                      0,
                      0,
                      0,
                      0,
                      0,
                      0,
                      0,
                      0,
                      0,
                      0,
                      0,
                      0,
                      0,
                      0,
                      0,
                      0,
                      0,
                      0,
                      0,
                      0,
                      0,
                      0,
                      0,
                      0,
                      0,
                      0,
                      0,
                      0,
                      0,
                      0,
                      0,
                      0,
                      0,
                      0,
                      0,
                      0,
                      0,
                      0,
                      0,
                      0,
                      0,
                      0,
                      0,
                      0,
                      0,
                      0,
                      0,
                      0,
                      0,
                      0,
                      0,
                      0,
                      0,
                      0,
                      0,
                      0,
                      0,
                      0,
                      0,
                      0,
                      0,
                      0,
                      0,
                      0,
                      1,
                      0,
                      0,
                      0,
                      0,
                      0,
                      0,
                      0,
                      0,
                      0,
                      0,
                      0,
                      0,
                      0,
                      0,
                      0,
                      0,
                      0,
                      0,
                      0,
                      0,
                      0,
                      0,
                      0,
                      0,
                      0,
                      0,
                      0,
                      0,
                      0,
                      0,
                      0,
                      0,
                      0,
                      0,
                      0,
                      0,
                      0,
                      0,
                      0,
                      0,
                      0,
                      0,
                      0,
                      0,
                      0,
                      0,
                      0,
                      0,
                      0,
                      0,
                      0,
                      0,
                      0,
                      0,
                      0,
                      0,
                      0,
                      0,
                      0,
                      0,
                      0,
                      0,
                      0,
                      0,
                      0,
                      0,
                      0,
                      0,
                      0,
                      0,
                      0,
                      0,
                      0,
                      0,
                      0,
                      0,
                      0,
                      0
                    ],
                    "coloraxis": "coloraxis",
                    "opacity": 0.7,
                    "symbol": "circle"
                  },
                  "mode": "markers",
                  "name": "",
                  "scene": "scene",
                  "showlegend": false,
                  "x": [
                    0.091429203748703,
                    6.513463973999023,
                    -4.537449359893799,
                    -8.414010047912598,
                    -5.651562213897705,
                    -4.004618167877197,
                    3.477867841720581,
                    -3.7550151348114014,
                    2.3155689239501953,
                    -1.078755497932434,
                    -1.6770933866500854,
                    -10.423652648925781,
                    -8.126514434814453,
                    0.333010733127594,
                    -6.916491508483887,
                    -11.539216995239258,
                    -8.07277774810791,
                    12.12904167175293,
                    -4.893808364868164,
                    -9.676811218261719,
                    -3.8038599491119385,
                    -3.6002273559570312,
                    -1.0836604833602905,
                    2.8683066368103027,
                    -3.3998823165893555,
                    -3.3229377269744873,
                    -9.18899917602539,
                    2.3856515884399414,
                    -4.510812759399414,
                    -10.241796493530273,
                    3.394045114517212,
                    2.8276188373565674,
                    -2.6207385063171387,
                    -2.137004852294922,
                    -0.18566611409187317,
                    -2.7867751121520996,
                    3.9908626079559326,
                    1.9694979190826416,
                    -3.127065658569336,
                    -2.9005894660949707,
                    6.510582447052002,
                    -4.217556476593018,
                    6.17628288269043,
                    -4.067165374755859,
                    -3.3910882472991943,
                    -12.101523399353027,
                    -2.5993306636810303,
                    2.820863723754883,
                    -10.100787162780762,
                    10.322808265686035,
                    -5.23497200012207,
                    -5.7888031005859375,
                    1.3152283430099487,
                    -11.916041374206543,
                    -5.560859680175781,
                    -1.7089287042617798,
                    -2.060386896133423,
                    1.8086597919464111,
                    -2.453270673751831,
                    -6.2981648445129395,
                    -0.5089395642280579,
                    10.374831199645996,
                    -11.39345645904541,
                    -4.372767448425293,
                    9.46815299987793,
                    -1.869998574256897,
                    2.9959805011749268,
                    12.062188148498535,
                    -9.024404525756836,
                    -1.9227708578109741,
                    -6.859760761260986,
                    -6.451378345489502,
                    -3.2284295558929443,
                    -6.409173965454102,
                    1.2878371477127075,
                    -0.7151120901107788,
                    -7.7646660804748535,
                    -8.381782531738281,
                    -0.2574273347854614,
                    1.4653358459472656,
                    1.5764704942703247,
                    -2.5869786739349365,
                    -4.655442237854004,
                    8.857527732849121,
                    4.958995342254639,
                    6.444087028503418,
                    7.293935298919678,
                    9.433134078979492,
                    -1.7806898355484009,
                    -4.01012659072876,
                    -1.7546144723892212,
                    -2.934128999710083,
                    5.458128929138184,
                    4.46190071105957,
                    0.5965150594711304,
                    -10.05029296875,
                    3.983611822128296,
                    7.1384148597717285,
                    5.152132987976074,
                    -6.929896831512451,
                    -3.620164155960083,
                    8.397821426391602,
                    6.760283470153809,
                    2.076634645462036,
                    -11.20770263671875,
                    2.821798086166382,
                    9.411114692687988,
                    5.292738914489746,
                    1.577040433883667,
                    -7.2309250831604,
                    -3.6710145473480225,
                    -5.38839864730835,
                    -1.7318757772445679,
                    1.3027143478393555,
                    -6.277965068817139,
                    -3.54477858543396,
                    2.9469754695892334,
                    4.445845603942871,
                    -7.346086025238037,
                    6.094486236572266,
                    -3.3981943130493164,
                    -0.33511945605278015,
                    10.082740783691406,
                    8.207657814025879,
                    8.464227676391602,
                    6.849250316619873,
                    1.2239831686019897,
                    -7.067209720611572,
                    5.508124828338623,
                    7.811908721923828,
                    -2.3094959259033203,
                    3.317704916000366,
                    -6.107714653015137,
                    3.2838823795318604,
                    8.356080055236816,
                    1.6163702011108398,
                    -3.9163131713867188,
                    -8.272175788879395,
                    5.270125389099121,
                    3.7897744178771973,
                    -5.855218887329102,
                    -4.571743488311768,
                    1.3168002367019653,
                    -5.743929862976074,
                    5.4979472160339355,
                    0.8880058526992798,
                    -2.561736822128296,
                    6.051468372344971,
                    5.358311653137207,
                    4.594398021697998,
                    -4.486971378326416,
                    -0.8036972880363464,
                    -2.2575266361236572,
                    0.954432487487793,
                    -3.0883092880249023,
                    4.925601959228516,
                    10.307151794433594,
                    8.045144081115723,
                    -0.6226556301116943,
                    -5.457011699676514,
                    1.9832853078842163,
                    1.2145696878433228,
                    -3.1645729541778564,
                    0.12636443972587585,
                    -6.03981351852417,
                    9.004329681396484,
                    -6.757646560668945,
                    -7.944363117218018,
                    -4.835694313049316,
                    8.847441673278809,
                    8.802726745605469,
                    7.451157569885254,
                    -3.8065295219421387,
                    -4.247204780578613,
                    8.106483459472656,
                    9.568156242370605,
                    -5.071730613708496,
                    -3.832327365875244,
                    4.6628241539001465,
                    -8.246728897094727,
                    8.097580909729004,
                    -1.1627768278121948,
                    2.7970848083496094,
                    -6.5543694496154785,
                    -8.039511680603027,
                    3.3007497787475586,
                    -5.762819290161133,
                    -1.6563289165496826,
                    0.7844598293304443,
                    -1.3698039054870605,
                    6.747870922088623,
                    -6.404656887054443,
                    -2.9105770587921143,
                    -5.225042819976807,
                    6.933656215667725,
                    2.344075918197632,
                    9.387292861938477,
                    11.722064971923828,
                    -4.1155853271484375,
                    8.233436584472656,
                    -1.0112144947052002,
                    4.550002574920654,
                    1.139258623123169,
                    -5.42750883102417,
                    -4.759424686431885,
                    2.294233798980713,
                    1.6203874349594116,
                    -1.544583797454834,
                    -1.179871678352356,
                    2.918379783630371,
                    9.148445129394531,
                    -8.02298641204834,
                    -7.466838836669922,
                    -4.358481407165527,
                    -0.4837680160999298,
                    -0.18965332210063934,
                    3.8232741355895996,
                    -9.596343994140625,
                    -9.624547004699707,
                    2.7120940685272217,
                    -4.9512715339660645,
                    7.834484577178955,
                    -5.964341640472412,
                    1.3626331090927124,
                    6.687044143676758,
                    0.9863684177398682,
                    7.105768203735352,
                    -0.8242959380149841,
                    8.108786582946777,
                    -7.959488391876221,
                    3.690265655517578,
                    5.581705093383789,
                    -7.339197158813477,
                    -8.259618759155273,
                    3.494407892227173,
                    7.80416202545166,
                    2.527035713195801,
                    -0.9698731899261475,
                    -6.947666168212891,
                    -2.6620800495147705,
                    -1.7052280902862549,
                    9.588807106018066,
                    -2.879690170288086,
                    7.752694129943848,
                    -4.073084354400635,
                    7.599488258361816,
                    1.5547837018966675,
                    -2.3950247764587402,
                    6.650196075439453,
                    -2.2124838829040527,
                    -1.4806232452392578,
                    5.764593124389648,
                    -6.49317741394043,
                    0.8740453124046326,
                    2.037576198577881,
                    4.6871466636657715,
                    1.4130855798721313,
                    7.27333402633667,
                    -8.334528923034668,
                    5.188479423522949,
                    -2.702353000640869,
                    -0.5695109367370605,
                    -5.129032611846924,
                    7.680044651031494,
                    -0.7127982974052429,
                    7.817995548248291,
                    -7.789689064025879,
                    5.362407684326172,
                    1.5078980922698975,
                    12.354047775268555,
                    6.089504241943359,
                    1.7772102355957031,
                    1.1504693031311035,
                    -2.044877529144287,
                    -6.041104793548584,
                    2.0506513118743896,
                    -9.836723327636719,
                    -6.568761348724365,
                    6.26823616027832,
                    1.024057388305664,
                    6.88700008392334,
                    -2.12433123588562,
                    0.2666623890399933,
                    -0.7260085344314575,
                    -6.315855026245117,
                    9.47238540649414,
                    7.569756507873535,
                    7.412372589111328,
                    8.19556999206543,
                    -3.5952279567718506,
                    -5.120621204376221,
                    4.88957405090332,
                    9.205179214477539,
                    9.661459922790527,
                    8.792882919311523,
                    -4.114387512207031,
                    -3.0604474544525146,
                    -0.7514848709106445,
                    7.098077774047852,
                    0.01388025563210249,
                    5.509250164031982,
                    6.135092735290527,
                    -7.809846878051758,
                    -4.69839334487915,
                    -3.50209379196167,
                    -1.2989156246185303,
                    8.874796867370605,
                    -2.1481573581695557,
                    6.2345099449157715,
                    -7.991888999938965,
                    -8.589479446411133,
                    4.778109073638916,
                    -1.24186372756958,
                    -2.423323631286621,
                    -1.908084750175476,
                    0.11076273024082184,
                    8.556558609008789,
                    5.2676262855529785,
                    -0.7946052551269531,
                    1.5077883005142212,
                    6.32974910736084,
                    0.48134753108024597,
                    -7.058313846588135,
                    4.937823295593262,
                    -3.9497361183166504,
                    -1.727616310119629,
                    -8.50532054901123,
                    -6.6977458000183105,
                    -3.942375421524048,
                    -3.703676700592041,
                    5.2385711669921875,
                    -10.14362907409668,
                    0.8648799657821655,
                    3.506171464920044,
                    9.694744110107422,
                    -6.623142242431641,
                    6.768583297729492,
                    2.1506290435791016,
                    -5.792076110839844,
                    -9.39438533782959,
                    2.1299450397491455,
                    -0.609587550163269,
                    -7.423047065734863,
                    0.9223852753639221,
                    -4.496387004852295,
                    -4.296853065490723,
                    2.510375738143921,
                    6.615060806274414,
                    -6.753542900085449,
                    -10.516373634338379,
                    5.257669925689697,
                    1.7192997932434082,
                    4.4699177742004395,
                    2.0657951831817627,
                    7.544574737548828,
                    -1.1644251346588135,
                    1.021710991859436,
                    7.002474308013916,
                    -9.217185974121094,
                    -3.6945207118988037,
                    6.877096652984619,
                    7.562411785125732,
                    2.611635684967041,
                    6.334691047668457,
                    -6.726220607757568,
                    -3.1974072456359863,
                    -9.226734161376953,
                    4.944974422454834,
                    7.454425811767578,
                    4.444852828979492,
                    7.949579238891602,
                    -1.5999575853347778,
                    -7.7233662605285645,
                    -4.958860397338867,
                    -7.142624855041504,
                    8.729658126831055,
                    -0.5233591198921204,
                    -4.26514196395874,
                    1.3073891401290894,
                    -3.876718759536743,
                    -5.122743129730225,
                    2.8176276683807373,
                    0.46015098690986633,
                    -2.45120906829834,
                    7.493191719055176,
                    4.200719833374023,
                    9.075504302978516,
                    8.869444847106934,
                    8.019148826599121,
                    -5.374105453491211,
                    9.731921195983887,
                    3.8561956882476807,
                    0.14509820938110352,
                    -0.6492719650268555,
                    4.012355327606201,
                    1.9045788049697876,
                    3.0028023719787598,
                    -4.513739585876465,
                    -2.1018450260162354,
                    2.2018752098083496,
                    6.316808223724365,
                    9.842631340026855,
                    4.631927967071533,
                    2.5013952255249023,
                    -5.517200946807861,
                    4.566761016845703,
                    -5.6774468421936035,
                    1.960754156112671,
                    -5.04130744934082,
                    10.529780387878418,
                    8.909090995788574,
                    -3.079918384552002,
                    -10.357039451599121,
                    -1.9766507148742676,
                    4.453771591186523,
                    5.936482906341553,
                    10.41140079498291,
                    5.64782190322876,
                    -6.782860279083252,
                    -4.711847305297852,
                    -5.611494064331055,
                    9.021169662475586,
                    7.944573402404785,
                    5.684256553649902,
                    -5.621237277984619,
                    8.06201457977295,
                    4.072044372558594,
                    -3.5627810955047607,
                    -2.2718164920806885,
                    -7.643033504486084,
                    -3.3552043437957764,
                    2.7858917713165283,
                    9.024203300476074,
                    -5.176880359649658,
                    -6.867867946624756,
                    7.972477436065674,
                    6.092314720153809,
                    -6.821051120758057,
                    1.228467345237732,
                    -5.4951491355896,
                    2.3479812145233154,
                    -1.0182850360870361,
                    -5.713273525238037,
                    -9.108064651489258,
                    -0.05139482766389847,
                    -5.037476539611816,
                    -6.877720832824707,
                    2.307882070541382,
                    -2.4563968181610107,
                    -0.8229070901870728,
                    9.750110626220703,
                    -4.673574924468994,
                    7.977372646331787,
                    -1.4774142503738403,
                    -2.0923855304718018,
                    1.0670607089996338,
                    6.778805255889893,
                    -3.625232458114624,
                    -0.17820467054843903,
                    -2.490614891052246,
                    8.110326766967773,
                    -6.0679121017456055,
                    6.371170997619629,
                    -1.742866039276123,
                    4.225540637969971,
                    -1.6387810707092285,
                    1.7582011222839355,
                    -5.555168628692627,
                    8.834013938903809,
                    -4.712251663208008,
                    -3.1005260944366455,
                    5.470023155212402,
                    6.822628021240234,
                    1.20337975025177,
                    9.121899604797363,
                    7.0209550857543945,
                    2.6660189628601074,
                    -4.55236291885376,
                    -0.3867669999599457,
                    7.726354598999023,
                    6.66141414642334,
                    9.415655136108398,
                    -3.899176597595215,
                    -7.3386430740356445,
                    2.909588098526001,
                    -7.939759254455566,
                    7.983768939971924,
                    -2.4226856231689453,
                    1.4680877923965454,
                    -2.6065597534179688,
                    -2.5988025665283203,
                    -3.347102165222168,
                    -5.930088520050049,
                    -7.33986759185791,
                    -3.5447752475738525,
                    -2.5676393508911133,
                    10.796943664550781,
                    -4.465237617492676,
                    1.7079083919525146,
                    -3.54045033454895,
                    5.403179168701172,
                    3.197187662124634,
                    -2.671813726425171,
                    -1.461467981338501,
                    -1.8773643970489502,
                    -2.6154606342315674,
                    0.5495705008506775,
                    5.4921698570251465,
                    -3.068164110183716,
                    -1.2749857902526855,
                    -6.843417644500732,
                    7.8351335525512695,
                    10.054540634155273,
                    -8.760638236999512,
                    -0.24215291440486908,
                    2.420214891433716,
                    -0.6986151933670044,
                    0.2961929440498352,
                    5.510691165924072,
                    9.780367851257324,
                    -5.038233757019043,
                    -4.951767444610596,
                    -7.1250834465026855,
                    -4.090648174285889,
                    -10.116097450256348,
                    3.268570899963379,
                    -2.9146432876586914,
                    6.270514488220215,
                    7.57351016998291,
                    1.2131942510604858,
                    6.879433631896973,
                    -8.443893432617188,
                    -5.963641166687012,
                    7.508735179901123,
                    -3.0975236892700195,
                    -9.062947273254395,
                    2.980257034301758,
                    -6.4840474128723145,
                    -2.3436574935913086,
                    12.164590835571289,
                    3.6757326126098633,
                    -3.4842655658721924,
                    9.0877685546875,
                    4.549069881439209,
                    7.047428607940674,
                    -6.485518932342529,
                    1.6591449975967407,
                    -4.869915008544922,
                    -2.9613990783691406,
                    0.6679474711418152,
                    3.2541167736053467,
                    0.18955719470977783,
                    -7.2568511962890625,
                    -0.48706111311912537,
                    2.0021300315856934,
                    5.237937927246094,
                    -5.549376010894775,
                    0.7568075060844421,
                    -7.8303375244140625,
                    4.905088424682617,
                    -9.208300590515137,
                    -9.743720054626465,
                    2.473320960998535,
                    -1.3926302194595337,
                    6.903045654296875,
                    2.1119353771209717,
                    9.210890769958496,
                    3.524033308029175,
                    -1.3333457708358765,
                    -1.3543487787246704,
                    -0.8708232641220093,
                    -2.376671552658081,
                    -4.2586588859558105,
                    -10.784577369689941,
                    4.176181316375732,
                    -7.96679162979126,
                    6.072718620300293,
                    8.895028114318848,
                    -0.33020979166030884,
                    -4.186040878295898,
                    -4.8002214431762695,
                    -2.95047664642334,
                    -5.037195205688477,
                    5.017553806304932,
                    6.406516075134277,
                    1.8797528743743896,
                    0.6273040175437927,
                    9.675602912902832,
                    6.6423563957214355,
                    -9.148216247558594,
                    9.793937683105469,
                    4.752939224243164,
                    3.7341110706329346,
                    -4.793350696563721,
                    1.6342740058898926,
                    0.7854546308517456,
                    -5.452198505401611,
                    -7.463201999664307,
                    -3.4665884971618652,
                    -8.486262321472168,
                    -7.441263198852539,
                    -0.10125229507684708,
                    -1.3535678386688232,
                    3.4968981742858887,
                    -2.3192496299743652,
                    5.112211227416992,
                    -6.020302772521973,
                    -10.225865364074707,
                    6.315546035766602,
                    5.041932106018066,
                    -6.822495937347412,
                    -3.8202264308929443,
                    -5.144881248474121,
                    1.4205228090286255,
                    -2.0157902240753174,
                    3.3153915405273438,
                    -1.7114274501800537,
                    -2.6359927654266357,
                    8.314346313476562,
                    1.1843291521072388,
                    2.8516671657562256,
                    1.894379734992981,
                    -1.125110387802124,
                    4.765924453735352,
                    -4.431602478027344,
                    -4.154296398162842,
                    2.709670066833496,
                    -6.636675834655762,
                    2.0314316749572754,
                    -1.7557991743087769,
                    -1.7670269012451172,
                    10.884420394897461,
                    0.9471994042396545,
                    -4.797565460205078,
                    -4.093652248382568,
                    -2.322603464126587,
                    -2.8068363666534424,
                    3.0784695148468018,
                    -1.8184459209442139,
                    1.6707128286361694,
                    -4.549384593963623,
                    2.7381224632263184,
                    2.6617934703826904,
                    -4.041629791259766,
                    -9.091650009155273,
                    -3.113966703414917,
                    -4.561149597167969,
                    1.5405861139297485,
                    -3.29858136177063,
                    0.9289001226425171,
                    7.122097969055176,
                    9.339113235473633,
                    2.5159525871276855,
                    -6.969915390014648,
                    9.685840606689453,
                    4.523421287536621,
                    -6.140965938568115,
                    0.12999671697616577,
                    4.075884819030762,
                    -7.654432773590088,
                    -6.787281513214111,
                    1.2742199897766113,
                    4.057846546173096,
                    -0.02116263471543789,
                    -3.986513376235962,
                    2.4733223915100098,
                    -8.592729568481445,
                    2.7999818325042725,
                    12.005048751831055,
                    9.513432502746582,
                    3.4159672260284424,
                    -0.5864530205726624,
                    -0.6330340504646301,
                    4.029686450958252,
                    -4.962882995605469,
                    4.04698371887207,
                    3.0763306617736816,
                    -2.634735107421875,
                    -4.6166181564331055,
                    3.4883882999420166,
                    -4.358962059020996,
                    6.671657562255859,
                    2.2989330291748047,
                    -3.762695789337158,
                    1.6666691303253174,
                    9.053462028503418,
                    1.7225733995437622,
                    6.585551738739014,
                    -2.3486714363098145,
                    -7.485990047454834,
                    -7.9043073654174805,
                    -9.159811973571777,
                    -9.813248634338379,
                    8.197158813476562,
                    -2.965074062347412,
                    -6.223874568939209,
                    -3.228152275085449,
                    1.0369287729263306,
                    -0.6014649271965027,
                    -5.429652214050293,
                    -2.327238082885742,
                    0.13839419186115265,
                    0.28456681966781616,
                    -4.4754180908203125,
                    2.684126377105713,
                    -0.772611141204834,
                    -3.6541130542755127,
                    -10.538732528686523,
                    1.9399086236953735,
                    -4.459012031555176,
                    -2.133840560913086,
                    8.164559364318848,
                    9.590317726135254,
                    -3.2787907123565674,
                    -4.961336612701416,
                    -3.2012314796447754,
                    -3.8321919441223145,
                    -11.943089485168457,
                    -4.973950386047363,
                    10.917491912841797,
                    -4.847402572631836,
                    3.6113200187683105,
                    8.468942642211914,
                    -5.846343040466309,
                    11.891324043273926,
                    -2.61200213432312,
                    -0.8950726985931396,
                    -6.659757614135742,
                    -8.2393217086792,
                    -3.1581900119781494,
                    9.288614273071289,
                    -8.586301803588867,
                    3.4295859336853027,
                    3.135197401046753,
                    5.882142066955566,
                    -1.6922235488891602,
                    -3.73348331451416,
                    -1.63712739944458,
                    -0.8878893256187439,
                    -6.48792839050293,
                    5.341562271118164,
                    -1.1853560209274292,
                    -0.2897089421749115,
                    -7.382855415344238,
                    -2.257673501968384,
                    -0.7271794080734253,
                    -3.954261302947998,
                    -2.6715824604034424,
                    -3.6167171001434326,
                    -6.669125080108643,
                    6.365964412689209,
                    -7.337738037109375,
                    0.21914167702198029,
                    6.837847709655762,
                    6.41432523727417,
                    -4.240749359130859,
                    1.386549949645996,
                    -0.31664711236953735,
                    -8.857588768005371,
                    5.776574611663818,
                    -6.7958149909973145,
                    -0.8217485547065735,
                    8.344764709472656,
                    8.653156280517578,
                    -0.29139071702957153,
                    4.681563377380371,
                    4.54437780380249,
                    -7.2725419998168945,
                    4.931940078735352,
                    -7.053327560424805,
                    1.3914750814437866,
                    -0.6441249251365662,
                    3.3992393016815186,
                    3.8912994861602783,
                    -0.9773018956184387,
                    4.659878730773926,
                    2.0981006622314453,
                    -1.7093634605407715,
                    0.8904471397399902,
                    -0.8023622632026672,
                    -2.103801727294922,
                    4.318830966949463,
                    7.221545696258545,
                    -4.326033592224121,
                    -2.409301996231079,
                    -6.801761150360107,
                    -0.43352556228637695,
                    -4.586719512939453,
                    1.0853002071380615,
                    1.2730567455291748,
                    -5.687093734741211,
                    -0.17387455701828003,
                    -7.563786029815674,
                    -0.6597283482551575,
                    5.865803241729736,
                    2.8570096492767334,
                    5.108450412750244,
                    -2.860004186630249,
                    -1.891308307647705,
                    5.359643936157227,
                    0.22748953104019165,
                    3.17929744720459,
                    6.598869800567627,
                    5.630369186401367,
                    -3.1915884017944336,
                    9.118647575378418,
                    2.1377182006835938,
                    5.907169818878174,
                    -5.414305686950684,
                    8.14781379699707,
                    -6.191282749176025,
                    -6.776676654815674,
                    -0.1770554631948471,
                    -5.374278545379639,
                    7.214818000793457,
                    -2.4888341426849365,
                    6.399782657623291,
                    -4.971144676208496,
                    -4.3889479637146,
                    -5.5600905418396,
                    -1.313490390777588,
                    -2.0693717002868652,
                    -0.8370099663734436,
                    4.922322750091553,
                    9.682125091552734,
                    5.6846137046813965,
                    -5.201029300689697,
                    1.0286792516708374,
                    -0.837666392326355,
                    -8.523948669433594,
                    4.913858890533447,
                    -3.144333600997925,
                    -10.390983581542969,
                    -6.089155673980713,
                    -3.389258861541748,
                    -2.84572696685791,
                    -8.990462303161621,
                    -5.816675662994385,
                    -0.859923243522644,
                    2.264129638671875,
                    -2.428495168685913,
                    1.9602746963500977,
                    -6.178439617156982,
                    6.0843281745910645,
                    5.739694595336914,
                    -4.176562786102295,
                    9.727985382080078,
                    -2.3066647052764893,
                    -4.214257717132568,
                    8.391461372375488,
                    -5.59563684463501,
                    -5.353561878204346,
                    1.4281882047653198,
                    -2.7879769802093506,
                    8.152347564697266,
                    10.917160034179688,
                    7.941970348358154,
                    -5.374859809875488,
                    0.680915117263794,
                    -7.71329402923584,
                    -3.436614513397217,
                    0.9091446399688721,
                    5.85825252532959,
                    -4.318758964538574,
                    9.45234203338623,
                    -7.988922595977783,
                    4.553950786590576,
                    1.1772761344909668,
                    -2.6832783222198486,
                    -4.233055591583252,
                    -0.7598724365234375,
                    3.516723394393921,
                    7.401182174682617,
                    -4.655541896820068,
                    0.7462676763534546,
                    9.448643684387207,
                    3.516134738922119,
                    -1.6665929555892944,
                    -1.4119292497634888,
                    -4.397305011749268,
                    -5.097580432891846,
                    -4.152608394622803,
                    -0.635536789894104,
                    -7.466717720031738,
                    -4.359588623046875,
                    -2.237241268157959,
                    -0.9978944659233093,
                    9.279439926147461,
                    0.48540085554122925,
                    -5.012997627258301,
                    -5.95078706741333,
                    -8.867499351501465,
                    -4.738701820373535,
                    -0.6695554256439209,
                    -7.444039821624756,
                    -2.362206220626831,
                    1.172513723373413,
                    8.765002250671387,
                    7.522200584411621,
                    5.784069061279297,
                    7.46364164352417,
                    0.02396741509437561,
                    4.739407062530518,
                    -4.829441547393799,
                    -3.935365915298462,
                    -5.0545549392700195,
                    -3.3473615646362305,
                    2.227010726928711,
                    -4.680095672607422,
                    1.2133057117462158,
                    9.598576545715332,
                    9.762133598327637,
                    5.315500259399414,
                    1.3837242126464844,
                    -6.424956798553467,
                    -6.909144878387451,
                    -1.858902931213379,
                    9.234302520751953,
                    -4.685511589050293,
                    -1.971339225769043,
                    -4.783463954925537,
                    -6.199830055236816,
                    5.372457027435303,
                    1.1012150049209595,
                    11.585043907165527,
                    -5.307985782623291,
                    2.6804981231689453,
                    -1.055220365524292,
                    7.23668909072876,
                    11.216619491577148,
                    -7.447610855102539,
                    3.315185308456421,
                    7.0978546142578125,
                    -6.107351303100586,
                    -4.7545671463012695,
                    -7.066188335418701,
                    4.444300651550293,
                    -5.018214225769043,
                    5.177970886230469,
                    -1.3888133764266968,
                    -5.9262213706970215,
                    -1.915740966796875,
                    -0.5567886233329773,
                    -4.817760467529297,
                    -1.6376574039459229,
                    -7.338591575622559,
                    -2.4791040420532227,
                    -0.027879634872078896,
                    6.871222496032715,
                    2.936903715133667,
                    0.08354935795068741,
                    2.60663104057312,
                    -4.833195686340332,
                    -7.375113487243652,
                    4.571565628051758,
                    10.397095680236816,
                    -2.7714760303497314,
                    -6.047391891479492,
                    -6.183749675750732,
                    -1.7768663167953491,
                    6.82952356338501,
                    8.992149353027344,
                    -3.4082045555114746,
                    -0.43736347556114197,
                    -0.07009851932525635,
                    8.008934020996094,
                    9.184280395507812,
                    0.0893443152308464,
                    -5.951902389526367,
                    1.1700291633605957,
                    -9.359088897705078,
                    -4.038482189178467,
                    2.5604515075683594,
                    -6.941091060638428,
                    0.7803220152854919,
                    7.061652660369873,
                    7.99644136428833,
                    -9.791739463806152,
                    3.445324182510376,
                    -4.108694553375244,
                    -6.625492095947266,
                    -3.9286482334136963,
                    -0.7033377885818481,
                    3.5393638610839844,
                    -9.834355354309082,
                    10.169973373413086,
                    -1.6397066116333008,
                    -2.347043037414551,
                    -2.0758960247039795,
                    -8.307307243347168,
                    -5.710982799530029,
                    -0.28064659237861633,
                    -3.4902119636535645,
                    -5.10496187210083,
                    -7.607813358306885,
                    -0.07531852275133133,
                    6.422990322113037,
                    1.2001744508743286,
                    -4.668807506561279,
                    -8.817322731018066
                  ],
                  "y": [
                    4.523738384246826,
                    -4.765291213989258,
                    -1.4888372421264648,
                    -10.637418746948242,
                    -7.023621082305908,
                    -6.026652812957764,
                    2.820970058441162,
                    -16.397640228271484,
                    0.24698103964328766,
                    10.01228141784668,
                    -16.620269775390625,
                    -5.485462665557861,
                    -11.301389694213867,
                    -8.90450382232666,
                    -6.358856201171875,
                    -11.396557807922363,
                    -11.337727546691895,
                    2.3113536834716797,
                    -0.05973031371831894,
                    -4.2637104988098145,
                    -5.258812427520752,
                    6.031121253967285,
                    -8.507698059082031,
                    0.19594810903072357,
                    -7.472349643707275,
                    3.6110241413116455,
                    -4.783936977386475,
                    -0.34608539938926697,
                    -14.466817855834961,
                    -16.84665298461914,
                    -1.2935668230056763,
                    -4.300088882446289,
                    2.0166337490081787,
                    -12.801124572753906,
                    4.179572105407715,
                    5.694068431854248,
                    -2.864151954650879,
                    -0.5587953925132751,
                    4.679855823516846,
                    -7.19245719909668,
                    8.361710548400879,
                    -11.426488876342773,
                    5.847574710845947,
                    -5.083860397338867,
                    -9.94049072265625,
                    -11.552838325500488,
                    -10.624967575073242,
                    0.27729231119155884,
                    -5.3083295822143555,
                    4.970279216766357,
                    -16.811674118041992,
                    1.3101911544799805,
                    5.284879207611084,
                    -11.592622756958008,
                    -7.502066612243652,
                    -2.9126858711242676,
                    -7.490698337554932,
                    0.755098283290863,
                    -12.586115837097168,
                    -4.282853603363037,
                    1.547527551651001,
                    3.5442850589752197,
                    -11.191370964050293,
                    -11.69257926940918,
                    8.134665489196777,
                    -10.415651321411133,
                    5.950355529785156,
                    1.953770399093628,
                    -5.770017147064209,
                    -9.47659969329834,
                    -15.102232933044434,
                    -13.46300983428955,
                    4.871478080749512,
                    -13.126595497131348,
                    14.985483169555664,
                    10.33127212524414,
                    -7.343478679656982,
                    -12.273883819580078,
                    18.182226181030273,
                    14.912282943725586,
                    14.362959861755371,
                    10.526415824890137,
                    -9.433943748474121,
                    3.1021595001220703,
                    -0.07900431007146835,
                    -5.141100883483887,
                    2.9144110679626465,
                    1.2279963493347168,
                    0.8487005233764648,
                    8.717754364013672,
                    8.28146743774414,
                    -14.863502502441406,
                    4.957709789276123,
                    2.993936777114868,
                    -1.9983432292938232,
                    -11.762582778930664,
                    8.949289321899414,
                    -3.023191452026367,
                    3.6570627689361572,
                    -8.19615364074707,
                    6.316404819488525,
                    4.739678382873535,
                    -3.145019292831421,
                    6.708471298217773,
                    -12.906049728393555,
                    10.344969749450684,
                    7.215496063232422,
                    -0.4719049632549286,
                    14.569365501403809,
                    -12.634881019592285,
                    10.936494827270508,
                    5.80891752243042,
                    -15.117825508117676,
                    12.204910278320312,
                    -5.064320087432861,
                    12.450397491455078,
                    -0.6391817331314087,
                    3.1655826568603516,
                    -11.377045631408691,
                    5.071312427520752,
                    13.12171459197998,
                    1.361190676689148,
                    -2.8755927085876465,
                    6.7396392822265625,
                    2.452887773513794,
                    -3.3489434719085693,
                    -1.5840805768966675,
                    -11.623720169067383,
                    -0.7301061749458313,
                    -3.0960798263549805,
                    2.871384620666504,
                    8.522688865661621,
                    -16.642940521240234,
                    1.1060422658920288,
                    4.133625030517578,
                    8.96720027923584,
                    -7.550032138824463,
                    -14.824296951293945,
                    -2.817568778991699,
                    -0.8488098978996277,
                    -13.999258995056152,
                    8.990297317504883,
                    6.426141262054443,
                    -8.382339477539062,
                    6.321200847625732,
                    12.210993766784668,
                    -13.546553611755371,
                    4.872097015380859,
                    -3.565805673599243,
                    1.779610276222229,
                    10.220671653747559,
                    12.48792552947998,
                    2.369192123413086,
                    7.292096138000488,
                    5.896098613739014,
                    8.399273872375488,
                    6.7265849113464355,
                    7.184528350830078,
                    18.316274642944336,
                    -10.427573204040527,
                    0.36217159032821655,
                    1.7131049633026123,
                    16.343982696533203,
                    18.049564361572266,
                    -10.384583473205566,
                    5.610611915588379,
                    -14.080682754516602,
                    -15.826459884643555,
                    -6.079666614532471,
                    4.065275192260742,
                    7.604523181915283,
                    -4.109508991241455,
                    -8.270895957946777,
                    -4.913949012756348,
                    -0.6958649158477783,
                    2.6374518871307373,
                    -7.955893516540527,
                    -4.3628034591674805,
                    -3.842190980911255,
                    -13.697478294372559,
                    -1.328415036201477,
                    -10.217004776000977,
                    -4.164937496185303,
                    -17.575374603271484,
                    -16.733762741088867,
                    0.6983874440193176,
                    -9.536227226257324,
                    2.8059585094451904,
                    12.440232276916504,
                    11.980713844299316,
                    5.042590618133545,
                    -7.555892467498779,
                    -15.847150802612305,
                    -4.208142280578613,
                    -1.8877983093261719,
                    1.2014724016189575,
                    -0.7029313445091248,
                    -3.436876058578491,
                    7.125469207763672,
                    1.5798766613006592,
                    3.0338215827941895,
                    0.3141346275806427,
                    -0.3649524748325348,
                    -9.62867259979248,
                    -3.236525535583496,
                    -4.178271293640137,
                    16.30426597595215,
                    2.8452608585357666,
                    -10.713662147521973,
                    -1.6953814029693604,
                    -0.14646795392036438,
                    -8.919697761535645,
                    -12.0350341796875,
                    11.527731895446777,
                    1.351131558418274,
                    0.22232554852962494,
                    -1.9968124628067017,
                    -12.19314193725586,
                    -12.958348274230957,
                    -1.7810436487197876,
                    -2.7039692401885986,
                    -0.6505603790283203,
                    -8.721569061279297,
                    15.885340690612793,
                    -0.6781452298164368,
                    15.333860397338867,
                    7.713313579559326,
                    12.49224853515625,
                    4.601659774780273,
                    -5.853876113891602,
                    1.0854073762893677,
                    5.052145957946777,
                    -13.825035095214844,
                    -14.439233779907227,
                    6.040339469909668,
                    -0.13159440457820892,
                    -2.599583387374878,
                    11.726304054260254,
                    -11.706737518310547,
                    -3.522822141647339,
                    2.4187886714935303,
                    -3.5730228424072266,
                    -5.188107967376709,
                    -0.025520386174321175,
                    -13.763010025024414,
                    2.497976779937744,
                    11.15322494506836,
                    17.70513343811035,
                    8.073915481567383,
                    -8.222553253173828,
                    5.8570075035095215,
                    -1.1557421684265137,
                    -12.900237083435059,
                    2.0835399627685547,
                    10.90153980255127,
                    1.5404542684555054,
                    6.548374652862549,
                    1.9640283584594727,
                    -6.527347564697266,
                    6.030202388763428,
                    -5.455545425415039,
                    3.4488649368286133,
                    -6.529750823974609,
                    -0.6690115332603455,
                    6.552001476287842,
                    -0.2838411331176758,
                    -15.999734878540039,
                    -1.4976351261138916,
                    14.483397483825684,
                    -3.052497386932373,
                    0.7641951441764832,
                    -2.421987771987915,
                    8.449679374694824,
                    -5.036244869232178,
                    -9.760025024414062,
                    4.914647102355957,
                    -11.150110244750977,
                    -7.467225074768066,
                    0.06032194569706917,
                    12.207281112670898,
                    7.143364906311035,
                    -5.376479148864746,
                    11.369625091552734,
                    9.200840950012207,
                    -5.181589126586914,
                    -1.8029576539993286,
                    4.917331695556641,
                    -1.0168341398239136,
                    0.77327960729599,
                    6.666443824768066,
                    9.491434097290039,
                    0.38786643743515015,
                    7.227268695831299,
                    -0.5744863748550415,
                    2.9882917404174805,
                    -14.125487327575684,
                    -12.397687911987305,
                    17.040817260742188,
                    1.6356618404388428,
                    6.595482349395752,
                    -5.693525791168213,
                    1.7684601545333862,
                    -14.21186637878418,
                    -14.177390098571777,
                    -10.349791526794434,
                    16.113222122192383,
                    -1.9908373355865479,
                    15.44637393951416,
                    7.679511070251465,
                    -17.19451904296875,
                    -16.773536682128906,
                    5.499217987060547,
                    -9.417486190795898,
                    -4.146278381347656,
                    -0.940994381904602,
                    5.583893299102783,
                    3.8869900703430176,
                    -0.05396195501089096,
                    16.521522521972656,
                    -1.0214741230010986,
                    -5.18681526184082,
                    9.81103229522705,
                    -13.795076370239258,
                    -2.401632785797119,
                    15.00748348236084,
                    6.93320894241333,
                    -15.150534629821777,
                    -16.33782958984375,
                    -8.1019287109375,
                    -11.032576560974121,
                    -1.576236605644226,
                    -10.709891319274902,
                    4.258631706237793,
                    9.572989463806152,
                    1.4495422840118408,
                    -7.487237453460693,
                    -2.5103399753570557,
                    8.90952205657959,
                    -9.965086936950684,
                    -8.977994918823242,
                    8.068499565124512,
                    12.729689598083496,
                    -11.448981285095215,
                    7.127066612243652,
                    -15.924787521362305,
                    -8.773787498474121,
                    0.8230792880058289,
                    6.112826347351074,
                    -11.690253257751465,
                    -11.201011657714844,
                    -0.7677271962165833,
                    8.815272331237793,
                    5.99543571472168,
                    -2.3011088371276855,
                    4.883681774139404,
                    12.547842025756836,
                    3.8609814643859863,
                    -0.5071530342102051,
                    -12.548750877380371,
                    5.825483322143555,
                    -4.39183235168457,
                    -1.851928472518921,
                    3.0520641803741455,
                    6.489057540893555,
                    -13.224781036376953,
                    16.374391555786133,
                    -13.987518310546875,
                    0.9685327410697937,
                    2.165065288543701,
                    -0.03247939795255661,
                    5.154124736785889,
                    2.1919851303100586,
                    -7.392022132873535,
                    -7.320234298706055,
                    -13.689379692077637,
                    6.902810096740723,
                    14.931415557861328,
                    -11.13478946685791,
                    -1.4508014917373657,
                    8.320055961608887,
                    -12.112873077392578,
                    0.6954840421676636,
                    13.77801513671875,
                    14.54806137084961,
                    -3.5187137126922607,
                    9.482657432556152,
                    7.449914455413818,
                    6.30509614944458,
                    0.6433799862861633,
                    6.522555828094482,
                    4.6000657081604,
                    9.134284973144531,
                    8.134770393371582,
                    12.433207511901855,
                    5.314251899719238,
                    -2.3974924087524414,
                    10.23792839050293,
                    -13.71793270111084,
                    6.208463191986084,
                    11.81233024597168,
                    4.677580833435059,
                    3.0471689701080322,
                    5.040444850921631,
                    -4.525602340698242,
                    -16.16705322265625,
                    -1.0218520164489746,
                    -4.7416605949401855,
                    1.5751270055770874,
                    -10.47486400604248,
                    -5.0506205558776855,
                    -1.3267680406570435,
                    9.418779373168945,
                    -14.146732330322266,
                    16.145261764526367,
                    1.0825034379959106,
                    5.4200615882873535,
                    2.0266520977020264,
                    -1.8706079721450806,
                    -16.26618003845215,
                    -8.899447441101074,
                    6.505022048950195,
                    0.556943416595459,
                    -0.34885358810424805,
                    -4.8843793869018555,
                    -6.492356777191162,
                    2.962695360183716,
                    1.3471020460128784,
                    -10.857418060302734,
                    5.649971961975098,
                    -7.595772743225098,
                    11.999429702758789,
                    1.567944884300232,
                    3.5356197357177734,
                    -11.812828063964844,
                    -14.186031341552734,
                    -0.2788858711719513,
                    6.782672882080078,
                    -7.814866542816162,
                    15.324532508850098,
                    -3.255098819732666,
                    10.718810081481934,
                    17.829084396362305,
                    -4.015343189239502,
                    -9.572237968444824,
                    1.1203798055648804,
                    -8.597161293029785,
                    -14.719952583312988,
                    6.066875457763672,
                    -7.664109230041504,
                    -11.961979866027832,
                    3.8894290924072266,
                    -7.44021463394165,
                    6.819552421569824,
                    16.095985412597656,
                    -14.76674747467041,
                    -1.567234754562378,
                    -0.05152628943324089,
                    -6.912837028503418,
                    17.76639747619629,
                    15.598773002624512,
                    -3.657454490661621,
                    -4.894839763641357,
                    4.601700782775879,
                    14.076436042785645,
                    -0.11103291809558868,
                    8.487698554992676,
                    14.15716552734375,
                    -15.6848726272583,
                    5.18571138381958,
                    -6.21049690246582,
                    13.611766815185547,
                    8.244636535644531,
                    3.6700692176818848,
                    10.32873821258545,
                    6.377140998840332,
                    -1.1557575464248657,
                    0.7775935530662537,
                    -9.3407621383667,
                    7.534463882446289,
                    -1.4600919485092163,
                    7.1270341873168945,
                    3.308349132537842,
                    -10.52096176147461,
                    -9.754907608032227,
                    0.04181966185569763,
                    -9.261353492736816,
                    -3.6625444889068604,
                    5.195156097412109,
                    8.142292022705078,
                    -3.683368444442749,
                    16.39008331298828,
                    -14.1821928024292,
                    -7.510668754577637,
                    -13.808028221130371,
                    -5.480389595031738,
                    -13.216010093688965,
                    -4.6369099617004395,
                    -11.633822441101074,
                    5.7102556228637695,
                    8.443520545959473,
                    -2.5625674724578857,
                    -0.2577049434185028,
                    7.211378574371338,
                    0.6544340252876282,
                    5.770094394683838,
                    -4.202576160430908,
                    17.516864776611328,
                    5.557348251342773,
                    4.6894917488098145,
                    -9.505668640136719,
                    -6.5556254386901855,
                    6.942901611328125,
                    -1.595502495765686,
                    -9.359609603881836,
                    17.373159408569336,
                    7.742941856384277,
                    6.750267028808594,
                    17.914794921875,
                    -0.7479479908943176,
                    -2.298372983932495,
                    4.766139984130859,
                    -10.558987617492676,
                    -7.779309272766113,
                    -8.492844581604004,
                    -12.38701057434082,
                    -1.6833133697509766,
                    13.685470581054688,
                    1.7019881010055542,
                    -0.47198686003685,
                    5.5888752937316895,
                    -2.98115873336792,
                    -12.988480567932129,
                    -12.046700477600098,
                    4.95559549331665,
                    -12.82163143157959,
                    -16.769304275512695,
                    -4.276303768157959,
                    -9.642560005187988,
                    8.627071380615234,
                    -3.183826208114624,
                    -2.2742044925689697,
                    -11.135812759399414,
                    -1.3430365324020386,
                    -3.995211601257324,
                    5.7008562088012695,
                    -14.98656940460205,
                    11.69275951385498,
                    -12.325828552246094,
                    -12.758796691894531,
                    11.154256820678711,
                    8.011199951171875,
                    10.24526309967041,
                    -5.997447490692139,
                    18.281068801879883,
                    5.10398530960083,
                    -3.5245754718780518,
                    -11.096333503723145,
                    15.191109657287598,
                    -16.102399826049805,
                    1.6503909826278687,
                    -9.36781120300293,
                    -13.380962371826172,
                    5.124070644378662,
                    -13.66102123260498,
                    5.241499900817871,
                    16.694284439086914,
                    5.328253746032715,
                    -0.0476769283413887,
                    -13.697112083435059,
                    -13.38719654083252,
                    5.581153392791748,
                    -13.464539527893066,
                    -15.508722305297852,
                    -11.207341194152832,
                    -5.191421985626221,
                    -16.100900650024414,
                    -1.6737561225891113,
                    0.8757607340812683,
                    8.519831657409668,
                    13.626364707946777,
                    6.1772847175598145,
                    15.019526481628418,
                    -6.868837833404541,
                    -1.3427655696868896,
                    7.732944965362549,
                    16.455625534057617,
                    5.561276912689209,
                    6.599137306213379,
                    -0.38376712799072266,
                    -13.724257469177246,
                    2.285215377807617,
                    7.471153259277344,
                    1.96260666847229,
                    -15.713473320007324,
                    -2.159695863723755,
                    6.34141206741333,
                    -14.440020561218262,
                    -12.541483879089355,
                    -9.631625175476074,
                    -9.137669563293457,
                    -13.183062553405762,
                    2.8198800086975098,
                    -9.114032745361328,
                    1.9549452066421509,
                    -10.804953575134277,
                    -2.777620553970337,
                    -16.42685317993164,
                    -10.746495246887207,
                    5.080025672912598,
                    -4.561190128326416,
                    -7.2062602043151855,
                    9.155689239501953,
                    4.968604564666748,
                    7.4272780418396,
                    13.07150650024414,
                    5.817868709564209,
                    0.5690438747406006,
                    0.6413002610206604,
                    3.471902847290039,
                    5.916555404663086,
                    2.394275665283203,
                    5.492404937744141,
                    6.421360969543457,
                    -0.5048214197158813,
                    -7.888455390930176,
                    -16.233556747436523,
                    0.3647024631500244,
                    -5.146230220794678,
                    1.318373203277588,
                    14.468050003051758,
                    3.9459900856018066,
                    -3.092979907989502,
                    17.16558265686035,
                    -9.968084335327148,
                    8.38266372680664,
                    8.581818580627441,
                    4.274487018585205,
                    2.386021614074707,
                    -14.45129680633545,
                    -2.1010379791259766,
                    -3.069584846496582,
                    -1.6257308721542358,
                    0.913747251033783,
                    8.927385330200195,
                    -10.181594848632812,
                    17.042842864990234,
                    -5.032301902770996,
                    10.959805488586426,
                    -8.875818252563477,
                    8.520633697509766,
                    7.699507236480713,
                    4.918341636657715,
                    0.14327166974544525,
                    -14.770116806030273,
                    3.0854244232177734,
                    -2.664477825164795,
                    -8.633832931518555,
                    9.1008939743042,
                    2.411271810531616,
                    -12.723779678344727,
                    -15.283666610717773,
                    4.675578594207764,
                    0.21350471675395966,
                    5.97715425491333,
                    -11.739079475402832,
                    -2.472745180130005,
                    -13.811297416687012,
                    0.7984824776649475,
                    -3.4404263496398926,
                    3.8561525344848633,
                    -1.3609720468521118,
                    12.086946487426758,
                    6.7463812828063965,
                    2.9472856521606445,
                    -9.569080352783203,
                    7.9452009201049805,
                    -3.193326473236084,
                    -13.96446418762207,
                    -12.40609359741211,
                    1.2478302717208862,
                    -6.17259407043457,
                    6.048579692840576,
                    8.576502799987793,
                    -8.221563339233398,
                    4.391651630401611,
                    3.7346324920654297,
                    12.546813011169434,
                    7.153733253479004,
                    -15.364277839660645,
                    -16.108163833618164,
                    -10.187128067016602,
                    -16.757915496826172,
                    -13.796893119812012,
                    -3.03779935836792,
                    -16.133411407470703,
                    -11.040177345275879,
                    7.06573486328125,
                    15.094457626342773,
                    18.259765625,
                    -8.713622093200684,
                    -0.19285517930984497,
                    8.991783142089844,
                    -8.889384269714355,
                    -14.491072654724121,
                    11.24852466583252,
                    -2.5185585021972656,
                    -15.683754920959473,
                    -7.541337013244629,
                    2.904003620147705,
                    -5.752320766448975,
                    -12.099910736083984,
                    7.248280048370361,
                    4.801174163818359,
                    3.416231393814087,
                    9.283578872680664,
                    -9.397523880004883,
                    -5.839818477630615,
                    -12.061149597167969,
                    9.269153594970703,
                    5.968174934387207,
                    -0.15881192684173584,
                    -2.471734046936035,
                    -4.507102966308594,
                    1.3758009672164917,
                    1.126238226890564,
                    1.9233722686767578,
                    -10.941852569580078,
                    -10.73194694519043,
                    -12.990339279174805,
                    -6.960143566131592,
                    -0.054049793630838394,
                    -7.401671886444092,
                    2.8540501594543457,
                    4.465338230133057,
                    -0.38009127974510193,
                    -14.741920471191406,
                    11.822111129760742,
                    16.312297821044922,
                    17.163896560668945,
                    -6.779426574707031,
                    1.1844066381454468,
                    9.53968334197998,
                    9.692464828491211,
                    -6.887449264526367,
                    6.085810661315918,
                    16.936742782592773,
                    13.939471244812012,
                    -14.403331756591797,
                    -6.207630634307861,
                    -15.075176239013672,
                    -4.325368881225586,
                    -6.6628031730651855,
                    -2.0755531787872314,
                    -1.8106229305267334,
                    7.5547099113464355,
                    -4.189098834991455,
                    14.713537216186523,
                    3.253783941268921,
                    -9.708866119384766,
                    5.614756107330322,
                    -17.215564727783203,
                    6.767960071563721,
                    7.612334251403809,
                    2.2009613513946533,
                    5.504231929779053,
                    0.6837322115898132,
                    -1.0019196271896362,
                    -7.469241619110107,
                    -0.06632712483406067,
                    -7.776920795440674,
                    14.3648099899292,
                    8.400611877441406,
                    1.1999588012695312,
                    0.8983978033065796,
                    6.7930006980896,
                    7.225444316864014,
                    1.342218041419983,
                    0.7377368211746216,
                    17.160873413085938,
                    7.479348182678223,
                    12.641718864440918,
                    -0.0047695692628622055,
                    -4.31107759475708,
                    10.379363059997559,
                    17.609899520874023,
                    -16.03809928894043,
                    4.535267353057861,
                    -10.160445213317871,
                    17.404491424560547,
                    14.91782283782959,
                    -16.791303634643555,
                    11.932635307312012,
                    -6.229197978973389,
                    16.12232780456543,
                    -1.4687681198120117,
                    -5.189946174621582,
                    7.880924701690674,
                    -7.233710765838623,
                    13.97863483428955,
                    5.081974506378174,
                    1.2894704341888428,
                    1.398456335067749,
                    -0.6663171648979187,
                    -4.30700159072876,
                    -3.63420033454895,
                    4.713618278503418,
                    7.380710601806641,
                    -3.4795496463775635,
                    -14.618635177612305,
                    4.813209533691406,
                    -7.707721710205078,
                    -7.424707412719727,
                    16.049814224243164,
                    6.134280204772949,
                    -4.848416805267334,
                    -7.630866527557373,
                    -2.277904987335205,
                    -16.011106491088867,
                    -7.412713527679443,
                    -12.993941307067871,
                    -13.80451488494873,
                    -4.428587436676025,
                    17.811880111694336,
                    -4.0159173011779785,
                    -1.0203677415847778,
                    7.941255569458008,
                    -14.569836616516113,
                    15.827506065368652,
                    8.659581184387207,
                    -12.502154350280762,
                    -3.406125545501709,
                    7.144331455230713,
                    -11.090484619140625,
                    -7.312459468841553,
                    -6.766514301300049,
                    -9.949151992797852,
                    -8.176606178283691,
                    -7.673464298248291,
                    -12.680107116699219,
                    6.29160737991333,
                    13.381585121154785,
                    6.537193775177002,
                    -13.021821022033691,
                    0.33375340700149536,
                    0.6676974892616272,
                    -11.672996520996094,
                    -4.556875228881836,
                    13.971233367919922,
                    11.04767894744873,
                    2.7294764518737793,
                    -11.099690437316895,
                    5.070712566375732,
                    6.820762634277344,
                    13.076423645019531,
                    0.17976225912570953,
                    -2.339604139328003,
                    -2.149402141571045,
                    -14.771858215332031,
                    15.9357271194458,
                    -6.289584636688232,
                    5.756885051727295,
                    14.573328971862793,
                    1.57142174243927,
                    13.642393112182617,
                    -2.088721513748169,
                    -14.751226425170898,
                    2.8055882453918457,
                    15.019491195678711,
                    -10.985757827758789,
                    8.754470825195312,
                    -13.013246536254883,
                    7.859864234924316,
                    2.772195339202881,
                    11.744342803955078,
                    -1.0439791679382324,
                    7.302765846252441,
                    5.2991414070129395,
                    -0.23960945010185242,
                    8.580769538879395,
                    -3.9108760356903076,
                    9.714089393615723,
                    17.15178871154785,
                    11.995803833007812,
                    -13.684847831726074,
                    -14.082724571228027,
                    -15.13873291015625,
                    7.634974002838135,
                    6.18518590927124,
                    6.554208755493164,
                    -6.363192558288574,
                    -8.313117980957031,
                    -16.929725646972656,
                    -7.025605201721191,
                    11.821961402893066,
                    -17.97235107421875,
                    10.507686614990234,
                    9.840858459472656,
                    2.878089189529419,
                    -0.20609846711158752,
                    0.962173581123352,
                    -0.7976517677307129,
                    3.3984813690185547,
                    7.664527416229248,
                    -16.131484985351562,
                    15.159213066101074,
                    -9.673291206359863,
                    -12.92018985748291,
                    -4.225104331970215,
                    -7.158134460449219,
                    16.172527313232422,
                    1.4904658794403076,
                    6.650312900543213,
                    4.940609455108643,
                    15.467571258544922,
                    -6.330620765686035,
                    -5.618969917297363,
                    8.0220365524292,
                    -2.959484577178955,
                    -14.514084815979004,
                    -15.433547973632812,
                    5.5466084480285645,
                    -16.732696533203125,
                    4.228490829467773,
                    12.219620704650879,
                    -3.0706002712249756,
                    10.03851318359375,
                    -2.5946316719055176,
                    7.797661304473877,
                    1.451391577720642,
                    -2.496248245239258,
                    -6.623194217681885,
                    6.4157609939575195,
                    3.0366806983947754,
                    -15.180466651916504,
                    -14.036646842956543,
                    -7.252266883850098,
                    8.84637451171875,
                    -3.3218891620635986,
                    -4.203351974487305,
                    -14.21529483795166,
                    -4.730743885040283,
                    2.7915878295898438,
                    17.514352798461914,
                    -12.010697364807129,
                    16.44387435913086,
                    -7.851914405822754,
                    16.42620277404785,
                    9.993707656860352,
                    -0.475033164024353,
                    -2.173421621322632,
                    7.661660194396973,
                    1.35651433467865,
                    -15.950630187988281,
                    -14.043458938598633,
                    2.3416619300842285,
                    1.9861412048339844,
                    -15.853026390075684,
                    -10.882570266723633,
                    -7.184964179992676,
                    0.5895717740058899,
                    -0.022303666919469833,
                    0.8096566200256348,
                    -4.089829444885254,
                    17.52092170715332,
                    8.676833152770996,
                    6.870181560516357,
                    -0.054643381386995316,
                    18.44563865661621,
                    -7.6607770919799805,
                    4.577356815338135,
                    -12.293109893798828,
                    14.480610847473145,
                    8.284246444702148,
                    -5.666088581085205,
                    12.905900955200195,
                    0.7348130345344543,
                    -0.8655719757080078,
                    -11.272159576416016,
                    2.5923173427581787,
                    -10.013700485229492,
                    -7.412699222564697,
                    6.374707221984863,
                    16.701988220214844,
                    1.5940338373184204,
                    -11.834781646728516,
                    3.1403017044067383,
                    0.15775059163570404,
                    -11.950477600097656,
                    -13.346571922302246,
                    -9.016508102416992,
                    -10.607095718383789,
                    16.129627227783203,
                    17.183008193969727,
                    -3.4585647583007812,
                    -9.049446105957031,
                    8.191950798034668,
                    5.462277412414551,
                    16.79637908935547,
                    -11.346142768859863,
                    -7.877557754516602
                  ],
                  "z": [
                    7.8272624015808105,
                    -8.579559326171875,
                    11.164323806762695,
                    -0.5625066161155701,
                    15.066797256469727,
                    -3.0736868381500244,
                    -10.566644668579102,
                    1.36430025100708,
                    4.118176460266113,
                    -0.1388525515794754,
                    -0.875027060508728,
                    11.802906036376953,
                    -5.300912380218506,
                    11.829744338989258,
                    7.261476039886475,
                    3.33731746673584,
                    -5.303356170654297,
                    -2.0280914306640625,
                    10.420607566833496,
                    10.319425582885742,
                    -3.495987892150879,
                    4.326882362365723,
                    11.715242385864258,
                    4.7251200675964355,
                    2.109245538711548,
                    1.656998634338379,
                    11.014666557312012,
                    0.8153350353240967,
                    9.438309669494629,
                    6.183987617492676,
                    2.1026833057403564,
                    -8.051141738891602,
                    4.413203239440918,
                    6.78704833984375,
                    -3.877913475036621,
                    2.769416332244873,
                    3.4959349632263184,
                    0.8209975957870483,
                    6.127334117889404,
                    -2.8201544284820557,
                    -11.140913963317871,
                    5.511961460113525,
                    -6.409380912780762,
                    1.8181829452514648,
                    6.588900089263916,
                    2.804258346557617,
                    6.510415077209473,
                    4.300163745880127,
                    11.58218765258789,
                    -9.522662162780762,
                    -2.5955498218536377,
                    9.62233829498291,
                    -2.5368518829345703,
                    2.8497138023376465,
                    -2.0701541900634766,
                    -8.805309295654297,
                    -3.8033876419067383,
                    -5.783653259277344,
                    6.297501564025879,
                    8.102811813354492,
                    -6.296827793121338,
                    -2.5126490592956543,
                    7.546377658843994,
                    5.03668737411499,
                    -7.316674709320068,
                    6.621835231781006,
                    -10.104052543640137,
                    -1.2885218858718872,
                    11.23533821105957,
                    0.1304137408733368,
                    8.113853454589844,
                    2.0704288482666016,
                    7.704654693603516,
                    -2.8332712650299072,
                    5.940013408660889,
                    5.407893180847168,
                    10.04960823059082,
                    4.643623352050781,
                    2.947718620300293,
                    1.8924143314361572,
                    2.5441322326660156,
                    4.336759090423584,
                    11.554922103881836,
                    -2.2840099334716797,
                    -8.548559188842773,
                    -4.656815052032471,
                    -8.021056175231934,
                    -10.726757049560547,
                    -2.808466672897339,
                    6.8698272705078125,
                    3.4625327587127686,
                    -1.3205689191818237,
                    -5.318154335021973,
                    -11.889606475830078,
                    -8.29638385772705,
                    7.991699695587158,
                    -3.089632034301758,
                    -3.880777597427368,
                    -0.12340477854013443,
                    10.106279373168945,
                    7.85408353805542,
                    -9.823892593383789,
                    -3.4556033611297607,
                    -3.697821855545044,
                    7.870172500610352,
                    -0.8878607749938965,
                    -3.3639838695526123,
                    -6.004199504852295,
                    4.973928928375244,
                    4.695497512817383,
                    7.056942939758301,
                    6.172463893890381,
                    -3.904630184173584,
                    5.128983974456787,
                    12.907418251037598,
                    4.712320327758789,
                    -13.044174194335938,
                    -12.147558212280273,
                    -1.7238813638687134,
                    -0.7301696538925171,
                    4.1900529861450195,
                    -1.4859851598739624,
                    -6.357694625854492,
                    -7.959230422973633,
                    0.7221962809562683,
                    -6.721020221710205,
                    -6.978939056396484,
                    0.2306690514087677,
                    -8.1742582321167,
                    -6.019443988800049,
                    -3.7412638664245605,
                    -3.259803295135498,
                    -1.6674426794052124,
                    -8.448868751525879,
                    -10.897297859191895,
                    6.941496849060059,
                    12.299415588378906,
                    -0.9213005900382996,
                    -6.299598693847656,
                    -2.4392497539520264,
                    -2.4439470767974854,
                    5.041657447814941,
                    -3.9879438877105713,
                    12.675209999084473,
                    -1.0646791458129883,
                    0.019167127087712288,
                    0.3704492747783661,
                    -9.664474487304688,
                    -7.339344024658203,
                    -2.191265344619751,
                    7.389367580413818,
                    5.483133316040039,
                    -0.3634682297706604,
                    -4.850671768188477,
                    5.628901481628418,
                    -3.001669406890869,
                    -8.73162841796875,
                    -9.685848236083984,
                    6.378648281097412,
                    -2.5044198036193848,
                    -12.413935661315918,
                    -5.853417873382568,
                    6.260387420654297,
                    1.5661553144454956,
                    -0.5466837882995605,
                    -10.572714805603027,
                    -2.411090135574341,
                    5.529466152191162,
                    8.61929988861084,
                    0.2636024057865143,
                    -3.9835469722747803,
                    -3.285299777984619,
                    0.6603915691375732,
                    12.305392265319824,
                    1.3491652011871338,
                    -10.243727684020996,
                    -1.0664607286453247,
                    11.51183032989502,
                    -7.674880504608154,
                    0.2747621536254883,
                    -0.9136470556259155,
                    1.9235080480575562,
                    -9.71158504486084,
                    5.177971839904785,
                    5.972667694091797,
                    -13.520798683166504,
                    4.74192476272583,
                    -4.373996257781982,
                    1.862035870552063,
                    4.795967102050781,
                    -9.786173820495605,
                    13.275415420532227,
                    -1.2607972621917725,
                    12.732540130615234,
                    -13.285526275634766,
                    -10.904911994934082,
                    -2.4438722133636475,
                    -6.097099304199219,
                    8.899834632873535,
                    0.725623369216919,
                    -1.5777690410614014,
                    -2.103445291519165,
                    -7.9264655113220215,
                    11.720852851867676,
                    11.685693740844727,
                    -8.274150848388672,
                    -0.14470672607421875,
                    -1.963165044784546,
                    1.0407663583755493,
                    -6.2706522941589355,
                    1.0005676746368408,
                    4.193570137023926,
                    6.136778831481934,
                    5.48855447769165,
                    -1.3353391885757446,
                    -2.9896035194396973,
                    -6.356876373291016,
                    4.031700134277344,
                    7.143710613250732,
                    -1.8641681671142578,
                    12.135369300842285,
                    -5.707406520843506,
                    11.265448570251465,
                    4.255143642425537,
                    -12.103570938110352,
                    -0.24338266253471375,
                    -6.621119499206543,
                    1.5837395191192627,
                    -11.491660118103027,
                    2.8066399097442627,
                    -10.629570960998535,
                    -5.543537616729736,
                    -0.4617006480693817,
                    -0.5695727467536926,
                    -2.336087465286255,
                    -5.504485607147217,
                    -4.548043727874756,
                    4.595477104187012,
                    0.5570089221000671,
                    11.718317985534668,
                    -1.9787007570266724,
                    -3.711230516433716,
                    9.767632484436035,
                    -9.994216918945312,
                    2.8343520164489746,
                    -9.886551856994629,
                    3.3906009197235107,
                    3.850741147994995,
                    -6.574375152587891,
                    11.956978797912598,
                    -4.955596446990967,
                    -0.7027110457420349,
                    2.0679996013641357,
                    -5.859963417053223,
                    -0.8524923324584961,
                    3.2710278034210205,
                    7.2795939445495605,
                    -11.714008331298828,
                    2.9537227153778076,
                    -0.6747288107872009,
                    11.017335891723633,
                    -5.463836193084717,
                    13.651285171508789,
                    -0.8423385620117188,
                    -3.6923515796661377,
                    -9.724010467529297,
                    -0.1467757523059845,
                    -12.265457153320312,
                    4.946575164794922,
                    -4.5186567306518555,
                    -5.209412574768066,
                    -10.024898529052734,
                    4.952579975128174,
                    10.578789710998535,
                    -1.4299582242965698,
                    -7.660188674926758,
                    6.580078125,
                    13.314529418945312,
                    -5.886597156524658,
                    1.8264325857162476,
                    -7.072325229644775,
                    10.382539749145508,
                    0.5117766261100769,
                    7.515278339385986,
                    12.150450706481934,
                    -6.795576095581055,
                    -3.5052671432495117,
                    -5.866038799285889,
                    -11.770750999450684,
                    9.493793487548828,
                    6.604039669036865,
                    -6.854916095733643,
                    -3.029167652130127,
                    -6.809138298034668,
                    -2.438523530960083,
                    -3.6346383094787598,
                    0.46783411502838135,
                    1.0270256996154785,
                    -2.1453826427459717,
                    7.345394134521484,
                    -5.0959014892578125,
                    -12.783483505249023,
                    5.950977802276611,
                    2.445197343826294,
                    1.6652699708938599,
                    6.96365213394165,
                    -4.0405097007751465,
                    6.396973133087158,
                    -10.442991256713867,
                    6.039385795593262,
                    5.44438362121582,
                    -10.411789894104004,
                    2.331244945526123,
                    11.442392349243164,
                    -3.6468708515167236,
                    6.44746732711792,
                    0.10822581499814987,
                    -10.01601791381836,
                    6.1419196128845215,
                    -8.596405982971191,
                    -4.9914727210998535,
                    3.1933977603912354,
                    1.1871505975723267,
                    -4.112912178039551,
                    2.5310189723968506,
                    4.33280611038208,
                    0.9737721085548401,
                    0.3637184202671051,
                    7.950675964355469,
                    0.6649238467216492,
                    -12.577499389648438,
                    4.852163791656494,
                    -6.976262092590332,
                    -1.8990402221679688,
                    -10.248262405395508,
                    9.706634521484375,
                    -6.232647895812988,
                    6.809573650360107,
                    4.610005855560303,
                    4.883702754974365,
                    6.238532066345215,
                    -0.7951092720031738,
                    -1.9810384511947632,
                    -5.719489097595215,
                    1.3046021461486816,
                    9.632136344909668,
                    -8.185433387756348,
                    -12.097900390625,
                    -0.4017070531845093,
                    4.527811050415039,
                    0.1268211156129837,
                    4.911491394042969,
                    -0.30307599902153015,
                    -9.724081993103027,
                    -3.5697293281555176,
                    -0.6538938879966736,
                    -3.3203256130218506,
                    -3.9801688194274902,
                    8.612058639526367,
                    3.3143372535705566,
                    -7.047667026519775,
                    -4.27678108215332,
                    0.7144160270690918,
                    -9.176824569702148,
                    0.2226448804140091,
                    5.99283504486084,
                    5.2025675773620605,
                    -14.019899368286133,
                    -11.680974006652832,
                    -6.170490741729736,
                    -6.174534797668457,
                    -2.092773675918579,
                    11.407776832580566,
                    6.625415802001953,
                    1.1891303062438965,
                    -6.762732028961182,
                    5.770456314086914,
                    1.2595363855361938,
                    -8.981802940368652,
                    4.2561750411987305,
                    -1.5378186702728271,
                    -1.8980426788330078,
                    6.055225372314453,
                    0.27150681614875793,
                    -6.831662178039551,
                    -3.5392329692840576,
                    -2.7663917541503906,
                    -2.2479844093322754,
                    0.5215427875518799,
                    7.025387763977051,
                    -6.53013277053833,
                    -2.475159168243408,
                    3.3443005084991455,
                    4.749497890472412,
                    -1.579689621925354,
                    -9.765250205993652,
                    -0.535181999206543,
                    2.996914863586426,
                    5.3872528076171875,
                    2.836820602416992,
                    -0.42681577801704407,
                    -5.288198471069336,
                    -10.29893684387207,
                    -8.825509071350098,
                    3.1365609169006348,
                    -12.195014953613281,
                    9.454174995422363,
                    -1.1910454034805298,
                    -3.8753440380096436,
                    -5.375329971313477,
                    -8.329002380371094,
                    5.088271141052246,
                    7.8543596267700195,
                    5.935776233673096,
                    -7.354272365570068,
                    -5.991080284118652,
                    -9.369739532470703,
                    -8.886606216430664,
                    -0.10420000553131104,
                    9.424545288085938,
                    6.940969944000244,
                    -3.054755449295044,
                    -5.816522121429443,
                    -6.343074798583984,
                    8.545795440673828,
                    -10.92223834991455,
                    -10.646102905273438,
                    1.208428978919983,
                    7.818144798278809,
                    9.71808910369873,
                    5.027488708496094,
                    -12.515581130981445,
                    -2.3688242435455322,
                    1.7111971378326416,
                    8.117671966552734,
                    -1.3137341737747192,
                    -2.1960103511810303,
                    11.020455360412598,
                    4.779690265655518,
                    11.360203742980957,
                    -0.3389674127101898,
                    2.703159809112549,
                    12.134116172790527,
                    10.326323509216309,
                    -3.355956554412842,
                    -0.6824942231178284,
                    6.148265838623047,
                    -6.727691650390625,
                    10.607532501220703,
                    1.958980679512024,
                    -5.458895206451416,
                    12.242292404174805,
                    -7.506100177764893,
                    6.565974712371826,
                    -2.798888683319092,
                    -7.358027935028076,
                    3.0836923122406006,
                    11.8503999710083,
                    3.5917553901672363,
                    1.0856742858886719,
                    -7.131969928741455,
                    10.969038963317871,
                    -6.733129501342773,
                    -0.6386803388595581,
                    2.8659138679504395,
                    3.636255979537964,
                    4.784729480743408,
                    5.895815849304199,
                    -10.623984336853027,
                    9.450236320495605,
                    3.452340841293335,
                    -1.8046406507492065,
                    -7.695287704467773,
                    4.308633327484131,
                    -6.398246765136719,
                    -13.274813652038574,
                    -10.31532096862793,
                    1.2828258275985718,
                    9.208341598510742,
                    -9.155555725097656,
                    -9.553065299987793,
                    -3.7178497314453125,
                    2.4774227142333984,
                    9.599388122558594,
                    -13.079207420349121,
                    10.667816162109375,
                    -2.277510643005371,
                    8.444253921508789,
                    7.240416049957275,
                    12.847618103027344,
                    4.327114105224609,
                    -3.265584945678711,
                    1.2478026151657104,
                    6.476902484893799,
                    9.714400291442871,
                    1.0247598886489868,
                    -5.917050838470459,
                    -3.1088523864746094,
                    -5.238393783569336,
                    8.181052207946777,
                    -6.499467372894287,
                    0.918580174446106,
                    3.9166221618652344,
                    -2.4165704250335693,
                    8.074763298034668,
                    12.413719177246094,
                    5.021866798400879,
                    -11.61404800415039,
                    8.52314567565918,
                    2.7062506675720215,
                    13.688085556030273,
                    -10.250956535339355,
                    -3.613642454147339,
                    4.656442642211914,
                    2.034501075744629,
                    -7.250823497772217,
                    -5.385022163391113,
                    4.298072814941406,
                    0.34486258029937744,
                    -4.279343605041504,
                    7.219988822937012,
                    10.311409950256348,
                    3.106513023376465,
                    7.6807966232299805,
                    7.611806869506836,
                    -13.279196739196777,
                    0.007387968245893717,
                    -12.850512504577637,
                    1.504655122756958,
                    5.726615905761719,
                    -3.4776039123535156,
                    4.917576789855957,
                    -3.3933751583099365,
                    -5.7425360679626465,
                    -3.2527315616607666,
                    4.914571762084961,
                    -10.151569366455078,
                    11.621313095092773,
                    9.989253997802734,
                    -4.851654052734375,
                    -2.1447746753692627,
                    -0.9134140014648438,
                    -8.080694198608398,
                    -6.974619388580322,
                    -12.201579093933105,
                    -3.6475906372070312,
                    -0.5379518270492554,
                    -0.2520860731601715,
                    1.434875726699829,
                    0.328559547662735,
                    -5.184274196624756,
                    6.867090702056885,
                    11.365571022033691,
                    6.411510467529297,
                    -7.066409587860107,
                    -2.0862913131713867,
                    -3.6801581382751465,
                    7.465980529785156,
                    0.4551931619644165,
                    3.239180088043213,
                    10.903491973876953,
                    7.4048051834106445,
                    -7.747357368469238,
                    -0.32925164699554443,
                    -2.6634957790374756,
                    1.100504994392395,
                    -8.74315071105957,
                    0.5985814929008484,
                    1.936257243156433,
                    -1.9492051601409912,
                    7.834771633148193,
                    -2.6595113277435303,
                    2.453294038772583,
                    4.911873817443848,
                    -8.142837524414062,
                    6.826074123382568,
                    -9.298112869262695,
                    -11.438356399536133,
                    7.247402667999268,
                    4.615816593170166,
                    6.851820945739746,
                    5.085701942443848,
                    7.134042739868164,
                    -9.417924880981445,
                    -10.39288330078125,
                    -0.29905667901039124,
                    5.769653797149658,
                    -5.344139099121094,
                    -13.393725395202637,
                    5.090468406677246,
                    -5.592650890350342,
                    -8.203274726867676,
                    3.688713788986206,
                    3.110450267791748,
                    -2.9078502655029297,
                    -3.75065279006958,
                    1.5491113662719727,
                    6.107627868652344,
                    1.3119025230407715,
                    10.345932006835938,
                    -1.8434597253799438,
                    -1.7363530397415161,
                    3.3519527912139893,
                    -11.657428741455078,
                    -0.2963263690471649,
                    -6.566895008087158,
                    0.8408251404762268,
                    6.766657829284668,
                    -1.351033329963684,
                    -4.611352443695068,
                    2.8890323638916016,
                    6.476253509521484,
                    8.149421691894531,
                    5.83418083190918,
                    -0.027914443984627724,
                    -8.210565567016602,
                    -0.2463190257549286,
                    -2.149204730987549,
                    0.29036450386047363,
                    5.71099328994751,
                    1.808374047279358,
                    -3.6036040782928467,
                    -4.502166271209717,
                    0.7227560877799988,
                    7.652920246124268,
                    4.873190402984619,
                    -12.594579696655273,
                    13.874842643737793,
                    -2.4804751873016357,
                    -0.3082064390182495,
                    -6.153078556060791,
                    -6.148624420166016,
                    5.7571187019348145,
                    10.880134582519531,
                    7.014339923858643,
                    9.74375057220459,
                    -6.481307029724121,
                    1.4672890901565552,
                    -2.6200952529907227,
                    -3.756883144378662,
                    11.60426139831543,
                    -6.4596099853515625,
                    -10.94457721710205,
                    4.708802223205566,
                    6.098087787628174,
                    5.526970386505127,
                    9.304699897766113,
                    6.393202781677246,
                    2.905776023864746,
                    3.8932483196258545,
                    -6.561984062194824,
                    -8.341541290283203,
                    -2.224045515060425,
                    -2.065993070602417,
                    -10.056665420532227,
                    -4.642805576324463,
                    10.798871040344238,
                    7.402166843414307,
                    -2.6984100341796875,
                    4.54512882232666,
                    6.22590446472168,
                    -3.450786590576172,
                    2.874917507171631,
                    7.566702365875244,
                    -0.4480418562889099,
                    -4.8550543785095215,
                    -1.3590794801712036,
                    -8.48686408996582,
                    -6.156515598297119,
                    -9.517632484436035,
                    -2.403242588043213,
                    -0.5645523071289062,
                    -5.645002841949463,
                    0.2227078378200531,
                    -1.744602918624878,
                    -5.777372360229492,
                    -6.7087483406066895,
                    -4.405734062194824,
                    0.7655807137489319,
                    -8.454500198364258,
                    8.308462142944336,
                    -6.884902477264404,
                    5.367103576660156,
                    0.39116528630256653,
                    -9.113382339477539,
                    -9.793049812316895,
                    -0.5887071490287781,
                    -11.68797492980957,
                    -1.2780612707138062,
                    5.524734020233154,
                    6.400548458099365,
                    4.694415092468262,
                    7.7287211418151855,
                    -1.3695483207702637,
                    -2.9486913681030273,
                    -3.788327693939209,
                    3.7478113174438477,
                    -0.29432377219200134,
                    4.979579925537109,
                    4.902421951293945,
                    -1.0531103610992432,
                    -4.817681789398193,
                    11.826326370239258,
                    9.472688674926758,
                    2.226565361022949,
                    -8.900182723999023,
                    -0.20151294767856598,
                    4.951284885406494,
                    2.4104607105255127,
                    2.0279200077056885,
                    6.691725730895996,
                    -8.893935203552246,
                    0.1803271323442459,
                    1.4182803630828857,
                    -1.842575192451477,
                    -3.267256736755371,
                    -3.189648151397705,
                    2.190500259399414,
                    -1.862005591392517,
                    -3.930518865585327,
                    10.474623680114746,
                    -13.407386779785156,
                    -1.6321719884872437,
                    9.57784652709961,
                    -0.3296738564968109,
                    4.408285617828369,
                    2.033507823944092,
                    -4.340597629547119,
                    1.0966782569885254,
                    -2.421196222305298,
                    0.5881924629211426,
                    10.655448913574219,
                    0.4521748125553131,
                    0.058652326464653015,
                    3.391296863555908,
                    -1.953125,
                    5.325053691864014,
                    2.648211717605591,
                    1.9295955896377563,
                    4.087445259094238,
                    -1.9358618259429932,
                    6.238370418548584,
                    6.709752559661865,
                    1.5167276859283447,
                    5.205411434173584,
                    1.3227530717849731,
                    2.9778623580932617,
                    -3.8416671752929688,
                    11.91645622253418,
                    6.79671573638916,
                    -7.814393520355225,
                    11.459307670593262,
                    -8.719669342041016,
                    -13.311057090759277,
                    -7.91525936126709,
                    11.90111255645752,
                    1.7150264978408813,
                    -5.434741497039795,
                    4.9950995445251465,
                    -11.832744598388672,
                    5.859630107879639,
                    -5.708205699920654,
                    -5.229259490966797,
                    -9.162982940673828,
                    6.764620780944824,
                    -13.497493743896484,
                    -12.289732933044434,
                    12.691974639892578,
                    -10.000375747680664,
                    13.805218696594238,
                    1.9793106317520142,
                    9.028228759765625,
                    2.405653476715088,
                    -10.460306167602539,
                    4.630405902862549,
                    -8.987598419189453,
                    -2.3214759826660156,
                    -0.46349698305130005,
                    5.935855865478516,
                    5.7650909423828125,
                    5.47069787979126,
                    -12.81083869934082,
                    -3.645594358444214,
                    7.067445278167725,
                    3.09582257270813,
                    6.686067581176758,
                    -6.371099948883057,
                    -1.859830379486084,
                    1.2637983560562134,
                    -1.1898332834243774,
                    2.8426315784454346,
                    3.6897220611572266,
                    2.9915010929107666,
                    7.268435955047607,
                    -13.5803861618042,
                    -9.160914421081543,
                    -6.535153865814209,
                    10.926898002624512,
                    4.998983383178711,
                    -9.46937370300293,
                    -3.4874844551086426,
                    -1.2426493167877197,
                    0.930952250957489,
                    -8.43725299835205,
                    12.184510231018066,
                    -10.451498985290527,
                    -7.38618278503418,
                    -2.557116746902466,
                    -2.502344846725464,
                    -5.2387895584106445,
                    10.900735855102539,
                    0.5669044256210327,
                    6.596587657928467,
                    6.23305082321167,
                    -3.936450481414795,
                    10.404214859008789,
                    -3.8636019229888916,
                    4.309311866760254,
                    -0.9232909083366394,
                    -0.21718375384807587,
                    -0.3827795684337616,
                    11.210138320922852,
                    1.0351625680923462,
                    -4.165802478790283,
                    -3.1666829586029053,
                    -2.203183174133301,
                    -2.446357250213623,
                    2.088061571121216,
                    3.446139097213745,
                    5.650930881500244,
                    -1.98094642162323,
                    3.6882309913635254,
                    7.203638076782227,
                    1.4190008640289307,
                    12.344036102294922,
                    -0.3841803967952728,
                    11.251115798950195,
                    13.647985458374023,
                    -0.5255946516990662,
                    -6.505961894989014,
                    4.9417290687561035,
                    -3.515623092651367,
                    -0.20502030849456787,
                    -6.276612281799316,
                    -10.845757484436035,
                    -3.341541290283203,
                    -4.237405776977539,
                    4.6869282722473145,
                    6.896918296813965,
                    0.6913719177246094,
                    -3.487643241882324,
                    8.457404136657715,
                    -5.769898414611816,
                    4.545130729675293,
                    1.0557438135147095,
                    -4.285192489624023,
                    0.6835771799087524,
                    -4.086286544799805,
                    0.8594260215759277,
                    2.7899158000946045,
                    6.4308881759643555,
                    0.9481117129325867,
                    3.578946590423584,
                    2.7199010848999023,
                    -3.964378833770752,
                    -0.8479118347167969,
                    -12.80151081085205,
                    -0.7248217463493347,
                    -0.5589761137962341,
                    5.719200611114502,
                    1.8974348306655884,
                    -5.357689380645752,
                    -8.209193229675293,
                    6.5440449714660645,
                    -9.826471328735352,
                    -5.075721263885498,
                    -2.0059127807617188,
                    -3.2417852878570557,
                    8.086372375488281,
                    10.417661666870117,
                    5.858705520629883,
                    5.326225280761719,
                    -0.48171523213386536,
                    2.656284809112549,
                    2.9632790088653564,
                    -3.6120073795318604,
                    5.520888805389404,
                    -2.7301719188690186,
                    7.541064262390137,
                    2.0796408653259277,
                    11.454263687133789,
                    5.924169540405273,
                    8.232763290405273,
                    0.5011025071144104,
                    5.721414566040039,
                    4.516162395477295,
                    6.340919494628906,
                    -10.723028182983398,
                    1.8155852556228638,
                    0.3125711679458618,
                    -5.207104682922363,
                    -5.394755840301514,
                    -7.814862251281738,
                    4.880369663238525,
                    2.7402842044830322,
                    12.104419708251953,
                    0.676098644733429,
                    -7.359749794006348,
                    7.808943271636963,
                    4.576762676239014,
                    -6.251716613769531,
                    -4.953674793243408,
                    -5.215122222900391,
                    5.991888999938965,
                    3.2671546936035156,
                    14.005450248718262,
                    8.964933395385742,
                    -6.2138991355896,
                    -3.858863353729248,
                    -2.4868266582489014,
                    8.009921073913574,
                    -1.418595552444458,
                    -0.4087888300418854,
                    3.018942356109619,
                    -4.304629802703857,
                    7.043121337890625,
                    -10.155917167663574,
                    8.615550994873047,
                    -2.048304557800293,
                    -4.509847164154053,
                    14.413597106933594,
                    -5.607086658477783,
                    -7.457360744476318,
                    5.703289031982422,
                    2.3553097248077393,
                    9.391286849975586,
                    -3.0782828330993652,
                    10.262823104858398,
                    -7.472655773162842,
                    -0.7420485019683838,
                    8.714457511901855,
                    -4.080242156982422,
                    2.3971402645111084,
                    -3.864262819290161,
                    5.601031303405762,
                    4.4564738273620605,
                    4.038558006286621,
                    2.4681732654571533,
                    -5.755484104156494,
                    -11.01759147644043,
                    9.41817569732666,
                    -1.2572070360183716,
                    4.02006196975708,
                    0.3887293040752411,
                    -2.5211739540100098,
                    -9.285505294799805,
                    -2.9434585571289062,
                    4.218234062194824,
                    1.2446469068527222,
                    -2.266094923019409,
                    -13.619375228881836,
                    -2.972627878189087,
                    11.219118118286133,
                    4.192825794219971,
                    7.270090579986572,
                    -10.659651756286621,
                    -6.503023624420166,
                    6.752505302429199,
                    3.912862777709961,
                    -6.5425286293029785,
                    6.433991432189941,
                    5.080914497375488,
                    5.9676642417907715,
                    13.629500389099121,
                    1.9895931482315063,
                    -10.592962265014648,
                    -9.558389663696289,
                    5.668670654296875,
                    0.48831990361213684,
                    -1.9743304252624512,
                    3.3295950889587402,
                    7.872097969055176,
                    0.33788275718688965,
                    -12.922066688537598,
                    5.0685200691223145,
                    -5.503571033477783,
                    -3.086099863052368,
                    0.3352668285369873,
                    -2.243438243865967,
                    11.170514106750488,
                    -1.504224181175232,
                    7.1496052742004395,
                    5.234710693359375,
                    10.205537796020508,
                    3.5335493087768555,
                    8.252150535583496,
                    -1.7645272016525269,
                    1.2911477088928223,
                    1.0666310787200928,
                    10.914955139160156
                  ],
                  "type": "scatter3d"
                }
              ],
              "layout": {
                "template": {
                  "data": {
                    "bar": [
                      {
                        "error_x": {
                          "color": "#2a3f5f"
                        },
                        "error_y": {
                          "color": "#2a3f5f"
                        },
                        "marker": {
                          "line": {
                            "color": "#E5ECF6",
                            "width": 0.5
                          },
                          "pattern": {
                            "fillmode": "overlay",
                            "size": 10,
                            "solidity": 0.2
                          }
                        },
                        "type": "bar"
                      }
                    ],
                    "barpolar": [
                      {
                        "marker": {
                          "line": {
                            "color": "#E5ECF6",
                            "width": 0.5
                          },
                          "pattern": {
                            "fillmode": "overlay",
                            "size": 10,
                            "solidity": 0.2
                          }
                        },
                        "type": "barpolar"
                      }
                    ],
                    "carpet": [
                      {
                        "aaxis": {
                          "endlinecolor": "#2a3f5f",
                          "gridcolor": "white",
                          "linecolor": "white",
                          "minorgridcolor": "white",
                          "startlinecolor": "#2a3f5f"
                        },
                        "baxis": {
                          "endlinecolor": "#2a3f5f",
                          "gridcolor": "white",
                          "linecolor": "white",
                          "minorgridcolor": "white",
                          "startlinecolor": "#2a3f5f"
                        },
                        "type": "carpet"
                      }
                    ],
                    "choropleth": [
                      {
                        "colorbar": {
                          "outlinewidth": 0,
                          "ticks": ""
                        },
                        "type": "choropleth"
                      }
                    ],
                    "contour": [
                      {
                        "colorbar": {
                          "outlinewidth": 0,
                          "ticks": ""
                        },
                        "colorscale": [
                          [
                            0,
                            "#0d0887"
                          ],
                          [
                            0.1111111111111111,
                            "#46039f"
                          ],
                          [
                            0.2222222222222222,
                            "#7201a8"
                          ],
                          [
                            0.3333333333333333,
                            "#9c179e"
                          ],
                          [
                            0.4444444444444444,
                            "#bd3786"
                          ],
                          [
                            0.5555555555555556,
                            "#d8576b"
                          ],
                          [
                            0.6666666666666666,
                            "#ed7953"
                          ],
                          [
                            0.7777777777777778,
                            "#fb9f3a"
                          ],
                          [
                            0.8888888888888888,
                            "#fdca26"
                          ],
                          [
                            1,
                            "#f0f921"
                          ]
                        ],
                        "type": "contour"
                      }
                    ],
                    "contourcarpet": [
                      {
                        "colorbar": {
                          "outlinewidth": 0,
                          "ticks": ""
                        },
                        "type": "contourcarpet"
                      }
                    ],
                    "heatmap": [
                      {
                        "colorbar": {
                          "outlinewidth": 0,
                          "ticks": ""
                        },
                        "colorscale": [
                          [
                            0,
                            "#0d0887"
                          ],
                          [
                            0.1111111111111111,
                            "#46039f"
                          ],
                          [
                            0.2222222222222222,
                            "#7201a8"
                          ],
                          [
                            0.3333333333333333,
                            "#9c179e"
                          ],
                          [
                            0.4444444444444444,
                            "#bd3786"
                          ],
                          [
                            0.5555555555555556,
                            "#d8576b"
                          ],
                          [
                            0.6666666666666666,
                            "#ed7953"
                          ],
                          [
                            0.7777777777777778,
                            "#fb9f3a"
                          ],
                          [
                            0.8888888888888888,
                            "#fdca26"
                          ],
                          [
                            1,
                            "#f0f921"
                          ]
                        ],
                        "type": "heatmap"
                      }
                    ],
                    "heatmapgl": [
                      {
                        "colorbar": {
                          "outlinewidth": 0,
                          "ticks": ""
                        },
                        "colorscale": [
                          [
                            0,
                            "#0d0887"
                          ],
                          [
                            0.1111111111111111,
                            "#46039f"
                          ],
                          [
                            0.2222222222222222,
                            "#7201a8"
                          ],
                          [
                            0.3333333333333333,
                            "#9c179e"
                          ],
                          [
                            0.4444444444444444,
                            "#bd3786"
                          ],
                          [
                            0.5555555555555556,
                            "#d8576b"
                          ],
                          [
                            0.6666666666666666,
                            "#ed7953"
                          ],
                          [
                            0.7777777777777778,
                            "#fb9f3a"
                          ],
                          [
                            0.8888888888888888,
                            "#fdca26"
                          ],
                          [
                            1,
                            "#f0f921"
                          ]
                        ],
                        "type": "heatmapgl"
                      }
                    ],
                    "histogram": [
                      {
                        "marker": {
                          "pattern": {
                            "fillmode": "overlay",
                            "size": 10,
                            "solidity": 0.2
                          }
                        },
                        "type": "histogram"
                      }
                    ],
                    "histogram2d": [
                      {
                        "colorbar": {
                          "outlinewidth": 0,
                          "ticks": ""
                        },
                        "colorscale": [
                          [
                            0,
                            "#0d0887"
                          ],
                          [
                            0.1111111111111111,
                            "#46039f"
                          ],
                          [
                            0.2222222222222222,
                            "#7201a8"
                          ],
                          [
                            0.3333333333333333,
                            "#9c179e"
                          ],
                          [
                            0.4444444444444444,
                            "#bd3786"
                          ],
                          [
                            0.5555555555555556,
                            "#d8576b"
                          ],
                          [
                            0.6666666666666666,
                            "#ed7953"
                          ],
                          [
                            0.7777777777777778,
                            "#fb9f3a"
                          ],
                          [
                            0.8888888888888888,
                            "#fdca26"
                          ],
                          [
                            1,
                            "#f0f921"
                          ]
                        ],
                        "type": "histogram2d"
                      }
                    ],
                    "histogram2dcontour": [
                      {
                        "colorbar": {
                          "outlinewidth": 0,
                          "ticks": ""
                        },
                        "colorscale": [
                          [
                            0,
                            "#0d0887"
                          ],
                          [
                            0.1111111111111111,
                            "#46039f"
                          ],
                          [
                            0.2222222222222222,
                            "#7201a8"
                          ],
                          [
                            0.3333333333333333,
                            "#9c179e"
                          ],
                          [
                            0.4444444444444444,
                            "#bd3786"
                          ],
                          [
                            0.5555555555555556,
                            "#d8576b"
                          ],
                          [
                            0.6666666666666666,
                            "#ed7953"
                          ],
                          [
                            0.7777777777777778,
                            "#fb9f3a"
                          ],
                          [
                            0.8888888888888888,
                            "#fdca26"
                          ],
                          [
                            1,
                            "#f0f921"
                          ]
                        ],
                        "type": "histogram2dcontour"
                      }
                    ],
                    "mesh3d": [
                      {
                        "colorbar": {
                          "outlinewidth": 0,
                          "ticks": ""
                        },
                        "type": "mesh3d"
                      }
                    ],
                    "parcoords": [
                      {
                        "line": {
                          "colorbar": {
                            "outlinewidth": 0,
                            "ticks": ""
                          }
                        },
                        "type": "parcoords"
                      }
                    ],
                    "pie": [
                      {
                        "automargin": true,
                        "type": "pie"
                      }
                    ],
                    "scatter": [
                      {
                        "marker": {
                          "colorbar": {
                            "outlinewidth": 0,
                            "ticks": ""
                          }
                        },
                        "type": "scatter"
                      }
                    ],
                    "scatter3d": [
                      {
                        "line": {
                          "colorbar": {
                            "outlinewidth": 0,
                            "ticks": ""
                          }
                        },
                        "marker": {
                          "colorbar": {
                            "outlinewidth": 0,
                            "ticks": ""
                          }
                        },
                        "type": "scatter3d"
                      }
                    ],
                    "scattercarpet": [
                      {
                        "marker": {
                          "colorbar": {
                            "outlinewidth": 0,
                            "ticks": ""
                          }
                        },
                        "type": "scattercarpet"
                      }
                    ],
                    "scattergeo": [
                      {
                        "marker": {
                          "colorbar": {
                            "outlinewidth": 0,
                            "ticks": ""
                          }
                        },
                        "type": "scattergeo"
                      }
                    ],
                    "scattergl": [
                      {
                        "marker": {
                          "colorbar": {
                            "outlinewidth": 0,
                            "ticks": ""
                          }
                        },
                        "type": "scattergl"
                      }
                    ],
                    "scattermapbox": [
                      {
                        "marker": {
                          "colorbar": {
                            "outlinewidth": 0,
                            "ticks": ""
                          }
                        },
                        "type": "scattermapbox"
                      }
                    ],
                    "scatterpolar": [
                      {
                        "marker": {
                          "colorbar": {
                            "outlinewidth": 0,
                            "ticks": ""
                          }
                        },
                        "type": "scatterpolar"
                      }
                    ],
                    "scatterpolargl": [
                      {
                        "marker": {
                          "colorbar": {
                            "outlinewidth": 0,
                            "ticks": ""
                          }
                        },
                        "type": "scatterpolargl"
                      }
                    ],
                    "scatterternary": [
                      {
                        "marker": {
                          "colorbar": {
                            "outlinewidth": 0,
                            "ticks": ""
                          }
                        },
                        "type": "scatterternary"
                      }
                    ],
                    "surface": [
                      {
                        "colorbar": {
                          "outlinewidth": 0,
                          "ticks": ""
                        },
                        "colorscale": [
                          [
                            0,
                            "#0d0887"
                          ],
                          [
                            0.1111111111111111,
                            "#46039f"
                          ],
                          [
                            0.2222222222222222,
                            "#7201a8"
                          ],
                          [
                            0.3333333333333333,
                            "#9c179e"
                          ],
                          [
                            0.4444444444444444,
                            "#bd3786"
                          ],
                          [
                            0.5555555555555556,
                            "#d8576b"
                          ],
                          [
                            0.6666666666666666,
                            "#ed7953"
                          ],
                          [
                            0.7777777777777778,
                            "#fb9f3a"
                          ],
                          [
                            0.8888888888888888,
                            "#fdca26"
                          ],
                          [
                            1,
                            "#f0f921"
                          ]
                        ],
                        "type": "surface"
                      }
                    ],
                    "table": [
                      {
                        "cells": {
                          "fill": {
                            "color": "#EBF0F8"
                          },
                          "line": {
                            "color": "white"
                          }
                        },
                        "header": {
                          "fill": {
                            "color": "#C8D4E3"
                          },
                          "line": {
                            "color": "white"
                          }
                        },
                        "type": "table"
                      }
                    ]
                  },
                  "layout": {
                    "annotationdefaults": {
                      "arrowcolor": "#2a3f5f",
                      "arrowhead": 0,
                      "arrowwidth": 1
                    },
                    "autotypenumbers": "strict",
                    "coloraxis": {
                      "colorbar": {
                        "outlinewidth": 0,
                        "ticks": ""
                      }
                    },
                    "colorscale": {
                      "diverging": [
                        [
                          0,
                          "#8e0152"
                        ],
                        [
                          0.1,
                          "#c51b7d"
                        ],
                        [
                          0.2,
                          "#de77ae"
                        ],
                        [
                          0.3,
                          "#f1b6da"
                        ],
                        [
                          0.4,
                          "#fde0ef"
                        ],
                        [
                          0.5,
                          "#f7f7f7"
                        ],
                        [
                          0.6,
                          "#e6f5d0"
                        ],
                        [
                          0.7,
                          "#b8e186"
                        ],
                        [
                          0.8,
                          "#7fbc41"
                        ],
                        [
                          0.9,
                          "#4d9221"
                        ],
                        [
                          1,
                          "#276419"
                        ]
                      ],
                      "sequential": [
                        [
                          0,
                          "#0d0887"
                        ],
                        [
                          0.1111111111111111,
                          "#46039f"
                        ],
                        [
                          0.2222222222222222,
                          "#7201a8"
                        ],
                        [
                          0.3333333333333333,
                          "#9c179e"
                        ],
                        [
                          0.4444444444444444,
                          "#bd3786"
                        ],
                        [
                          0.5555555555555556,
                          "#d8576b"
                        ],
                        [
                          0.6666666666666666,
                          "#ed7953"
                        ],
                        [
                          0.7777777777777778,
                          "#fb9f3a"
                        ],
                        [
                          0.8888888888888888,
                          "#fdca26"
                        ],
                        [
                          1,
                          "#f0f921"
                        ]
                      ],
                      "sequentialminus": [
                        [
                          0,
                          "#0d0887"
                        ],
                        [
                          0.1111111111111111,
                          "#46039f"
                        ],
                        [
                          0.2222222222222222,
                          "#7201a8"
                        ],
                        [
                          0.3333333333333333,
                          "#9c179e"
                        ],
                        [
                          0.4444444444444444,
                          "#bd3786"
                        ],
                        [
                          0.5555555555555556,
                          "#d8576b"
                        ],
                        [
                          0.6666666666666666,
                          "#ed7953"
                        ],
                        [
                          0.7777777777777778,
                          "#fb9f3a"
                        ],
                        [
                          0.8888888888888888,
                          "#fdca26"
                        ],
                        [
                          1,
                          "#f0f921"
                        ]
                      ]
                    },
                    "colorway": [
                      "#636efa",
                      "#EF553B",
                      "#00cc96",
                      "#ab63fa",
                      "#FFA15A",
                      "#19d3f3",
                      "#FF6692",
                      "#B6E880",
                      "#FF97FF",
                      "#FECB52"
                    ],
                    "font": {
                      "color": "#2a3f5f"
                    },
                    "geo": {
                      "bgcolor": "white",
                      "lakecolor": "white",
                      "landcolor": "#E5ECF6",
                      "showlakes": true,
                      "showland": true,
                      "subunitcolor": "white"
                    },
                    "hoverlabel": {
                      "align": "left"
                    },
                    "hovermode": "closest",
                    "mapbox": {
                      "style": "light"
                    },
                    "paper_bgcolor": "white",
                    "plot_bgcolor": "#E5ECF6",
                    "polar": {
                      "angularaxis": {
                        "gridcolor": "white",
                        "linecolor": "white",
                        "ticks": ""
                      },
                      "bgcolor": "#E5ECF6",
                      "radialaxis": {
                        "gridcolor": "white",
                        "linecolor": "white",
                        "ticks": ""
                      }
                    },
                    "scene": {
                      "xaxis": {
                        "backgroundcolor": "#E5ECF6",
                        "gridcolor": "white",
                        "gridwidth": 2,
                        "linecolor": "white",
                        "showbackground": true,
                        "ticks": "",
                        "zerolinecolor": "white"
                      },
                      "yaxis": {
                        "backgroundcolor": "#E5ECF6",
                        "gridcolor": "white",
                        "gridwidth": 2,
                        "linecolor": "white",
                        "showbackground": true,
                        "ticks": "",
                        "zerolinecolor": "white"
                      },
                      "zaxis": {
                        "backgroundcolor": "#E5ECF6",
                        "gridcolor": "white",
                        "gridwidth": 2,
                        "linecolor": "white",
                        "showbackground": true,
                        "ticks": "",
                        "zerolinecolor": "white"
                      }
                    },
                    "shapedefaults": {
                      "line": {
                        "color": "#2a3f5f"
                      }
                    },
                    "ternary": {
                      "aaxis": {
                        "gridcolor": "white",
                        "linecolor": "white",
                        "ticks": ""
                      },
                      "baxis": {
                        "gridcolor": "white",
                        "linecolor": "white",
                        "ticks": ""
                      },
                      "bgcolor": "#E5ECF6",
                      "caxis": {
                        "gridcolor": "white",
                        "linecolor": "white",
                        "ticks": ""
                      }
                    },
                    "title": {
                      "x": 0.05
                    },
                    "xaxis": {
                      "automargin": true,
                      "gridcolor": "white",
                      "linecolor": "white",
                      "ticks": "",
                      "title": {
                        "standoff": 15
                      },
                      "zerolinecolor": "white",
                      "zerolinewidth": 2
                    },
                    "yaxis": {
                      "automargin": true,
                      "gridcolor": "white",
                      "linecolor": "white",
                      "ticks": "",
                      "title": {
                        "standoff": 15
                      },
                      "zerolinecolor": "white",
                      "zerolinewidth": 2
                    }
                  }
                },
                "scene": {
                  "domain": {
                    "x": [
                      0,
                      1
                    ],
                    "y": [
                      0,
                      1
                    ]
                  },
                  "xaxis": {
                    "title": {
                      "text": "0"
                    }
                  },
                  "yaxis": {
                    "title": {
                      "text": "1"
                    }
                  },
                  "zaxis": {
                    "title": {
                      "text": "2"
                    }
                  }
                },
                "coloraxis": {
                  "colorbar": {
                    "title": {
                      "text": "Label"
                    }
                  },
                  "colorscale": [
                    [
                      0,
                      "#0d0887"
                    ],
                    [
                      0.1111111111111111,
                      "#46039f"
                    ],
                    [
                      0.2222222222222222,
                      "#7201a8"
                    ],
                    [
                      0.3333333333333333,
                      "#9c179e"
                    ],
                    [
                      0.4444444444444444,
                      "#bd3786"
                    ],
                    [
                      0.5555555555555556,
                      "#d8576b"
                    ],
                    [
                      0.6666666666666666,
                      "#ed7953"
                    ],
                    [
                      0.7777777777777778,
                      "#fb9f3a"
                    ],
                    [
                      0.8888888888888888,
                      "#fdca26"
                    ],
                    [
                      1,
                      "#f0f921"
                    ]
                  ]
                },
                "legend": {
                  "tracegroupgap": 0
                },
                "title": {
                  "text": "3d TSNE Plot for Outliers"
                },
                "height": 800,
                "width": 900
              },
              "config": {
                "plotlyServerURL": "https://plot.ly"
              }
            },
            "text/html": [
              "<div>                            <div id=\"bf7f920b-c751-4ee1-a45e-c576d884d145\" class=\"plotly-graph-div\" style=\"height:800px; width:900px;\"></div>            <script type=\"text/javascript\">                require([\"plotly\"], function(Plotly) {                    window.PLOTLYENV=window.PLOTLYENV || {};                                    if (document.getElementById(\"bf7f920b-c751-4ee1-a45e-c576d884d145\")) {                    Plotly.newPlot(                        \"bf7f920b-c751-4ee1-a45e-c576d884d145\",                        [{\"customdata\":[[0.263995357],[0.546092303],[0.336714104],[0.092107835],[0.325261175],[0.212464853],[0.258565714],[0.869236755],[0.197077957],[0.292984504],[0.82178316],[0.796622959],[0.045577011],[0.613660351],[0.950744566],[0.336346337],[0.034440667],[0.741544275],[0.18443265],[0.664514943],[0.162824858],[0.729838445],[0.62837389],[0.057883661],[0.445534827],[0.80183695],[0.27709612],[0.228634015],[0.834860657],[0.669766511],[0.532527349],[0.170459071],[0.510288468],[0.977561989],[0.249775993],[0.975500682],[0.613701727],[0.167420363],[0.537472516],[0.379899131],[0.633897303],[0.633960424],[0.549974653],[0.178172988],[0.85563814],[0.321796672],[0.817490537],[0.254879417],[0.344140513],[0.806145726],[0.277081671],[0.544328519],[0.07708393],[0.273081458],[0.390877336],[0.349621385],[0.214549744],[0.206075222],[0.86461997],[0.981708854],[0.334829646],[0.648387061],[0.093643561],[0.837802698],[0.760343967],[0.291404174],[0.3413454],[0.761112484],[0.541899775],[0.684176639],[0.983535597],[0.52081245],[0.328227724],[0.097157938],[0.876088593],[0.870214512],[0.656086992],[0.306791514],[0.48126734],[0.259559174],[0.326123655],[0.930568042],[0.6583894],[0.689992335],[0.315781109],[0.566905093],[0.637526619],[0.687540723],[0.324300602],[0.592704906],[0.740253126],[0.594032877],[0.596452977],[0.277680817],[0.258329663],[0.142460864],[0.435533461],[0.702499044],[0.58897535],[0.653304374],[0.336968524],[0.631244736],[0.73530076],[0.050390366],[0.064264924],[0.665359476],[0.917835245],[0.44651012],[0.661938199],[0.439359853],[0.687572404],[0.363462248],[0.654262182],[0.578553536],[0.065927945],[0.550148559],[0.139182814],[0.080004635],[0.278228358],[0.560124266],[0.53639864],[0.426531904],[0.789109796],[0.742900474],[0.901692589],[0.650337401],[0.114057311],[0.260812592],[0.43991232],[0.964409284],[0.184401415],[0.345145446],[0.175894581],[0.312514453],[0.674131879],[0.32825045],[0.598231057],[0.092598817],[0.497916521],[0.419776521],[0.3121767],[0.937857107],[0.049030963],[0.476104526],[0.447397526],[0.295806058],[0.737363977],[0.625896253],[0.408813429],[0.437511156],[0.691351375],[0.935555275],[0.437846654],[0.072217715],[0.67636067],[0.468883999],[0.543820644],[0.655522647],[0.693528924],[0.108878312],[0.285463743],[0.0],[0.706495497],[0.273530633],[0.292320271],[0.673984307],[0.126121828],[0.946707459],[0.936338898],[0.853755364],[0.706071361],[0.693682186],[0.508527882],[0.347170389],[0.704154263],[0.658730088],[0.155841557],[0.311085435],[0.281135347],[0.094587802],[0.683260954],[0.907729251],[0.291512674],[0.752734459],[0.93482964],[0.071413953],[0.594896327],[0.404672015],[0.13837621],[0.747338468],[0.530882486],[0.282649594],[0.699335734],[0.056111251],[0.855234998],[0.077895127],[0.891649583],[0.386742279],[0.27113158],[0.958888961],[0.085120869],[0.526902249],[0.066577785],[0.841506738],[0.255342095],[0.060545771],[0.073385869],[0.187493723],[0.858365688],[0.090640352],[0.709725227],[0.631300647],[0.247504474],[0.822843584],[0.373476759],[0.625538582],[0.292951715],[0.299730324],[0.25121407],[0.344480551],[0.293064767],[0.762803224],[0.738470804],[0.674883265],[0.719151612],[0.130980216],[0.511328036],[0.04492903],[0.560914449],[0.744040641],[0.266961634],[0.644231853],[0.038113352],[0.057155299],[0.341392461],[0.720463632],[0.402878236],[0.635148967],[0.320729467],[0.091209694],[0.23414609],[0.890221131],[0.602170884],[0.633652055],[0.806240837],[0.739731184],[0.465231269],[0.7321109],[0.373874305],[0.501587947],[0.115383158],[0.731946604],[0.418298728],[0.062259591],[0.391496379],[0.35984929],[0.245235627],[0.610028339],[0.435403602],[0.434309675],[0.523763344],[0.171187866],[0.187734303],[0.945014638],[0.027851097],[0.68445706],[0.178014532],[0.643427879],[0.59588355],[0.372361682],[0.586103584],[0.271658852],[0.59951107],[0.468363088],[0.314515565],[0.21893726],[0.254716562],[0.25612815],[0.602259755],[0.134381075],[0.513887424],[0.624241636],[0.160251854],[0.580708108],[0.270540486],[0.832919932],[0.93032134],[0.719157884],[0.886720033],[0.098792281],[0.787174286],[0.365592376],[0.719576193],[0.8058956],[0.755578334],[0.526005909],[0.68880424],[0.221115312],[0.739369477],[0.408440236],[0.348926542],[0.433713763],[0.596496607],[0.6942953],[0.709030966],[0.867652984],[0.89332545],[0.746020922],[0.538284443],[0.892219314],[0.935175765],[0.260527707],[0.956780449],[0.204932484],[0.687733351],[0.329063619],[0.632149831],[0.463744506],[0.698859621],[0.385446564],[0.479975377],[0.732279108],[0.3813543],[0.459326013],[0.257401434],[0.665014804],[0.103399542],[0.425284413],[0.943529051],[0.594750236],[0.543776817],[0.18203988],[0.235842084],[0.585984497],[0.762013168],[0.684982907],[0.676936933],[0.290184964],[0.481068222],[0.492766033],[0.221856234],[0.053875998],[0.082751144],[0.385366225],[0.702513961],[0.91553156],[0.082087436],[0.251280378],[0.416721817],[0.277032672],[0.579539754],[0.569363476],[0.133399703],[0.265045463],[0.936571901],[0.252618554],[0.054033081],[0.802481439],[0.528197693],[0.9515026],[0.572121173],[0.752938227],[0.143857535],[0.513484576],[0.313322389],[0.687797396],[0.37705984],[0.348226142],[0.67763282],[0.241387521],[0.850650179],[0.220348103],[0.476445464],[0.690324025],[0.364695946],[0.649249197],[0.943701921],[0.529645971],[0.299097002],[0.96696247],[0.272005242],[0.314161447],[0.752020991],[0.221882453],[0.720332673],[0.379204782],[0.60168653],[0.582932673],[0.950809853],[0.58830141],[0.880887227],[0.467857701],[0.879902171],[0.619844009],[0.359002573],[0.291511278],[0.694157143],[0.727960353],[0.617703921],[0.39581257],[0.58317282],[0.710332374],[0.253753693],[0.049412228],[0.728378695],[0.432432881],[0.58612345],[0.052342373],[0.053483902],[0.518729378],[0.933040208],[0.703554284],[0.268989899],[0.733006927],[0.444352467],[0.583394621],[0.871172692],[0.428767078],[0.300460841],[0.953329459],[0.606443965],[0.90986815],[0.714896449],[0.497349509],[0.853097486],[0.721804145],[0.303467328],[0.664485096],[0.27978062],[0.569481665],[0.628628926],[0.088368123],[0.733567326],[0.537436778],[0.638593691],[0.954726948],[0.632202332],[0.642134651],[0.744653087],[0.115714007],[0.486250073],[0.440356144],[0.08272289],[0.511591027],[0.394627555],[0.224394],[0.626927584],[0.290254057],[0.779008053],[0.86610579],[0.873326081],[0.49548916],[0.594297695],[0.918201584],[0.577042754],[0.019467671],[0.670298282],[0.546595316],[0.591665146],[0.42155819],[0.685608559],[0.340303024],[0.675626741],[0.319067345],[0.388499664],[0.706949589],[0.559409515],[0.687663508],[0.708804554],[0.681888094],[0.422535109],[0.320004605],[0.658281368],[0.634154867],[0.777332009],[0.812677205],[0.074280797],[0.39600217],[0.054933913],[0.825058925],[0.382642009],[0.868729818],[0.588043346],[0.891551577],[0.10920046],[0.647682781],[0.724342512],[0.070163044],[0.280882054],[0.039113261],[0.579641592],[0.639000922],[0.281745925],[0.647857744],[0.647905797],[0.875226264],[0.567603305],[0.262940591],[0.268026042],[0.40519133],[0.479965451],[0.33552403],[0.777165379],[0.425487963],[0.237986115],[0.142522971],[0.724176488],[0.234698933],[0.078182281],[0.855990155],[0.270251765],[0.435517841],[0.762697513],[0.464487258],[0.396112685],[0.376380921],[0.294594677],[0.694492121],[0.622767949],[0.847559722],[0.301463054],[0.912937812],[0.500017182],[0.902587935],[0.304517943],[0.299165673],[0.092014087],[0.488548917],[0.664664437],[0.265349549],[0.723657021],[0.149262385],[0.04577339],[0.69661064],[0.42181486],[0.733845785],[0.418795386],[0.677443529],[0.261283603],[0.268527767],[0.544322236],[0.431632036],[0.981018141],[0.214980724],[0.394729993],[0.122224944],[0.297496875],[0.374904431],[0.68698771],[0.388549207],[0.039296071],[0.73553424],[0.379294893],[0.732123386],[0.339221439],[0.659450594],[0.054838642],[0.640112102],[0.307141704],[0.396611907],[0.420439161],[0.241714974],[0.065893153],[0.910521937],[0.697163103],[0.072559853],[0.81825094],[0.311888815],[0.961644609],[0.816325524],[0.14647302],[0.548753945],[0.946158087],[0.293992717],[0.331479643],[0.906220031],[0.525540416],[0.83301411],[0.514849806],[0.574609024],[0.468711853],[0.71002775],[0.645973276],[0.229794416],[0.551783393],[0.055822991],[0.331750941],[0.715520198],[0.583924357],[0.306957691],[0.791478237],[0.164236639],[0.065711219],[0.948993132],[0.080423835],[0.052495426],[0.566346135],[0.3630266],[0.605442195],[0.630850584],[0.065791238],[0.286817071],[0.685462839],[0.260853706],[0.659122429],[0.443173922],[0.602063986],[0.060366911],[0.781903153],[0.514579807],[0.483886213],[0.600213807],[0.497364052],[0.411145245],[0.116999171],[0.341890141],[0.746950848],[0.396292746],[0.622143843],[0.335271141],[0.140257137],[0.081620681],[0.069837569],[0.468940008],[0.990857417],[0.896616832],[0.255310561],[0.224645267],[0.01991825],[0.296480415],[0.155458996],[0.577916714],[0.956303031],[0.813464394],[0.529675785],[0.287671353],[0.48039136],[0.281044822],[0.633196521],[0.093325377],[0.284473981],[0.052223775],[0.051129385],[0.967405608],[0.040045728],[0.908582921],[0.662117416],[0.424703209],[0.72207806],[0.666193327],[0.509681253],[0.751353621],[0.279073124],[0.074927],[0.916359535],[0.31040327],[0.716604052],[0.485587085],[0.306075181],[0.477558204],[0.711923941],[0.066348638],[0.274539351],[0.31082252],[0.476073127],[0.186795565],[0.26654207],[0.070231142],[0.26951927],[0.800004713],[0.273633667],[0.146479192],[0.378318951],[0.373849065],[0.242170835],[0.249796488],[0.066591188],[0.372956798],[0.501812291],[0.313097752],[0.880202196],[0.51981893],[0.364138746],[0.492682896],[0.285732652],[0.890114985],[0.316419561],[0.26866354],[0.771975959],[0.968888992],[0.080334377],[0.736828221],[0.300558071],[0.917950393],[0.465815039],[0.054036682],[0.963150123],[0.089653503],[0.707693234],[0.636416037],[0.539521117],[0.114757161],[0.357312419],[0.67639834],[0.43482839],[0.032326387],[0.711365605],[0.187486519],[0.052789653],[0.505863613],[0.927431873],[0.680984256],[0.882822186],[0.495705441],[0.596240398],[0.320610701],[0.3413685],[0.159681797],[0.318133669],[0.839301048],[0.064359251],[0.470216633],[0.776252291],[0.635843383],[0.62510543],[0.52959065],[0.986900166],[0.078585688],[0.233284267],[0.363330957],[0.716716981],[0.375889792],[0.223316889],[0.299343986],[0.538595767],[0.730297124],[0.66033077],[0.435296009],[0.326494313],[0.854402708],[0.573493847],[0.757786135],[0.704743233],[0.281575597],[0.671968208],[0.313726015],[0.364338275],[0.368216396],[0.386295207],[0.655971865],[0.566025273],[0.424999093],[0.090110371],[0.772350538],[0.331047258],[0.273716188],[0.23877568],[0.373079772],[0.331185868],[0.256134531],[0.678373225],[0.434638338],[0.654668307],[0.986681065],[0.371520495],[0.408359618],[0.40932365],[0.283412082],[0.395246531],[0.010984428],[0.306013869],[0.266194806],[0.299318521],[0.318293946],[0.74282591],[0.097664329],[0.079666942],[0.613258767],[0.99443072],[0.568835082],[0.708034516],[0.370592719],[0.669867361],[0.651295625],[0.462531569],[0.719625619],[0.45377248],[0.394863946],[0.323974831],[0.146454724],[0.779067041],[0.401828915],[0.601479585],[0.856423023],[0.565242962],[0.301225108],[0.282108144],[0.594378011],[0.705312368],[0.540869628],[0.319249574],[0.361766138],[0.625000704],[0.316287401],[0.047239021],[0.801182233],[0.508474436],[0.817893411],[0.399235601],[0.974051999],[0.72241535],[0.039564764],[0.908684108],[0.473010134],[0.718049628],[0.763479069],[0.647596537],[0.894997386],[0.222825901],[0.359012234],[0.944910252],[0.297877816],[0.172517997],[0.556586265],[0.876481735],[0.486677843],[0.459496733],[0.474126377],[0.70101144],[0.337597387],[0.537578886],[0.966992448],[0.056849545],[0.233249065],[0.380054711],[0.602929443],[0.303847999],[0.170194553],[0.972168554],[0.332168927],[0.688728689],[0.110773401],[0.273352065],[0.572939678],[0.491457065],[0.281389999],[0.821697261],[0.674977683],[0.585134549],[0.710596116],[0.040488789],[0.568054311],[0.321752928],[0.611850232],[0.926096887],[0.618347428],[0.667629785],[0.397733466],[0.290875487],[0.594375103],[0.508255233],[0.338571357],[0.432302347],[0.302221978],[0.87619819],[0.080204492],[0.092333532],[0.093656447],[0.608452351],[0.732654598],[0.944158855],[0.26742308],[0.731124201],[0.661308553],[0.387766262],[0.962585273],[0.322067067],[0.634081093],[0.475345002],[0.353558973],[0.885936316],[0.876798106],[0.221581064],[0.394362449],[0.805035676],[0.452898486],[0.592520516],[0.761026394],[0.245049023],[0.372139363],[0.681054822],[0.747143148],[0.920739529],[0.097207945],[0.699302998],[0.721647006],[0.535356114],[0.738293805],[0.706467551],[0.67395061],[0.711212291],[0.302558708],[0.080097855],[0.707010837],[0.512248622],[0.659627472],[0.657559694],[0.100645606],[0.92665363],[0.892879338],[0.839157508],[0.890959718],[0.556754471],[0.960361937],[0.631037864],[0.029838065],[0.278843351],[0.926157705],[0.551504258],[0.485942349],[0.437234696],[0.252318018],[0.515466972],[0.437252296],[0.493724207],[0.83324725],[0.317521477],[0.286234562],[0.726833965],[0.495667033],[0.028645255],[0.319671917],[0.674344598],[0.766037189],[0.65456992],[0.756514381],[0.528253719],[0.389719491],[0.355087459],[0.87015202],[0.739083306],[0.305761846],[0.411587673],[0.063633094],[0.735409395],[0.605916669],[0.539395562],[0.566183532],[0.674795186],[0.070993366],[0.1252641],[0.279601492],[0.952174402],[0.233806762],[0.437247429],[0.925423095],[0.433498634],[0.52517902],[0.088435529],[0.447677638],[0.647000631],[0.903603337],[0.265790738],[0.66419695],[0.498120658],[0.490188944],[0.747084187],[0.906783648],[0.678770917],[0.348599859],[0.294839683],[0.705691827],[0.211917931],[0.063201124],[0.276699543],[0.672459395],[0.808205949],[0.296538373],[0.160126862],[0.439385032],[0.555951416],[0.386240112],[0.158689619],[0.214499855],[0.299579429],[0.569161656],[0.488614799],[0.878295021],[0.649380949],[0.465713341],[0.16813774],[0.87529545],[0.841132341],[0.33292081],[0.513047859],[0.305055078],[0.812626991],[0.25096706],[0.502435578],[0.457990741]],\"hovertemplate\":\"0=%{x}<br>1=%{y}<br>2=%{z}<br>Feature=%{customdata[0]}<br>Label=%{marker.color}<extra></extra>\",\"legendgroup\":\"\",\"marker\":{\"color\":[0,0,1,1,0,0,0,1,1,0,0,1,0,0,1,1,0,1,1,0,1,0,0,1,1,1,0,0,1,1,0,0,0,1,1,1,0,0,0,0,0,0,0,1,0,0,0,0,0,0,0,1,0,1,1,1,0,0,0,1,0,0,0,1,0,0,1,0,0,1,0,0,0,0,0,0,0,0,0,0,0,0,0,0,0,0,0,0,0,0,0,0,0,0,0,0,0,0,0,0,0,0,0,0,0,0,0,0,0,0,0,0,0,0,0,0,0,0,0,0,0,0,0,0,0,0,0,0,0,0,1,0,0,0,0,0,0,0,0,0,0,0,0,0,0,0,0,0,0,0,0,0,0,0,0,0,0,0,0,0,0,0,0,0,0,0,0,0,0,0,0,0,0,0,0,0,0,0,0,0,0,0,0,0,0,0,0,0,0,0,0,0,0,0,0,0,0,0,0,0,0,0,0,0,0,0,0,0,0,0,0,0,0,0,0,0,0,0,0,0,0,0,0,0,0,0,0,0,0,1,0,0,0,0,0,0,0,0,0,0,0,0,0,0,0,0,0,0,0,0,0,0,0,0,0,0,0,0,0,0,0,0,0,0,0,0,0,0,0,0,0,0,0,0,0,0,0,0,0,0,0,0,0,0,0,0,0,0,0,0,0,0,0,0,0,0,0,0,0,0,0,0,0,0,0,0,0,0,0,0,0,0,0,0,0,0,0,0,0,0,0,0,0,0,0,0,0,0,0,0,0,0,0,0,0,0,0,0,0,0,0,0,0,0,0,0,0,0,0,0,0,0,0,0,0,0,0,0,0,0,0,0,0,0,0,0,0,0,0,0,0,0,0,0,0,0,0,0,0,0,0,0,0,0,0,0,0,0,0,0,0,1,0,0,0,0,0,0,0,0,0,0,0,0,0,0,0,0,0,0,0,0,1,0,0,0,0,0,0,0,0,0,0,0,0,0,0,0,0,0,0,0,0,0,0,0,0,0,0,0,0,0,0,0,0,0,0,0,0,0,0,0,0,0,0,0,0,0,0,0,0,0,0,0,0,0,0,0,0,0,0,0,0,0,0,0,0,0,0,0,0,0,0,0,0,0,0,0,0,0,0,0,0,0,0,0,0,0,0,0,0,0,0,0,0,0,0,0,0,0,0,0,0,0,0,0,0,0,0,0,0,0,0,1,0,0,0,0,0,0,0,0,0,0,0,0,0,0,0,0,0,0,0,0,0,0,0,0,0,0,0,0,0,0,0,0,0,0,0,0,0,0,0,0,0,0,0,0,0,0,0,0,0,0,0,0,0,0,0,0,0,0,0,0,0,0,0,0,0,0,0,0,0,0,0,0,0,0,0,0,0,0,1,0,0,0,0,0,0,0,0,0,0,0,0,0,0,0,0,0,0,0,0,0,0,0,0,0,0,0,0,0,0,0,0,0,0,0,0,0,0,0,0,0,0,0,0,0,0,0,0,0,0,0,0,0,0,0,0,0,0,0,0,0,0,0,0,0,0,0,1,0,0,0,0,0,0,0,0,0,1,0,0,0,0,0,0,0,0,0,0,0,0,0,0,0,0,0,0,0,1,1,1,1,0,0,0,0,1,0,0,0,0,1,0,0,0,1,1,0,1,0,1,0,1,0,0,0,1,0,0,0,0,0,0,0,0,0,0,0,0,0,0,1,0,0,0,0,0,0,0,0,0,0,0,0,0,0,0,0,1,0,0,0,0,0,0,0,0,0,0,0,0,0,0,0,0,0,0,0,0,0,0,0,0,0,0,0,0,0,0,0,0,0,0,0,0,0,0,0,0,0,0,0,0,0,0,0,0,0,0,0,0,0,0,0,0,0,0,0,0,0,0,0,0,0,0,0,0,0,0,0,0,0,0,0,0,0,0,0,0,0,0,0,0,0,0,0,0,0,0,0,0,0,0,0,0,0,0,0,0,0,0,0,0,0,0,0,0,0,0,0,0,0,0,0,0,0,0,0,0,0,0,0,0,0,0,0,0,0,0,0,0,0,0,0,0,0,0,0,0,0,0,0,0,0,0,0,0,0,0,0,0,0,0,0,0,0,0,0,0,1,0,0,0,0,0,0,0,0,0,0,0,0,0,0,0,0,0,0,0,0,0,0,0,0,0,0,0,0,0,0,0,0,0,0,0,0,0,0,0,0,0,0,0,0,0,0,0,0,0,0,0,0,0,0,0,0,0,0,0,0,0,0,0,0,0,0,0,0,0,0,0,0,0,0,0,0,0,0],\"coloraxis\":\"coloraxis\",\"opacity\":0.7,\"symbol\":\"circle\"},\"mode\":\"markers\",\"name\":\"\",\"scene\":\"scene\",\"showlegend\":false,\"x\":[0.091429203748703,6.513463973999023,-4.537449359893799,-8.414010047912598,-5.651562213897705,-4.004618167877197,3.477867841720581,-3.7550151348114014,2.3155689239501953,-1.078755497932434,-1.6770933866500854,-10.423652648925781,-8.126514434814453,0.333010733127594,-6.916491508483887,-11.539216995239258,-8.07277774810791,12.12904167175293,-4.893808364868164,-9.676811218261719,-3.8038599491119385,-3.6002273559570312,-1.0836604833602905,2.8683066368103027,-3.3998823165893555,-3.3229377269744873,-9.18899917602539,2.3856515884399414,-4.510812759399414,-10.241796493530273,3.394045114517212,2.8276188373565674,-2.6207385063171387,-2.137004852294922,-0.18566611409187317,-2.7867751121520996,3.9908626079559326,1.9694979190826416,-3.127065658569336,-2.9005894660949707,6.510582447052002,-4.217556476593018,6.17628288269043,-4.067165374755859,-3.3910882472991943,-12.101523399353027,-2.5993306636810303,2.820863723754883,-10.100787162780762,10.322808265686035,-5.23497200012207,-5.7888031005859375,1.3152283430099487,-11.916041374206543,-5.560859680175781,-1.7089287042617798,-2.060386896133423,1.8086597919464111,-2.453270673751831,-6.2981648445129395,-0.5089395642280579,10.374831199645996,-11.39345645904541,-4.372767448425293,9.46815299987793,-1.869998574256897,2.9959805011749268,12.062188148498535,-9.024404525756836,-1.9227708578109741,-6.859760761260986,-6.451378345489502,-3.2284295558929443,-6.409173965454102,1.2878371477127075,-0.7151120901107788,-7.7646660804748535,-8.381782531738281,-0.2574273347854614,1.4653358459472656,1.5764704942703247,-2.5869786739349365,-4.655442237854004,8.857527732849121,4.958995342254639,6.444087028503418,7.293935298919678,9.433134078979492,-1.7806898355484009,-4.01012659072876,-1.7546144723892212,-2.934128999710083,5.458128929138184,4.46190071105957,0.5965150594711304,-10.05029296875,3.983611822128296,7.1384148597717285,5.152132987976074,-6.929896831512451,-3.620164155960083,8.397821426391602,6.760283470153809,2.076634645462036,-11.20770263671875,2.821798086166382,9.411114692687988,5.292738914489746,1.577040433883667,-7.2309250831604,-3.6710145473480225,-5.38839864730835,-1.7318757772445679,1.3027143478393555,-6.277965068817139,-3.54477858543396,2.9469754695892334,4.445845603942871,-7.346086025238037,6.094486236572266,-3.3981943130493164,-0.33511945605278015,10.082740783691406,8.207657814025879,8.464227676391602,6.849250316619873,1.2239831686019897,-7.067209720611572,5.508124828338623,7.811908721923828,-2.3094959259033203,3.317704916000366,-6.107714653015137,3.2838823795318604,8.356080055236816,1.6163702011108398,-3.9163131713867188,-8.272175788879395,5.270125389099121,3.7897744178771973,-5.855218887329102,-4.571743488311768,1.3168002367019653,-5.743929862976074,5.4979472160339355,0.8880058526992798,-2.561736822128296,6.051468372344971,5.358311653137207,4.594398021697998,-4.486971378326416,-0.8036972880363464,-2.2575266361236572,0.954432487487793,-3.0883092880249023,4.925601959228516,10.307151794433594,8.045144081115723,-0.6226556301116943,-5.457011699676514,1.9832853078842163,1.2145696878433228,-3.1645729541778564,0.12636443972587585,-6.03981351852417,9.004329681396484,-6.757646560668945,-7.944363117218018,-4.835694313049316,8.847441673278809,8.802726745605469,7.451157569885254,-3.8065295219421387,-4.247204780578613,8.106483459472656,9.568156242370605,-5.071730613708496,-3.832327365875244,4.6628241539001465,-8.246728897094727,8.097580909729004,-1.1627768278121948,2.7970848083496094,-6.5543694496154785,-8.039511680603027,3.3007497787475586,-5.762819290161133,-1.6563289165496826,0.7844598293304443,-1.3698039054870605,6.747870922088623,-6.404656887054443,-2.9105770587921143,-5.225042819976807,6.933656215667725,2.344075918197632,9.387292861938477,11.722064971923828,-4.1155853271484375,8.233436584472656,-1.0112144947052002,4.550002574920654,1.139258623123169,-5.42750883102417,-4.759424686431885,2.294233798980713,1.6203874349594116,-1.544583797454834,-1.179871678352356,2.918379783630371,9.148445129394531,-8.02298641204834,-7.466838836669922,-4.358481407165527,-0.4837680160999298,-0.18965332210063934,3.8232741355895996,-9.596343994140625,-9.624547004699707,2.7120940685272217,-4.9512715339660645,7.834484577178955,-5.964341640472412,1.3626331090927124,6.687044143676758,0.9863684177398682,7.105768203735352,-0.8242959380149841,8.108786582946777,-7.959488391876221,3.690265655517578,5.581705093383789,-7.339197158813477,-8.259618759155273,3.494407892227173,7.80416202545166,2.527035713195801,-0.9698731899261475,-6.947666168212891,-2.6620800495147705,-1.7052280902862549,9.588807106018066,-2.879690170288086,7.752694129943848,-4.073084354400635,7.599488258361816,1.5547837018966675,-2.3950247764587402,6.650196075439453,-2.2124838829040527,-1.4806232452392578,5.764593124389648,-6.49317741394043,0.8740453124046326,2.037576198577881,4.6871466636657715,1.4130855798721313,7.27333402633667,-8.334528923034668,5.188479423522949,-2.702353000640869,-0.5695109367370605,-5.129032611846924,7.680044651031494,-0.7127982974052429,7.817995548248291,-7.789689064025879,5.362407684326172,1.5078980922698975,12.354047775268555,6.089504241943359,1.7772102355957031,1.1504693031311035,-2.044877529144287,-6.041104793548584,2.0506513118743896,-9.836723327636719,-6.568761348724365,6.26823616027832,1.024057388305664,6.88700008392334,-2.12433123588562,0.2666623890399933,-0.7260085344314575,-6.315855026245117,9.47238540649414,7.569756507873535,7.412372589111328,8.19556999206543,-3.5952279567718506,-5.120621204376221,4.88957405090332,9.205179214477539,9.661459922790527,8.792882919311523,-4.114387512207031,-3.0604474544525146,-0.7514848709106445,7.098077774047852,0.01388025563210249,5.509250164031982,6.135092735290527,-7.809846878051758,-4.69839334487915,-3.50209379196167,-1.2989156246185303,8.874796867370605,-2.1481573581695557,6.2345099449157715,-7.991888999938965,-8.589479446411133,4.778109073638916,-1.24186372756958,-2.423323631286621,-1.908084750175476,0.11076273024082184,8.556558609008789,5.2676262855529785,-0.7946052551269531,1.5077883005142212,6.32974910736084,0.48134753108024597,-7.058313846588135,4.937823295593262,-3.9497361183166504,-1.727616310119629,-8.50532054901123,-6.6977458000183105,-3.942375421524048,-3.703676700592041,5.2385711669921875,-10.14362907409668,0.8648799657821655,3.506171464920044,9.694744110107422,-6.623142242431641,6.768583297729492,2.1506290435791016,-5.792076110839844,-9.39438533782959,2.1299450397491455,-0.609587550163269,-7.423047065734863,0.9223852753639221,-4.496387004852295,-4.296853065490723,2.510375738143921,6.615060806274414,-6.753542900085449,-10.516373634338379,5.257669925689697,1.7192997932434082,4.4699177742004395,2.0657951831817627,7.544574737548828,-1.1644251346588135,1.021710991859436,7.002474308013916,-9.217185974121094,-3.6945207118988037,6.877096652984619,7.562411785125732,2.611635684967041,6.334691047668457,-6.726220607757568,-3.1974072456359863,-9.226734161376953,4.944974422454834,7.454425811767578,4.444852828979492,7.949579238891602,-1.5999575853347778,-7.7233662605285645,-4.958860397338867,-7.142624855041504,8.729658126831055,-0.5233591198921204,-4.26514196395874,1.3073891401290894,-3.876718759536743,-5.122743129730225,2.8176276683807373,0.46015098690986633,-2.45120906829834,7.493191719055176,4.200719833374023,9.075504302978516,8.869444847106934,8.019148826599121,-5.374105453491211,9.731921195983887,3.8561956882476807,0.14509820938110352,-0.6492719650268555,4.012355327606201,1.9045788049697876,3.0028023719787598,-4.513739585876465,-2.1018450260162354,2.2018752098083496,6.316808223724365,9.842631340026855,4.631927967071533,2.5013952255249023,-5.517200946807861,4.566761016845703,-5.6774468421936035,1.960754156112671,-5.04130744934082,10.529780387878418,8.909090995788574,-3.079918384552002,-10.357039451599121,-1.9766507148742676,4.453771591186523,5.936482906341553,10.41140079498291,5.64782190322876,-6.782860279083252,-4.711847305297852,-5.611494064331055,9.021169662475586,7.944573402404785,5.684256553649902,-5.621237277984619,8.06201457977295,4.072044372558594,-3.5627810955047607,-2.2718164920806885,-7.643033504486084,-3.3552043437957764,2.7858917713165283,9.024203300476074,-5.176880359649658,-6.867867946624756,7.972477436065674,6.092314720153809,-6.821051120758057,1.228467345237732,-5.4951491355896,2.3479812145233154,-1.0182850360870361,-5.713273525238037,-9.108064651489258,-0.05139482766389847,-5.037476539611816,-6.877720832824707,2.307882070541382,-2.4563968181610107,-0.8229070901870728,9.750110626220703,-4.673574924468994,7.977372646331787,-1.4774142503738403,-2.0923855304718018,1.0670607089996338,6.778805255889893,-3.625232458114624,-0.17820467054843903,-2.490614891052246,8.110326766967773,-6.0679121017456055,6.371170997619629,-1.742866039276123,4.225540637969971,-1.6387810707092285,1.7582011222839355,-5.555168628692627,8.834013938903809,-4.712251663208008,-3.1005260944366455,5.470023155212402,6.822628021240234,1.20337975025177,9.121899604797363,7.0209550857543945,2.6660189628601074,-4.55236291885376,-0.3867669999599457,7.726354598999023,6.66141414642334,9.415655136108398,-3.899176597595215,-7.3386430740356445,2.909588098526001,-7.939759254455566,7.983768939971924,-2.4226856231689453,1.4680877923965454,-2.6065597534179688,-2.5988025665283203,-3.347102165222168,-5.930088520050049,-7.33986759185791,-3.5447752475738525,-2.5676393508911133,10.796943664550781,-4.465237617492676,1.7079083919525146,-3.54045033454895,5.403179168701172,3.197187662124634,-2.671813726425171,-1.461467981338501,-1.8773643970489502,-2.6154606342315674,0.5495705008506775,5.4921698570251465,-3.068164110183716,-1.2749857902526855,-6.843417644500732,7.8351335525512695,10.054540634155273,-8.760638236999512,-0.24215291440486908,2.420214891433716,-0.6986151933670044,0.2961929440498352,5.510691165924072,9.780367851257324,-5.038233757019043,-4.951767444610596,-7.1250834465026855,-4.090648174285889,-10.116097450256348,3.268570899963379,-2.9146432876586914,6.270514488220215,7.57351016998291,1.2131942510604858,6.879433631896973,-8.443893432617188,-5.963641166687012,7.508735179901123,-3.0975236892700195,-9.062947273254395,2.980257034301758,-6.4840474128723145,-2.3436574935913086,12.164590835571289,3.6757326126098633,-3.4842655658721924,9.0877685546875,4.549069881439209,7.047428607940674,-6.485518932342529,1.6591449975967407,-4.869915008544922,-2.9613990783691406,0.6679474711418152,3.2541167736053467,0.18955719470977783,-7.2568511962890625,-0.48706111311912537,2.0021300315856934,5.237937927246094,-5.549376010894775,0.7568075060844421,-7.8303375244140625,4.905088424682617,-9.208300590515137,-9.743720054626465,2.473320960998535,-1.3926302194595337,6.903045654296875,2.1119353771209717,9.210890769958496,3.524033308029175,-1.3333457708358765,-1.3543487787246704,-0.8708232641220093,-2.376671552658081,-4.2586588859558105,-10.784577369689941,4.176181316375732,-7.96679162979126,6.072718620300293,8.895028114318848,-0.33020979166030884,-4.186040878295898,-4.8002214431762695,-2.95047664642334,-5.037195205688477,5.017553806304932,6.406516075134277,1.8797528743743896,0.6273040175437927,9.675602912902832,6.6423563957214355,-9.148216247558594,9.793937683105469,4.752939224243164,3.7341110706329346,-4.793350696563721,1.6342740058898926,0.7854546308517456,-5.452198505401611,-7.463201999664307,-3.4665884971618652,-8.486262321472168,-7.441263198852539,-0.10125229507684708,-1.3535678386688232,3.4968981742858887,-2.3192496299743652,5.112211227416992,-6.020302772521973,-10.225865364074707,6.315546035766602,5.041932106018066,-6.822495937347412,-3.8202264308929443,-5.144881248474121,1.4205228090286255,-2.0157902240753174,3.3153915405273438,-1.7114274501800537,-2.6359927654266357,8.314346313476562,1.1843291521072388,2.8516671657562256,1.894379734992981,-1.125110387802124,4.765924453735352,-4.431602478027344,-4.154296398162842,2.709670066833496,-6.636675834655762,2.0314316749572754,-1.7557991743087769,-1.7670269012451172,10.884420394897461,0.9471994042396545,-4.797565460205078,-4.093652248382568,-2.322603464126587,-2.8068363666534424,3.0784695148468018,-1.8184459209442139,1.6707128286361694,-4.549384593963623,2.7381224632263184,2.6617934703826904,-4.041629791259766,-9.091650009155273,-3.113966703414917,-4.561149597167969,1.5405861139297485,-3.29858136177063,0.9289001226425171,7.122097969055176,9.339113235473633,2.5159525871276855,-6.969915390014648,9.685840606689453,4.523421287536621,-6.140965938568115,0.12999671697616577,4.075884819030762,-7.654432773590088,-6.787281513214111,1.2742199897766113,4.057846546173096,-0.02116263471543789,-3.986513376235962,2.4733223915100098,-8.592729568481445,2.7999818325042725,12.005048751831055,9.513432502746582,3.4159672260284424,-0.5864530205726624,-0.6330340504646301,4.029686450958252,-4.962882995605469,4.04698371887207,3.0763306617736816,-2.634735107421875,-4.6166181564331055,3.4883882999420166,-4.358962059020996,6.671657562255859,2.2989330291748047,-3.762695789337158,1.6666691303253174,9.053462028503418,1.7225733995437622,6.585551738739014,-2.3486714363098145,-7.485990047454834,-7.9043073654174805,-9.159811973571777,-9.813248634338379,8.197158813476562,-2.965074062347412,-6.223874568939209,-3.228152275085449,1.0369287729263306,-0.6014649271965027,-5.429652214050293,-2.327238082885742,0.13839419186115265,0.28456681966781616,-4.4754180908203125,2.684126377105713,-0.772611141204834,-3.6541130542755127,-10.538732528686523,1.9399086236953735,-4.459012031555176,-2.133840560913086,8.164559364318848,9.590317726135254,-3.2787907123565674,-4.961336612701416,-3.2012314796447754,-3.8321919441223145,-11.943089485168457,-4.973950386047363,10.917491912841797,-4.847402572631836,3.6113200187683105,8.468942642211914,-5.846343040466309,11.891324043273926,-2.61200213432312,-0.8950726985931396,-6.659757614135742,-8.2393217086792,-3.1581900119781494,9.288614273071289,-8.586301803588867,3.4295859336853027,3.135197401046753,5.882142066955566,-1.6922235488891602,-3.73348331451416,-1.63712739944458,-0.8878893256187439,-6.48792839050293,5.341562271118164,-1.1853560209274292,-0.2897089421749115,-7.382855415344238,-2.257673501968384,-0.7271794080734253,-3.954261302947998,-2.6715824604034424,-3.6167171001434326,-6.669125080108643,6.365964412689209,-7.337738037109375,0.21914167702198029,6.837847709655762,6.41432523727417,-4.240749359130859,1.386549949645996,-0.31664711236953735,-8.857588768005371,5.776574611663818,-6.7958149909973145,-0.8217485547065735,8.344764709472656,8.653156280517578,-0.29139071702957153,4.681563377380371,4.54437780380249,-7.2725419998168945,4.931940078735352,-7.053327560424805,1.3914750814437866,-0.6441249251365662,3.3992393016815186,3.8912994861602783,-0.9773018956184387,4.659878730773926,2.0981006622314453,-1.7093634605407715,0.8904471397399902,-0.8023622632026672,-2.103801727294922,4.318830966949463,7.221545696258545,-4.326033592224121,-2.409301996231079,-6.801761150360107,-0.43352556228637695,-4.586719512939453,1.0853002071380615,1.2730567455291748,-5.687093734741211,-0.17387455701828003,-7.563786029815674,-0.6597283482551575,5.865803241729736,2.8570096492767334,5.108450412750244,-2.860004186630249,-1.891308307647705,5.359643936157227,0.22748953104019165,3.17929744720459,6.598869800567627,5.630369186401367,-3.1915884017944336,9.118647575378418,2.1377182006835938,5.907169818878174,-5.414305686950684,8.14781379699707,-6.191282749176025,-6.776676654815674,-0.1770554631948471,-5.374278545379639,7.214818000793457,-2.4888341426849365,6.399782657623291,-4.971144676208496,-4.3889479637146,-5.5600905418396,-1.313490390777588,-2.0693717002868652,-0.8370099663734436,4.922322750091553,9.682125091552734,5.6846137046813965,-5.201029300689697,1.0286792516708374,-0.837666392326355,-8.523948669433594,4.913858890533447,-3.144333600997925,-10.390983581542969,-6.089155673980713,-3.389258861541748,-2.84572696685791,-8.990462303161621,-5.816675662994385,-0.859923243522644,2.264129638671875,-2.428495168685913,1.9602746963500977,-6.178439617156982,6.0843281745910645,5.739694595336914,-4.176562786102295,9.727985382080078,-2.3066647052764893,-4.214257717132568,8.391461372375488,-5.59563684463501,-5.353561878204346,1.4281882047653198,-2.7879769802093506,8.152347564697266,10.917160034179688,7.941970348358154,-5.374859809875488,0.680915117263794,-7.71329402923584,-3.436614513397217,0.9091446399688721,5.85825252532959,-4.318758964538574,9.45234203338623,-7.988922595977783,4.553950786590576,1.1772761344909668,-2.6832783222198486,-4.233055591583252,-0.7598724365234375,3.516723394393921,7.401182174682617,-4.655541896820068,0.7462676763534546,9.448643684387207,3.516134738922119,-1.6665929555892944,-1.4119292497634888,-4.397305011749268,-5.097580432891846,-4.152608394622803,-0.635536789894104,-7.466717720031738,-4.359588623046875,-2.237241268157959,-0.9978944659233093,9.279439926147461,0.48540085554122925,-5.012997627258301,-5.95078706741333,-8.867499351501465,-4.738701820373535,-0.6695554256439209,-7.444039821624756,-2.362206220626831,1.172513723373413,8.765002250671387,7.522200584411621,5.784069061279297,7.46364164352417,0.02396741509437561,4.739407062530518,-4.829441547393799,-3.935365915298462,-5.0545549392700195,-3.3473615646362305,2.227010726928711,-4.680095672607422,1.2133057117462158,9.598576545715332,9.762133598327637,5.315500259399414,1.3837242126464844,-6.424956798553467,-6.909144878387451,-1.858902931213379,9.234302520751953,-4.685511589050293,-1.971339225769043,-4.783463954925537,-6.199830055236816,5.372457027435303,1.1012150049209595,11.585043907165527,-5.307985782623291,2.6804981231689453,-1.055220365524292,7.23668909072876,11.216619491577148,-7.447610855102539,3.315185308456421,7.0978546142578125,-6.107351303100586,-4.7545671463012695,-7.066188335418701,4.444300651550293,-5.018214225769043,5.177970886230469,-1.3888133764266968,-5.9262213706970215,-1.915740966796875,-0.5567886233329773,-4.817760467529297,-1.6376574039459229,-7.338591575622559,-2.4791040420532227,-0.027879634872078896,6.871222496032715,2.936903715133667,0.08354935795068741,2.60663104057312,-4.833195686340332,-7.375113487243652,4.571565628051758,10.397095680236816,-2.7714760303497314,-6.047391891479492,-6.183749675750732,-1.7768663167953491,6.82952356338501,8.992149353027344,-3.4082045555114746,-0.43736347556114197,-0.07009851932525635,8.008934020996094,9.184280395507812,0.0893443152308464,-5.951902389526367,1.1700291633605957,-9.359088897705078,-4.038482189178467,2.5604515075683594,-6.941091060638428,0.7803220152854919,7.061652660369873,7.99644136428833,-9.791739463806152,3.445324182510376,-4.108694553375244,-6.625492095947266,-3.9286482334136963,-0.7033377885818481,3.5393638610839844,-9.834355354309082,10.169973373413086,-1.6397066116333008,-2.347043037414551,-2.0758960247039795,-8.307307243347168,-5.710982799530029,-0.28064659237861633,-3.4902119636535645,-5.10496187210083,-7.607813358306885,-0.07531852275133133,6.422990322113037,1.2001744508743286,-4.668807506561279,-8.817322731018066],\"y\":[4.523738384246826,-4.765291213989258,-1.4888372421264648,-10.637418746948242,-7.023621082305908,-6.026652812957764,2.820970058441162,-16.397640228271484,0.24698103964328766,10.01228141784668,-16.620269775390625,-5.485462665557861,-11.301389694213867,-8.90450382232666,-6.358856201171875,-11.396557807922363,-11.337727546691895,2.3113536834716797,-0.05973031371831894,-4.2637104988098145,-5.258812427520752,6.031121253967285,-8.507698059082031,0.19594810903072357,-7.472349643707275,3.6110241413116455,-4.783936977386475,-0.34608539938926697,-14.466817855834961,-16.84665298461914,-1.2935668230056763,-4.300088882446289,2.0166337490081787,-12.801124572753906,4.179572105407715,5.694068431854248,-2.864151954650879,-0.5587953925132751,4.679855823516846,-7.19245719909668,8.361710548400879,-11.426488876342773,5.847574710845947,-5.083860397338867,-9.94049072265625,-11.552838325500488,-10.624967575073242,0.27729231119155884,-5.3083295822143555,4.970279216766357,-16.811674118041992,1.3101911544799805,5.284879207611084,-11.592622756958008,-7.502066612243652,-2.9126858711242676,-7.490698337554932,0.755098283290863,-12.586115837097168,-4.282853603363037,1.547527551651001,3.5442850589752197,-11.191370964050293,-11.69257926940918,8.134665489196777,-10.415651321411133,5.950355529785156,1.953770399093628,-5.770017147064209,-9.47659969329834,-15.102232933044434,-13.46300983428955,4.871478080749512,-13.126595497131348,14.985483169555664,10.33127212524414,-7.343478679656982,-12.273883819580078,18.182226181030273,14.912282943725586,14.362959861755371,10.526415824890137,-9.433943748474121,3.1021595001220703,-0.07900431007146835,-5.141100883483887,2.9144110679626465,1.2279963493347168,0.8487005233764648,8.717754364013672,8.28146743774414,-14.863502502441406,4.957709789276123,2.993936777114868,-1.9983432292938232,-11.762582778930664,8.949289321899414,-3.023191452026367,3.6570627689361572,-8.19615364074707,6.316404819488525,4.739678382873535,-3.145019292831421,6.708471298217773,-12.906049728393555,10.344969749450684,7.215496063232422,-0.4719049632549286,14.569365501403809,-12.634881019592285,10.936494827270508,5.80891752243042,-15.117825508117676,12.204910278320312,-5.064320087432861,12.450397491455078,-0.6391817331314087,3.1655826568603516,-11.377045631408691,5.071312427520752,13.12171459197998,1.361190676689148,-2.8755927085876465,6.7396392822265625,2.452887773513794,-3.3489434719085693,-1.5840805768966675,-11.623720169067383,-0.7301061749458313,-3.0960798263549805,2.871384620666504,8.522688865661621,-16.642940521240234,1.1060422658920288,4.133625030517578,8.96720027923584,-7.550032138824463,-14.824296951293945,-2.817568778991699,-0.8488098978996277,-13.999258995056152,8.990297317504883,6.426141262054443,-8.382339477539062,6.321200847625732,12.210993766784668,-13.546553611755371,4.872097015380859,-3.565805673599243,1.779610276222229,10.220671653747559,12.48792552947998,2.369192123413086,7.292096138000488,5.896098613739014,8.399273872375488,6.7265849113464355,7.184528350830078,18.316274642944336,-10.427573204040527,0.36217159032821655,1.7131049633026123,16.343982696533203,18.049564361572266,-10.384583473205566,5.610611915588379,-14.080682754516602,-15.826459884643555,-6.079666614532471,4.065275192260742,7.604523181915283,-4.109508991241455,-8.270895957946777,-4.913949012756348,-0.6958649158477783,2.6374518871307373,-7.955893516540527,-4.3628034591674805,-3.842190980911255,-13.697478294372559,-1.328415036201477,-10.217004776000977,-4.164937496185303,-17.575374603271484,-16.733762741088867,0.6983874440193176,-9.536227226257324,2.8059585094451904,12.440232276916504,11.980713844299316,5.042590618133545,-7.555892467498779,-15.847150802612305,-4.208142280578613,-1.8877983093261719,1.2014724016189575,-0.7029313445091248,-3.436876058578491,7.125469207763672,1.5798766613006592,3.0338215827941895,0.3141346275806427,-0.3649524748325348,-9.62867259979248,-3.236525535583496,-4.178271293640137,16.30426597595215,2.8452608585357666,-10.713662147521973,-1.6953814029693604,-0.14646795392036438,-8.919697761535645,-12.0350341796875,11.527731895446777,1.351131558418274,0.22232554852962494,-1.9968124628067017,-12.19314193725586,-12.958348274230957,-1.7810436487197876,-2.7039692401885986,-0.6505603790283203,-8.721569061279297,15.885340690612793,-0.6781452298164368,15.333860397338867,7.713313579559326,12.49224853515625,4.601659774780273,-5.853876113891602,1.0854073762893677,5.052145957946777,-13.825035095214844,-14.439233779907227,6.040339469909668,-0.13159440457820892,-2.599583387374878,11.726304054260254,-11.706737518310547,-3.522822141647339,2.4187886714935303,-3.5730228424072266,-5.188107967376709,-0.025520386174321175,-13.763010025024414,2.497976779937744,11.15322494506836,17.70513343811035,8.073915481567383,-8.222553253173828,5.8570075035095215,-1.1557421684265137,-12.900237083435059,2.0835399627685547,10.90153980255127,1.5404542684555054,6.548374652862549,1.9640283584594727,-6.527347564697266,6.030202388763428,-5.455545425415039,3.4488649368286133,-6.529750823974609,-0.6690115332603455,6.552001476287842,-0.2838411331176758,-15.999734878540039,-1.4976351261138916,14.483397483825684,-3.052497386932373,0.7641951441764832,-2.421987771987915,8.449679374694824,-5.036244869232178,-9.760025024414062,4.914647102355957,-11.150110244750977,-7.467225074768066,0.06032194569706917,12.207281112670898,7.143364906311035,-5.376479148864746,11.369625091552734,9.200840950012207,-5.181589126586914,-1.8029576539993286,4.917331695556641,-1.0168341398239136,0.77327960729599,6.666443824768066,9.491434097290039,0.38786643743515015,7.227268695831299,-0.5744863748550415,2.9882917404174805,-14.125487327575684,-12.397687911987305,17.040817260742188,1.6356618404388428,6.595482349395752,-5.693525791168213,1.7684601545333862,-14.21186637878418,-14.177390098571777,-10.349791526794434,16.113222122192383,-1.9908373355865479,15.44637393951416,7.679511070251465,-17.19451904296875,-16.773536682128906,5.499217987060547,-9.417486190795898,-4.146278381347656,-0.940994381904602,5.583893299102783,3.8869900703430176,-0.05396195501089096,16.521522521972656,-1.0214741230010986,-5.18681526184082,9.81103229522705,-13.795076370239258,-2.401632785797119,15.00748348236084,6.93320894241333,-15.150534629821777,-16.33782958984375,-8.1019287109375,-11.032576560974121,-1.576236605644226,-10.709891319274902,4.258631706237793,9.572989463806152,1.4495422840118408,-7.487237453460693,-2.5103399753570557,8.90952205657959,-9.965086936950684,-8.977994918823242,8.068499565124512,12.729689598083496,-11.448981285095215,7.127066612243652,-15.924787521362305,-8.773787498474121,0.8230792880058289,6.112826347351074,-11.690253257751465,-11.201011657714844,-0.7677271962165833,8.815272331237793,5.99543571472168,-2.3011088371276855,4.883681774139404,12.547842025756836,3.8609814643859863,-0.5071530342102051,-12.548750877380371,5.825483322143555,-4.39183235168457,-1.851928472518921,3.0520641803741455,6.489057540893555,-13.224781036376953,16.374391555786133,-13.987518310546875,0.9685327410697937,2.165065288543701,-0.03247939795255661,5.154124736785889,2.1919851303100586,-7.392022132873535,-7.320234298706055,-13.689379692077637,6.902810096740723,14.931415557861328,-11.13478946685791,-1.4508014917373657,8.320055961608887,-12.112873077392578,0.6954840421676636,13.77801513671875,14.54806137084961,-3.5187137126922607,9.482657432556152,7.449914455413818,6.30509614944458,0.6433799862861633,6.522555828094482,4.6000657081604,9.134284973144531,8.134770393371582,12.433207511901855,5.314251899719238,-2.3974924087524414,10.23792839050293,-13.71793270111084,6.208463191986084,11.81233024597168,4.677580833435059,3.0471689701080322,5.040444850921631,-4.525602340698242,-16.16705322265625,-1.0218520164489746,-4.7416605949401855,1.5751270055770874,-10.47486400604248,-5.0506205558776855,-1.3267680406570435,9.418779373168945,-14.146732330322266,16.145261764526367,1.0825034379959106,5.4200615882873535,2.0266520977020264,-1.8706079721450806,-16.26618003845215,-8.899447441101074,6.505022048950195,0.556943416595459,-0.34885358810424805,-4.8843793869018555,-6.492356777191162,2.962695360183716,1.3471020460128784,-10.857418060302734,5.649971961975098,-7.595772743225098,11.999429702758789,1.567944884300232,3.5356197357177734,-11.812828063964844,-14.186031341552734,-0.2788858711719513,6.782672882080078,-7.814866542816162,15.324532508850098,-3.255098819732666,10.718810081481934,17.829084396362305,-4.015343189239502,-9.572237968444824,1.1203798055648804,-8.597161293029785,-14.719952583312988,6.066875457763672,-7.664109230041504,-11.961979866027832,3.8894290924072266,-7.44021463394165,6.819552421569824,16.095985412597656,-14.76674747467041,-1.567234754562378,-0.05152628943324089,-6.912837028503418,17.76639747619629,15.598773002624512,-3.657454490661621,-4.894839763641357,4.601700782775879,14.076436042785645,-0.11103291809558868,8.487698554992676,14.15716552734375,-15.6848726272583,5.18571138381958,-6.21049690246582,13.611766815185547,8.244636535644531,3.6700692176818848,10.32873821258545,6.377140998840332,-1.1557575464248657,0.7775935530662537,-9.3407621383667,7.534463882446289,-1.4600919485092163,7.1270341873168945,3.308349132537842,-10.52096176147461,-9.754907608032227,0.04181966185569763,-9.261353492736816,-3.6625444889068604,5.195156097412109,8.142292022705078,-3.683368444442749,16.39008331298828,-14.1821928024292,-7.510668754577637,-13.808028221130371,-5.480389595031738,-13.216010093688965,-4.6369099617004395,-11.633822441101074,5.7102556228637695,8.443520545959473,-2.5625674724578857,-0.2577049434185028,7.211378574371338,0.6544340252876282,5.770094394683838,-4.202576160430908,17.516864776611328,5.557348251342773,4.6894917488098145,-9.505668640136719,-6.5556254386901855,6.942901611328125,-1.595502495765686,-9.359609603881836,17.373159408569336,7.742941856384277,6.750267028808594,17.914794921875,-0.7479479908943176,-2.298372983932495,4.766139984130859,-10.558987617492676,-7.779309272766113,-8.492844581604004,-12.38701057434082,-1.6833133697509766,13.685470581054688,1.7019881010055542,-0.47198686003685,5.5888752937316895,-2.98115873336792,-12.988480567932129,-12.046700477600098,4.95559549331665,-12.82163143157959,-16.769304275512695,-4.276303768157959,-9.642560005187988,8.627071380615234,-3.183826208114624,-2.2742044925689697,-11.135812759399414,-1.3430365324020386,-3.995211601257324,5.7008562088012695,-14.98656940460205,11.69275951385498,-12.325828552246094,-12.758796691894531,11.154256820678711,8.011199951171875,10.24526309967041,-5.997447490692139,18.281068801879883,5.10398530960083,-3.5245754718780518,-11.096333503723145,15.191109657287598,-16.102399826049805,1.6503909826278687,-9.36781120300293,-13.380962371826172,5.124070644378662,-13.66102123260498,5.241499900817871,16.694284439086914,5.328253746032715,-0.0476769283413887,-13.697112083435059,-13.38719654083252,5.581153392791748,-13.464539527893066,-15.508722305297852,-11.207341194152832,-5.191421985626221,-16.100900650024414,-1.6737561225891113,0.8757607340812683,8.519831657409668,13.626364707946777,6.1772847175598145,15.019526481628418,-6.868837833404541,-1.3427655696868896,7.732944965362549,16.455625534057617,5.561276912689209,6.599137306213379,-0.38376712799072266,-13.724257469177246,2.285215377807617,7.471153259277344,1.96260666847229,-15.713473320007324,-2.159695863723755,6.34141206741333,-14.440020561218262,-12.541483879089355,-9.631625175476074,-9.137669563293457,-13.183062553405762,2.8198800086975098,-9.114032745361328,1.9549452066421509,-10.804953575134277,-2.777620553970337,-16.42685317993164,-10.746495246887207,5.080025672912598,-4.561190128326416,-7.2062602043151855,9.155689239501953,4.968604564666748,7.4272780418396,13.07150650024414,5.817868709564209,0.5690438747406006,0.6413002610206604,3.471902847290039,5.916555404663086,2.394275665283203,5.492404937744141,6.421360969543457,-0.5048214197158813,-7.888455390930176,-16.233556747436523,0.3647024631500244,-5.146230220794678,1.318373203277588,14.468050003051758,3.9459900856018066,-3.092979907989502,17.16558265686035,-9.968084335327148,8.38266372680664,8.581818580627441,4.274487018585205,2.386021614074707,-14.45129680633545,-2.1010379791259766,-3.069584846496582,-1.6257308721542358,0.913747251033783,8.927385330200195,-10.181594848632812,17.042842864990234,-5.032301902770996,10.959805488586426,-8.875818252563477,8.520633697509766,7.699507236480713,4.918341636657715,0.14327166974544525,-14.770116806030273,3.0854244232177734,-2.664477825164795,-8.633832931518555,9.1008939743042,2.411271810531616,-12.723779678344727,-15.283666610717773,4.675578594207764,0.21350471675395966,5.97715425491333,-11.739079475402832,-2.472745180130005,-13.811297416687012,0.7984824776649475,-3.4404263496398926,3.8561525344848633,-1.3609720468521118,12.086946487426758,6.7463812828063965,2.9472856521606445,-9.569080352783203,7.9452009201049805,-3.193326473236084,-13.96446418762207,-12.40609359741211,1.2478302717208862,-6.17259407043457,6.048579692840576,8.576502799987793,-8.221563339233398,4.391651630401611,3.7346324920654297,12.546813011169434,7.153733253479004,-15.364277839660645,-16.108163833618164,-10.187128067016602,-16.757915496826172,-13.796893119812012,-3.03779935836792,-16.133411407470703,-11.040177345275879,7.06573486328125,15.094457626342773,18.259765625,-8.713622093200684,-0.19285517930984497,8.991783142089844,-8.889384269714355,-14.491072654724121,11.24852466583252,-2.5185585021972656,-15.683754920959473,-7.541337013244629,2.904003620147705,-5.752320766448975,-12.099910736083984,7.248280048370361,4.801174163818359,3.416231393814087,9.283578872680664,-9.397523880004883,-5.839818477630615,-12.061149597167969,9.269153594970703,5.968174934387207,-0.15881192684173584,-2.471734046936035,-4.507102966308594,1.3758009672164917,1.126238226890564,1.9233722686767578,-10.941852569580078,-10.73194694519043,-12.990339279174805,-6.960143566131592,-0.054049793630838394,-7.401671886444092,2.8540501594543457,4.465338230133057,-0.38009127974510193,-14.741920471191406,11.822111129760742,16.312297821044922,17.163896560668945,-6.779426574707031,1.1844066381454468,9.53968334197998,9.692464828491211,-6.887449264526367,6.085810661315918,16.936742782592773,13.939471244812012,-14.403331756591797,-6.207630634307861,-15.075176239013672,-4.325368881225586,-6.6628031730651855,-2.0755531787872314,-1.8106229305267334,7.5547099113464355,-4.189098834991455,14.713537216186523,3.253783941268921,-9.708866119384766,5.614756107330322,-17.215564727783203,6.767960071563721,7.612334251403809,2.2009613513946533,5.504231929779053,0.6837322115898132,-1.0019196271896362,-7.469241619110107,-0.06632712483406067,-7.776920795440674,14.3648099899292,8.400611877441406,1.1999588012695312,0.8983978033065796,6.7930006980896,7.225444316864014,1.342218041419983,0.7377368211746216,17.160873413085938,7.479348182678223,12.641718864440918,-0.0047695692628622055,-4.31107759475708,10.379363059997559,17.609899520874023,-16.03809928894043,4.535267353057861,-10.160445213317871,17.404491424560547,14.91782283782959,-16.791303634643555,11.932635307312012,-6.229197978973389,16.12232780456543,-1.4687681198120117,-5.189946174621582,7.880924701690674,-7.233710765838623,13.97863483428955,5.081974506378174,1.2894704341888428,1.398456335067749,-0.6663171648979187,-4.30700159072876,-3.63420033454895,4.713618278503418,7.380710601806641,-3.4795496463775635,-14.618635177612305,4.813209533691406,-7.707721710205078,-7.424707412719727,16.049814224243164,6.134280204772949,-4.848416805267334,-7.630866527557373,-2.277904987335205,-16.011106491088867,-7.412713527679443,-12.993941307067871,-13.80451488494873,-4.428587436676025,17.811880111694336,-4.0159173011779785,-1.0203677415847778,7.941255569458008,-14.569836616516113,15.827506065368652,8.659581184387207,-12.502154350280762,-3.406125545501709,7.144331455230713,-11.090484619140625,-7.312459468841553,-6.766514301300049,-9.949151992797852,-8.176606178283691,-7.673464298248291,-12.680107116699219,6.29160737991333,13.381585121154785,6.537193775177002,-13.021821022033691,0.33375340700149536,0.6676974892616272,-11.672996520996094,-4.556875228881836,13.971233367919922,11.04767894744873,2.7294764518737793,-11.099690437316895,5.070712566375732,6.820762634277344,13.076423645019531,0.17976225912570953,-2.339604139328003,-2.149402141571045,-14.771858215332031,15.9357271194458,-6.289584636688232,5.756885051727295,14.573328971862793,1.57142174243927,13.642393112182617,-2.088721513748169,-14.751226425170898,2.8055882453918457,15.019491195678711,-10.985757827758789,8.754470825195312,-13.013246536254883,7.859864234924316,2.772195339202881,11.744342803955078,-1.0439791679382324,7.302765846252441,5.2991414070129395,-0.23960945010185242,8.580769538879395,-3.9108760356903076,9.714089393615723,17.15178871154785,11.995803833007812,-13.684847831726074,-14.082724571228027,-15.13873291015625,7.634974002838135,6.18518590927124,6.554208755493164,-6.363192558288574,-8.313117980957031,-16.929725646972656,-7.025605201721191,11.821961402893066,-17.97235107421875,10.507686614990234,9.840858459472656,2.878089189529419,-0.20609846711158752,0.962173581123352,-0.7976517677307129,3.3984813690185547,7.664527416229248,-16.131484985351562,15.159213066101074,-9.673291206359863,-12.92018985748291,-4.225104331970215,-7.158134460449219,16.172527313232422,1.4904658794403076,6.650312900543213,4.940609455108643,15.467571258544922,-6.330620765686035,-5.618969917297363,8.0220365524292,-2.959484577178955,-14.514084815979004,-15.433547973632812,5.5466084480285645,-16.732696533203125,4.228490829467773,12.219620704650879,-3.0706002712249756,10.03851318359375,-2.5946316719055176,7.797661304473877,1.451391577720642,-2.496248245239258,-6.623194217681885,6.4157609939575195,3.0366806983947754,-15.180466651916504,-14.036646842956543,-7.252266883850098,8.84637451171875,-3.3218891620635986,-4.203351974487305,-14.21529483795166,-4.730743885040283,2.7915878295898438,17.514352798461914,-12.010697364807129,16.44387435913086,-7.851914405822754,16.42620277404785,9.993707656860352,-0.475033164024353,-2.173421621322632,7.661660194396973,1.35651433467865,-15.950630187988281,-14.043458938598633,2.3416619300842285,1.9861412048339844,-15.853026390075684,-10.882570266723633,-7.184964179992676,0.5895717740058899,-0.022303666919469833,0.8096566200256348,-4.089829444885254,17.52092170715332,8.676833152770996,6.870181560516357,-0.054643381386995316,18.44563865661621,-7.6607770919799805,4.577356815338135,-12.293109893798828,14.480610847473145,8.284246444702148,-5.666088581085205,12.905900955200195,0.7348130345344543,-0.8655719757080078,-11.272159576416016,2.5923173427581787,-10.013700485229492,-7.412699222564697,6.374707221984863,16.701988220214844,1.5940338373184204,-11.834781646728516,3.1403017044067383,0.15775059163570404,-11.950477600097656,-13.346571922302246,-9.016508102416992,-10.607095718383789,16.129627227783203,17.183008193969727,-3.4585647583007812,-9.049446105957031,8.191950798034668,5.462277412414551,16.79637908935547,-11.346142768859863,-7.877557754516602],\"z\":[7.8272624015808105,-8.579559326171875,11.164323806762695,-0.5625066161155701,15.066797256469727,-3.0736868381500244,-10.566644668579102,1.36430025100708,4.118176460266113,-0.1388525515794754,-0.875027060508728,11.802906036376953,-5.300912380218506,11.829744338989258,7.261476039886475,3.33731746673584,-5.303356170654297,-2.0280914306640625,10.420607566833496,10.319425582885742,-3.495987892150879,4.326882362365723,11.715242385864258,4.7251200675964355,2.109245538711548,1.656998634338379,11.014666557312012,0.8153350353240967,9.438309669494629,6.183987617492676,2.1026833057403564,-8.051141738891602,4.413203239440918,6.78704833984375,-3.877913475036621,2.769416332244873,3.4959349632263184,0.8209975957870483,6.127334117889404,-2.8201544284820557,-11.140913963317871,5.511961460113525,-6.409380912780762,1.8181829452514648,6.588900089263916,2.804258346557617,6.510415077209473,4.300163745880127,11.58218765258789,-9.522662162780762,-2.5955498218536377,9.62233829498291,-2.5368518829345703,2.8497138023376465,-2.0701541900634766,-8.805309295654297,-3.8033876419067383,-5.783653259277344,6.297501564025879,8.102811813354492,-6.296827793121338,-2.5126490592956543,7.546377658843994,5.03668737411499,-7.316674709320068,6.621835231781006,-10.104052543640137,-1.2885218858718872,11.23533821105957,0.1304137408733368,8.113853454589844,2.0704288482666016,7.704654693603516,-2.8332712650299072,5.940013408660889,5.407893180847168,10.04960823059082,4.643623352050781,2.947718620300293,1.8924143314361572,2.5441322326660156,4.336759090423584,11.554922103881836,-2.2840099334716797,-8.548559188842773,-4.656815052032471,-8.021056175231934,-10.726757049560547,-2.808466672897339,6.8698272705078125,3.4625327587127686,-1.3205689191818237,-5.318154335021973,-11.889606475830078,-8.29638385772705,7.991699695587158,-3.089632034301758,-3.880777597427368,-0.12340477854013443,10.106279373168945,7.85408353805542,-9.823892593383789,-3.4556033611297607,-3.697821855545044,7.870172500610352,-0.8878607749938965,-3.3639838695526123,-6.004199504852295,4.973928928375244,4.695497512817383,7.056942939758301,6.172463893890381,-3.904630184173584,5.128983974456787,12.907418251037598,4.712320327758789,-13.044174194335938,-12.147558212280273,-1.7238813638687134,-0.7301696538925171,4.1900529861450195,-1.4859851598739624,-6.357694625854492,-7.959230422973633,0.7221962809562683,-6.721020221710205,-6.978939056396484,0.2306690514087677,-8.1742582321167,-6.019443988800049,-3.7412638664245605,-3.259803295135498,-1.6674426794052124,-8.448868751525879,-10.897297859191895,6.941496849060059,12.299415588378906,-0.9213005900382996,-6.299598693847656,-2.4392497539520264,-2.4439470767974854,5.041657447814941,-3.9879438877105713,12.675209999084473,-1.0646791458129883,0.019167127087712288,0.3704492747783661,-9.664474487304688,-7.339344024658203,-2.191265344619751,7.389367580413818,5.483133316040039,-0.3634682297706604,-4.850671768188477,5.628901481628418,-3.001669406890869,-8.73162841796875,-9.685848236083984,6.378648281097412,-2.5044198036193848,-12.413935661315918,-5.853417873382568,6.260387420654297,1.5661553144454956,-0.5466837882995605,-10.572714805603027,-2.411090135574341,5.529466152191162,8.61929988861084,0.2636024057865143,-3.9835469722747803,-3.285299777984619,0.6603915691375732,12.305392265319824,1.3491652011871338,-10.243727684020996,-1.0664607286453247,11.51183032989502,-7.674880504608154,0.2747621536254883,-0.9136470556259155,1.9235080480575562,-9.71158504486084,5.177971839904785,5.972667694091797,-13.520798683166504,4.74192476272583,-4.373996257781982,1.862035870552063,4.795967102050781,-9.786173820495605,13.275415420532227,-1.2607972621917725,12.732540130615234,-13.285526275634766,-10.904911994934082,-2.4438722133636475,-6.097099304199219,8.899834632873535,0.725623369216919,-1.5777690410614014,-2.103445291519165,-7.9264655113220215,11.720852851867676,11.685693740844727,-8.274150848388672,-0.14470672607421875,-1.963165044784546,1.0407663583755493,-6.2706522941589355,1.0005676746368408,4.193570137023926,6.136778831481934,5.48855447769165,-1.3353391885757446,-2.9896035194396973,-6.356876373291016,4.031700134277344,7.143710613250732,-1.8641681671142578,12.135369300842285,-5.707406520843506,11.265448570251465,4.255143642425537,-12.103570938110352,-0.24338266253471375,-6.621119499206543,1.5837395191192627,-11.491660118103027,2.8066399097442627,-10.629570960998535,-5.543537616729736,-0.4617006480693817,-0.5695727467536926,-2.336087465286255,-5.504485607147217,-4.548043727874756,4.595477104187012,0.5570089221000671,11.718317985534668,-1.9787007570266724,-3.711230516433716,9.767632484436035,-9.994216918945312,2.8343520164489746,-9.886551856994629,3.3906009197235107,3.850741147994995,-6.574375152587891,11.956978797912598,-4.955596446990967,-0.7027110457420349,2.0679996013641357,-5.859963417053223,-0.8524923324584961,3.2710278034210205,7.2795939445495605,-11.714008331298828,2.9537227153778076,-0.6747288107872009,11.017335891723633,-5.463836193084717,13.651285171508789,-0.8423385620117188,-3.6923515796661377,-9.724010467529297,-0.1467757523059845,-12.265457153320312,4.946575164794922,-4.5186567306518555,-5.209412574768066,-10.024898529052734,4.952579975128174,10.578789710998535,-1.4299582242965698,-7.660188674926758,6.580078125,13.314529418945312,-5.886597156524658,1.8264325857162476,-7.072325229644775,10.382539749145508,0.5117766261100769,7.515278339385986,12.150450706481934,-6.795576095581055,-3.5052671432495117,-5.866038799285889,-11.770750999450684,9.493793487548828,6.604039669036865,-6.854916095733643,-3.029167652130127,-6.809138298034668,-2.438523530960083,-3.6346383094787598,0.46783411502838135,1.0270256996154785,-2.1453826427459717,7.345394134521484,-5.0959014892578125,-12.783483505249023,5.950977802276611,2.445197343826294,1.6652699708938599,6.96365213394165,-4.0405097007751465,6.396973133087158,-10.442991256713867,6.039385795593262,5.44438362121582,-10.411789894104004,2.331244945526123,11.442392349243164,-3.6468708515167236,6.44746732711792,0.10822581499814987,-10.01601791381836,6.1419196128845215,-8.596405982971191,-4.9914727210998535,3.1933977603912354,1.1871505975723267,-4.112912178039551,2.5310189723968506,4.33280611038208,0.9737721085548401,0.3637184202671051,7.950675964355469,0.6649238467216492,-12.577499389648438,4.852163791656494,-6.976262092590332,-1.8990402221679688,-10.248262405395508,9.706634521484375,-6.232647895812988,6.809573650360107,4.610005855560303,4.883702754974365,6.238532066345215,-0.7951092720031738,-1.9810384511947632,-5.719489097595215,1.3046021461486816,9.632136344909668,-8.185433387756348,-12.097900390625,-0.4017070531845093,4.527811050415039,0.1268211156129837,4.911491394042969,-0.30307599902153015,-9.724081993103027,-3.5697293281555176,-0.6538938879966736,-3.3203256130218506,-3.9801688194274902,8.612058639526367,3.3143372535705566,-7.047667026519775,-4.27678108215332,0.7144160270690918,-9.176824569702148,0.2226448804140091,5.99283504486084,5.2025675773620605,-14.019899368286133,-11.680974006652832,-6.170490741729736,-6.174534797668457,-2.092773675918579,11.407776832580566,6.625415802001953,1.1891303062438965,-6.762732028961182,5.770456314086914,1.2595363855361938,-8.981802940368652,4.2561750411987305,-1.5378186702728271,-1.8980426788330078,6.055225372314453,0.27150681614875793,-6.831662178039551,-3.5392329692840576,-2.7663917541503906,-2.2479844093322754,0.5215427875518799,7.025387763977051,-6.53013277053833,-2.475159168243408,3.3443005084991455,4.749497890472412,-1.579689621925354,-9.765250205993652,-0.535181999206543,2.996914863586426,5.3872528076171875,2.836820602416992,-0.42681577801704407,-5.288198471069336,-10.29893684387207,-8.825509071350098,3.1365609169006348,-12.195014953613281,9.454174995422363,-1.1910454034805298,-3.8753440380096436,-5.375329971313477,-8.329002380371094,5.088271141052246,7.8543596267700195,5.935776233673096,-7.354272365570068,-5.991080284118652,-9.369739532470703,-8.886606216430664,-0.10420000553131104,9.424545288085938,6.940969944000244,-3.054755449295044,-5.816522121429443,-6.343074798583984,8.545795440673828,-10.92223834991455,-10.646102905273438,1.208428978919983,7.818144798278809,9.71808910369873,5.027488708496094,-12.515581130981445,-2.3688242435455322,1.7111971378326416,8.117671966552734,-1.3137341737747192,-2.1960103511810303,11.020455360412598,4.779690265655518,11.360203742980957,-0.3389674127101898,2.703159809112549,12.134116172790527,10.326323509216309,-3.355956554412842,-0.6824942231178284,6.148265838623047,-6.727691650390625,10.607532501220703,1.958980679512024,-5.458895206451416,12.242292404174805,-7.506100177764893,6.565974712371826,-2.798888683319092,-7.358027935028076,3.0836923122406006,11.8503999710083,3.5917553901672363,1.0856742858886719,-7.131969928741455,10.969038963317871,-6.733129501342773,-0.6386803388595581,2.8659138679504395,3.636255979537964,4.784729480743408,5.895815849304199,-10.623984336853027,9.450236320495605,3.452340841293335,-1.8046406507492065,-7.695287704467773,4.308633327484131,-6.398246765136719,-13.274813652038574,-10.31532096862793,1.2828258275985718,9.208341598510742,-9.155555725097656,-9.553065299987793,-3.7178497314453125,2.4774227142333984,9.599388122558594,-13.079207420349121,10.667816162109375,-2.277510643005371,8.444253921508789,7.240416049957275,12.847618103027344,4.327114105224609,-3.265584945678711,1.2478026151657104,6.476902484893799,9.714400291442871,1.0247598886489868,-5.917050838470459,-3.1088523864746094,-5.238393783569336,8.181052207946777,-6.499467372894287,0.918580174446106,3.9166221618652344,-2.4165704250335693,8.074763298034668,12.413719177246094,5.021866798400879,-11.61404800415039,8.52314567565918,2.7062506675720215,13.688085556030273,-10.250956535339355,-3.613642454147339,4.656442642211914,2.034501075744629,-7.250823497772217,-5.385022163391113,4.298072814941406,0.34486258029937744,-4.279343605041504,7.219988822937012,10.311409950256348,3.106513023376465,7.6807966232299805,7.611806869506836,-13.279196739196777,0.007387968245893717,-12.850512504577637,1.504655122756958,5.726615905761719,-3.4776039123535156,4.917576789855957,-3.3933751583099365,-5.7425360679626465,-3.2527315616607666,4.914571762084961,-10.151569366455078,11.621313095092773,9.989253997802734,-4.851654052734375,-2.1447746753692627,-0.9134140014648438,-8.080694198608398,-6.974619388580322,-12.201579093933105,-3.6475906372070312,-0.5379518270492554,-0.2520860731601715,1.434875726699829,0.328559547662735,-5.184274196624756,6.867090702056885,11.365571022033691,6.411510467529297,-7.066409587860107,-2.0862913131713867,-3.6801581382751465,7.465980529785156,0.4551931619644165,3.239180088043213,10.903491973876953,7.4048051834106445,-7.747357368469238,-0.32925164699554443,-2.6634957790374756,1.100504994392395,-8.74315071105957,0.5985814929008484,1.936257243156433,-1.9492051601409912,7.834771633148193,-2.6595113277435303,2.453294038772583,4.911873817443848,-8.142837524414062,6.826074123382568,-9.298112869262695,-11.438356399536133,7.247402667999268,4.615816593170166,6.851820945739746,5.085701942443848,7.134042739868164,-9.417924880981445,-10.39288330078125,-0.29905667901039124,5.769653797149658,-5.344139099121094,-13.393725395202637,5.090468406677246,-5.592650890350342,-8.203274726867676,3.688713788986206,3.110450267791748,-2.9078502655029297,-3.75065279006958,1.5491113662719727,6.107627868652344,1.3119025230407715,10.345932006835938,-1.8434597253799438,-1.7363530397415161,3.3519527912139893,-11.657428741455078,-0.2963263690471649,-6.566895008087158,0.8408251404762268,6.766657829284668,-1.351033329963684,-4.611352443695068,2.8890323638916016,6.476253509521484,8.149421691894531,5.83418083190918,-0.027914443984627724,-8.210565567016602,-0.2463190257549286,-2.149204730987549,0.29036450386047363,5.71099328994751,1.808374047279358,-3.6036040782928467,-4.502166271209717,0.7227560877799988,7.652920246124268,4.873190402984619,-12.594579696655273,13.874842643737793,-2.4804751873016357,-0.3082064390182495,-6.153078556060791,-6.148624420166016,5.7571187019348145,10.880134582519531,7.014339923858643,9.74375057220459,-6.481307029724121,1.4672890901565552,-2.6200952529907227,-3.756883144378662,11.60426139831543,-6.4596099853515625,-10.94457721710205,4.708802223205566,6.098087787628174,5.526970386505127,9.304699897766113,6.393202781677246,2.905776023864746,3.8932483196258545,-6.561984062194824,-8.341541290283203,-2.224045515060425,-2.065993070602417,-10.056665420532227,-4.642805576324463,10.798871040344238,7.402166843414307,-2.6984100341796875,4.54512882232666,6.22590446472168,-3.450786590576172,2.874917507171631,7.566702365875244,-0.4480418562889099,-4.8550543785095215,-1.3590794801712036,-8.48686408996582,-6.156515598297119,-9.517632484436035,-2.403242588043213,-0.5645523071289062,-5.645002841949463,0.2227078378200531,-1.744602918624878,-5.777372360229492,-6.7087483406066895,-4.405734062194824,0.7655807137489319,-8.454500198364258,8.308462142944336,-6.884902477264404,5.367103576660156,0.39116528630256653,-9.113382339477539,-9.793049812316895,-0.5887071490287781,-11.68797492980957,-1.2780612707138062,5.524734020233154,6.400548458099365,4.694415092468262,7.7287211418151855,-1.3695483207702637,-2.9486913681030273,-3.788327693939209,3.7478113174438477,-0.29432377219200134,4.979579925537109,4.902421951293945,-1.0531103610992432,-4.817681789398193,11.826326370239258,9.472688674926758,2.226565361022949,-8.900182723999023,-0.20151294767856598,4.951284885406494,2.4104607105255127,2.0279200077056885,6.691725730895996,-8.893935203552246,0.1803271323442459,1.4182803630828857,-1.842575192451477,-3.267256736755371,-3.189648151397705,2.190500259399414,-1.862005591392517,-3.930518865585327,10.474623680114746,-13.407386779785156,-1.6321719884872437,9.57784652709961,-0.3296738564968109,4.408285617828369,2.033507823944092,-4.340597629547119,1.0966782569885254,-2.421196222305298,0.5881924629211426,10.655448913574219,0.4521748125553131,0.058652326464653015,3.391296863555908,-1.953125,5.325053691864014,2.648211717605591,1.9295955896377563,4.087445259094238,-1.9358618259429932,6.238370418548584,6.709752559661865,1.5167276859283447,5.205411434173584,1.3227530717849731,2.9778623580932617,-3.8416671752929688,11.91645622253418,6.79671573638916,-7.814393520355225,11.459307670593262,-8.719669342041016,-13.311057090759277,-7.91525936126709,11.90111255645752,1.7150264978408813,-5.434741497039795,4.9950995445251465,-11.832744598388672,5.859630107879639,-5.708205699920654,-5.229259490966797,-9.162982940673828,6.764620780944824,-13.497493743896484,-12.289732933044434,12.691974639892578,-10.000375747680664,13.805218696594238,1.9793106317520142,9.028228759765625,2.405653476715088,-10.460306167602539,4.630405902862549,-8.987598419189453,-2.3214759826660156,-0.46349698305130005,5.935855865478516,5.7650909423828125,5.47069787979126,-12.81083869934082,-3.645594358444214,7.067445278167725,3.09582257270813,6.686067581176758,-6.371099948883057,-1.859830379486084,1.2637983560562134,-1.1898332834243774,2.8426315784454346,3.6897220611572266,2.9915010929107666,7.268435955047607,-13.5803861618042,-9.160914421081543,-6.535153865814209,10.926898002624512,4.998983383178711,-9.46937370300293,-3.4874844551086426,-1.2426493167877197,0.930952250957489,-8.43725299835205,12.184510231018066,-10.451498985290527,-7.38618278503418,-2.557116746902466,-2.502344846725464,-5.2387895584106445,10.900735855102539,0.5669044256210327,6.596587657928467,6.23305082321167,-3.936450481414795,10.404214859008789,-3.8636019229888916,4.309311866760254,-0.9232909083366394,-0.21718375384807587,-0.3827795684337616,11.210138320922852,1.0351625680923462,-4.165802478790283,-3.1666829586029053,-2.203183174133301,-2.446357250213623,2.088061571121216,3.446139097213745,5.650930881500244,-1.98094642162323,3.6882309913635254,7.203638076782227,1.4190008640289307,12.344036102294922,-0.3841803967952728,11.251115798950195,13.647985458374023,-0.5255946516990662,-6.505961894989014,4.9417290687561035,-3.515623092651367,-0.20502030849456787,-6.276612281799316,-10.845757484436035,-3.341541290283203,-4.237405776977539,4.6869282722473145,6.896918296813965,0.6913719177246094,-3.487643241882324,8.457404136657715,-5.769898414611816,4.545130729675293,1.0557438135147095,-4.285192489624023,0.6835771799087524,-4.086286544799805,0.8594260215759277,2.7899158000946045,6.4308881759643555,0.9481117129325867,3.578946590423584,2.7199010848999023,-3.964378833770752,-0.8479118347167969,-12.80151081085205,-0.7248217463493347,-0.5589761137962341,5.719200611114502,1.8974348306655884,-5.357689380645752,-8.209193229675293,6.5440449714660645,-9.826471328735352,-5.075721263885498,-2.0059127807617188,-3.2417852878570557,8.086372375488281,10.417661666870117,5.858705520629883,5.326225280761719,-0.48171523213386536,2.656284809112549,2.9632790088653564,-3.6120073795318604,5.520888805389404,-2.7301719188690186,7.541064262390137,2.0796408653259277,11.454263687133789,5.924169540405273,8.232763290405273,0.5011025071144104,5.721414566040039,4.516162395477295,6.340919494628906,-10.723028182983398,1.8155852556228638,0.3125711679458618,-5.207104682922363,-5.394755840301514,-7.814862251281738,4.880369663238525,2.7402842044830322,12.104419708251953,0.676098644733429,-7.359749794006348,7.808943271636963,4.576762676239014,-6.251716613769531,-4.953674793243408,-5.215122222900391,5.991888999938965,3.2671546936035156,14.005450248718262,8.964933395385742,-6.2138991355896,-3.858863353729248,-2.4868266582489014,8.009921073913574,-1.418595552444458,-0.4087888300418854,3.018942356109619,-4.304629802703857,7.043121337890625,-10.155917167663574,8.615550994873047,-2.048304557800293,-4.509847164154053,14.413597106933594,-5.607086658477783,-7.457360744476318,5.703289031982422,2.3553097248077393,9.391286849975586,-3.0782828330993652,10.262823104858398,-7.472655773162842,-0.7420485019683838,8.714457511901855,-4.080242156982422,2.3971402645111084,-3.864262819290161,5.601031303405762,4.4564738273620605,4.038558006286621,2.4681732654571533,-5.755484104156494,-11.01759147644043,9.41817569732666,-1.2572070360183716,4.02006196975708,0.3887293040752411,-2.5211739540100098,-9.285505294799805,-2.9434585571289062,4.218234062194824,1.2446469068527222,-2.266094923019409,-13.619375228881836,-2.972627878189087,11.219118118286133,4.192825794219971,7.270090579986572,-10.659651756286621,-6.503023624420166,6.752505302429199,3.912862777709961,-6.5425286293029785,6.433991432189941,5.080914497375488,5.9676642417907715,13.629500389099121,1.9895931482315063,-10.592962265014648,-9.558389663696289,5.668670654296875,0.48831990361213684,-1.9743304252624512,3.3295950889587402,7.872097969055176,0.33788275718688965,-12.922066688537598,5.0685200691223145,-5.503571033477783,-3.086099863052368,0.3352668285369873,-2.243438243865967,11.170514106750488,-1.504224181175232,7.1496052742004395,5.234710693359375,10.205537796020508,3.5335493087768555,8.252150535583496,-1.7645272016525269,1.2911477088928223,1.0666310787200928,10.914955139160156],\"type\":\"scatter3d\"}],                        {\"template\":{\"data\":{\"bar\":[{\"error_x\":{\"color\":\"#2a3f5f\"},\"error_y\":{\"color\":\"#2a3f5f\"},\"marker\":{\"line\":{\"color\":\"#E5ECF6\",\"width\":0.5},\"pattern\":{\"fillmode\":\"overlay\",\"size\":10,\"solidity\":0.2}},\"type\":\"bar\"}],\"barpolar\":[{\"marker\":{\"line\":{\"color\":\"#E5ECF6\",\"width\":0.5},\"pattern\":{\"fillmode\":\"overlay\",\"size\":10,\"solidity\":0.2}},\"type\":\"barpolar\"}],\"carpet\":[{\"aaxis\":{\"endlinecolor\":\"#2a3f5f\",\"gridcolor\":\"white\",\"linecolor\":\"white\",\"minorgridcolor\":\"white\",\"startlinecolor\":\"#2a3f5f\"},\"baxis\":{\"endlinecolor\":\"#2a3f5f\",\"gridcolor\":\"white\",\"linecolor\":\"white\",\"minorgridcolor\":\"white\",\"startlinecolor\":\"#2a3f5f\"},\"type\":\"carpet\"}],\"choropleth\":[{\"colorbar\":{\"outlinewidth\":0,\"ticks\":\"\"},\"type\":\"choropleth\"}],\"contour\":[{\"colorbar\":{\"outlinewidth\":0,\"ticks\":\"\"},\"colorscale\":[[0.0,\"#0d0887\"],[0.1111111111111111,\"#46039f\"],[0.2222222222222222,\"#7201a8\"],[0.3333333333333333,\"#9c179e\"],[0.4444444444444444,\"#bd3786\"],[0.5555555555555556,\"#d8576b\"],[0.6666666666666666,\"#ed7953\"],[0.7777777777777778,\"#fb9f3a\"],[0.8888888888888888,\"#fdca26\"],[1.0,\"#f0f921\"]],\"type\":\"contour\"}],\"contourcarpet\":[{\"colorbar\":{\"outlinewidth\":0,\"ticks\":\"\"},\"type\":\"contourcarpet\"}],\"heatmap\":[{\"colorbar\":{\"outlinewidth\":0,\"ticks\":\"\"},\"colorscale\":[[0.0,\"#0d0887\"],[0.1111111111111111,\"#46039f\"],[0.2222222222222222,\"#7201a8\"],[0.3333333333333333,\"#9c179e\"],[0.4444444444444444,\"#bd3786\"],[0.5555555555555556,\"#d8576b\"],[0.6666666666666666,\"#ed7953\"],[0.7777777777777778,\"#fb9f3a\"],[0.8888888888888888,\"#fdca26\"],[1.0,\"#f0f921\"]],\"type\":\"heatmap\"}],\"heatmapgl\":[{\"colorbar\":{\"outlinewidth\":0,\"ticks\":\"\"},\"colorscale\":[[0.0,\"#0d0887\"],[0.1111111111111111,\"#46039f\"],[0.2222222222222222,\"#7201a8\"],[0.3333333333333333,\"#9c179e\"],[0.4444444444444444,\"#bd3786\"],[0.5555555555555556,\"#d8576b\"],[0.6666666666666666,\"#ed7953\"],[0.7777777777777778,\"#fb9f3a\"],[0.8888888888888888,\"#fdca26\"],[1.0,\"#f0f921\"]],\"type\":\"heatmapgl\"}],\"histogram\":[{\"marker\":{\"pattern\":{\"fillmode\":\"overlay\",\"size\":10,\"solidity\":0.2}},\"type\":\"histogram\"}],\"histogram2d\":[{\"colorbar\":{\"outlinewidth\":0,\"ticks\":\"\"},\"colorscale\":[[0.0,\"#0d0887\"],[0.1111111111111111,\"#46039f\"],[0.2222222222222222,\"#7201a8\"],[0.3333333333333333,\"#9c179e\"],[0.4444444444444444,\"#bd3786\"],[0.5555555555555556,\"#d8576b\"],[0.6666666666666666,\"#ed7953\"],[0.7777777777777778,\"#fb9f3a\"],[0.8888888888888888,\"#fdca26\"],[1.0,\"#f0f921\"]],\"type\":\"histogram2d\"}],\"histogram2dcontour\":[{\"colorbar\":{\"outlinewidth\":0,\"ticks\":\"\"},\"colorscale\":[[0.0,\"#0d0887\"],[0.1111111111111111,\"#46039f\"],[0.2222222222222222,\"#7201a8\"],[0.3333333333333333,\"#9c179e\"],[0.4444444444444444,\"#bd3786\"],[0.5555555555555556,\"#d8576b\"],[0.6666666666666666,\"#ed7953\"],[0.7777777777777778,\"#fb9f3a\"],[0.8888888888888888,\"#fdca26\"],[1.0,\"#f0f921\"]],\"type\":\"histogram2dcontour\"}],\"mesh3d\":[{\"colorbar\":{\"outlinewidth\":0,\"ticks\":\"\"},\"type\":\"mesh3d\"}],\"parcoords\":[{\"line\":{\"colorbar\":{\"outlinewidth\":0,\"ticks\":\"\"}},\"type\":\"parcoords\"}],\"pie\":[{\"automargin\":true,\"type\":\"pie\"}],\"scatter\":[{\"marker\":{\"colorbar\":{\"outlinewidth\":0,\"ticks\":\"\"}},\"type\":\"scatter\"}],\"scatter3d\":[{\"line\":{\"colorbar\":{\"outlinewidth\":0,\"ticks\":\"\"}},\"marker\":{\"colorbar\":{\"outlinewidth\":0,\"ticks\":\"\"}},\"type\":\"scatter3d\"}],\"scattercarpet\":[{\"marker\":{\"colorbar\":{\"outlinewidth\":0,\"ticks\":\"\"}},\"type\":\"scattercarpet\"}],\"scattergeo\":[{\"marker\":{\"colorbar\":{\"outlinewidth\":0,\"ticks\":\"\"}},\"type\":\"scattergeo\"}],\"scattergl\":[{\"marker\":{\"colorbar\":{\"outlinewidth\":0,\"ticks\":\"\"}},\"type\":\"scattergl\"}],\"scattermapbox\":[{\"marker\":{\"colorbar\":{\"outlinewidth\":0,\"ticks\":\"\"}},\"type\":\"scattermapbox\"}],\"scatterpolar\":[{\"marker\":{\"colorbar\":{\"outlinewidth\":0,\"ticks\":\"\"}},\"type\":\"scatterpolar\"}],\"scatterpolargl\":[{\"marker\":{\"colorbar\":{\"outlinewidth\":0,\"ticks\":\"\"}},\"type\":\"scatterpolargl\"}],\"scatterternary\":[{\"marker\":{\"colorbar\":{\"outlinewidth\":0,\"ticks\":\"\"}},\"type\":\"scatterternary\"}],\"surface\":[{\"colorbar\":{\"outlinewidth\":0,\"ticks\":\"\"},\"colorscale\":[[0.0,\"#0d0887\"],[0.1111111111111111,\"#46039f\"],[0.2222222222222222,\"#7201a8\"],[0.3333333333333333,\"#9c179e\"],[0.4444444444444444,\"#bd3786\"],[0.5555555555555556,\"#d8576b\"],[0.6666666666666666,\"#ed7953\"],[0.7777777777777778,\"#fb9f3a\"],[0.8888888888888888,\"#fdca26\"],[1.0,\"#f0f921\"]],\"type\":\"surface\"}],\"table\":[{\"cells\":{\"fill\":{\"color\":\"#EBF0F8\"},\"line\":{\"color\":\"white\"}},\"header\":{\"fill\":{\"color\":\"#C8D4E3\"},\"line\":{\"color\":\"white\"}},\"type\":\"table\"}]},\"layout\":{\"annotationdefaults\":{\"arrowcolor\":\"#2a3f5f\",\"arrowhead\":0,\"arrowwidth\":1},\"autotypenumbers\":\"strict\",\"coloraxis\":{\"colorbar\":{\"outlinewidth\":0,\"ticks\":\"\"}},\"colorscale\":{\"diverging\":[[0,\"#8e0152\"],[0.1,\"#c51b7d\"],[0.2,\"#de77ae\"],[0.3,\"#f1b6da\"],[0.4,\"#fde0ef\"],[0.5,\"#f7f7f7\"],[0.6,\"#e6f5d0\"],[0.7,\"#b8e186\"],[0.8,\"#7fbc41\"],[0.9,\"#4d9221\"],[1,\"#276419\"]],\"sequential\":[[0.0,\"#0d0887\"],[0.1111111111111111,\"#46039f\"],[0.2222222222222222,\"#7201a8\"],[0.3333333333333333,\"#9c179e\"],[0.4444444444444444,\"#bd3786\"],[0.5555555555555556,\"#d8576b\"],[0.6666666666666666,\"#ed7953\"],[0.7777777777777778,\"#fb9f3a\"],[0.8888888888888888,\"#fdca26\"],[1.0,\"#f0f921\"]],\"sequentialminus\":[[0.0,\"#0d0887\"],[0.1111111111111111,\"#46039f\"],[0.2222222222222222,\"#7201a8\"],[0.3333333333333333,\"#9c179e\"],[0.4444444444444444,\"#bd3786\"],[0.5555555555555556,\"#d8576b\"],[0.6666666666666666,\"#ed7953\"],[0.7777777777777778,\"#fb9f3a\"],[0.8888888888888888,\"#fdca26\"],[1.0,\"#f0f921\"]]},\"colorway\":[\"#636efa\",\"#EF553B\",\"#00cc96\",\"#ab63fa\",\"#FFA15A\",\"#19d3f3\",\"#FF6692\",\"#B6E880\",\"#FF97FF\",\"#FECB52\"],\"font\":{\"color\":\"#2a3f5f\"},\"geo\":{\"bgcolor\":\"white\",\"lakecolor\":\"white\",\"landcolor\":\"#E5ECF6\",\"showlakes\":true,\"showland\":true,\"subunitcolor\":\"white\"},\"hoverlabel\":{\"align\":\"left\"},\"hovermode\":\"closest\",\"mapbox\":{\"style\":\"light\"},\"paper_bgcolor\":\"white\",\"plot_bgcolor\":\"#E5ECF6\",\"polar\":{\"angularaxis\":{\"gridcolor\":\"white\",\"linecolor\":\"white\",\"ticks\":\"\"},\"bgcolor\":\"#E5ECF6\",\"radialaxis\":{\"gridcolor\":\"white\",\"linecolor\":\"white\",\"ticks\":\"\"}},\"scene\":{\"xaxis\":{\"backgroundcolor\":\"#E5ECF6\",\"gridcolor\":\"white\",\"gridwidth\":2,\"linecolor\":\"white\",\"showbackground\":true,\"ticks\":\"\",\"zerolinecolor\":\"white\"},\"yaxis\":{\"backgroundcolor\":\"#E5ECF6\",\"gridcolor\":\"white\",\"gridwidth\":2,\"linecolor\":\"white\",\"showbackground\":true,\"ticks\":\"\",\"zerolinecolor\":\"white\"},\"zaxis\":{\"backgroundcolor\":\"#E5ECF6\",\"gridcolor\":\"white\",\"gridwidth\":2,\"linecolor\":\"white\",\"showbackground\":true,\"ticks\":\"\",\"zerolinecolor\":\"white\"}},\"shapedefaults\":{\"line\":{\"color\":\"#2a3f5f\"}},\"ternary\":{\"aaxis\":{\"gridcolor\":\"white\",\"linecolor\":\"white\",\"ticks\":\"\"},\"baxis\":{\"gridcolor\":\"white\",\"linecolor\":\"white\",\"ticks\":\"\"},\"bgcolor\":\"#E5ECF6\",\"caxis\":{\"gridcolor\":\"white\",\"linecolor\":\"white\",\"ticks\":\"\"}},\"title\":{\"x\":0.05},\"xaxis\":{\"automargin\":true,\"gridcolor\":\"white\",\"linecolor\":\"white\",\"ticks\":\"\",\"title\":{\"standoff\":15},\"zerolinecolor\":\"white\",\"zerolinewidth\":2},\"yaxis\":{\"automargin\":true,\"gridcolor\":\"white\",\"linecolor\":\"white\",\"ticks\":\"\",\"title\":{\"standoff\":15},\"zerolinecolor\":\"white\",\"zerolinewidth\":2}}},\"scene\":{\"domain\":{\"x\":[0.0,1.0],\"y\":[0.0,1.0]},\"xaxis\":{\"title\":{\"text\":\"0\"}},\"yaxis\":{\"title\":{\"text\":\"1\"}},\"zaxis\":{\"title\":{\"text\":\"2\"}}},\"coloraxis\":{\"colorbar\":{\"title\":{\"text\":\"Label\"}},\"colorscale\":[[0.0,\"#0d0887\"],[0.1111111111111111,\"#46039f\"],[0.2222222222222222,\"#7201a8\"],[0.3333333333333333,\"#9c179e\"],[0.4444444444444444,\"#bd3786\"],[0.5555555555555556,\"#d8576b\"],[0.6666666666666666,\"#ed7953\"],[0.7777777777777778,\"#fb9f3a\"],[0.8888888888888888,\"#fdca26\"],[1.0,\"#f0f921\"]]},\"legend\":{\"tracegroupgap\":0},\"title\":{\"text\":\"3d TSNE Plot for Outliers\"},\"height\":800,\"width\":900},                        {\"responsive\": true}                    ).then(function(){\n",
              "                            \n",
              "var gd = document.getElementById('bf7f920b-c751-4ee1-a45e-c576d884d145');\n",
              "var x = new MutationObserver(function (mutations, observer) {{\n",
              "        var display = window.getComputedStyle(gd).display;\n",
              "        if (!display || display === 'none') {{\n",
              "            console.log([gd, 'removed!']);\n",
              "            Plotly.purge(gd);\n",
              "            observer.disconnect();\n",
              "        }}\n",
              "}});\n",
              "\n",
              "// Listen for the removal of the full notebook cells\n",
              "var notebookContainer = gd.closest('#notebook-container');\n",
              "if (notebookContainer) {{\n",
              "    x.observe(notebookContainer, {childList: true});\n",
              "}}\n",
              "\n",
              "// Listen for the clearing of the current output cell\n",
              "var outputEl = gd.closest('.output');\n",
              "if (outputEl) {{\n",
              "    x.observe(outputEl, {childList: true});\n",
              "}}\n",
              "\n",
              "                        })                };                });            </script>        </div>"
            ]
          },
          "metadata": {}
        },
        {
          "output_type": "stream",
          "name": "stderr",
          "text": [
            "INFO:logs:Visual Rendered Successfully\n",
            "INFO:logs:plot_model() succesfully completed......................................\n"
          ]
        }
      ]
    },
    {
      "cell_type": "code",
      "source": [
        "## creating a model\n",
        "knn=create_model('knn')\n",
        "## plotting a model\n",
        "plot_model(knn)"
      ],
      "metadata": {
        "colab": {
          "base_uri": "https://localhost:8080/",
          "height": 1000
        },
        "id": "1nCcKq-zZfts",
        "outputId": "30f06861-190b-45b8-928b-cb1b2eb2c404"
      },
      "execution_count": 8,
      "outputs": [
        {
          "output_type": "stream",
          "name": "stderr",
          "text": [
            "INFO:logs:KNN(algorithm='auto', contamination=0.05, leaf_size=30, method='largest',\n",
            "  metric='minkowski', metric_params=None, n_jobs=1, n_neighbors=5, p=2,\n",
            "  radius=1.0)\n",
            "INFO:logs:create_models() succesfully completed......................................\n",
            "INFO:logs:Initializing plot_model()\n",
            "INFO:logs:plot_model(model=KNN(algorithm='auto', contamination=0.05, leaf_size=30, method='largest',\n",
            "  metric='minkowski', metric_params=None, n_jobs=1, n_neighbors=5, p=2,\n",
            "  radius=1.0), plot=tsne, feature=None, save=False, system=True)\n",
            "INFO:logs:Checking exceptions\n",
            "INFO:logs:Importing libraries\n"
          ]
        },
        {
          "output_type": "display_data",
          "data": {
            "text/html": [
              "        <script type=\"text/javascript\">\n",
              "        window.PlotlyConfig = {MathJaxConfig: 'local'};\n",
              "        if (window.MathJax) {MathJax.Hub.Config({SVG: {font: \"STIX-Web\"}});}\n",
              "        if (typeof require !== 'undefined') {\n",
              "        require.undef(\"plotly\");\n",
              "        requirejs.config({\n",
              "            paths: {\n",
              "                'plotly': ['https://cdn.plot.ly/plotly-2.8.3.min']\n",
              "            }\n",
              "        });\n",
              "        require(['plotly'], function(Plotly) {\n",
              "            window._Plotly = Plotly;\n",
              "        });\n",
              "        }\n",
              "        </script>\n",
              "        "
            ]
          },
          "metadata": {}
        },
        {
          "output_type": "stream",
          "name": "stderr",
          "text": [
            "INFO:logs:plot type: tsne\n",
            "INFO:logs:SubProcess assign_model() called ==================================\n",
            "INFO:logs:Initializing assign_model()\n",
            "INFO:logs:assign_model(model=KNN(algorithm='auto', contamination=0.05, leaf_size=30, method='largest',\n",
            "  metric='minkowski', metric_params=None, n_jobs=1, n_neighbors=5, p=2,\n",
            "  radius=1.0), transformation=True, score=False, verbose=False)\n",
            "INFO:logs:Preloading libraries\n",
            "INFO:logs:Copying data\n",
            "INFO:logs:Preparing display monitor\n",
            "INFO:logs:Determining Trained Model\n",
            "INFO:logs:Trained Model : Assigned k-Nearest Neighbors Detector\n",
            "INFO:logs:(1000, 11)\n",
            "INFO:logs:assign_model() succesfully completed......................................\n",
            "INFO:logs:SubProcess assign_model() end ==================================\n",
            "INFO:logs:Getting dummies to cast categorical variables\n",
            "INFO:logs:Fitting TSNE()\n",
            "INFO:logs:Rendering Visual\n"
          ]
        },
        {
          "output_type": "display_data",
          "data": {
            "application/vnd.plotly.v1+json": {
              "data": [
                {
                  "customdata": [
                    [
                      0.263995357
                    ],
                    [
                      0.546092303
                    ],
                    [
                      0.336714104
                    ],
                    [
                      0.092107835
                    ],
                    [
                      0.325261175
                    ],
                    [
                      0.212464853
                    ],
                    [
                      0.258565714
                    ],
                    [
                      0.869236755
                    ],
                    [
                      0.197077957
                    ],
                    [
                      0.292984504
                    ],
                    [
                      0.82178316
                    ],
                    [
                      0.796622959
                    ],
                    [
                      0.045577011
                    ],
                    [
                      0.613660351
                    ],
                    [
                      0.950744566
                    ],
                    [
                      0.336346337
                    ],
                    [
                      0.034440667
                    ],
                    [
                      0.741544275
                    ],
                    [
                      0.18443265
                    ],
                    [
                      0.664514943
                    ],
                    [
                      0.162824858
                    ],
                    [
                      0.729838445
                    ],
                    [
                      0.62837389
                    ],
                    [
                      0.057883661
                    ],
                    [
                      0.445534827
                    ],
                    [
                      0.80183695
                    ],
                    [
                      0.27709612
                    ],
                    [
                      0.228634015
                    ],
                    [
                      0.834860657
                    ],
                    [
                      0.669766511
                    ],
                    [
                      0.532527349
                    ],
                    [
                      0.170459071
                    ],
                    [
                      0.510288468
                    ],
                    [
                      0.977561989
                    ],
                    [
                      0.249775993
                    ],
                    [
                      0.975500682
                    ],
                    [
                      0.613701727
                    ],
                    [
                      0.167420363
                    ],
                    [
                      0.537472516
                    ],
                    [
                      0.379899131
                    ],
                    [
                      0.633897303
                    ],
                    [
                      0.633960424
                    ],
                    [
                      0.549974653
                    ],
                    [
                      0.178172988
                    ],
                    [
                      0.85563814
                    ],
                    [
                      0.321796672
                    ],
                    [
                      0.817490537
                    ],
                    [
                      0.254879417
                    ],
                    [
                      0.344140513
                    ],
                    [
                      0.806145726
                    ],
                    [
                      0.277081671
                    ],
                    [
                      0.544328519
                    ],
                    [
                      0.07708393
                    ],
                    [
                      0.273081458
                    ],
                    [
                      0.390877336
                    ],
                    [
                      0.349621385
                    ],
                    [
                      0.214549744
                    ],
                    [
                      0.206075222
                    ],
                    [
                      0.86461997
                    ],
                    [
                      0.981708854
                    ],
                    [
                      0.334829646
                    ],
                    [
                      0.648387061
                    ],
                    [
                      0.093643561
                    ],
                    [
                      0.837802698
                    ],
                    [
                      0.760343967
                    ],
                    [
                      0.291404174
                    ],
                    [
                      0.3413454
                    ],
                    [
                      0.761112484
                    ],
                    [
                      0.541899775
                    ],
                    [
                      0.684176639
                    ],
                    [
                      0.983535597
                    ],
                    [
                      0.52081245
                    ],
                    [
                      0.328227724
                    ],
                    [
                      0.097157938
                    ],
                    [
                      0.876088593
                    ],
                    [
                      0.870214512
                    ],
                    [
                      0.656086992
                    ],
                    [
                      0.306791514
                    ],
                    [
                      0.48126734
                    ],
                    [
                      0.259559174
                    ],
                    [
                      0.326123655
                    ],
                    [
                      0.930568042
                    ],
                    [
                      0.6583894
                    ],
                    [
                      0.689992335
                    ],
                    [
                      0.315781109
                    ],
                    [
                      0.566905093
                    ],
                    [
                      0.637526619
                    ],
                    [
                      0.687540723
                    ],
                    [
                      0.324300602
                    ],
                    [
                      0.592704906
                    ],
                    [
                      0.740253126
                    ],
                    [
                      0.594032877
                    ],
                    [
                      0.596452977
                    ],
                    [
                      0.277680817
                    ],
                    [
                      0.258329663
                    ],
                    [
                      0.142460864
                    ],
                    [
                      0.435533461
                    ],
                    [
                      0.702499044
                    ],
                    [
                      0.58897535
                    ],
                    [
                      0.653304374
                    ],
                    [
                      0.336968524
                    ],
                    [
                      0.631244736
                    ],
                    [
                      0.73530076
                    ],
                    [
                      0.050390366
                    ],
                    [
                      0.064264924
                    ],
                    [
                      0.665359476
                    ],
                    [
                      0.917835245
                    ],
                    [
                      0.44651012
                    ],
                    [
                      0.661938199
                    ],
                    [
                      0.439359853
                    ],
                    [
                      0.687572404
                    ],
                    [
                      0.363462248
                    ],
                    [
                      0.654262182
                    ],
                    [
                      0.578553536
                    ],
                    [
                      0.065927945
                    ],
                    [
                      0.550148559
                    ],
                    [
                      0.139182814
                    ],
                    [
                      0.080004635
                    ],
                    [
                      0.278228358
                    ],
                    [
                      0.560124266
                    ],
                    [
                      0.53639864
                    ],
                    [
                      0.426531904
                    ],
                    [
                      0.789109796
                    ],
                    [
                      0.742900474
                    ],
                    [
                      0.901692589
                    ],
                    [
                      0.650337401
                    ],
                    [
                      0.114057311
                    ],
                    [
                      0.260812592
                    ],
                    [
                      0.43991232
                    ],
                    [
                      0.964409284
                    ],
                    [
                      0.184401415
                    ],
                    [
                      0.345145446
                    ],
                    [
                      0.175894581
                    ],
                    [
                      0.312514453
                    ],
                    [
                      0.674131879
                    ],
                    [
                      0.32825045
                    ],
                    [
                      0.598231057
                    ],
                    [
                      0.092598817
                    ],
                    [
                      0.497916521
                    ],
                    [
                      0.419776521
                    ],
                    [
                      0.3121767
                    ],
                    [
                      0.937857107
                    ],
                    [
                      0.049030963
                    ],
                    [
                      0.476104526
                    ],
                    [
                      0.447397526
                    ],
                    [
                      0.295806058
                    ],
                    [
                      0.737363977
                    ],
                    [
                      0.625896253
                    ],
                    [
                      0.408813429
                    ],
                    [
                      0.437511156
                    ],
                    [
                      0.691351375
                    ],
                    [
                      0.935555275
                    ],
                    [
                      0.437846654
                    ],
                    [
                      0.072217715
                    ],
                    [
                      0.67636067
                    ],
                    [
                      0.468883999
                    ],
                    [
                      0.543820644
                    ],
                    [
                      0.655522647
                    ],
                    [
                      0.693528924
                    ],
                    [
                      0.108878312
                    ],
                    [
                      0.285463743
                    ],
                    [
                      0
                    ],
                    [
                      0.706495497
                    ],
                    [
                      0.273530633
                    ],
                    [
                      0.292320271
                    ],
                    [
                      0.673984307
                    ],
                    [
                      0.126121828
                    ],
                    [
                      0.946707459
                    ],
                    [
                      0.936338898
                    ],
                    [
                      0.853755364
                    ],
                    [
                      0.706071361
                    ],
                    [
                      0.693682186
                    ],
                    [
                      0.508527882
                    ],
                    [
                      0.347170389
                    ],
                    [
                      0.704154263
                    ],
                    [
                      0.658730088
                    ],
                    [
                      0.155841557
                    ],
                    [
                      0.311085435
                    ],
                    [
                      0.281135347
                    ],
                    [
                      0.094587802
                    ],
                    [
                      0.683260954
                    ],
                    [
                      0.907729251
                    ],
                    [
                      0.291512674
                    ],
                    [
                      0.752734459
                    ],
                    [
                      0.93482964
                    ],
                    [
                      0.071413953
                    ],
                    [
                      0.594896327
                    ],
                    [
                      0.404672015
                    ],
                    [
                      0.13837621
                    ],
                    [
                      0.747338468
                    ],
                    [
                      0.530882486
                    ],
                    [
                      0.282649594
                    ],
                    [
                      0.699335734
                    ],
                    [
                      0.056111251
                    ],
                    [
                      0.855234998
                    ],
                    [
                      0.077895127
                    ],
                    [
                      0.891649583
                    ],
                    [
                      0.386742279
                    ],
                    [
                      0.27113158
                    ],
                    [
                      0.958888961
                    ],
                    [
                      0.085120869
                    ],
                    [
                      0.526902249
                    ],
                    [
                      0.066577785
                    ],
                    [
                      0.841506738
                    ],
                    [
                      0.255342095
                    ],
                    [
                      0.060545771
                    ],
                    [
                      0.073385869
                    ],
                    [
                      0.187493723
                    ],
                    [
                      0.858365688
                    ],
                    [
                      0.090640352
                    ],
                    [
                      0.709725227
                    ],
                    [
                      0.631300647
                    ],
                    [
                      0.247504474
                    ],
                    [
                      0.822843584
                    ],
                    [
                      0.373476759
                    ],
                    [
                      0.625538582
                    ],
                    [
                      0.292951715
                    ],
                    [
                      0.299730324
                    ],
                    [
                      0.25121407
                    ],
                    [
                      0.344480551
                    ],
                    [
                      0.293064767
                    ],
                    [
                      0.762803224
                    ],
                    [
                      0.738470804
                    ],
                    [
                      0.674883265
                    ],
                    [
                      0.719151612
                    ],
                    [
                      0.130980216
                    ],
                    [
                      0.511328036
                    ],
                    [
                      0.04492903
                    ],
                    [
                      0.560914449
                    ],
                    [
                      0.744040641
                    ],
                    [
                      0.266961634
                    ],
                    [
                      0.644231853
                    ],
                    [
                      0.038113352
                    ],
                    [
                      0.057155299
                    ],
                    [
                      0.341392461
                    ],
                    [
                      0.720463632
                    ],
                    [
                      0.402878236
                    ],
                    [
                      0.635148967
                    ],
                    [
                      0.320729467
                    ],
                    [
                      0.091209694
                    ],
                    [
                      0.23414609
                    ],
                    [
                      0.890221131
                    ],
                    [
                      0.602170884
                    ],
                    [
                      0.633652055
                    ],
                    [
                      0.806240837
                    ],
                    [
                      0.739731184
                    ],
                    [
                      0.465231269
                    ],
                    [
                      0.7321109
                    ],
                    [
                      0.373874305
                    ],
                    [
                      0.501587947
                    ],
                    [
                      0.115383158
                    ],
                    [
                      0.731946604
                    ],
                    [
                      0.418298728
                    ],
                    [
                      0.062259591
                    ],
                    [
                      0.391496379
                    ],
                    [
                      0.35984929
                    ],
                    [
                      0.245235627
                    ],
                    [
                      0.610028339
                    ],
                    [
                      0.435403602
                    ],
                    [
                      0.434309675
                    ],
                    [
                      0.523763344
                    ],
                    [
                      0.171187866
                    ],
                    [
                      0.187734303
                    ],
                    [
                      0.945014638
                    ],
                    [
                      0.027851097
                    ],
                    [
                      0.68445706
                    ],
                    [
                      0.178014532
                    ],
                    [
                      0.643427879
                    ],
                    [
                      0.59588355
                    ],
                    [
                      0.372361682
                    ],
                    [
                      0.586103584
                    ],
                    [
                      0.271658852
                    ],
                    [
                      0.59951107
                    ],
                    [
                      0.468363088
                    ],
                    [
                      0.314515565
                    ],
                    [
                      0.21893726
                    ],
                    [
                      0.254716562
                    ],
                    [
                      0.25612815
                    ],
                    [
                      0.602259755
                    ],
                    [
                      0.134381075
                    ],
                    [
                      0.513887424
                    ],
                    [
                      0.624241636
                    ],
                    [
                      0.160251854
                    ],
                    [
                      0.580708108
                    ],
                    [
                      0.270540486
                    ],
                    [
                      0.832919932
                    ],
                    [
                      0.93032134
                    ],
                    [
                      0.719157884
                    ],
                    [
                      0.886720033
                    ],
                    [
                      0.098792281
                    ],
                    [
                      0.787174286
                    ],
                    [
                      0.365592376
                    ],
                    [
                      0.719576193
                    ],
                    [
                      0.8058956
                    ],
                    [
                      0.755578334
                    ],
                    [
                      0.526005909
                    ],
                    [
                      0.68880424
                    ],
                    [
                      0.221115312
                    ],
                    [
                      0.739369477
                    ],
                    [
                      0.408440236
                    ],
                    [
                      0.348926542
                    ],
                    [
                      0.433713763
                    ],
                    [
                      0.596496607
                    ],
                    [
                      0.6942953
                    ],
                    [
                      0.709030966
                    ],
                    [
                      0.867652984
                    ],
                    [
                      0.89332545
                    ],
                    [
                      0.746020922
                    ],
                    [
                      0.538284443
                    ],
                    [
                      0.892219314
                    ],
                    [
                      0.935175765
                    ],
                    [
                      0.260527707
                    ],
                    [
                      0.956780449
                    ],
                    [
                      0.204932484
                    ],
                    [
                      0.687733351
                    ],
                    [
                      0.329063619
                    ],
                    [
                      0.632149831
                    ],
                    [
                      0.463744506
                    ],
                    [
                      0.698859621
                    ],
                    [
                      0.385446564
                    ],
                    [
                      0.479975377
                    ],
                    [
                      0.732279108
                    ],
                    [
                      0.3813543
                    ],
                    [
                      0.459326013
                    ],
                    [
                      0.257401434
                    ],
                    [
                      0.665014804
                    ],
                    [
                      0.103399542
                    ],
                    [
                      0.425284413
                    ],
                    [
                      0.943529051
                    ],
                    [
                      0.594750236
                    ],
                    [
                      0.543776817
                    ],
                    [
                      0.18203988
                    ],
                    [
                      0.235842084
                    ],
                    [
                      0.585984497
                    ],
                    [
                      0.762013168
                    ],
                    [
                      0.684982907
                    ],
                    [
                      0.676936933
                    ],
                    [
                      0.290184964
                    ],
                    [
                      0.481068222
                    ],
                    [
                      0.492766033
                    ],
                    [
                      0.221856234
                    ],
                    [
                      0.053875998
                    ],
                    [
                      0.082751144
                    ],
                    [
                      0.385366225
                    ],
                    [
                      0.702513961
                    ],
                    [
                      0.91553156
                    ],
                    [
                      0.082087436
                    ],
                    [
                      0.251280378
                    ],
                    [
                      0.416721817
                    ],
                    [
                      0.277032672
                    ],
                    [
                      0.579539754
                    ],
                    [
                      0.569363476
                    ],
                    [
                      0.133399703
                    ],
                    [
                      0.265045463
                    ],
                    [
                      0.936571901
                    ],
                    [
                      0.252618554
                    ],
                    [
                      0.054033081
                    ],
                    [
                      0.802481439
                    ],
                    [
                      0.528197693
                    ],
                    [
                      0.9515026
                    ],
                    [
                      0.572121173
                    ],
                    [
                      0.752938227
                    ],
                    [
                      0.143857535
                    ],
                    [
                      0.513484576
                    ],
                    [
                      0.313322389
                    ],
                    [
                      0.687797396
                    ],
                    [
                      0.37705984
                    ],
                    [
                      0.348226142
                    ],
                    [
                      0.67763282
                    ],
                    [
                      0.241387521
                    ],
                    [
                      0.850650179
                    ],
                    [
                      0.220348103
                    ],
                    [
                      0.476445464
                    ],
                    [
                      0.690324025
                    ],
                    [
                      0.364695946
                    ],
                    [
                      0.649249197
                    ],
                    [
                      0.943701921
                    ],
                    [
                      0.529645971
                    ],
                    [
                      0.299097002
                    ],
                    [
                      0.96696247
                    ],
                    [
                      0.272005242
                    ],
                    [
                      0.314161447
                    ],
                    [
                      0.752020991
                    ],
                    [
                      0.221882453
                    ],
                    [
                      0.720332673
                    ],
                    [
                      0.379204782
                    ],
                    [
                      0.60168653
                    ],
                    [
                      0.582932673
                    ],
                    [
                      0.950809853
                    ],
                    [
                      0.58830141
                    ],
                    [
                      0.880887227
                    ],
                    [
                      0.467857701
                    ],
                    [
                      0.879902171
                    ],
                    [
                      0.619844009
                    ],
                    [
                      0.359002573
                    ],
                    [
                      0.291511278
                    ],
                    [
                      0.694157143
                    ],
                    [
                      0.727960353
                    ],
                    [
                      0.617703921
                    ],
                    [
                      0.39581257
                    ],
                    [
                      0.58317282
                    ],
                    [
                      0.710332374
                    ],
                    [
                      0.253753693
                    ],
                    [
                      0.049412228
                    ],
                    [
                      0.728378695
                    ],
                    [
                      0.432432881
                    ],
                    [
                      0.58612345
                    ],
                    [
                      0.052342373
                    ],
                    [
                      0.053483902
                    ],
                    [
                      0.518729378
                    ],
                    [
                      0.933040208
                    ],
                    [
                      0.703554284
                    ],
                    [
                      0.268989899
                    ],
                    [
                      0.733006927
                    ],
                    [
                      0.444352467
                    ],
                    [
                      0.583394621
                    ],
                    [
                      0.871172692
                    ],
                    [
                      0.428767078
                    ],
                    [
                      0.300460841
                    ],
                    [
                      0.953329459
                    ],
                    [
                      0.606443965
                    ],
                    [
                      0.90986815
                    ],
                    [
                      0.714896449
                    ],
                    [
                      0.497349509
                    ],
                    [
                      0.853097486
                    ],
                    [
                      0.721804145
                    ],
                    [
                      0.303467328
                    ],
                    [
                      0.664485096
                    ],
                    [
                      0.27978062
                    ],
                    [
                      0.569481665
                    ],
                    [
                      0.628628926
                    ],
                    [
                      0.088368123
                    ],
                    [
                      0.733567326
                    ],
                    [
                      0.537436778
                    ],
                    [
                      0.638593691
                    ],
                    [
                      0.954726948
                    ],
                    [
                      0.632202332
                    ],
                    [
                      0.642134651
                    ],
                    [
                      0.744653087
                    ],
                    [
                      0.115714007
                    ],
                    [
                      0.486250073
                    ],
                    [
                      0.440356144
                    ],
                    [
                      0.08272289
                    ],
                    [
                      0.511591027
                    ],
                    [
                      0.394627555
                    ],
                    [
                      0.224394
                    ],
                    [
                      0.626927584
                    ],
                    [
                      0.290254057
                    ],
                    [
                      0.779008053
                    ],
                    [
                      0.86610579
                    ],
                    [
                      0.873326081
                    ],
                    [
                      0.49548916
                    ],
                    [
                      0.594297695
                    ],
                    [
                      0.918201584
                    ],
                    [
                      0.577042754
                    ],
                    [
                      0.019467671
                    ],
                    [
                      0.670298282
                    ],
                    [
                      0.546595316
                    ],
                    [
                      0.591665146
                    ],
                    [
                      0.42155819
                    ],
                    [
                      0.685608559
                    ],
                    [
                      0.340303024
                    ],
                    [
                      0.675626741
                    ],
                    [
                      0.319067345
                    ],
                    [
                      0.388499664
                    ],
                    [
                      0.706949589
                    ],
                    [
                      0.559409515
                    ],
                    [
                      0.687663508
                    ],
                    [
                      0.708804554
                    ],
                    [
                      0.681888094
                    ],
                    [
                      0.422535109
                    ],
                    [
                      0.320004605
                    ],
                    [
                      0.658281368
                    ],
                    [
                      0.634154867
                    ],
                    [
                      0.777332009
                    ],
                    [
                      0.812677205
                    ],
                    [
                      0.074280797
                    ],
                    [
                      0.39600217
                    ],
                    [
                      0.054933913
                    ],
                    [
                      0.825058925
                    ],
                    [
                      0.382642009
                    ],
                    [
                      0.868729818
                    ],
                    [
                      0.588043346
                    ],
                    [
                      0.891551577
                    ],
                    [
                      0.10920046
                    ],
                    [
                      0.647682781
                    ],
                    [
                      0.724342512
                    ],
                    [
                      0.070163044
                    ],
                    [
                      0.280882054
                    ],
                    [
                      0.039113261
                    ],
                    [
                      0.579641592
                    ],
                    [
                      0.639000922
                    ],
                    [
                      0.281745925
                    ],
                    [
                      0.647857744
                    ],
                    [
                      0.647905797
                    ],
                    [
                      0.875226264
                    ],
                    [
                      0.567603305
                    ],
                    [
                      0.262940591
                    ],
                    [
                      0.268026042
                    ],
                    [
                      0.40519133
                    ],
                    [
                      0.479965451
                    ],
                    [
                      0.33552403
                    ],
                    [
                      0.777165379
                    ],
                    [
                      0.425487963
                    ],
                    [
                      0.237986115
                    ],
                    [
                      0.142522971
                    ],
                    [
                      0.724176488
                    ],
                    [
                      0.234698933
                    ],
                    [
                      0.078182281
                    ],
                    [
                      0.855990155
                    ],
                    [
                      0.270251765
                    ],
                    [
                      0.435517841
                    ],
                    [
                      0.762697513
                    ],
                    [
                      0.464487258
                    ],
                    [
                      0.396112685
                    ],
                    [
                      0.376380921
                    ],
                    [
                      0.294594677
                    ],
                    [
                      0.694492121
                    ],
                    [
                      0.622767949
                    ],
                    [
                      0.847559722
                    ],
                    [
                      0.301463054
                    ],
                    [
                      0.912937812
                    ],
                    [
                      0.500017182
                    ],
                    [
                      0.902587935
                    ],
                    [
                      0.304517943
                    ],
                    [
                      0.299165673
                    ],
                    [
                      0.092014087
                    ],
                    [
                      0.488548917
                    ],
                    [
                      0.664664437
                    ],
                    [
                      0.265349549
                    ],
                    [
                      0.723657021
                    ],
                    [
                      0.149262385
                    ],
                    [
                      0.04577339
                    ],
                    [
                      0.69661064
                    ],
                    [
                      0.42181486
                    ],
                    [
                      0.733845785
                    ],
                    [
                      0.418795386
                    ],
                    [
                      0.677443529
                    ],
                    [
                      0.261283603
                    ],
                    [
                      0.268527767
                    ],
                    [
                      0.544322236
                    ],
                    [
                      0.431632036
                    ],
                    [
                      0.981018141
                    ],
                    [
                      0.214980724
                    ],
                    [
                      0.394729993
                    ],
                    [
                      0.122224944
                    ],
                    [
                      0.297496875
                    ],
                    [
                      0.374904431
                    ],
                    [
                      0.68698771
                    ],
                    [
                      0.388549207
                    ],
                    [
                      0.039296071
                    ],
                    [
                      0.73553424
                    ],
                    [
                      0.379294893
                    ],
                    [
                      0.732123386
                    ],
                    [
                      0.339221439
                    ],
                    [
                      0.659450594
                    ],
                    [
                      0.054838642
                    ],
                    [
                      0.640112102
                    ],
                    [
                      0.307141704
                    ],
                    [
                      0.396611907
                    ],
                    [
                      0.420439161
                    ],
                    [
                      0.241714974
                    ],
                    [
                      0.065893153
                    ],
                    [
                      0.910521937
                    ],
                    [
                      0.697163103
                    ],
                    [
                      0.072559853
                    ],
                    [
                      0.81825094
                    ],
                    [
                      0.311888815
                    ],
                    [
                      0.961644609
                    ],
                    [
                      0.816325524
                    ],
                    [
                      0.14647302
                    ],
                    [
                      0.548753945
                    ],
                    [
                      0.946158087
                    ],
                    [
                      0.293992717
                    ],
                    [
                      0.331479643
                    ],
                    [
                      0.906220031
                    ],
                    [
                      0.525540416
                    ],
                    [
                      0.83301411
                    ],
                    [
                      0.514849806
                    ],
                    [
                      0.574609024
                    ],
                    [
                      0.468711853
                    ],
                    [
                      0.71002775
                    ],
                    [
                      0.645973276
                    ],
                    [
                      0.229794416
                    ],
                    [
                      0.551783393
                    ],
                    [
                      0.055822991
                    ],
                    [
                      0.331750941
                    ],
                    [
                      0.715520198
                    ],
                    [
                      0.583924357
                    ],
                    [
                      0.306957691
                    ],
                    [
                      0.791478237
                    ],
                    [
                      0.164236639
                    ],
                    [
                      0.065711219
                    ],
                    [
                      0.948993132
                    ],
                    [
                      0.080423835
                    ],
                    [
                      0.052495426
                    ],
                    [
                      0.566346135
                    ],
                    [
                      0.3630266
                    ],
                    [
                      0.605442195
                    ],
                    [
                      0.630850584
                    ],
                    [
                      0.065791238
                    ],
                    [
                      0.286817071
                    ],
                    [
                      0.685462839
                    ],
                    [
                      0.260853706
                    ],
                    [
                      0.659122429
                    ],
                    [
                      0.443173922
                    ],
                    [
                      0.602063986
                    ],
                    [
                      0.060366911
                    ],
                    [
                      0.781903153
                    ],
                    [
                      0.514579807
                    ],
                    [
                      0.483886213
                    ],
                    [
                      0.600213807
                    ],
                    [
                      0.497364052
                    ],
                    [
                      0.411145245
                    ],
                    [
                      0.116999171
                    ],
                    [
                      0.341890141
                    ],
                    [
                      0.746950848
                    ],
                    [
                      0.396292746
                    ],
                    [
                      0.622143843
                    ],
                    [
                      0.335271141
                    ],
                    [
                      0.140257137
                    ],
                    [
                      0.081620681
                    ],
                    [
                      0.069837569
                    ],
                    [
                      0.468940008
                    ],
                    [
                      0.990857417
                    ],
                    [
                      0.896616832
                    ],
                    [
                      0.255310561
                    ],
                    [
                      0.224645267
                    ],
                    [
                      0.01991825
                    ],
                    [
                      0.296480415
                    ],
                    [
                      0.155458996
                    ],
                    [
                      0.577916714
                    ],
                    [
                      0.956303031
                    ],
                    [
                      0.813464394
                    ],
                    [
                      0.529675785
                    ],
                    [
                      0.287671353
                    ],
                    [
                      0.48039136
                    ],
                    [
                      0.281044822
                    ],
                    [
                      0.633196521
                    ],
                    [
                      0.093325377
                    ],
                    [
                      0.284473981
                    ],
                    [
                      0.052223775
                    ],
                    [
                      0.051129385
                    ],
                    [
                      0.967405608
                    ],
                    [
                      0.040045728
                    ],
                    [
                      0.908582921
                    ],
                    [
                      0.662117416
                    ],
                    [
                      0.424703209
                    ],
                    [
                      0.72207806
                    ],
                    [
                      0.666193327
                    ],
                    [
                      0.509681253
                    ],
                    [
                      0.751353621
                    ],
                    [
                      0.279073124
                    ],
                    [
                      0.074927
                    ],
                    [
                      0.916359535
                    ],
                    [
                      0.31040327
                    ],
                    [
                      0.716604052
                    ],
                    [
                      0.485587085
                    ],
                    [
                      0.306075181
                    ],
                    [
                      0.477558204
                    ],
                    [
                      0.711923941
                    ],
                    [
                      0.066348638
                    ],
                    [
                      0.274539351
                    ],
                    [
                      0.31082252
                    ],
                    [
                      0.476073127
                    ],
                    [
                      0.186795565
                    ],
                    [
                      0.26654207
                    ],
                    [
                      0.070231142
                    ],
                    [
                      0.26951927
                    ],
                    [
                      0.800004713
                    ],
                    [
                      0.273633667
                    ],
                    [
                      0.146479192
                    ],
                    [
                      0.378318951
                    ],
                    [
                      0.373849065
                    ],
                    [
                      0.242170835
                    ],
                    [
                      0.249796488
                    ],
                    [
                      0.066591188
                    ],
                    [
                      0.372956798
                    ],
                    [
                      0.501812291
                    ],
                    [
                      0.313097752
                    ],
                    [
                      0.880202196
                    ],
                    [
                      0.51981893
                    ],
                    [
                      0.364138746
                    ],
                    [
                      0.492682896
                    ],
                    [
                      0.285732652
                    ],
                    [
                      0.890114985
                    ],
                    [
                      0.316419561
                    ],
                    [
                      0.26866354
                    ],
                    [
                      0.771975959
                    ],
                    [
                      0.968888992
                    ],
                    [
                      0.080334377
                    ],
                    [
                      0.736828221
                    ],
                    [
                      0.300558071
                    ],
                    [
                      0.917950393
                    ],
                    [
                      0.465815039
                    ],
                    [
                      0.054036682
                    ],
                    [
                      0.963150123
                    ],
                    [
                      0.089653503
                    ],
                    [
                      0.707693234
                    ],
                    [
                      0.636416037
                    ],
                    [
                      0.539521117
                    ],
                    [
                      0.114757161
                    ],
                    [
                      0.357312419
                    ],
                    [
                      0.67639834
                    ],
                    [
                      0.43482839
                    ],
                    [
                      0.032326387
                    ],
                    [
                      0.711365605
                    ],
                    [
                      0.187486519
                    ],
                    [
                      0.052789653
                    ],
                    [
                      0.505863613
                    ],
                    [
                      0.927431873
                    ],
                    [
                      0.680984256
                    ],
                    [
                      0.882822186
                    ],
                    [
                      0.495705441
                    ],
                    [
                      0.596240398
                    ],
                    [
                      0.320610701
                    ],
                    [
                      0.3413685
                    ],
                    [
                      0.159681797
                    ],
                    [
                      0.318133669
                    ],
                    [
                      0.839301048
                    ],
                    [
                      0.064359251
                    ],
                    [
                      0.470216633
                    ],
                    [
                      0.776252291
                    ],
                    [
                      0.635843383
                    ],
                    [
                      0.62510543
                    ],
                    [
                      0.52959065
                    ],
                    [
                      0.986900166
                    ],
                    [
                      0.078585688
                    ],
                    [
                      0.233284267
                    ],
                    [
                      0.363330957
                    ],
                    [
                      0.716716981
                    ],
                    [
                      0.375889792
                    ],
                    [
                      0.223316889
                    ],
                    [
                      0.299343986
                    ],
                    [
                      0.538595767
                    ],
                    [
                      0.730297124
                    ],
                    [
                      0.66033077
                    ],
                    [
                      0.435296009
                    ],
                    [
                      0.326494313
                    ],
                    [
                      0.854402708
                    ],
                    [
                      0.573493847
                    ],
                    [
                      0.757786135
                    ],
                    [
                      0.704743233
                    ],
                    [
                      0.281575597
                    ],
                    [
                      0.671968208
                    ],
                    [
                      0.313726015
                    ],
                    [
                      0.364338275
                    ],
                    [
                      0.368216396
                    ],
                    [
                      0.386295207
                    ],
                    [
                      0.655971865
                    ],
                    [
                      0.566025273
                    ],
                    [
                      0.424999093
                    ],
                    [
                      0.090110371
                    ],
                    [
                      0.772350538
                    ],
                    [
                      0.331047258
                    ],
                    [
                      0.273716188
                    ],
                    [
                      0.23877568
                    ],
                    [
                      0.373079772
                    ],
                    [
                      0.331185868
                    ],
                    [
                      0.256134531
                    ],
                    [
                      0.678373225
                    ],
                    [
                      0.434638338
                    ],
                    [
                      0.654668307
                    ],
                    [
                      0.986681065
                    ],
                    [
                      0.371520495
                    ],
                    [
                      0.408359618
                    ],
                    [
                      0.40932365
                    ],
                    [
                      0.283412082
                    ],
                    [
                      0.395246531
                    ],
                    [
                      0.010984428
                    ],
                    [
                      0.306013869
                    ],
                    [
                      0.266194806
                    ],
                    [
                      0.299318521
                    ],
                    [
                      0.318293946
                    ],
                    [
                      0.74282591
                    ],
                    [
                      0.097664329
                    ],
                    [
                      0.079666942
                    ],
                    [
                      0.613258767
                    ],
                    [
                      0.99443072
                    ],
                    [
                      0.568835082
                    ],
                    [
                      0.708034516
                    ],
                    [
                      0.370592719
                    ],
                    [
                      0.669867361
                    ],
                    [
                      0.651295625
                    ],
                    [
                      0.462531569
                    ],
                    [
                      0.719625619
                    ],
                    [
                      0.45377248
                    ],
                    [
                      0.394863946
                    ],
                    [
                      0.323974831
                    ],
                    [
                      0.146454724
                    ],
                    [
                      0.779067041
                    ],
                    [
                      0.401828915
                    ],
                    [
                      0.601479585
                    ],
                    [
                      0.856423023
                    ],
                    [
                      0.565242962
                    ],
                    [
                      0.301225108
                    ],
                    [
                      0.282108144
                    ],
                    [
                      0.594378011
                    ],
                    [
                      0.705312368
                    ],
                    [
                      0.540869628
                    ],
                    [
                      0.319249574
                    ],
                    [
                      0.361766138
                    ],
                    [
                      0.625000704
                    ],
                    [
                      0.316287401
                    ],
                    [
                      0.047239021
                    ],
                    [
                      0.801182233
                    ],
                    [
                      0.508474436
                    ],
                    [
                      0.817893411
                    ],
                    [
                      0.399235601
                    ],
                    [
                      0.974051999
                    ],
                    [
                      0.72241535
                    ],
                    [
                      0.039564764
                    ],
                    [
                      0.908684108
                    ],
                    [
                      0.473010134
                    ],
                    [
                      0.718049628
                    ],
                    [
                      0.763479069
                    ],
                    [
                      0.647596537
                    ],
                    [
                      0.894997386
                    ],
                    [
                      0.222825901
                    ],
                    [
                      0.359012234
                    ],
                    [
                      0.944910252
                    ],
                    [
                      0.297877816
                    ],
                    [
                      0.172517997
                    ],
                    [
                      0.556586265
                    ],
                    [
                      0.876481735
                    ],
                    [
                      0.486677843
                    ],
                    [
                      0.459496733
                    ],
                    [
                      0.474126377
                    ],
                    [
                      0.70101144
                    ],
                    [
                      0.337597387
                    ],
                    [
                      0.537578886
                    ],
                    [
                      0.966992448
                    ],
                    [
                      0.056849545
                    ],
                    [
                      0.233249065
                    ],
                    [
                      0.380054711
                    ],
                    [
                      0.602929443
                    ],
                    [
                      0.303847999
                    ],
                    [
                      0.170194553
                    ],
                    [
                      0.972168554
                    ],
                    [
                      0.332168927
                    ],
                    [
                      0.688728689
                    ],
                    [
                      0.110773401
                    ],
                    [
                      0.273352065
                    ],
                    [
                      0.572939678
                    ],
                    [
                      0.491457065
                    ],
                    [
                      0.281389999
                    ],
                    [
                      0.821697261
                    ],
                    [
                      0.674977683
                    ],
                    [
                      0.585134549
                    ],
                    [
                      0.710596116
                    ],
                    [
                      0.040488789
                    ],
                    [
                      0.568054311
                    ],
                    [
                      0.321752928
                    ],
                    [
                      0.611850232
                    ],
                    [
                      0.926096887
                    ],
                    [
                      0.618347428
                    ],
                    [
                      0.667629785
                    ],
                    [
                      0.397733466
                    ],
                    [
                      0.290875487
                    ],
                    [
                      0.594375103
                    ],
                    [
                      0.508255233
                    ],
                    [
                      0.338571357
                    ],
                    [
                      0.432302347
                    ],
                    [
                      0.302221978
                    ],
                    [
                      0.87619819
                    ],
                    [
                      0.080204492
                    ],
                    [
                      0.092333532
                    ],
                    [
                      0.093656447
                    ],
                    [
                      0.608452351
                    ],
                    [
                      0.732654598
                    ],
                    [
                      0.944158855
                    ],
                    [
                      0.26742308
                    ],
                    [
                      0.731124201
                    ],
                    [
                      0.661308553
                    ],
                    [
                      0.387766262
                    ],
                    [
                      0.962585273
                    ],
                    [
                      0.322067067
                    ],
                    [
                      0.634081093
                    ],
                    [
                      0.475345002
                    ],
                    [
                      0.353558973
                    ],
                    [
                      0.885936316
                    ],
                    [
                      0.876798106
                    ],
                    [
                      0.221581064
                    ],
                    [
                      0.394362449
                    ],
                    [
                      0.805035676
                    ],
                    [
                      0.452898486
                    ],
                    [
                      0.592520516
                    ],
                    [
                      0.761026394
                    ],
                    [
                      0.245049023
                    ],
                    [
                      0.372139363
                    ],
                    [
                      0.681054822
                    ],
                    [
                      0.747143148
                    ],
                    [
                      0.920739529
                    ],
                    [
                      0.097207945
                    ],
                    [
                      0.699302998
                    ],
                    [
                      0.721647006
                    ],
                    [
                      0.535356114
                    ],
                    [
                      0.738293805
                    ],
                    [
                      0.706467551
                    ],
                    [
                      0.67395061
                    ],
                    [
                      0.711212291
                    ],
                    [
                      0.302558708
                    ],
                    [
                      0.080097855
                    ],
                    [
                      0.707010837
                    ],
                    [
                      0.512248622
                    ],
                    [
                      0.659627472
                    ],
                    [
                      0.657559694
                    ],
                    [
                      0.100645606
                    ],
                    [
                      0.92665363
                    ],
                    [
                      0.892879338
                    ],
                    [
                      0.839157508
                    ],
                    [
                      0.890959718
                    ],
                    [
                      0.556754471
                    ],
                    [
                      0.960361937
                    ],
                    [
                      0.631037864
                    ],
                    [
                      0.029838065
                    ],
                    [
                      0.278843351
                    ],
                    [
                      0.926157705
                    ],
                    [
                      0.551504258
                    ],
                    [
                      0.485942349
                    ],
                    [
                      0.437234696
                    ],
                    [
                      0.252318018
                    ],
                    [
                      0.515466972
                    ],
                    [
                      0.437252296
                    ],
                    [
                      0.493724207
                    ],
                    [
                      0.83324725
                    ],
                    [
                      0.317521477
                    ],
                    [
                      0.286234562
                    ],
                    [
                      0.726833965
                    ],
                    [
                      0.495667033
                    ],
                    [
                      0.028645255
                    ],
                    [
                      0.319671917
                    ],
                    [
                      0.674344598
                    ],
                    [
                      0.766037189
                    ],
                    [
                      0.65456992
                    ],
                    [
                      0.756514381
                    ],
                    [
                      0.528253719
                    ],
                    [
                      0.389719491
                    ],
                    [
                      0.355087459
                    ],
                    [
                      0.87015202
                    ],
                    [
                      0.739083306
                    ],
                    [
                      0.305761846
                    ],
                    [
                      0.411587673
                    ],
                    [
                      0.063633094
                    ],
                    [
                      0.735409395
                    ],
                    [
                      0.605916669
                    ],
                    [
                      0.539395562
                    ],
                    [
                      0.566183532
                    ],
                    [
                      0.674795186
                    ],
                    [
                      0.070993366
                    ],
                    [
                      0.1252641
                    ],
                    [
                      0.279601492
                    ],
                    [
                      0.952174402
                    ],
                    [
                      0.233806762
                    ],
                    [
                      0.437247429
                    ],
                    [
                      0.925423095
                    ],
                    [
                      0.433498634
                    ],
                    [
                      0.52517902
                    ],
                    [
                      0.088435529
                    ],
                    [
                      0.447677638
                    ],
                    [
                      0.647000631
                    ],
                    [
                      0.903603337
                    ],
                    [
                      0.265790738
                    ],
                    [
                      0.66419695
                    ],
                    [
                      0.498120658
                    ],
                    [
                      0.490188944
                    ],
                    [
                      0.747084187
                    ],
                    [
                      0.906783648
                    ],
                    [
                      0.678770917
                    ],
                    [
                      0.348599859
                    ],
                    [
                      0.294839683
                    ],
                    [
                      0.705691827
                    ],
                    [
                      0.211917931
                    ],
                    [
                      0.063201124
                    ],
                    [
                      0.276699543
                    ],
                    [
                      0.672459395
                    ],
                    [
                      0.808205949
                    ],
                    [
                      0.296538373
                    ],
                    [
                      0.160126862
                    ],
                    [
                      0.439385032
                    ],
                    [
                      0.555951416
                    ],
                    [
                      0.386240112
                    ],
                    [
                      0.158689619
                    ],
                    [
                      0.214499855
                    ],
                    [
                      0.299579429
                    ],
                    [
                      0.569161656
                    ],
                    [
                      0.488614799
                    ],
                    [
                      0.878295021
                    ],
                    [
                      0.649380949
                    ],
                    [
                      0.465713341
                    ],
                    [
                      0.16813774
                    ],
                    [
                      0.87529545
                    ],
                    [
                      0.841132341
                    ],
                    [
                      0.33292081
                    ],
                    [
                      0.513047859
                    ],
                    [
                      0.305055078
                    ],
                    [
                      0.812626991
                    ],
                    [
                      0.25096706
                    ],
                    [
                      0.502435578
                    ],
                    [
                      0.457990741
                    ]
                  ],
                  "hovertemplate": "0=%{x}<br>1=%{y}<br>2=%{z}<br>Feature=%{customdata[0]}<br>Label=%{marker.color}<extra></extra>",
                  "legendgroup": "",
                  "marker": {
                    "color": [
                      0,
                      0,
                      1,
                      1,
                      0,
                      0,
                      0,
                      0,
                      1,
                      1,
                      0,
                      1,
                      0,
                      1,
                      1,
                      1,
                      0,
                      1,
                      1,
                      0,
                      1,
                      0,
                      0,
                      1,
                      1,
                      1,
                      0,
                      0,
                      1,
                      1,
                      0,
                      0,
                      1,
                      1,
                      0,
                      0,
                      1,
                      0,
                      0,
                      0,
                      0,
                      0,
                      0,
                      1,
                      0,
                      1,
                      1,
                      0,
                      1,
                      0,
                      0,
                      1,
                      0,
                      1,
                      1,
                      1,
                      1,
                      0,
                      0,
                      1,
                      0,
                      1,
                      0,
                      1,
                      0,
                      1,
                      0,
                      0,
                      0,
                      0,
                      0,
                      0,
                      0,
                      0,
                      0,
                      0,
                      0,
                      0,
                      0,
                      0,
                      0,
                      0,
                      0,
                      0,
                      0,
                      0,
                      0,
                      0,
                      0,
                      0,
                      0,
                      0,
                      0,
                      0,
                      0,
                      0,
                      0,
                      0,
                      0,
                      0,
                      0,
                      0,
                      0,
                      0,
                      0,
                      0,
                      0,
                      0,
                      0,
                      0,
                      0,
                      0,
                      0,
                      0,
                      0,
                      0,
                      0,
                      0,
                      0,
                      0,
                      0,
                      0,
                      0,
                      0,
                      0,
                      0,
                      0,
                      0,
                      0,
                      0,
                      0,
                      0,
                      0,
                      0,
                      0,
                      0,
                      0,
                      0,
                      0,
                      0,
                      0,
                      0,
                      0,
                      0,
                      0,
                      0,
                      0,
                      0,
                      0,
                      0,
                      0,
                      0,
                      0,
                      0,
                      0,
                      0,
                      0,
                      0,
                      0,
                      0,
                      0,
                      0,
                      0,
                      0,
                      0,
                      0,
                      0,
                      0,
                      0,
                      0,
                      0,
                      0,
                      0,
                      0,
                      0,
                      0,
                      0,
                      0,
                      0,
                      0,
                      0,
                      0,
                      0,
                      0,
                      0,
                      0,
                      0,
                      0,
                      0,
                      0,
                      0,
                      0,
                      0,
                      0,
                      0,
                      0,
                      0,
                      0,
                      0,
                      0,
                      0,
                      0,
                      0,
                      0,
                      0,
                      0,
                      0,
                      0,
                      0,
                      0,
                      0,
                      0,
                      0,
                      0,
                      0,
                      0,
                      0,
                      0,
                      0,
                      0,
                      0,
                      0,
                      0,
                      0,
                      0,
                      0,
                      0,
                      0,
                      0,
                      0,
                      0,
                      0,
                      0,
                      0,
                      0,
                      0,
                      0,
                      0,
                      0,
                      0,
                      0,
                      0,
                      0,
                      0,
                      0,
                      0,
                      0,
                      0,
                      0,
                      0,
                      0,
                      0,
                      0,
                      0,
                      0,
                      0,
                      0,
                      0,
                      0,
                      0,
                      0,
                      0,
                      0,
                      0,
                      0,
                      0,
                      0,
                      0,
                      0,
                      0,
                      0,
                      0,
                      0,
                      0,
                      0,
                      0,
                      0,
                      0,
                      0,
                      0,
                      0,
                      0,
                      0,
                      0,
                      0,
                      0,
                      0,
                      0,
                      0,
                      0,
                      0,
                      0,
                      0,
                      0,
                      0,
                      0,
                      0,
                      0,
                      0,
                      0,
                      0,
                      0,
                      0,
                      0,
                      0,
                      0,
                      0,
                      0,
                      0,
                      0,
                      0,
                      0,
                      0,
                      0,
                      0,
                      0,
                      0,
                      0,
                      0,
                      0,
                      0,
                      0,
                      0,
                      0,
                      0,
                      0,
                      0,
                      0,
                      0,
                      0,
                      0,
                      0,
                      0,
                      0,
                      0,
                      0,
                      0,
                      0,
                      0,
                      0,
                      0,
                      0,
                      0,
                      0,
                      0,
                      0,
                      0,
                      0,
                      0,
                      0,
                      0,
                      0,
                      0,
                      0,
                      0,
                      0,
                      0,
                      0,
                      0,
                      0,
                      0,
                      0,
                      0,
                      0,
                      0,
                      0,
                      0,
                      0,
                      0,
                      0,
                      0,
                      0,
                      0,
                      0,
                      0,
                      0,
                      0,
                      0,
                      0,
                      0,
                      0,
                      0,
                      0,
                      0,
                      0,
                      0,
                      0,
                      0,
                      0,
                      0,
                      0,
                      0,
                      0,
                      0,
                      0,
                      0,
                      0,
                      0,
                      0,
                      0,
                      0,
                      0,
                      0,
                      0,
                      0,
                      0,
                      0,
                      0,
                      0,
                      0,
                      0,
                      0,
                      0,
                      0,
                      0,
                      0,
                      0,
                      0,
                      0,
                      0,
                      0,
                      0,
                      0,
                      0,
                      0,
                      0,
                      0,
                      0,
                      0,
                      0,
                      0,
                      0,
                      0,
                      0,
                      0,
                      0,
                      0,
                      0,
                      0,
                      0,
                      0,
                      0,
                      0,
                      0,
                      0,
                      0,
                      0,
                      0,
                      0,
                      0,
                      0,
                      0,
                      0,
                      0,
                      0,
                      0,
                      0,
                      0,
                      0,
                      0,
                      0,
                      0,
                      0,
                      0,
                      0,
                      0,
                      0,
                      0,
                      0,
                      0,
                      0,
                      0,
                      0,
                      0,
                      0,
                      0,
                      0,
                      0,
                      0,
                      0,
                      0,
                      0,
                      0,
                      0,
                      0,
                      0,
                      0,
                      0,
                      0,
                      0,
                      0,
                      0,
                      0,
                      0,
                      0,
                      0,
                      0,
                      0,
                      0,
                      0,
                      0,
                      0,
                      0,
                      0,
                      0,
                      0,
                      0,
                      0,
                      0,
                      0,
                      0,
                      0,
                      0,
                      0,
                      0,
                      0,
                      0,
                      0,
                      0,
                      0,
                      0,
                      0,
                      0,
                      0,
                      0,
                      0,
                      0,
                      0,
                      0,
                      0,
                      0,
                      0,
                      0,
                      0,
                      0,
                      0,
                      0,
                      0,
                      0,
                      0,
                      0,
                      0,
                      0,
                      0,
                      0,
                      0,
                      0,
                      0,
                      0,
                      0,
                      0,
                      0,
                      0,
                      0,
                      0,
                      0,
                      0,
                      0,
                      0,
                      0,
                      0,
                      0,
                      0,
                      0,
                      0,
                      0,
                      0,
                      0,
                      0,
                      0,
                      0,
                      0,
                      0,
                      0,
                      0,
                      0,
                      0,
                      0,
                      0,
                      0,
                      0,
                      0,
                      0,
                      0,
                      0,
                      0,
                      0,
                      0,
                      0,
                      0,
                      0,
                      0,
                      0,
                      0,
                      0,
                      0,
                      0,
                      0,
                      0,
                      0,
                      0,
                      0,
                      0,
                      0,
                      0,
                      0,
                      0,
                      0,
                      0,
                      0,
                      0,
                      0,
                      0,
                      0,
                      0,
                      0,
                      0,
                      0,
                      0,
                      0,
                      0,
                      0,
                      0,
                      0,
                      0,
                      0,
                      0,
                      0,
                      0,
                      0,
                      0,
                      0,
                      0,
                      0,
                      0,
                      0,
                      0,
                      0,
                      0,
                      0,
                      0,
                      0,
                      0,
                      0,
                      0,
                      0,
                      0,
                      0,
                      0,
                      0,
                      0,
                      0,
                      0,
                      0,
                      0,
                      0,
                      0,
                      0,
                      0,
                      0,
                      0,
                      0,
                      0,
                      0,
                      0,
                      0,
                      0,
                      0,
                      0,
                      0,
                      0,
                      0,
                      0,
                      0,
                      0,
                      0,
                      0,
                      0,
                      0,
                      0,
                      0,
                      0,
                      0,
                      0,
                      0,
                      0,
                      0,
                      0,
                      0,
                      0,
                      0,
                      0,
                      0,
                      0,
                      0,
                      0,
                      0,
                      0,
                      0,
                      0,
                      1,
                      1,
                      0,
                      1,
                      0,
                      0,
                      0,
                      1,
                      1,
                      1,
                      1,
                      0,
                      1,
                      1,
                      1,
                      0,
                      1,
                      1,
                      1,
                      0,
                      1,
                      0,
                      1,
                      1,
                      1,
                      1,
                      0,
                      0,
                      0,
                      0,
                      0,
                      0,
                      0,
                      0,
                      0,
                      0,
                      0,
                      0,
                      0,
                      0,
                      0,
                      0,
                      0,
                      0,
                      0,
                      0,
                      0,
                      0,
                      0,
                      0,
                      0,
                      0,
                      0,
                      0,
                      0,
                      0,
                      0,
                      0,
                      0,
                      0,
                      0,
                      0,
                      0,
                      0,
                      0,
                      0,
                      0,
                      0,
                      0,
                      0,
                      0,
                      0,
                      0,
                      0,
                      0,
                      0,
                      0,
                      0,
                      0,
                      0,
                      0,
                      0,
                      0,
                      0,
                      0,
                      0,
                      0,
                      0,
                      0,
                      0,
                      0,
                      0,
                      0,
                      0,
                      0,
                      0,
                      0,
                      0,
                      0,
                      0,
                      0,
                      0,
                      0,
                      0,
                      0,
                      0,
                      0,
                      0,
                      0,
                      0,
                      0,
                      0,
                      0,
                      0,
                      0,
                      0,
                      0,
                      0,
                      0,
                      0,
                      0,
                      0,
                      0,
                      0,
                      0,
                      0,
                      0,
                      0,
                      0,
                      0,
                      0,
                      0,
                      0,
                      0,
                      0,
                      0,
                      0,
                      0,
                      0,
                      0,
                      0,
                      0,
                      0,
                      0,
                      0,
                      0,
                      0,
                      0,
                      0,
                      0,
                      0,
                      0,
                      0,
                      0,
                      0,
                      0,
                      0,
                      0,
                      0,
                      0,
                      0,
                      0,
                      0,
                      0,
                      0,
                      0,
                      0,
                      0,
                      0,
                      0,
                      0,
                      0,
                      0,
                      0,
                      0,
                      0,
                      0,
                      0,
                      0,
                      0,
                      0,
                      0,
                      0,
                      0,
                      0,
                      0,
                      0,
                      0,
                      0,
                      0,
                      0,
                      0,
                      0,
                      0,
                      0,
                      0,
                      0,
                      0,
                      0,
                      0,
                      0,
                      0,
                      0,
                      0,
                      0,
                      0,
                      0,
                      0,
                      0,
                      0,
                      0,
                      0,
                      0,
                      0,
                      0,
                      0,
                      0,
                      0,
                      0,
                      0,
                      0,
                      0,
                      0,
                      0,
                      0,
                      0,
                      0,
                      0,
                      0,
                      0,
                      0,
                      0,
                      0,
                      0,
                      0,
                      0,
                      0,
                      0,
                      0,
                      0,
                      0,
                      0,
                      0,
                      0,
                      0,
                      0,
                      0,
                      0,
                      0,
                      0,
                      0,
                      0,
                      0,
                      0,
                      0,
                      0,
                      0,
                      0,
                      0,
                      0,
                      0,
                      0,
                      0,
                      0,
                      0,
                      0,
                      0,
                      0,
                      0,
                      0,
                      0,
                      0,
                      0,
                      0,
                      0,
                      0,
                      0,
                      0,
                      0,
                      0,
                      0,
                      0,
                      0,
                      0,
                      0,
                      0,
                      0,
                      0,
                      0,
                      0,
                      0,
                      0,
                      0,
                      0,
                      0,
                      0,
                      0,
                      0,
                      0,
                      0
                    ],
                    "coloraxis": "coloraxis",
                    "opacity": 0.7,
                    "symbol": "circle"
                  },
                  "mode": "markers",
                  "name": "",
                  "scene": "scene",
                  "showlegend": false,
                  "x": [
                    2.5083720684051514,
                    -8.319713592529297,
                    13.993481636047363,
                    10.25574779510498,
                    13.58446216583252,
                    5.881902694702148,
                    -12.729530334472656,
                    5.771870136260986,
                    1.1754872798919678,
                    2.4457848072052,
                    5.337005138397217,
                    9.780255317687988,
                    12.633039474487305,
                    6.736325263977051,
                    6.230154037475586,
                    1.3006120920181274,
                    12.612918853759766,
                    -6.941803932189941,
                    14.290149688720703,
                    8.370810508728027,
                    5.57832670211792,
                    3.281830310821533,
                    7.886405944824219,
                    0.5348820090293884,
                    6.3673505783081055,
                    6.337697982788086,
                    9.092669486999512,
                    1.4296932220458984,
                    7.873213768005371,
                    4.266643047332764,
                    1.9043071269989014,
                    -6.000240325927734,
                    6.219892978668213,
                    5.285518646240234,
                    -1.4423166513442993,
                    4.578952789306641,
                    -0.23156869411468506,
                    1.6844642162322998,
                    3.7958626747131348,
                    4.967199325561523,
                    -9.6163330078125,
                    6.181629657745361,
                    -8.316336631774902,
                    7.50802755355835,
                    6.715997219085693,
                    0.8910875916481018,
                    5.729151248931885,
                    0.625011146068573,
                    9.593032836914062,
                    -11.311626434326172,
                    9.397377967834473,
                    3.2758002281188965,
                    -0.7508905529975891,
                    1.0194520950317383,
                    7.721350193023682,
                    -3.337049722671509,
                    3.767900228500366,
                    -3.9454572200775146,
                    5.371845722198486,
                    12.359203338623047,
                    -2.166902780532837,
                    -10.26426887512207,
                    12.700637817382812,
                    6.024027347564697,
                    -10.460317611694336,
                    5.058215141296387,
                    -5.811159133911133,
                    -6.45947790145874,
                    9.949195861816406,
                    4.66767692565918,
                    8.006335258483887,
                    7.320806503295898,
                    3.1492555141448975,
                    10.036601066589355,
                    3.6021223068237305,
                    -1.56866455078125,
                    12.009757995605469,
                    9.228930473327637,
                    3.1139869689941406,
                    0.10180717706680298,
                    0.0769360363483429,
                    -0.7030580043792725,
                    9.765542030334473,
                    -9.600152015686035,
                    -9.968189239501953,
                    -6.439520359039307,
                    -7.951136112213135,
                    -11.07283878326416,
                    -4.11768102645874,
                    0.0674910694360733,
                    1.8672105073928833,
                    6.3753662109375,
                    -7.644076824188232,
                    -12.904814720153809,
                    -5.1924543380737305,
                    11.900566101074219,
                    -3.5905861854553223,
                    -6.826744079589844,
                    -12.93156909942627,
                    11.303267478942871,
                    3.206524133682251,
                    -10.126107215881348,
                    -6.3324384689331055,
                    -1.5937892198562622,
                    11.41401195526123,
                    -2.778627634048462,
                    -6.752955913543701,
                    -6.885939598083496,
                    3.814337730407715,
                    8.119736671447754,
                    -2.2143781185150146,
                    5.059005260467529,
                    6.830635070800781,
                    -2.8333399295806885,
                    14.06304931640625,
                    -2.1456100940704346,
                    -9.408669471740723,
                    -13.095507621765137,
                    9.898672103881836,
                    -13.742795944213867,
                    -2.087735176086426,
                    -2.945263624191284,
                    -10.22581672668457,
                    -9.214896202087402,
                    -5.014889717102051,
                    -7.865764617919922,
                    -4.7853474617004395,
                    8.601387023925781,
                    -9.791437149047852,
                    -8.400338172912598,
                    -1.385617971420288,
                    -3.1967077255249023,
                    9.558087348937988,
                    -8.935935974121094,
                    -11.06655502319336,
                    -1.3834991455078125,
                    10.600921630859375,
                    10.566317558288574,
                    -6.32766056060791,
                    -3.7200138568878174,
                    9.428473472595215,
                    0.23993231356143951,
                    -1.852851390838623,
                    11.502127647399902,
                    -13.805232048034668,
                    -0.7471321225166321,
                    5.058414459228516,
                    -8.133304595947266,
                    -6.792753219604492,
                    -4.032353401184082,
                    -1.4299726486206055,
                    -1.567819595336914,
                    -7.671618938446045,
                    -2.625723123550415,
                    3.557337999343872,
                    -4.5435638427734375,
                    -11.240296363830566,
                    -10.059739112854004,
                    2.730257749557495,
                    8.862322807312012,
                    -9.8484468460083,
                    -3.7225375175476074,
                    -0.4609651267528534,
                    2.8135464191436768,
                    8.19214153289795,
                    -11.034294128417969,
                    10.1802978515625,
                    6.249383926391602,
                    10.482560157775879,
                    -5.567121505737305,
                    -6.7372965812683105,
                    -6.799624443054199,
                    6.495181560516357,
                    12.537942886352539,
                    -3.7801454067230225,
                    -10.236392974853516,
                    7.757083415985107,
                    12.25678539276123,
                    -6.827654838562012,
                    9.47435474395752,
                    -5.404455184936523,
                    3.054108142852783,
                    -6.668699264526367,
                    5.1658616065979,
                    5.6396026611328125,
                    -10.652572631835938,
                    8.168601036071777,
                    -1.7748709917068481,
                    -1.465584635734558,
                    -1.2541077136993408,
                    -8.684861183166504,
                    12.676789283752441,
                    6.576709270477295,
                    13.712739944458008,
                    -8.357544898986816,
                    -10.959537506103516,
                    -6.545553684234619,
                    -10.70029067993164,
                    2.3759512901306152,
                    -5.082756042480469,
                    -1.4314006567001343,
                    -3.336280107498169,
                    -5.366918087005615,
                    10.147002220153809,
                    13.558296203613281,
                    -5.74609375,
                    0.34186404943466187,
                    -1.8170270919799805,
                    3.568695306777954,
                    -4.727611541748047,
                    -4.001330852508545,
                    10.426680564880371,
                    9.604117393493652,
                    -1.6096913814544678,
                    -2.9359891414642334,
                    -4.24853515625,
                    -5.290724277496338,
                    10.170513153076172,
                    10.507319450378418,
                    -2.095708131790161,
                    14.200006484985352,
                    -8.007716178894043,
                    10.662755012512207,
                    3.7257487773895264,
                    -8.835999488830566,
                    -0.7781941294670105,
                    -7.41505241394043,
                    -0.2850777804851532,
                    -11.289613723754883,
                    11.4877290725708,
                    -11.042380332946777,
                    -7.747565269470215,
                    9.525480270385742,
                    10.240337371826172,
                    -13.716015815734863,
                    -7.727251052856445,
                    -2.957252025604248,
                    -2.0691006183624268,
                    8.343070030212402,
                    12.144767761230469,
                    -2.310697317123413,
                    -9.580580711364746,
                    10.39322566986084,
                    -10.624950408935547,
                    5.027835369110107,
                    -9.084418296813965,
                    -3.1140804290771484,
                    1.2613515853881836,
                    -6.936553001403809,
                    8.903135299682617,
                    -2.0907673835754395,
                    -3.680152416229248,
                    7.302307605743408,
                    -3.5392353534698486,
                    -1.9676591157913208,
                    0.13420222699642181,
                    0.6249328851699829,
                    -11.693349838256836,
                    11.613448143005371,
                    -13.821002960205078,
                    10.622618675231934,
                    -3.1292026042938232,
                    12.862814903259277,
                    -5.70355749130249,
                    -1.3990496397018433,
                    -10.54251480102539,
                    10.186772346496582,
                    -8.439777374267578,
                    3.6949400901794434,
                    -9.773419380187988,
                    -6.808101654052734,
                    -7.069798946380615,
                    -0.36873555183410645,
                    10.329724311828613,
                    8.568273544311523,
                    -4.521067142486572,
                    11.633052825927734,
                    12.84636116027832,
                    -7.371463775634766,
                    -1.6677464246749878,
                    -7.955356597900391,
                    10.091734886169434,
                    -0.6695674657821655,
                    -1.3977680206298828,
                    13.55874252319336,
                    -9.95026969909668,
                    -11.187280654907227,
                    -7.885512828826904,
                    -10.856191635131836,
                    2.7215113639831543,
                    -0.30880072712898254,
                    -7.620616912841797,
                    -6.358942985534668,
                    -9.75516414642334,
                    -9.347704887390137,
                    8.648660659790039,
                    5.322054862976074,
                    1.6473300457000732,
                    -5.937380790710449,
                    0.9857410788536072,
                    -5.872442722320557,
                    -12.402280807495117,
                    7.898522853851318,
                    5.726520538330078,
                    5.27853536605835,
                    1.1810643672943115,
                    -7.996172904968262,
                    0.1799810230731964,
                    -8.989412307739258,
                    5.279620170593262,
                    5.367685794830322,
                    -7.498357772827148,
                    2.7862050533294678,
                    11.499809265136719,
                    -6.252059459686279,
                    1.9160889387130737,
                    -5.531468391418457,
                    -11.374094009399414,
                    1.7996968030929565,
                    -6.1985273361206055,
                    -6.493217468261719,
                    0.4515033960342407,
                    8.058357238769531,
                    -5.109675407409668,
                    -1.8349148035049438,
                    2.2830159664154053,
                    10.671005249023438,
                    9.101614952087402,
                    8.364127159118652,
                    5.649740695953369,
                    -8.433284759521484,
                    11.506143569946289,
                    -4.356786251068115,
                    -3.3257594108581543,
                    -10.6151704788208,
                    11.003073692321777,
                    -7.5714592933654785,
                    -1.358802080154419,
                    8.004528045654297,
                    11.680709838867188,
                    -0.45128384232521057,
                    1.1629537343978882,
                    10.098954200744629,
                    -3.526756525039673,
                    6.340510845184326,
                    8.927091598510742,
                    -9.189032554626465,
                    -10.189393997192383,
                    8.707709312438965,
                    11.422566413879395,
                    -2.8112971782684326,
                    -0.7084866166114807,
                    -14.24677562713623,
                    -6.881643295288086,
                    -11.22578239440918,
                    1.3847891092300415,
                    -1.8387078046798706,
                    -6.343084812164307,
                    11.15276050567627,
                    3.9802260398864746,
                    -8.175889015197754,
                    -7.194778919219971,
                    -0.32267487049102783,
                    -8.335443496704102,
                    8.379386901855469,
                    -0.47481074929237366,
                    8.171537399291992,
                    -11.313407897949219,
                    -11.595988273620605,
                    -6.51225471496582,
                    -9.923102378845215,
                    -2.502086639404297,
                    12.467918395996094,
                    9.127541542053223,
                    8.11067008972168,
                    -8.711888313293457,
                    1.9597415924072266,
                    5.900313377380371,
                    -6.196392059326172,
                    0.9575242400169373,
                    8.026361465454102,
                    -1.8429275751113892,
                    2.7938079833984375,
                    2.6740596294403076,
                    -8.46505069732666,
                    -3.3452327251434326,
                    -6.017377853393555,
                    -5.11727237701416,
                    -5.133827209472656,
                    5.034768104553223,
                    -9.261746406555176,
                    -3.528520107269287,
                    0.9460972547531128,
                    -2.1297788619995117,
                    -13.452287673950195,
                    -6.859385967254639,
                    -2.984961748123169,
                    5.269843101501465,
                    3.5808470249176025,
                    -3.17610764503479,
                    -13.88762092590332,
                    -7.833913326263428,
                    -7.266242027282715,
                    -6.444483757019043,
                    5.465199947357178,
                    -8.875266075134277,
                    12.275419235229492,
                    -0.7980642318725586,
                    9.307757377624512,
                    -11.618697166442871,
                    -10.619384765625,
                    -0.31871485710144043,
                    10.412620544433594,
                    0.5807615518569946,
                    -8.15057373046875,
                    -8.027929306030273,
                    -9.742229461669922,
                    -11.024688720703125,
                    9.400314331054688,
                    9.03243350982666,
                    5.269611835479736,
                    -7.472114086151123,
                    -8.093875885009766,
                    -6.497239112854004,
                    10.591830253601074,
                    -10.683243751525879,
                    -11.4534273147583,
                    5.413858890533447,
                    2.604264259338379,
                    11.776314735412598,
                    -1.988318681716919,
                    -11.183843612670898,
                    -10.03712272644043,
                    6.165243148803711,
                    8.734089851379395,
                    -6.118191242218018,
                    -12.937031745910645,
                    11.283665657043457,
                    3.5633773803710938,
                    13.86854362487793,
                    -2.3821778297424316,
                    2.446075439453125,
                    13.837857246398926,
                    13.074747085571289,
                    -3.3584070205688477,
                    8.043556213378906,
                    7.7795305252075195,
                    -4.115955352783203,
                    8.794245719909668,
                    2.798795700073242,
                    -8.505997657775879,
                    11.109649658203125,
                    -8.799482345581055,
                    1.025168538093567,
                    6.527400970458984,
                    -4.819321632385254,
                    -4.500716209411621,
                    10.584543228149414,
                    2.9614386558532715,
                    3.198498249053955,
                    -9.130095481872559,
                    13.307892799377441,
                    -8.722804069519043,
                    2.389453172683716,
                    -0.5630748271942139,
                    1.8881629705429077,
                    4.0545148849487305,
                    7.585544109344482,
                    -10.946986198425293,
                    10.67891788482666,
                    -1.7922340631484985,
                    -14.523690223693848,
                    -7.471930027008057,
                    -1.8051800727844238,
                    -8.76606273651123,
                    -9.026994705200195,
                    -10.665975570678711,
                    6.422176361083984,
                    0.14416593313217163,
                    -10.915205955505371,
                    -8.852835655212402,
                    -9.202763557434082,
                    5.200477123260498,
                    11.753188133239746,
                    -10.016054153442383,
                    12.35950756072998,
                    -6.786556243896484,
                    2.649684429168701,
                    -0.6782159805297852,
                    12.604738235473633,
                    0.09080327302217484,
                    7.827690601348877,
                    9.095330238342285,
                    8.255586624145508,
                    10.570002555847168,
                    4.705287456512451,
                    -11.54193115234375,
                    8.496284484863281,
                    -2.997394323348999,
                    0.4199891686439514,
                    -6.5924973487854,
                    1.0263522863388062,
                    2.17661452293396,
                    -4.071277618408203,
                    2.2455742359161377,
                    12.059452056884766,
                    3.46016526222229,
                    -8.854666709899902,
                    3.1807656288146973,
                    2.9466490745544434,
                    13.808394432067871,
                    -10.174714088439941,
                    -8.070444107055664,
                    10.955116271972656,
                    2.4170989990234375,
                    -5.427783966064453,
                    -2.962233781814575,
                    3.3685109615325928,
                    -2.8224704265594482,
                    -8.566190719604492,
                    4.589192867279053,
                    8.685548782348633,
                    10.04745864868164,
                    8.104525566101074,
                    11.327485084533691,
                    -8.486493110656738,
                    2.275968313217163,
                    -12.302979469299316,
                    -3.7474706172943115,
                    2.0473902225494385,
                    -6.442009925842285,
                    8.927295684814453,
                    9.896817207336426,
                    -10.003301620483398,
                    7.5549092292785645,
                    5.236983299255371,
                    -6.7863078117370605,
                    11.066445350646973,
                    -0.27740779519081116,
                    -9.96031665802002,
                    -3.3252809047698975,
                    6.332274436950684,
                    -10.526663780212402,
                    -6.158261299133301,
                    -10.57241439819336,
                    10.605265617370605,
                    -1.5283894538879395,
                    7.105254173278809,
                    4.759340763092041,
                    -0.8373934626579285,
                    -3.8397037982940674,
                    -2.466252088546753,
                    12.610955238342285,
                    2.815816879272461,
                    -4.188246250152588,
                    -6.244639873504639,
                    9.663500785827637,
                    3.085451364517212,
                    10.074991226196289,
                    0.04882848635315895,
                    13.471118927001953,
                    10.405126571655273,
                    -4.554784297943115,
                    4.583396911621094,
                    -12.038089752197266,
                    1.3938324451446533,
                    -10.194331169128418,
                    0.6076055765151978,
                    3.18306827545166,
                    5.419897556304932,
                    1.7155258655548096,
                    6.652637481689453,
                    5.760892391204834,
                    11.764034271240234,
                    -7.572922229766846,
                    6.446516990661621,
                    -11.269173622131348,
                    -11.412422180175781,
                    -0.7881677150726318,
                    -2.7119579315185547,
                    4.487829208374023,
                    -1.4914249181747437,
                    9.577078819274902,
                    -11.236563682556152,
                    -9.106242179870605,
                    0.4416593909263611,
                    2.0000839233398438,
                    -8.124998092651367,
                    -9.686321258544922,
                    8.321605682373047,
                    -8.003144264221191,
                    -6.557069301605225,
                    0.8489811420440674,
                    5.686423301696777,
                    -1.2233474254608154,
                    -1.655062198638916,
                    6.68882417678833,
                    9.40206527709961,
                    5.485429286956787,
                    12.623634338378906,
                    10.154571533203125,
                    -1.532439947128296,
                    3.067481517791748,
                    -11.608224868774414,
                    5.096872329711914,
                    -6.363980293273926,
                    8.252968788146973,
                    12.198883056640625,
                    -13.077960014343262,
                    -5.252618789672852,
                    10.005967140197754,
                    -0.4470957815647125,
                    4.478987216949463,
                    0.3658115267753601,
                    1.6622133255004883,
                    -5.451369285583496,
                    -5.492160797119141,
                    -4.506547927856445,
                    -5.1583662033081055,
                    1.7581088542938232,
                    0.3511670231819153,
                    -1.7384763956069946,
                    -1.9870859384536743,
                    -2.1482999324798584,
                    8.630313873291016,
                    7.390566349029541,
                    -10.046218872070312,
                    14.804298400878906,
                    -1.2022275924682617,
                    2.4748146533966064,
                    -0.671591579914093,
                    -10.445428848266602,
                    3.695762872695923,
                    9.194064140319824,
                    0.3920927047729492,
                    -0.23514994978904724,
                    -1.0297857522964478,
                    0.01797323487699032,
                    6.221447944641113,
                    -1.7411333322525024,
                    13.493870735168457,
                    -4.806794166564941,
                    -10.871525764465332,
                    0.3020121157169342,
                    11.618887901306152,
                    -0.06743457168340683,
                    11.287266731262207,
                    -3.08394193649292,
                    7.718722343444824,
                    0.18027786910533905,
                    -7.405433654785156,
                    -9.624470710754395,
                    -1.8794912099838257,
                    10.372186660766602,
                    -10.06103801727295,
                    -5.022690296173096,
                    10.610432624816895,
                    -1.5993282794952393,
                    -3.787163019180298,
                    8.430683135986328,
                    7.346644878387451,
                    -1.731995701789856,
                    -0.39178580045700073,
                    1.3590484857559204,
                    6.499785423278809,
                    -3.1073780059814453,
                    9.982710838317871,
                    -9.108701705932617,
                    -10.71019172668457,
                    -9.469639778137207,
                    -3.216210126876831,
                    0.7613089084625244,
                    -3.218290328979492,
                    -1.1922096014022827,
                    8.149837493896484,
                    -4.8230743408203125,
                    -5.485518455505371,
                    7.861530303955078,
                    6.396258354187012,
                    -8.882312774658203,
                    10.009159088134766,
                    -8.697362899780273,
                    -0.7110205888748169,
                    6.522334098815918,
                    -5.04486608505249,
                    -9.79365348815918,
                    -1.4177838563919067,
                    -10.014104843139648,
                    5.978748798370361,
                    6.366420745849609,
                    11.220561027526855,
                    5.196488380432129,
                    10.328518867492676,
                    -6.144760608673096,
                    7.307318210601807,
                    10.280152320861816,
                    2.2412662506103516,
                    -1.0436931848526,
                    2.557830572128296,
                    8.401497840881348,
                    -4.388545513153076,
                    -0.7722896337509155,
                    6.767364978790283,
                    7.870135307312012,
                    -3.4618337154388428,
                    -4.24362850189209,
                    6.353103160858154,
                    13.401651382446289,
                    0.904254674911499,
                    7.853207588195801,
                    5.302153587341309,
                    -9.725329399108887,
                    -6.072092056274414,
                    6.5063323974609375,
                    3.5210630893707275,
                    7.090180397033691,
                    5.6902265548706055,
                    0.8999935388565063,
                    3.5306758880615234,
                    -8.009187698364258,
                    14.285601615905762,
                    -7.762392044067383,
                    -6.766643524169922,
                    3.2781436443328857,
                    1.2182618379592896,
                    6.247901916503906,
                    2.822883367538452,
                    10.918630599975586,
                    8.183755874633789,
                    5.333178520202637,
                    -4.190062046051025,
                    13.002623558044434,
                    -0.7975596189498901,
                    -7.3092875480651855,
                    -5.021663665771484,
                    5.779187202453613,
                    -1.9558111429214478,
                    0.5965676307678223,
                    2.011303186416626,
                    10.030464172363281,
                    -3.8664255142211914,
                    -0.9556894302368164,
                    -1.8163647651672363,
                    10.5797758102417,
                    3.608349084854126,
                    1.5930269956588745,
                    -2.248314619064331,
                    7.573366165161133,
                    11.041481971740723,
                    7.850674629211426,
                    -7.962979793548584,
                    12.46119213104248,
                    -5.217502117156982,
                    -8.438862800598145,
                    -7.818853378295898,
                    12.748924255371094,
                    -0.1327066570520401,
                    -2.901015281677246,
                    11.018876075744629,
                    -9.286886215209961,
                    5.60746431350708,
                    -3.2590606212615967,
                    -7.298042297363281,
                    -9.082322120666504,
                    1.9384137392044067,
                    -10.804360389709473,
                    -8.909496307373047,
                    12.760396003723145,
                    -11.548896789550781,
                    13.232319831848145,
                    -0.3489340543746948,
                    -0.6547085642814636,
                    0.5276616215705872,
                    -10.908576011657715,
                    2.5071425437927246,
                    -6.839201927185059,
                    -1.3138928413391113,
                    -5.073797225952148,
                    3.6553194522857666,
                    3.4204940795898438,
                    -2.367814779281616,
                    -9.861876487731934,
                    -6.710604190826416,
                    -1.5281771421432495,
                    1.2730737924575806,
                    6.8407392501831055,
                    -5.16540002822876,
                    7.7328925132751465,
                    2.0498578548431396,
                    -1.6042982339859009,
                    5.110027313232422,
                    -2.654724597930908,
                    11.036564826965332,
                    1.7690718173980713,
                    -8.619504928588867,
                    -7.143146514892578,
                    -6.065154552459717,
                    9.400275230407715,
                    -1.31117582321167,
                    -7.417722702026367,
                    -3.2387921810150146,
                    -1.7783708572387695,
                    -3.1817283630371094,
                    -7.745262145996094,
                    12.618821144104004,
                    -10.696918487548828,
                    -5.294179916381836,
                    -5.340150833129883,
                    9.147001266479492,
                    -10.242642402648926,
                    11.068835258483887,
                    9.86777400970459,
                    2.239025354385376,
                    5.050823211669922,
                    -6.661703586578369,
                    8.62625789642334,
                    -6.228803634643555,
                    6.689739227294922,
                    7.022054195404053,
                    7.667181491851807,
                    4.562413692474365,
                    11.011701583862305,
                    2.364255905151367,
                    -4.958993911743164,
                    -7.558472156524658,
                    -13.706110000610352,
                    8.936193466186523,
                    0.35383012890815735,
                    1.585462212562561,
                    9.53773307800293,
                    -6.002140045166016,
                    2.161029577255249,
                    12.20954704284668,
                    9.285447120666504,
                    10.770628929138184,
                    5.593512535095215,
                    13.556714057922363,
                    12.527606010437012,
                    4.2144622802734375,
                    -3.9532601833343506,
                    -1.6667126417160034,
                    -1.504084825515747,
                    8.17867660522461,
                    -7.624638080596924,
                    -11.01900577545166,
                    8.383963584899902,
                    -10.606209754943848,
                    -1.4082504510879517,
                    -2.0491795539855957,
                    -5.023350715637207,
                    9.599431991577148,
                    4.6592559814453125,
                    -3.555363893508911,
                    -1.8485349416732788,
                    -4.354973793029785,
                    -9.098414421081543,
                    -3.8663601875305176,
                    9.90581226348877,
                    0.2300124317407608,
                    11.127798080444336,
                    3.60567045211792,
                    -0.8968497514724731,
                    -0.18864211440086365,
                    -2.6979799270629883,
                    -8.403585433959961,
                    10.36974048614502,
                    -12.932385444641113,
                    -1.2969896793365479,
                    5.504083633422852,
                    0.18825528025627136,
                    2.768824577331543,
                    -4.125131130218506,
                    -8.185494422912598,
                    -2.2741823196411133,
                    -6.610785484313965,
                    -8.153697967529297,
                    -13.538429260253906,
                    -5.438321590423584,
                    -0.5310020446777344,
                    12.38014030456543,
                    -0.3314361572265625,
                    -0.8142606019973755,
                    0.7155812978744507,
                    8.627132415771484,
                    5.219468593597412,
                    7.079043388366699,
                    3.1733906269073486,
                    -6.172207832336426,
                    0.802249014377594,
                    8.373369216918945,
                    10.998677253723145,
                    5.026911735534668,
                    9.640420913696289,
                    0.06652512401342392,
                    4.735429763793945,
                    -0.7568647861480713,
                    -2.0471956729888916,
                    -10.614611625671387,
                    -4.094974994659424,
                    -3.195430278778076,
                    -7.452934265136719,
                    -2.9486494064331055,
                    -6.33612060546875,
                    7.393484115600586,
                    -1.7701120376586914,
                    10.145076751708984,
                    5.470811367034912,
                    -5.07430362701416,
                    9.320987701416016,
                    3.6055681705474854,
                    -8.585953712463379,
                    -7.929792404174805,
                    -7.508897304534912,
                    3.780918598175049,
                    10.038662910461426,
                    14.66417121887207,
                    0.02371015027165413,
                    -9.61422348022461,
                    9.223362922668457,
                    6.310751438140869,
                    4.339449405670166,
                    9.425300598144531,
                    -13.309024810791016,
                    -2.396507501602173,
                    -9.218262672424316,
                    -0.8352614045143127,
                    -7.1693434715271,
                    0.02502758800983429,
                    -6.019905090332031,
                    -9.388350486755371,
                    14.482673645019531,
                    -3.577132225036621,
                    -7.401043891906738,
                    7.316779613494873,
                    5.771490573883057,
                    11.227931022644043,
                    -3.9626693725585938,
                    13.043709754943848,
                    -7.002310752868652,
                    4.811984062194824,
                    12.055721282958984,
                    -1.6384782791137695,
                    2.4385650157928467,
                    9.18944263458252,
                    0.9884839653968811,
                    10.33570671081543,
                    0.19256672263145447,
                    0.5967797040939331,
                    -7.637530326843262,
                    -7.716342926025391,
                    -0.14112958312034607,
                    -1.4131827354431152,
                    6.456082820892334,
                    8.900778770446777,
                    -4.408748626708984,
                    -9.663612365722656,
                    7.155749797821045,
                    7.91973876953125,
                    9.365790367126465,
                    -4.216617584228516,
                    -10.158296585083008,
                    -7.48194694519043,
                    12.008699417114258,
                    2.6470372676849365,
                    -1.0387592315673828,
                    -10.531414985656738,
                    -9.204816818237305,
                    3.2101800441741943,
                    9.17332935333252,
                    -3.9110894203186035,
                    10.498580932617188,
                    -2.421752452850342,
                    -0.670619547367096,
                    14.389561653137207,
                    -1.4376914501190186,
                    -10.34255599975586,
                    -10.782384872436523,
                    11.15451431274414,
                    -0.7825753688812256,
                    7.3836541175842285,
                    9.777899742126465,
                    3.3990330696105957,
                    1.2961058616638184,
                    -11.31987476348877,
                    10.657628059387207,
                    -7.419389724731445,
                    -4.844691753387451,
                    4.8111653327941895,
                    6.1655354499816895,
                    12.962350845336914,
                    8.492156982421875,
                    2.136768341064453,
                    -0.3023996949195862,
                    13.004341125488281,
                    9.983738899230957,
                    -0.540892481803894,
                    -12.824438095092773,
                    1.3595237731933594,
                    6.306943893432617,
                    13.208410263061523
                  ],
                  "y": [
                    -1.1441105604171753,
                    -3.8915584087371826,
                    -2.6793580055236816,
                    -5.366106033325195,
                    -10.364727020263672,
                    0.7195656895637512,
                    1.879248857498169,
                    -9.533780097961426,
                    -0.3689880669116974,
                    1.5514382123947144,
                    -7.39974308013916,
                    -12.082892417907715,
                    -3.4943504333496094,
                    -5.254205703735352,
                    -8.511975288391113,
                    -10.557619094848633,
                    -3.47782564163208,
                    9.85678482055664,
                    -1.4330276250839233,
                    -10.947854995727539,
                    1.4594095945358276,
                    1.636982798576355,
                    -5.891732692718506,
                    0.08132970333099365,
                    -2.7942824363708496,
                    0.2384738326072693,
                    -11.077056884765625,
                    1.906534194946289,
                    -14.266462326049805,
                    -10.532658576965332,
                    -0.3007109761238098,
                    -1.2520811557769775,
                    -2.4056813716888428,
                    -9.006641387939453,
                    5.223395347595215,
                    1.0684406757354736,
                    -6.157931804656982,
                    2.247725009918213,
                    3.8486781120300293,
                    -0.23991785943508148,
                    11.78350830078125,
                    -7.266495227813721,
                    8.847407341003418,
                    -1.3598014116287231,
                    -6.700110912322998,
                    -10.777432441711426,
                    -6.919177532196045,
                    -0.29050272703170776,
                    -11.799771308898926,
                    7.1148810386657715,
                    -8.114974975585938,
                    -5.398066520690918,
                    6.5965962409973145,
                    -10.619881629943848,
                    -0.5599994659423828,
                    2.80194354057312,
                    0.470180869102478,
                    3.009899854660034,
                    -8.758872032165527,
                    -5.3547821044921875,
                    5.187961578369141,
                    3.989753484725952,
                    -10.5950288772583,
                    -7.238368988037109,
                    6.701283931732178,
                    -6.529937744140625,
                    9.207694053649902,
                    10.027822494506836,
                    -10.626076698303223,
                    -3.0262467861175537,
                    -13.405763626098633,
                    -8.314451217651367,
                    4.843698978424072,
                    -5.314720153808594,
                    6.526244640350342,
                    1.6296861171722412,
                    -8.574714660644531,
                    -9.01185131072998,
                    7.978856086730957,
                    8.98870849609375,
                    8.51785945892334,
                    2.7118279933929443,
                    -9.110129356384277,
                    3.153310537338257,
                    1.8572806119918823,
                    -3.9246068000793457,
                    5.92673397064209,
                    7.993720054626465,
                    3.2049942016601562,
                    2.9354500770568848,
                    3.2594993114471436,
                    -6.284064292907715,
                    8.319334030151367,
                    3.4506237506866455,
                    2.1969475746154785,
                    -11.447417259216309,
                    10.694618225097656,
                    -1.9544674158096313,
                    2.608656167984009,
                    -9.08742618560791,
                    2.897143602371216,
                    7.638788223266602,
                    -2.119722366333008,
                    8.258172988891602,
                    -11.04437255859375,
                    10.229002952575684,
                    4.660187721252441,
                    0.5660392642021179,
                    7.51917028427124,
                    -8.838150978088379,
                    3.3611655235290527,
                    2.8397626876831055,
                    -4.440112113952637,
                    2.3526716232299805,
                    -7.0053815841674805,
                    5.601009845733643,
                    3.934248208999634,
                    3.6380908489227295,
                    -4.999663352966309,
                    3.588721752166748,
                    6.4024834632873535,
                    2.1138083934783936,
                    -1.3252416849136353,
                    8.143050193786621,
                    -0.32108044624328613,
                    -2.1331982612609863,
                    1.4025429487228394,
                    -6.186091423034668,
                    1.5931681394577026,
                    -1.7658158540725708,
                    3.243450880050659,
                    10.13978385925293,
                    -8.871177673339844,
                    0.5693771243095398,
                    7.792364597320557,
                    -1.12607741355896,
                    -7.297131061553955,
                    -8.318799018859863,
                    -1.7297029495239258,
                    -0.9329447150230408,
                    -6.061061859130859,
                    3.0537240505218506,
                    7.5638322830200195,
                    -9.0859375,
                    4.065337657928467,
                    9.929213523864746,
                    -6.1959228515625,
                    8.51258659362793,
                    -2.5937891006469727,
                    3.329700231552124,
                    3.642765760421753,
                    3.7055346965789795,
                    -2.925229787826538,
                    7.966269493103027,
                    2.789003610610962,
                    10.731099128723145,
                    7.438048362731934,
                    9.460905075073242,
                    4.759566783905029,
                    -3.099112033843994,
                    2.6469998359680176,
                    3.910663604736328,
                    6.18587589263916,
                    9.393293380737305,
                    -4.511331081390381,
                    8.462386131286621,
                    -6.398412227630615,
                    -11.113836288452148,
                    -5.834861755371094,
                    1.1442824602127075,
                    5.559168815612793,
                    -3.110569715499878,
                    -2.872150421142578,
                    -5.592765808105469,
                    -1.368407130241394,
                    8.392364501953125,
                    -1.7154114246368408,
                    -4.6778082847595215,
                    -2.27249813079834,
                    -7.851807594299316,
                    0.05989587679505348,
                    -4.2317914962768555,
                    -0.1672859638929367,
                    -11.961126327514648,
                    -11.50420093536377,
                    4.303243637084961,
                    -6.267087459564209,
                    4.030777931213379,
                    8.242018699645996,
                    3.962968349456787,
                    8.516973495483398,
                    -8.865408897399902,
                    -6.965057373046875,
                    -5.784167766571045,
                    6.686290264129639,
                    1.3175930976867676,
                    0.8042712807655334,
                    -2.7773377895355225,
                    2.3347084522247314,
                    -1.0007046461105347,
                    1.7863470315933228,
                    2.313811779022217,
                    2.7434685230255127,
                    -9.815668106079102,
                    -4.417964458465576,
                    -0.8608766198158264,
                    10.958179473876953,
                    2.1742305755615234,
                    -4.020017147064209,
                    -0.16360466182231903,
                    -0.4524329900741577,
                    -6.211373805999756,
                    -10.348686218261719,
                    4.906706809997559,
                    1.9728467464447021,
                    1.1657421588897705,
                    -0.6760101318359375,
                    -8.715188980102539,
                    -11.313760757446289,
                    -1.3865747451782227,
                    -4.2394609451293945,
                    0.6941059231758118,
                    -9.360057830810547,
                    8.099209785461426,
                    5.770871162414551,
                    10.551273345947266,
                    8.350316047668457,
                    7.379145622253418,
                    8.792262077331543,
                    -2.923358201980591,
                    1.8965752124786377,
                    8.584332466125488,
                    -7.36931848526001,
                    -8.138278007507324,
                    3.647102117538452,
                    1.133315920829773,
                    -1.0356987714767456,
                    3.4819185733795166,
                    -6.3960723876953125,
                    -3.4909942150115967,
                    2.3481109142303467,
                    -0.0045858933590352535,
                    -4.283598899841309,
                    3.398027181625366,
                    -8.390328407287598,
                    6.31872034072876,
                    7.849446773529053,
                    8.306361198425293,
                    8.566725730895996,
                    -6.524150848388672,
                    6.650145530700684,
                    -1.8406561613082886,
                    -7.935150146484375,
                    4.297839164733887,
                    10.3175048828125,
                    -2.218527317047119,
                    -2.0632975101470947,
                    5.313429832458496,
                    -3.5682499408721924,
                    3.5253679752349854,
                    -4.700352668762207,
                    4.743663311004639,
                    -7.3120222091674805,
                    -0.802569568157196,
                    6.362563133239746,
                    3.1744027137756348,
                    -9.683629989624023,
                    4.783027648925781,
                    7.402481555938721,
                    -3.166095733642578,
                    2.2374682426452637,
                    1.4671955108642578,
                    0.5795262455940247,
                    -3.897040605545044,
                    -3.5754754543304443,
                    7.642838954925537,
                    -10.09793472290039,
                    -8.900334358215332,
                    1.3044569492340088,
                    8.298364639282227,
                    8.73970890045166,
                    -4.112236976623535,
                    8.913119316101074,
                    0.6576166749000549,
                    -6.854709625244141,
                    -0.00662554707378149,
                    5.064452648162842,
                    0.28860387206077576,
                    6.359836578369141,
                    1.650516152381897,
                    4.0808329582214355,
                    1.3030216693878174,
                    4.731320858001709,
                    1.1627644300460815,
                    3.071817398071289,
                    -4.945582866668701,
                    -5.606142520904541,
                    9.715328216552734,
                    2.4864585399627686,
                    -1.7135368585586548,
                    -4.484641075134277,
                    4.854938983917236,
                    -10.980380058288574,
                    -8.659619331359863,
                    -4.88224458694458,
                    5.155284404754639,
                    -0.49792933464050293,
                    5.164951324462891,
                    11.054340362548828,
                    -11.692218780517578,
                    -10.70003604888916,
                    9.876046180725098,
                    -4.116206645965576,
                    -3.736255168914795,
                    2.961578130722046,
                    -0.7905642986297607,
                    0.9293600916862488,
                    2.1755332946777344,
                    5.8681559562683105,
                    2.2944624423980713,
                    -3.958185911178589,
                    2.7243974208831787,
                    -8.303228378295898,
                    -1.2854195833206177,
                    9.00460433959961,
                    1.1587326526641846,
                    -10.107928276062012,
                    -10.233840942382812,
                    -6.5082902908325195,
                    -4.989408016204834,
                    4.94973611831665,
                    -8.383792877197266,
                    6.301560878753662,
                    10.332696914672852,
                    8.348099708557129,
                    -8.224640846252441,
                    -1.301145315170288,
                    -1.3836557865142822,
                    -6.499197483062744,
                    -7.02724552154541,
                    -1.2615554332733154,
                    9.225378036499023,
                    -4.933210372924805,
                    7.64784049987793,
                    -9.49056339263916,
                    -7.853035926818848,
                    0.10876768082380295,
                    10.792473793029785,
                    -5.771651268005371,
                    -8.432787895202637,
                    -2.092679262161255,
                    -0.029129330068826675,
                    2.810805559158325,
                    1.7274128198623657,
                    5.091239929199219,
                    8.718767166137695,
                    5.164527416229248,
                    0.34595903754234314,
                    -12.55739688873291,
                    1.0732299089431763,
                    -3.0044171810150146,
                    -0.7072644233703613,
                    0.46057066321372986,
                    9.562834739685059,
                    -7.210498332977295,
                    6.510073184967041,
                    -9.967412948608398,
                    5.336653709411621,
                    5.656546592712402,
                    1.104154348373413,
                    7.925693511962891,
                    2.4323008060455322,
                    -8.78232192993164,
                    -5.855257034301758,
                    -8.243093490600586,
                    7.112886428833008,
                    6.703934192657471,
                    -5.5342817306518555,
                    2.310779094696045,
                    2.46986722946167,
                    -4.837578773498535,
                    2.399524688720703,
                    6.060757637023926,
                    6.3457722663879395,
                    -2.2119030952453613,
                    11.35433292388916,
                    4.824791431427002,
                    3.9622066020965576,
                    -1.4646245241165161,
                    3.136578321456909,
                    5.869380950927734,
                    10.643516540527344,
                    1.4066239595413208,
                    3.7490406036376953,
                    2.8123788833618164,
                    1.575222373008728,
                    10.019322395324707,
                    -8.562800407409668,
                    2.509246349334717,
                    8.313275337219238,
                    3.3572208881378174,
                    4.592360496520996,
                    9.630854606628418,
                    -0.8852792978286743,
                    -10.823718070983887,
                    4.071632385253906,
                    -5.458608150482178,
                    2.7760236263275146,
                    -2.204824924468994,
                    -1.2760261297225952,
                    1.3017243146896362,
                    2.3692455291748047,
                    -12.088444709777832,
                    6.096312999725342,
                    0.9790686368942261,
                    8.681025505065918,
                    8.978018760681152,
                    0.7602077722549438,
                    -9.963281631469727,
                    -8.101239204406738,
                    3.0876245498657227,
                    2.386017322540283,
                    1.0001380443572998,
                    -3.7425451278686523,
                    -6.5678558349609375,
                    6.618447780609131,
                    2.1840155124664307,
                    -5.0759124755859375,
                    3.9186620712280273,
                    -8.640536308288574,
                    4.986955165863037,
                    3.124955654144287,
                    3.475475788116455,
                    -6.655252933502197,
                    -13.104881286621094,
                    -0.4703848659992218,
                    5.109208106994629,
                    -9.154244422912598,
                    7.667123317718506,
                    -4.703232765197754,
                    9.963769912719727,
                    8.396699905395508,
                    -5.6379075050354,
                    -10.721197128295898,
                    3.8010716438293457,
                    -2.3726277351379395,
                    -11.426684379577637,
                    8.15973949432373,
                    -6.089179515838623,
                    -5.1237711906433105,
                    5.117259979248047,
                    -7.649631977081299,
                    8.064699172973633,
                    5.748137950897217,
                    -5.008442401885986,
                    1.6726183891296387,
                    -3.3457229137420654,
                    -6.539829730987549,
                    7.5202155113220215,
                    6.308635711669922,
                    -2.234844446182251,
                    -6.210378646850586,
                    9.212218284606934,
                    8.050843238830566,
                    -0.883389949798584,
                    3.4686827659606934,
                    7.660953044891357,
                    -11.969135284423828,
                    8.31210708618164,
                    -6.038074970245361,
                    7.3252387046813965,
                    5.63532829284668,
                    5.852989673614502,
                    0.657930314540863,
                    6.607155799865723,
                    6.563593864440918,
                    1.022361397743225,
                    -4.242279052734375,
                    -0.3888469338417053,
                    1.9784095287322998,
                    9.973663330078125,
                    4.07374906539917,
                    -5.387235164642334,
                    -11.316936492919922,
                    3.804358959197998,
                    -10.417607307434082,
                    -2.9228947162628174,
                    4.772291660308838,
                    -1.31709623336792,
                    -3.8668665885925293,
                    7.551311016082764,
                    -4.909083366394043,
                    -2.7886722087860107,
                    -11.50168514251709,
                    -4.887102127075195,
                    -6.349055767059326,
                    -1.6160650253295898,
                    -3.3602235317230225,
                    7.3416571617126465,
                    2.312635898590088,
                    -1.4374405145645142,
                    1.2147605419158936,
                    1.8073776960372925,
                    2.7202024459838867,
                    4.01854944229126,
                    -4.127762794494629,
                    6.573143005371094,
                    10.548823356628418,
                    5.206020355224609,
                    -4.256651401519775,
                    -9.199981689453125,
                    9.733660697937012,
                    -0.29211559891700745,
                    -7.038843631744385,
                    8.63767147064209,
                    7.80034065246582,
                    6.734537601470947,
                    6.904453754425049,
                    -1.9759113788604736,
                    -0.9835696220397949,
                    4.691487789154053,
                    -9.625792503356934,
                    -4.363144397735596,
                    -6.768975257873535,
                    -11.28688907623291,
                    4.504185199737549,
                    6.379522323608398,
                    5.023631572723389,
                    -1.8904879093170166,
                    -1.4159501791000366,
                    -1.9566833972930908,
                    -9.499720573425293,
                    -3.942815065383911,
                    8.189041137695312,
                    -3.744687795639038,
                    -9.929037094116211,
                    -0.02696922793984413,
                    -10.348078727722168,
                    1.26698637008667,
                    -3.0499706268310547,
                    -2.1237902641296387,
                    -4.018095970153809,
                    1.0934531688690186,
                    -2.8205373287200928,
                    10.373263359069824,
                    -6.380098342895508,
                    10.368806838989258,
                    -5.673114776611328,
                    -6.418582439422607,
                    9.533677101135254,
                    9.782773971557617,
                    0.3933403491973877,
                    -7.570498466491699,
                    4.720077991485596,
                    7.521157741546631,
                    5.854504108428955,
                    -2.944932699203491,
                    4.920412063598633,
                    -10.124475479125977,
                    -2.458660125732422,
                    -10.635335922241211,
                    -11.672811508178711,
                    8.13467788696289,
                    -5.487303256988525,
                    4.666858196258545,
                    10.245250701904297,
                    7.065420627593994,
                    1.1566877365112305,
                    -6.611577987670898,
                    -4.35076904296875,
                    -0.43141239881515503,
                    -4.307395935058594,
                    -9.738520622253418,
                    -8.595008850097656,
                    -1.6699600219726562,
                    -12.242795944213867,
                    1.1781017780303955,
                    7.097399711608887,
                    0.0797027125954628,
                    6.817481994628906,
                    3.010681390762329,
                    6.940454959869385,
                    -5.847873210906982,
                    0.9118028283119202,
                    10.98501968383789,
                    11.192042350769043,
                    -0.9373789429664612,
                    5.573655128479004,
                    6.143621444702148,
                    -9.787406921386719,
                    3.9369311332702637,
                    10.009154319763184,
                    -1.5272691249847412,
                    -10.326942443847656,
                    -0.9524847865104675,
                    7.062098503112793,
                    -8.610254287719727,
                    -10.719863891601562,
                    -4.149158954620361,
                    -10.392029762268066,
                    -6.244051933288574,
                    1.993666648864746,
                    -4.362855911254883,
                    2.790459394454956,
                    -3.7675082683563232,
                    -1.667187213897705,
                    -10.607599258422852,
                    -10.009456634521484,
                    3.963945150375366,
                    -3.3900420665740967,
                    -3.7347652912139893,
                    3.2039754390716553,
                    4.871881484985352,
                    -0.7763952016830444,
                    7.515587329864502,
                    8.83717155456543,
                    0.9903377890586853,
                    2.909363031387329,
                    0.49097561836242676,
                    -1.2817583084106445,
                    -0.4907696843147278,
                    7.093252658843994,
                    6.651027202606201,
                    -1.7996656894683838,
                    -6.5460286140441895,
                    -11.714583396911621,
                    3.2499430179595947,
                    -7.733068943023682,
                    3.171081066131592,
                    7.839942932128906,
                    2.8393797874450684,
                    -1.9993562698364258,
                    6.220724105834961,
                    -9.356857299804688,
                    2.8481216430664062,
                    1.4078140258789062,
                    3.3715903759002686,
                    -0.3376641571521759,
                    -4.846924304962158,
                    -0.7503946423530579,
                    -4.1598801612854,
                    0.06526218354701996,
                    1.4899036884307861,
                    2.669019937515259,
                    -8.901260375976562,
                    7.171472549438477,
                    -5.02411413192749,
                    -0.4026956260204315,
                    -5.954255104064941,
                    0.797396719455719,
                    8.307720184326172,
                    6.839960098266602,
                    2.384359359741211,
                    -7.189657211303711,
                    7.94290018081665,
                    -1.338417887687683,
                    -9.200029373168945,
                    -0.14790765941143036,
                    4.05694580078125,
                    -9.019770622253418,
                    -11.694181442260742,
                    5.961887359619141,
                    -0.813259482383728,
                    -1.1423697471618652,
                    -4.879133224487305,
                    -0.9093462824821472,
                    -8.443559646606445,
                    0.25508683919906616,
                    -3.0786969661712646,
                    7.8133931159973145,
                    -1.1987377405166626,
                    9.079122543334961,
                    6.731847763061523,
                    0.11947538703680038,
                    -2.6757664680480957,
                    9.859675407409668,
                    -1.397422432899475,
                    -3.735842704772949,
                    -6.2860331535339355,
                    0.6791436672210693,
                    -5.537367820739746,
                    8.845439910888672,
                    -0.7724422216415405,
                    -2.6791510581970215,
                    8.041604042053223,
                    7.426474571228027,
                    10.71944522857666,
                    11.289258003234863,
                    -6.460883617401123,
                    -11.333860397338867,
                    -9.029449462890625,
                    -9.670247077941895,
                    -12.124873161315918,
                    -2.6397409439086914,
                    -6.124745845794678,
                    -3.0361428260803223,
                    1.9242784976959229,
                    10.449075698852539,
                    5.3927202224731445,
                    -5.721787452697754,
                    1.4533908367156982,
                    8.901300430297852,
                    -5.246142864227295,
                    -14.319275856018066,
                    8.693648338317871,
                    2.6373398303985596,
                    -7.756396293640137,
                    -6.210634231567383,
                    -0.496357798576355,
                    -2.015906572341919,
                    -8.336434364318848,
                    8.96730899810791,
                    2.104412794113159,
                    0.14875143766403198,
                    6.287559986114502,
                    -1.4774326086044312,
                    0.8993216156959534,
                    -10.31843090057373,
                    6.285861015319824,
                    3.485297203063965,
                    -1.4659491777420044,
                    4.904147624969482,
                    -3.940913438796997,
                    -5.4132795333862305,
                    -3.591092586517334,
                    -2.467477798461914,
                    -4.560421466827393,
                    -2.7221148014068604,
                    -8.356212615966797,
                    -0.29946327209472656,
                    -0.193403422832489,
                    -8.716777801513672,
                    0.15232113003730774,
                    0.3717700242996216,
                    -3.741940498352051,
                    -5.391921043395996,
                    4.930777072906494,
                    8.448004722595215,
                    8.783028602600098,
                    -4.046515464782715,
                    2.33766508102417,
                    1.0873595476150513,
                    0.5638671517372131,
                    -2.7453458309173584,
                    2.556103467941284,
                    9.418840408325195,
                    8.180368423461914,
                    -4.3591084480285645,
                    -6.028234481811523,
                    -12.12531852722168,
                    -3.281062126159668,
                    -8.21103286743164,
                    2.499434232711792,
                    6.603172779083252,
                    9.313736915588379,
                    -4.9321417808532715,
                    9.025595664978027,
                    4.994882106781006,
                    -7.531014919281006,
                    10.603398323059082,
                    -11.911171913146973,
                    6.666827201843262,
                    6.522077560424805,
                    7.390625,
                    -0.5635557770729065,
                    4.907079696655273,
                    4.128937721252441,
                    -8.785377502441406,
                    1.9567872285842896,
                    -8.5823335647583,
                    8.790675163269043,
                    0.12788185477256775,
                    -0.9522759914398193,
                    1.904163122177124,
                    0.8470073938369751,
                    10.348231315612793,
                    3.0624868869781494,
                    1.3021894693374634,
                    6.049515724182129,
                    2.2752232551574707,
                    4.776456832885742,
                    4.234967231750488,
                    -3.2760581970214844,
                    3.7941787242889404,
                    8.79196548461914,
                    -12.279424667358398,
                    5.052282333374023,
                    -3.0758683681488037,
                    9.873931884765625,
                    11.098695755004883,
                    -11.324041366577148,
                    3.291745662689209,
                    -3.2083687782287598,
                    5.00487756729126,
                    5.929812908172607,
                    -1.1126042604446411,
                    9.773575782775879,
                    -6.0925164222717285,
                    5.75473165512085,
                    8.673383712768555,
                    3.964933156967163,
                    2.2257080078125,
                    -1.833964228630066,
                    -3.2428789138793945,
                    -3.9870734214782715,
                    7.824559688568115,
                    7.525753498077393,
                    -2.5791614055633545,
                    -6.374093532562256,
                    7.333540916442871,
                    -8.562801361083984,
                    -2.4417407512664795,
                    5.692687034606934,
                    2.780750274658203,
                    -3.764648675918579,
                    -6.042750835418701,
                    -1.2475347518920898,
                    -11.259444236755371,
                    -1.4534577131271362,
                    -6.363586902618408,
                    -5.534092903137207,
                    -3.7086029052734375,
                    9.837529182434082,
                    -2.863677740097046,
                    0.35262948274612427,
                    5.454152584075928,
                    -6.287052154541016,
                    8.869138717651367,
                    3.035048484802246,
                    -9.974666595458984,
                    5.816437721252441,
                    1.9512120485305786,
                    -10.472241401672363,
                    -2.7815001010894775,
                    -6.401996612548828,
                    -3.2813851833343506,
                    -9.458481788635254,
                    -8.35886287689209,
                    -4.486104488372803,
                    8.2263765335083,
                    5.552451133728027,
                    8.00521183013916,
                    -6.608755111694336,
                    1.4755936861038208,
                    3.382894515991211,
                    -3.167557954788208,
                    -0.5684145092964172,
                    6.111874580383301,
                    4.082516670227051,
                    -0.13648013770580292,
                    -3.0522382259368896,
                    4.949321746826172,
                    7.771666049957275,
                    5.776170253753662,
                    -1.349043369293213,
                    -1.708775281906128,
                    0.06315670907497406,
                    -5.634591102600098,
                    9.873580932617188,
                    -3.169032573699951,
                    3.155555009841919,
                    9.260175704956055,
                    -3.291738748550415,
                    8.331154823303223,
                    -0.4381571412086487,
                    -8.265447616577148,
                    4.053770065307617,
                    10.776021957397461,
                    -3.8666934967041016,
                    2.8075110912323,
                    -5.857343673706055,
                    9.821039199829102,
                    5.993462085723877,
                    4.852788925170898,
                    3.18963885307312,
                    5.610482692718506,
                    2.8397915363311768,
                    3.048588514328003,
                    0.8151254653930664,
                    -4.4072585105896,
                    3.8439853191375732,
                    7.630746841430664,
                    9.002811431884766,
                    -8.725381851196289,
                    -8.779162406921387,
                    -4.802879333496094,
                    2.551257371902466,
                    3.6817753314971924,
                    -1.7173120975494385,
                    -2.542083263397217,
                    -9.10552978515625,
                    -10.920011520385742,
                    -6.361248970031738,
                    8.266093254089355,
                    -12.115839004516602,
                    2.5033040046691895,
                    -0.3083174526691437,
                    7.410750865936279,
                    -2.194122791290283,
                    -3.530510663986206,
                    0.4266941249370575,
                    5.206198215484619,
                    9.98791790008545,
                    -11.465961456298828,
                    8.82258129119873,
                    -9.673812866210938,
                    -6.187780857086182,
                    -1.2069950103759766,
                    -6.216222286224365,
                    7.829145908355713,
                    3.2305777072906494,
                    5.100716590881348,
                    8.44641399383545,
                    6.396089553833008,
                    -3.203789234161377,
                    -8.17375659942627,
                    1.1094733476638794,
                    -1.2810059785842896,
                    -5.332087993621826,
                    -5.608202934265137,
                    4.145880222320557,
                    -9.133651733398438,
                    2.7678234577178955,
                    8.08584213256836,
                    -2.6570186614990234,
                    4.455770969390869,
                    1.8752564191818237,
                    0.3190059959888458,
                    2.162806749343872,
                    -2.0091631412506104,
                    -8.899478912353516,
                    9.534729957580566,
                    5.826704025268555,
                    -11.434064865112305,
                    -8.506251335144043,
                    -8.18642807006836,
                    10.809234619140625,
                    -4.199851989746094,
                    -2.8077733516693115,
                    -5.630159854888916,
                    -5.378572940826416,
                    3.6738173961639404,
                    8.435443878173828,
                    -3.317073345184326,
                    6.376519680023193,
                    -5.2978692054748535,
                    7.752052307128906,
                    3.4512572288513184,
                    0.7335019111633301,
                    2.292013168334961,
                    -0.747748076915741,
                    2.4022939205169678,
                    -11.080349922180176,
                    -8.120247840881348,
                    3.863304615020752,
                    8.971639633178711,
                    -5.878365516662598,
                    -7.0297651290893555,
                    -2.620394229888916,
                    2.609525203704834,
                    6.3295674324035645,
                    2.7646324634552,
                    -4.1962175369262695,
                    7.218410015106201,
                    -0.07433357834815979,
                    9.812708854675293,
                    1.6262662410736084,
                    4.118760108947754,
                    -4.506694793701172,
                    6.5218424797058105,
                    -10.510998725891113,
                    7.076769828796387,
                    -1.3463125228881836,
                    -8.118380546569824,
                    8.367405891418457,
                    4.468818187713623,
                    2.8486316204071045,
                    -9.36868953704834,
                    0.14855755865573883,
                    -2.737180233001709,
                    -4.104384899139404,
                    2.7730495929718018,
                    10.394781112670898,
                    3.9257521629333496,
                    -9.121841430664062,
                    4.881441593170166,
                    3.1920864582061768,
                    -4.976257801055908,
                    -4.381038665771484,
                    -10.19588565826416,
                    -3.956587076187134,
                    5.126153945922852,
                    7.540453910827637,
                    -4.3190131187438965,
                    -5.7801594734191895,
                    -0.3378758132457733,
                    4.353676795959473,
                    9.827926635742188,
                    -5.7325639724731445,
                    -9.22553825378418
                  ],
                  "z": [
                    8.350743293762207,
                    -5.537430763244629,
                    3.252483367919922,
                    -6.897497653961182,
                    4.741848468780518,
                    -6.37214469909668,
                    -8.272396087646484,
                    -10.722256660461426,
                    -1.754861831665039,
                    -8.101092338562012,
                    -13.310981750488281,
                    1.2365696430206299,
                    -8.820903778076172,
                    6.8777947425842285,
                    0.8185505270957947,
                    -4.160215854644775,
                    -8.911046981811523,
                    -6.095127105712891,
                    2.561847686767578,
                    0.06739930808544159,
                    -6.11373233795166,
                    10.125470161437988,
                    6.0900492668151855,
                    -1.8672332763671875,
                    -4.093291759490967,
                    10.259020805358887,
                    0.4215714633464813,
                    0.9716196060180664,
                    -2.2722675800323486,
                    -3.2236828804016113,
                    1.1072989702224731,
                    -7.76304292678833,
                    7.77080774307251,
                    -0.6521415114402771,
                    -0.971441924571991,
                    11.410260200500488,
                    -1.5742813348770142,
                    0.9308216571807861,
                    10.194262504577637,
                    -7.370103359222412,
                    -0.587302565574646,
                    -2.772747039794922,
                    2.8788414001464844,
                    -2.9283413887023926,
                    -0.8115077614784241,
                    -4.758976459503174,
                    -0.8618301153182983,
                    -1.6663216352462769,
                    0.9594355225563049,
                    -1.4674688577651978,
                    -12.590767860412598,
                    1.8125487565994263,
                    -0.48015737533569336,
                    -4.654743194580078,
                    -5.799417972564697,
                    -8.944226264953613,
                    -7.988980770111084,
                    -4.444119930267334,
                    -1.2057883739471436,
                    -0.01786714419722557,
                    -4.0948100090026855,
                    1.5710989236831665,
                    -6.019985198974609,
                    -3.3455474376678467,
                    1.4572941064834595,
                    -0.5985590815544128,
                    -3.559751033782959,
                    -6.267700672149658,
                    1.0930644273757935,
                    -7.431699275970459,
                    -5.181032180786133,
                    -7.554463863372803,
                    8.581735610961914,
                    -10.2113618850708,
                    16.498804092407227,
                    11.51060676574707,
                    1.0560067892074585,
                    -4.830749034881592,
                    12.30671501159668,
                    10.02466106414795,
                    9.602279663085938,
                    12.35040283203125,
                    4.284224510192871,
                    0.646104633808136,
                    -6.0465803146362305,
                    -2.589428424835205,
                    -4.423630237579346,
                    -5.581894397735596,
                    -0.7593851089477539,
                    8.388469696044922,
                    12.41738224029541,
                    -11.887469291687012,
                    4.1631011962890625,
                    -7.662257194519043,
                    -7.451875686645508,
                    -5.162487983703613,
                    2.929518699645996,
                    -1.5052571296691895,
                    -1.259650468826294,
                    1.6474007368087769,
                    7.976954460144043,
                    -2.060786247253418,
                    -1.4185253381729126,
                    0.09267330169677734,
                    -7.139930725097656,
                    5.538857460021973,
                    3.318277359008789,
                    -4.4182233810424805,
                    16.564130783081055,
                    -4.539312839508057,
                    9.64571475982666,
                    7.4057297706604,
                    -13.999451637268066,
                    10.021488189697266,
                    3.670590400695801,
                    11.704988479614258,
                    -9.972969055175781,
                    -7.82500696182251,
                    -8.299213409423828,
                    -2.4214940071105957,
                    12.045565605163574,
                    0.15666912496089935,
                    -1.7942384481430054,
                    0.6308982372283936,
                    5.31162691116333,
                    -3.9615774154663086,
                    -6.236739158630371,
                    -7.347787380218506,
                    -5.330491542816162,
                    -2.9456560611724854,
                    -2.5728840827941895,
                    2.613518238067627,
                    -11.579975128173828,
                    -7.170480728149414,
                    -3.005195140838623,
                    10.857933044433594,
                    5.0026397705078125,
                    -8.99669361114502,
                    -4.4717936515808105,
                    -1.804207682609558,
                    -10.748332977294922,
                    10.007509231567383,
                    0.5286180377006531,
                    4.430447578430176,
                    -3.6664748191833496,
                    7.587015628814697,
                    -10.073180198669434,
                    -2.6541383266448975,
                    -5.234524250030518,
                    3.354995012283325,
                    9.122125625610352,
                    13.921157836914062,
                    0.8492013812065125,
                    1.1072837114334106,
                    10.218332290649414,
                    2.592714548110962,
                    0.29827719926834106,
                    -0.19338704645633698,
                    13.892640113830566,
                    -8.745742797851562,
                    -9.797622680664062,
                    -3.9601457118988037,
                    15.395782470703125,
                    11.524736404418945,
                    -7.329273700714111,
                    -1.6354644298553467,
                    -10.389799118041992,
                    -3.796067714691162,
                    1.3842582702636719,
                    6.163069248199463,
                    3.1306045055389404,
                    -0.9369938373565674,
                    -5.82834005355835,
                    4.504880905151367,
                    2.745504379272461,
                    -4.28118371963501,
                    -6.5521955490112305,
                    4.04091215133667,
                    -6.015544891357422,
                    -8.212087631225586,
                    1.2352627515792847,
                    -7.391908645629883,
                    -8.96249008178711,
                    -6.3028459548950195,
                    -4.410553455352783,
                    -9.699125289916992,
                    -3.031463861465454,
                    -2.454616069793701,
                    8.342657089233398,
                    13.162737846374512,
                    -2.219414472579956,
                    4.469300746917725,
                    -12.502680778503418,
                    4.272533416748047,
                    -7.687341690063477,
                    -9.155543327331543,
                    0.8602850437164307,
                    -1.0176938772201538,
                    7.099383354187012,
                    4.536371231079102,
                    -1.085029125213623,
                    3.050760507583618,
                    -5.999429225921631,
                    3.987313747406006,
                    3.5655362606048584,
                    -8.16274642944336,
                    10.430002212524414,
                    -1.472259759902954,
                    -8.208733558654785,
                    -5.529484272003174,
                    3.0852324962615967,
                    -3.6544604301452637,
                    -3.335973024368286,
                    10.64856243133545,
                    0.04329563304781914,
                    1.0944149494171143,
                    -5.165652275085449,
                    -5.904922962188721,
                    -5.50766658782959,
                    -1.4819273948669434,
                    3.8080265522003174,
                    -2.422966480255127,
                    3.120258331298828,
                    15.264647483825684,
                    -6.274473190307617,
                    10.930316925048828,
                    1.7468942403793335,
                    7.8135457038879395,
                    -2.965334415435791,
                    -3.296635866165161,
                    -7.999345779418945,
                    4.09420108795166,
                    -8.97772216796875,
                    -8.81865406036377,
                    -5.986273765563965,
                    -2.3599913120269775,
                    -4.429267883300781,
                    12.863938331604004,
                    -7.2187700271606445,
                    4.770671367645264,
                    -1.3886375427246094,
                    0.3895293176174164,
                    3.179356098175049,
                    -4.759589195251465,
                    -8.144675254821777,
                    -5.457117080688477,
                    8.31207275390625,
                    14.374916076660156,
                    1.494724988937378,
                    5.68766975402832,
                    3.2842862606048584,
                    0.14254014194011688,
                    -7.1733269691467285,
                    -3.636699676513672,
                    6.136526584625244,
                    0.06846751272678375,
                    10.247679710388184,
                    -5.133580684661865,
                    -3.675161600112915,
                    -3.7614870071411133,
                    4.323227882385254,
                    -2.1940653324127197,
                    5.2186102867126465,
                    1.998109221458435,
                    2.1919479370117188,
                    -4.471756458282471,
                    -9.275611877441406,
                    -7.553508281707764,
                    16.716259002685547,
                    0.3819104731082916,
                    -3.810422897338867,
                    -8.040105819702148,
                    12.39237117767334,
                    4.257236003875732,
                    -7.544032573699951,
                    -2.0799307823181152,
                    -4.375777244567871,
                    4.396332263946533,
                    -3.7770988941192627,
                    8.160199165344238,
                    1.552174687385559,
                    4.08417272567749,
                    6.862610340118408,
                    9.20425796508789,
                    3.14003586769104,
                    -2.090031862258911,
                    -0.7224498391151428,
                    -2.78753399848938,
                    -5.745755672454834,
                    7.033593654632568,
                    9.161271095275879,
                    -5.091620445251465,
                    3.483844041824341,
                    -1.707159161567688,
                    0.5262506008148193,
                    -12.25423812866211,
                    -9.014942169189453,
                    12.248157501220703,
                    3.2050845623016357,
                    9.135944366455078,
                    -3.3757660388946533,
                    -6.441589832305908,
                    -4.308833599090576,
                    -8.420319557189941,
                    -6.611753940582275,
                    15.429675102233887,
                    -0.6253581047058105,
                    14.779386520385742,
                    -0.7580215334892273,
                    -4.6267547607421875,
                    -4.344234943389893,
                    -2.6217381954193115,
                    -6.572912693023682,
                    4.727949619293213,
                    0.09155617654323578,
                    10.149600982666016,
                    6.126736164093018,
                    -6.169998645782471,
                    15.014431953430176,
                    -6.340081214904785,
                    -2.878631114959717,
                    14.346535682678223,
                    -8.331584930419922,
                    -2.936166524887085,
                    12.735239028930664,
                    11.572257995605469,
                    -7.838687896728516,
                    -9.572382926940918,
                    1.1611164808273315,
                    -7.66851282119751,
                    -7.980865478515625,
                    -4.8408002853393555,
                    -2.22183895111084,
                    4.257089138031006,
                    -5.438180446624756,
                    1.4183709621429443,
                    -3.633371114730835,
                    11.293643951416016,
                    -3.3643360137939453,
                    -3.6212949752807617,
                    11.669778823852539,
                    7.505465984344482,
                    -8.458155632019043,
                    0.9356347918510437,
                    -10.1537504196167,
                    2.5824227333068848,
                    -7.629242897033691,
                    -2.6653592586517334,
                    -7.818535327911377,
                    -5.399204254150391,
                    0.5204632878303528,
                    12.561144828796387,
                    -3.9971554279327393,
                    -8.10342788696289,
                    -0.7140069603919983,
                    7.306647777557373,
                    0.36952513456344604,
                    -2.214862108230591,
                    -5.126075744628906,
                    10.444408416748047,
                    -4.321819305419922,
                    -1.550955891609192,
                    3.6265816688537598,
                    -0.8287848830223083,
                    -8.55130386352539,
                    15.236287117004395,
                    -3.264827013015747,
                    -8.371273040771484,
                    -4.888379096984863,
                    -5.020186424255371,
                    2.8531079292297363,
                    -1.23116934299469,
                    2.1848537921905518,
                    -0.3508126139640808,
                    -8.255180358886719,
                    1.3528906106948853,
                    16.293447494506836,
                    -7.127430438995361,
                    -6.997396469116211,
                    10.55587387084961,
                    -9.345375061035156,
                    2.125952959060669,
                    17.41657257080078,
                    8.655680656433105,
                    -3.7887721061706543,
                    2.717749834060669,
                    3.680434465408325,
                    3.4911272525787354,
                    3.605640172958374,
                    8.360883712768555,
                    -0.690855085849762,
                    3.549090623855591,
                    13.581450462341309,
                    13.500572204589844,
                    -5.001922130584717,
                    -8.044544219970703,
                    5.57123327255249,
                    -7.8640336990356445,
                    11.313063621520996,
                    8.052888870239258,
                    -2.1731395721435547,
                    -0.7682940363883972,
                    -2.7690317630767822,
                    -8.356661796569824,
                    -8.201240539550781,
                    -8.098474502563477,
                    1.3516602516174316,
                    2.8049895763397217,
                    -9.708606719970703,
                    -0.014053202234208584,
                    -2.9125311374664307,
                    11.03762149810791,
                    -6.824671745300293,
                    15.011930465698242,
                    -5.726094722747803,
                    3.4797441959381104,
                    -5.1202521324157715,
                    -5.300144672393799,
                    -9.829523086547852,
                    2.237205982208252,
                    8.301719665527344,
                    1.8616975545883179,
                    -2.433314800262451,
                    -4.379447937011719,
                    1.0427814722061157,
                    -4.159969329833984,
                    -7.680464744567871,
                    -7.229442119598389,
                    8.122420310974121,
                    0.8868294358253479,
                    11.655792236328125,
                    -9.655509948730469,
                    0.5778913497924805,
                    -6.9994330406188965,
                    -4.869735240936279,
                    2.1957223415374756,
                    -4.613121032714844,
                    2.3038172721862793,
                    15.85449504852295,
                    2.924187660217285,
                    6.124083042144775,
                    12.722474098205566,
                    3.506516695022583,
                    0.6987825632095337,
                    0.33887001872062683,
                    -6.833853244781494,
                    -5.276233673095703,
                    -0.9734864234924316,
                    4.331106185913086,
                    -8.840787887573242,
                    -0.4701533615589142,
                    4.5937299728393555,
                    0.9870996475219727,
                    15.573470115661621,
                    -13.01590347290039,
                    -6.5648064613342285,
                    2.9369282722473145,
                    4.696161270141602,
                    12.868410110473633,
                    10.058680534362793,
                    -3.796921491622925,
                    2.2428529262542725,
                    3.477598190307617,
                    8.667633056640625,
                    -0.30700239539146423,
                    12.566192626953125,
                    16.79725456237793,
                    -6.847731590270996,
                    -2.0531704425811768,
                    2.110215663909912,
                    11.885000228881836,
                    -5.141573905944824,
                    -4.8198652267456055,
                    12.405230522155762,
                    1.4943044185638428,
                    -7.47475004196167,
                    -8.548969268798828,
                    -5.915799140930176,
                    7.6255011558532715,
                    -3.910008668899536,
                    -0.5520678758621216,
                    0.04002479091286659,
                    -5.781594276428223,
                    2.0501034259796143,
                    -9.894649505615234,
                    1.7233433723449707,
                    0.4302523732185364,
                    7.717638969421387,
                    10.4793062210083,
                    5.707281112670898,
                    14.184493064880371,
                    -12.390169143676758,
                    -4.964613437652588,
                    -4.0468268394470215,
                    2.8354430198669434,
                    -9.460911750793457,
                    -0.6101114153862,
                    -10.211002349853516,
                    -0.5729357600212097,
                    7.391886234283447,
                    -4.535706520080566,
                    0.9966599941253662,
                    11.167220115661621,
                    -0.4546453356742859,
                    7.819602966308594,
                    5.412741184234619,
                    13.946905136108398,
                    -2.8194682598114014,
                    7.886375427246094,
                    -6.199149131774902,
                    3.8594651222229004,
                    -0.7264055609703064,
                    0.41958680748939514,
                    -3.764216184616089,
                    11.611233711242676,
                    0.09188611060380936,
                    2.268944501876831,
                    13.196175575256348,
                    0.8414425849914551,
                    -0.2500130236148834,
                    8.0048828125,
                    3.203670024871826,
                    -3.7775535583496094,
                    0.8440366983413696,
                    -5.721738815307617,
                    -9.874733924865723,
                    7.911074161529541,
                    -6.450828552246094,
                    2.7416765689849854,
                    11.227540969848633,
                    -1.3413301706314087,
                    -4.167758464813232,
                    -10.06932258605957,
                    3.3634932041168213,
                    -11.597007751464844,
                    -4.5324625968933105,
                    -9.349860191345215,
                    3.5117199420928955,
                    5.691539764404297,
                    0.07117454707622528,
                    -1.8357112407684326,
                    -8.844188690185547,
                    -2.712496280670166,
                    -5.7837042808532715,
                    -3.015206813812256,
                    -11.840642929077148,
                    6.9238667488098145,
                    -8.760736465454102,
                    -8.728797912597656,
                    6.856766223907471,
                    0.8367003202438354,
                    10.224425315856934,
                    2.5500388145446777,
                    13.927680969238281,
                    -1.7616868019104004,
                    -7.470180988311768,
                    -9.730963706970215,
                    16.704113006591797,
                    -8.80768871307373,
                    0.040742941200733185,
                    1.202385425567627,
                    -5.830696105957031,
                    -2.1535346508026123,
                    -11.106796264648438,
                    -1.4102733135223389,
                    9.951851844787598,
                    -1.0215250253677368,
                    1.1467984914779663,
                    -9.809524536132812,
                    -11.870384216308594,
                    8.679703712463379,
                    -11.945119857788086,
                    -9.302931785583496,
                    -5.436770439147949,
                    -6.926023006439209,
                    -4.2464518547058105,
                    -5.094524383544922,
                    -5.859189987182617,
                    9.529629707336426,
                    12.671774864196777,
                    8.096122741699219,
                    14.129745483398438,
                    0.08969319611787796,
                    -5.989538669586182,
                    -0.6436968445777893,
                    10.240509986877441,
                    10.873221397399902,
                    1.9433600902557373,
                    -7.463352203369141,
                    -3.504804849624634,
                    -1.0867114067077637,
                    -0.3361246883869171,
                    -0.16074897348880768,
                    -8.559842109680176,
                    -2.442274332046509,
                    0.9827525615692139,
                    -8.983333587646484,
                    -3.82300066947937,
                    -6.368997097015381,
                    1.1699706315994263,
                    -9.210241317749023,
                    -0.3339335322380066,
                    -5.485315322875977,
                    -8.75151252746582,
                    -8.67731761932373,
                    -4.740638256072998,
                    -9.412707328796387,
                    -4.667043209075928,
                    -2.2595109939575195,
                    -3.341829299926758,
                    -3.6055188179016113,
                    8.240936279296875,
                    9.124471664428711,
                    11.460253715515137,
                    7.6926727294921875,
                    -1.8310712575912476,
                    0.4398539662361145,
                    -1.4033807516098022,
                    6.017899990081787,
                    11.276095390319824,
                    2.639618158340454,
                    -0.3708496391773224,
                    2.7461557388305664,
                    0.7651879787445068,
                    0.7322417497634888,
                    -8.673219680786133,
                    -9.505918502807617,
                    3.5484135150909424,
                    1.6694449186325073,
                    9.022537231445312,
                    5.919360160827637,
                    -1.3349502086639404,
                    14.624215126037598,
                    3.713787317276001,
                    8.227957725524902,
                    6.049299716949463,
                    7.117568016052246,
                    2.4459121227264404,
                    -12.786505699157715,
                    -3.4503767490386963,
                    3.606260061264038,
                    -5.714225769042969,
                    -8.920137405395508,
                    10.410379409790039,
                    -3.5158557891845703,
                    15.586729049682617,
                    1.905087947845459,
                    11.183446884155273,
                    3.7189126014709473,
                    13.340656280517578,
                    1.8062775135040283,
                    -1.1439260244369507,
                    1.42009699344635,
                    -10.422113418579102,
                    -4.042534351348877,
                    -3.5531861782073975,
                    2.6966066360473633,
                    9.486624717712402,
                    2.9347522258758545,
                    -4.836835861206055,
                    -5.424839019775391,
                    0.35634660720825195,
                    -0.3152922987937927,
                    9.08593463897705,
                    -8.7872953414917,
                    -4.641693592071533,
                    -7.459271430969238,
                    -7.575403690338135,
                    -1.0420454740524292,
                    -3.0462827682495117,
                    -1.918459415435791,
                    7.0309062004089355,
                    2.178189277648926,
                    2.5391504764556885,
                    -7.991935729980469,
                    0.9292740225791931,
                    -6.402982711791992,
                    -13.13732624053955,
                    -8.214983940124512,
                    -7.016885757446289,
                    1.3766549825668335,
                    2.2272789478302,
                    12.470931053161621,
                    -5.973814964294434,
                    2.6881330013275146,
                    -3.2024526596069336,
                    7.671037673950195,
                    -1.6803611516952515,
                    -12.43911361694336,
                    -4.528936862945557,
                    -2.605494737625122,
                    -4.603748798370361,
                    -6.108538627624512,
                    1.802060604095459,
                    -13.760926246643066,
                    -9.508142471313477,
                    10.815754890441895,
                    10.897640228271484,
                    12.797929763793945,
                    -2.361412763595581,
                    -1.0360028743743896,
                    2.573713541030884,
                    6.862091064453125,
                    -2.2391865253448486,
                    7.427497863769531,
                    -8.538408279418945,
                    -11.518437385559082,
                    -3.8151230812072754,
                    3.8456482887268066,
                    -3.157440662384033,
                    -0.6050999164581299,
                    0.3100380003452301,
                    6.070849895477295,
                    10.239449501037598,
                    3.2187392711639404,
                    -9.33206844329834,
                    -6.384749889373779,
                    -5.28817892074585,
                    3.190918445587158,
                    2.986112356185913,
                    2.577082633972168,
                    -9.815549850463867,
                    0.8548303842544556,
                    1.7896392345428467,
                    -4.65810489654541,
                    7.738582611083984,
                    -7.989074230194092,
                    -9.303751945495605,
                    -9.304949760437012,
                    -7.115961074829102,
                    2.9149186611175537,
                    1.0748132467269897,
                    2.7177298069000244,
                    6.62028169631958,
                    2.5239086151123047,
                    -12.65388298034668,
                    11.195253372192383,
                    12.890841484069824,
                    12.06750774383545,
                    -2.366424798965454,
                    3.748298406600952,
                    10.593964576721191,
                    10.149700164794922,
                    -4.640657424926758,
                    11.268510818481445,
                    12.23466682434082,
                    12.112067222595215,
                    -13.104765892028809,
                    4.660635948181152,
                    -5.521148204803467,
                    -5.112081050872803,
                    2.535942792892456,
                    -7.988220691680908,
                    -7.7529778480529785,
                    0.6666640639305115,
                    4.105371952056885,
                    9.982575416564941,
                    -2.2871625423431396,
                    -3.776799201965332,
                    -2.78056001663208,
                    -5.76068115234375,
                    2.3741934299468994,
                    2.4901888370513916,
                    -5.049046039581299,
                    9.695246696472168,
                    -8.390093803405762,
                    -8.18413257598877,
                    3.6043059825897217,
                    -6.402441024780273,
                    5.009988307952881,
                    9.812767028808594,
                    7.663909912109375,
                    1.174509882926941,
                    -7.731753826141357,
                    12.26675033569336,
                    -0.9863419532775879,
                    1.6743144989013672,
                    0.12372490763664246,
                    14.690224647521973,
                    13.17701530456543,
                    13.095793724060059,
                    -8.390596389770508,
                    -1.3462148904800415,
                    9.081185340881348,
                    13.95601749420166,
                    -5.489451885223389,
                    -1.4576328992843628,
                    -8.53342056274414,
                    10.712328910827637,
                    10.770751953125,
                    -8.366978645324707,
                    12.821914672851562,
                    -3.263165235519409,
                    15.800711631774902,
                    -8.346452713012695,
                    -8.484339714050293,
                    1.098931908607483,
                    4.335686206817627,
                    13.484901428222656,
                    -2.7249269485473633,
                    0.4778924286365509,
                    3.1439409255981445,
                    1.9417988061904907,
                    -6.080285549163818,
                    4.86167573928833,
                    -2.357163190841675,
                    -0.21386605501174927,
                    -1.209720253944397,
                    -11.367188453674316,
                    3.5111002922058105,
                    2.6132380962371826,
                    -5.613208293914795,
                    15.743476867675781,
                    7.57311487197876,
                    -1.6303046941757202,
                    4.097894191741943,
                    -1.8899306058883667,
                    -8.104691505432129,
                    -6.300743103027344,
                    -8.980912208557129,
                    -11.268830299377441,
                    4.7542500495910645,
                    12.309455871582031,
                    -3.067176103591919,
                    0.6060107350349426,
                    -5.581836223602295,
                    -11.398259162902832,
                    11.011192321777344,
                    13.347797393798828,
                    -4.609269618988037,
                    -7.384974956512451,
                    10.889857292175293,
                    -4.977353096008301,
                    -4.743949890136719,
                    5.180429935455322,
                    -7.971734523773193,
                    1.3788210153579712,
                    5.14542293548584,
                    -10.780686378479004,
                    -0.7494090795516968,
                    12.988555908203125,
                    0.1659691035747528,
                    -8.786118507385254,
                    -4.082580089569092,
                    -6.39635705947876,
                    -10.501627922058105,
                    0.48653438687324524,
                    13.187061309814453,
                    9.384405136108398,
                    5.549243450164795,
                    -9.642559051513672,
                    9.405649185180664,
                    0.34554728865623474,
                    12.482375144958496,
                    3.3868961334228516,
                    0.1872779130935669,
                    1.2728806734085083,
                    -12.444318771362305,
                    11.24112319946289,
                    -3.4715728759765625,
                    9.404667854309082,
                    10.568828582763672,
                    0.23780186474323273,
                    11.920827865600586,
                    -0.16650331020355225,
                    -9.097585678100586,
                    -8.195028305053711,
                    10.776368141174316,
                    -8.830925941467285,
                    9.287514686584473,
                    -9.645275115966797,
                    0.806556224822998,
                    -4.637287139892578,
                    9.711400985717773,
                    -7.052818298339844,
                    2.693763494491577,
                    -5.37873649597168,
                    -0.2010577768087387,
                    8.41533088684082,
                    2.774474620819092,
                    9.743351936340332,
                    15.970221519470215,
                    6.983569622039795,
                    -6.921546936035156,
                    -8.10004711151123,
                    -13.664477348327637,
                    12.922994613647461,
                    3.3012213706970215,
                    9.397016525268555,
                    -3.5037479400634766,
                    3.257936477661133,
                    -4.371038436889648,
                    1.1024426221847534,
                    7.1670942306518555,
                    -5.274820804595947,
                    12.317753791809082,
                    11.140447616577148,
                    -4.146052837371826,
                    2.913457155227661,
                    0.03973488509654999,
                    -2.4184699058532715,
                    -2.1750383377075195,
                    0.006733654532581568,
                    -8.205550193786621,
                    13.006778717041016,
                    4.506086826324463,
                    -9.133131980895996,
                    -7.775088310241699,
                    0.8076116442680359,
                    15.068392753601074,
                    -1.5093653202056885,
                    2.2083868980407715,
                    4.434805393218994,
                    16.10048484802246,
                    -2.758657455444336,
                    3.951207160949707,
                    7.211976528167725,
                    -2.2918949127197266,
                    -12.418795585632324,
                    -13.303388595581055,
                    8.909475326538086,
                    -11.436783790588379,
                    -2.246894359588623,
                    8.753469467163086,
                    0.32361361384391785,
                    9.141014099121094,
                    -8.680800437927246,
                    7.9341936111450195,
                    3.091379404067993,
                    0.12969104945659637,
                    4.676230430603027,
                    -0.5760823488235474,
                    -4.0419182777404785,
                    -6.2183332443237305,
                    -8.360173225402832,
                    0.9567086100578308,
                    2.880864143371582,
                    2.2493481636047363,
                    -5.641608715057373,
                    -11.728336334228516,
                    0.6674258708953857,
                    -2.4318642616271973,
                    12.127087593078613,
                    -10.761244773864746,
                    14.747739791870117,
                    -2.8292200565338135,
                    13.987076759338379,
                    14.233612060546875,
                    -3.2441022396087646,
                    -9.282997131347656,
                    7.415369510650635,
                    2.833460807800293,
                    -8.229146957397461,
                    -8.742125511169434,
                    3.355923891067505,
                    -5.169376373291016,
                    -13.614745140075684,
                    -4.201981544494629,
                    -4.815874099731445,
                    -0.7072792649269104,
                    -7.529171466827393,
                    2.0787065029144287,
                    4.008835792541504,
                    13.464836120605469,
                    9.587247848510742,
                    -0.9529443979263306,
                    -1.837183952331543,
                    13.839244842529297,
                    -2.789592742919922,
                    -1.8461238145828247,
                    -4.897990703582764,
                    13.757408142089844,
                    12.14095401763916,
                    3.838141918182373,
                    8.924063682556152,
                    -5.223270893096924,
                    -3.9598894119262695,
                    -4.637881278991699,
                    2.5771727561950684,
                    -8.694905281066895,
                    -3.306497812271118,
                    7.950248718261719,
                    12.175948143005371,
                    -9.19517993927002,
                    -5.005685806274414,
                    -0.9170247912406921,
                    -0.2978931963443756,
                    -9.072452545166016,
                    -11.738585472106934,
                    1.927175760269165,
                    -8.218100547790527,
                    15.83372974395752,
                    15.627123832702637,
                    2.159357786178589,
                    -4.1048264503479,
                    8.679427146911621,
                    -2.4628708362579346,
                    10.697427749633789,
                    -7.279502868652344,
                    1.1645843982696533
                  ],
                  "type": "scatter3d"
                }
              ],
              "layout": {
                "template": {
                  "data": {
                    "bar": [
                      {
                        "error_x": {
                          "color": "#2a3f5f"
                        },
                        "error_y": {
                          "color": "#2a3f5f"
                        },
                        "marker": {
                          "line": {
                            "color": "#E5ECF6",
                            "width": 0.5
                          },
                          "pattern": {
                            "fillmode": "overlay",
                            "size": 10,
                            "solidity": 0.2
                          }
                        },
                        "type": "bar"
                      }
                    ],
                    "barpolar": [
                      {
                        "marker": {
                          "line": {
                            "color": "#E5ECF6",
                            "width": 0.5
                          },
                          "pattern": {
                            "fillmode": "overlay",
                            "size": 10,
                            "solidity": 0.2
                          }
                        },
                        "type": "barpolar"
                      }
                    ],
                    "carpet": [
                      {
                        "aaxis": {
                          "endlinecolor": "#2a3f5f",
                          "gridcolor": "white",
                          "linecolor": "white",
                          "minorgridcolor": "white",
                          "startlinecolor": "#2a3f5f"
                        },
                        "baxis": {
                          "endlinecolor": "#2a3f5f",
                          "gridcolor": "white",
                          "linecolor": "white",
                          "minorgridcolor": "white",
                          "startlinecolor": "#2a3f5f"
                        },
                        "type": "carpet"
                      }
                    ],
                    "choropleth": [
                      {
                        "colorbar": {
                          "outlinewidth": 0,
                          "ticks": ""
                        },
                        "type": "choropleth"
                      }
                    ],
                    "contour": [
                      {
                        "colorbar": {
                          "outlinewidth": 0,
                          "ticks": ""
                        },
                        "colorscale": [
                          [
                            0,
                            "#0d0887"
                          ],
                          [
                            0.1111111111111111,
                            "#46039f"
                          ],
                          [
                            0.2222222222222222,
                            "#7201a8"
                          ],
                          [
                            0.3333333333333333,
                            "#9c179e"
                          ],
                          [
                            0.4444444444444444,
                            "#bd3786"
                          ],
                          [
                            0.5555555555555556,
                            "#d8576b"
                          ],
                          [
                            0.6666666666666666,
                            "#ed7953"
                          ],
                          [
                            0.7777777777777778,
                            "#fb9f3a"
                          ],
                          [
                            0.8888888888888888,
                            "#fdca26"
                          ],
                          [
                            1,
                            "#f0f921"
                          ]
                        ],
                        "type": "contour"
                      }
                    ],
                    "contourcarpet": [
                      {
                        "colorbar": {
                          "outlinewidth": 0,
                          "ticks": ""
                        },
                        "type": "contourcarpet"
                      }
                    ],
                    "heatmap": [
                      {
                        "colorbar": {
                          "outlinewidth": 0,
                          "ticks": ""
                        },
                        "colorscale": [
                          [
                            0,
                            "#0d0887"
                          ],
                          [
                            0.1111111111111111,
                            "#46039f"
                          ],
                          [
                            0.2222222222222222,
                            "#7201a8"
                          ],
                          [
                            0.3333333333333333,
                            "#9c179e"
                          ],
                          [
                            0.4444444444444444,
                            "#bd3786"
                          ],
                          [
                            0.5555555555555556,
                            "#d8576b"
                          ],
                          [
                            0.6666666666666666,
                            "#ed7953"
                          ],
                          [
                            0.7777777777777778,
                            "#fb9f3a"
                          ],
                          [
                            0.8888888888888888,
                            "#fdca26"
                          ],
                          [
                            1,
                            "#f0f921"
                          ]
                        ],
                        "type": "heatmap"
                      }
                    ],
                    "heatmapgl": [
                      {
                        "colorbar": {
                          "outlinewidth": 0,
                          "ticks": ""
                        },
                        "colorscale": [
                          [
                            0,
                            "#0d0887"
                          ],
                          [
                            0.1111111111111111,
                            "#46039f"
                          ],
                          [
                            0.2222222222222222,
                            "#7201a8"
                          ],
                          [
                            0.3333333333333333,
                            "#9c179e"
                          ],
                          [
                            0.4444444444444444,
                            "#bd3786"
                          ],
                          [
                            0.5555555555555556,
                            "#d8576b"
                          ],
                          [
                            0.6666666666666666,
                            "#ed7953"
                          ],
                          [
                            0.7777777777777778,
                            "#fb9f3a"
                          ],
                          [
                            0.8888888888888888,
                            "#fdca26"
                          ],
                          [
                            1,
                            "#f0f921"
                          ]
                        ],
                        "type": "heatmapgl"
                      }
                    ],
                    "histogram": [
                      {
                        "marker": {
                          "pattern": {
                            "fillmode": "overlay",
                            "size": 10,
                            "solidity": 0.2
                          }
                        },
                        "type": "histogram"
                      }
                    ],
                    "histogram2d": [
                      {
                        "colorbar": {
                          "outlinewidth": 0,
                          "ticks": ""
                        },
                        "colorscale": [
                          [
                            0,
                            "#0d0887"
                          ],
                          [
                            0.1111111111111111,
                            "#46039f"
                          ],
                          [
                            0.2222222222222222,
                            "#7201a8"
                          ],
                          [
                            0.3333333333333333,
                            "#9c179e"
                          ],
                          [
                            0.4444444444444444,
                            "#bd3786"
                          ],
                          [
                            0.5555555555555556,
                            "#d8576b"
                          ],
                          [
                            0.6666666666666666,
                            "#ed7953"
                          ],
                          [
                            0.7777777777777778,
                            "#fb9f3a"
                          ],
                          [
                            0.8888888888888888,
                            "#fdca26"
                          ],
                          [
                            1,
                            "#f0f921"
                          ]
                        ],
                        "type": "histogram2d"
                      }
                    ],
                    "histogram2dcontour": [
                      {
                        "colorbar": {
                          "outlinewidth": 0,
                          "ticks": ""
                        },
                        "colorscale": [
                          [
                            0,
                            "#0d0887"
                          ],
                          [
                            0.1111111111111111,
                            "#46039f"
                          ],
                          [
                            0.2222222222222222,
                            "#7201a8"
                          ],
                          [
                            0.3333333333333333,
                            "#9c179e"
                          ],
                          [
                            0.4444444444444444,
                            "#bd3786"
                          ],
                          [
                            0.5555555555555556,
                            "#d8576b"
                          ],
                          [
                            0.6666666666666666,
                            "#ed7953"
                          ],
                          [
                            0.7777777777777778,
                            "#fb9f3a"
                          ],
                          [
                            0.8888888888888888,
                            "#fdca26"
                          ],
                          [
                            1,
                            "#f0f921"
                          ]
                        ],
                        "type": "histogram2dcontour"
                      }
                    ],
                    "mesh3d": [
                      {
                        "colorbar": {
                          "outlinewidth": 0,
                          "ticks": ""
                        },
                        "type": "mesh3d"
                      }
                    ],
                    "parcoords": [
                      {
                        "line": {
                          "colorbar": {
                            "outlinewidth": 0,
                            "ticks": ""
                          }
                        },
                        "type": "parcoords"
                      }
                    ],
                    "pie": [
                      {
                        "automargin": true,
                        "type": "pie"
                      }
                    ],
                    "scatter": [
                      {
                        "marker": {
                          "colorbar": {
                            "outlinewidth": 0,
                            "ticks": ""
                          }
                        },
                        "type": "scatter"
                      }
                    ],
                    "scatter3d": [
                      {
                        "line": {
                          "colorbar": {
                            "outlinewidth": 0,
                            "ticks": ""
                          }
                        },
                        "marker": {
                          "colorbar": {
                            "outlinewidth": 0,
                            "ticks": ""
                          }
                        },
                        "type": "scatter3d"
                      }
                    ],
                    "scattercarpet": [
                      {
                        "marker": {
                          "colorbar": {
                            "outlinewidth": 0,
                            "ticks": ""
                          }
                        },
                        "type": "scattercarpet"
                      }
                    ],
                    "scattergeo": [
                      {
                        "marker": {
                          "colorbar": {
                            "outlinewidth": 0,
                            "ticks": ""
                          }
                        },
                        "type": "scattergeo"
                      }
                    ],
                    "scattergl": [
                      {
                        "marker": {
                          "colorbar": {
                            "outlinewidth": 0,
                            "ticks": ""
                          }
                        },
                        "type": "scattergl"
                      }
                    ],
                    "scattermapbox": [
                      {
                        "marker": {
                          "colorbar": {
                            "outlinewidth": 0,
                            "ticks": ""
                          }
                        },
                        "type": "scattermapbox"
                      }
                    ],
                    "scatterpolar": [
                      {
                        "marker": {
                          "colorbar": {
                            "outlinewidth": 0,
                            "ticks": ""
                          }
                        },
                        "type": "scatterpolar"
                      }
                    ],
                    "scatterpolargl": [
                      {
                        "marker": {
                          "colorbar": {
                            "outlinewidth": 0,
                            "ticks": ""
                          }
                        },
                        "type": "scatterpolargl"
                      }
                    ],
                    "scatterternary": [
                      {
                        "marker": {
                          "colorbar": {
                            "outlinewidth": 0,
                            "ticks": ""
                          }
                        },
                        "type": "scatterternary"
                      }
                    ],
                    "surface": [
                      {
                        "colorbar": {
                          "outlinewidth": 0,
                          "ticks": ""
                        },
                        "colorscale": [
                          [
                            0,
                            "#0d0887"
                          ],
                          [
                            0.1111111111111111,
                            "#46039f"
                          ],
                          [
                            0.2222222222222222,
                            "#7201a8"
                          ],
                          [
                            0.3333333333333333,
                            "#9c179e"
                          ],
                          [
                            0.4444444444444444,
                            "#bd3786"
                          ],
                          [
                            0.5555555555555556,
                            "#d8576b"
                          ],
                          [
                            0.6666666666666666,
                            "#ed7953"
                          ],
                          [
                            0.7777777777777778,
                            "#fb9f3a"
                          ],
                          [
                            0.8888888888888888,
                            "#fdca26"
                          ],
                          [
                            1,
                            "#f0f921"
                          ]
                        ],
                        "type": "surface"
                      }
                    ],
                    "table": [
                      {
                        "cells": {
                          "fill": {
                            "color": "#EBF0F8"
                          },
                          "line": {
                            "color": "white"
                          }
                        },
                        "header": {
                          "fill": {
                            "color": "#C8D4E3"
                          },
                          "line": {
                            "color": "white"
                          }
                        },
                        "type": "table"
                      }
                    ]
                  },
                  "layout": {
                    "annotationdefaults": {
                      "arrowcolor": "#2a3f5f",
                      "arrowhead": 0,
                      "arrowwidth": 1
                    },
                    "autotypenumbers": "strict",
                    "coloraxis": {
                      "colorbar": {
                        "outlinewidth": 0,
                        "ticks": ""
                      }
                    },
                    "colorscale": {
                      "diverging": [
                        [
                          0,
                          "#8e0152"
                        ],
                        [
                          0.1,
                          "#c51b7d"
                        ],
                        [
                          0.2,
                          "#de77ae"
                        ],
                        [
                          0.3,
                          "#f1b6da"
                        ],
                        [
                          0.4,
                          "#fde0ef"
                        ],
                        [
                          0.5,
                          "#f7f7f7"
                        ],
                        [
                          0.6,
                          "#e6f5d0"
                        ],
                        [
                          0.7,
                          "#b8e186"
                        ],
                        [
                          0.8,
                          "#7fbc41"
                        ],
                        [
                          0.9,
                          "#4d9221"
                        ],
                        [
                          1,
                          "#276419"
                        ]
                      ],
                      "sequential": [
                        [
                          0,
                          "#0d0887"
                        ],
                        [
                          0.1111111111111111,
                          "#46039f"
                        ],
                        [
                          0.2222222222222222,
                          "#7201a8"
                        ],
                        [
                          0.3333333333333333,
                          "#9c179e"
                        ],
                        [
                          0.4444444444444444,
                          "#bd3786"
                        ],
                        [
                          0.5555555555555556,
                          "#d8576b"
                        ],
                        [
                          0.6666666666666666,
                          "#ed7953"
                        ],
                        [
                          0.7777777777777778,
                          "#fb9f3a"
                        ],
                        [
                          0.8888888888888888,
                          "#fdca26"
                        ],
                        [
                          1,
                          "#f0f921"
                        ]
                      ],
                      "sequentialminus": [
                        [
                          0,
                          "#0d0887"
                        ],
                        [
                          0.1111111111111111,
                          "#46039f"
                        ],
                        [
                          0.2222222222222222,
                          "#7201a8"
                        ],
                        [
                          0.3333333333333333,
                          "#9c179e"
                        ],
                        [
                          0.4444444444444444,
                          "#bd3786"
                        ],
                        [
                          0.5555555555555556,
                          "#d8576b"
                        ],
                        [
                          0.6666666666666666,
                          "#ed7953"
                        ],
                        [
                          0.7777777777777778,
                          "#fb9f3a"
                        ],
                        [
                          0.8888888888888888,
                          "#fdca26"
                        ],
                        [
                          1,
                          "#f0f921"
                        ]
                      ]
                    },
                    "colorway": [
                      "#636efa",
                      "#EF553B",
                      "#00cc96",
                      "#ab63fa",
                      "#FFA15A",
                      "#19d3f3",
                      "#FF6692",
                      "#B6E880",
                      "#FF97FF",
                      "#FECB52"
                    ],
                    "font": {
                      "color": "#2a3f5f"
                    },
                    "geo": {
                      "bgcolor": "white",
                      "lakecolor": "white",
                      "landcolor": "#E5ECF6",
                      "showlakes": true,
                      "showland": true,
                      "subunitcolor": "white"
                    },
                    "hoverlabel": {
                      "align": "left"
                    },
                    "hovermode": "closest",
                    "mapbox": {
                      "style": "light"
                    },
                    "paper_bgcolor": "white",
                    "plot_bgcolor": "#E5ECF6",
                    "polar": {
                      "angularaxis": {
                        "gridcolor": "white",
                        "linecolor": "white",
                        "ticks": ""
                      },
                      "bgcolor": "#E5ECF6",
                      "radialaxis": {
                        "gridcolor": "white",
                        "linecolor": "white",
                        "ticks": ""
                      }
                    },
                    "scene": {
                      "xaxis": {
                        "backgroundcolor": "#E5ECF6",
                        "gridcolor": "white",
                        "gridwidth": 2,
                        "linecolor": "white",
                        "showbackground": true,
                        "ticks": "",
                        "zerolinecolor": "white"
                      },
                      "yaxis": {
                        "backgroundcolor": "#E5ECF6",
                        "gridcolor": "white",
                        "gridwidth": 2,
                        "linecolor": "white",
                        "showbackground": true,
                        "ticks": "",
                        "zerolinecolor": "white"
                      },
                      "zaxis": {
                        "backgroundcolor": "#E5ECF6",
                        "gridcolor": "white",
                        "gridwidth": 2,
                        "linecolor": "white",
                        "showbackground": true,
                        "ticks": "",
                        "zerolinecolor": "white"
                      }
                    },
                    "shapedefaults": {
                      "line": {
                        "color": "#2a3f5f"
                      }
                    },
                    "ternary": {
                      "aaxis": {
                        "gridcolor": "white",
                        "linecolor": "white",
                        "ticks": ""
                      },
                      "baxis": {
                        "gridcolor": "white",
                        "linecolor": "white",
                        "ticks": ""
                      },
                      "bgcolor": "#E5ECF6",
                      "caxis": {
                        "gridcolor": "white",
                        "linecolor": "white",
                        "ticks": ""
                      }
                    },
                    "title": {
                      "x": 0.05
                    },
                    "xaxis": {
                      "automargin": true,
                      "gridcolor": "white",
                      "linecolor": "white",
                      "ticks": "",
                      "title": {
                        "standoff": 15
                      },
                      "zerolinecolor": "white",
                      "zerolinewidth": 2
                    },
                    "yaxis": {
                      "automargin": true,
                      "gridcolor": "white",
                      "linecolor": "white",
                      "ticks": "",
                      "title": {
                        "standoff": 15
                      },
                      "zerolinecolor": "white",
                      "zerolinewidth": 2
                    }
                  }
                },
                "scene": {
                  "domain": {
                    "x": [
                      0,
                      1
                    ],
                    "y": [
                      0,
                      1
                    ]
                  },
                  "xaxis": {
                    "title": {
                      "text": "0"
                    }
                  },
                  "yaxis": {
                    "title": {
                      "text": "1"
                    }
                  },
                  "zaxis": {
                    "title": {
                      "text": "2"
                    }
                  }
                },
                "coloraxis": {
                  "colorbar": {
                    "title": {
                      "text": "Label"
                    }
                  },
                  "colorscale": [
                    [
                      0,
                      "#0d0887"
                    ],
                    [
                      0.1111111111111111,
                      "#46039f"
                    ],
                    [
                      0.2222222222222222,
                      "#7201a8"
                    ],
                    [
                      0.3333333333333333,
                      "#9c179e"
                    ],
                    [
                      0.4444444444444444,
                      "#bd3786"
                    ],
                    [
                      0.5555555555555556,
                      "#d8576b"
                    ],
                    [
                      0.6666666666666666,
                      "#ed7953"
                    ],
                    [
                      0.7777777777777778,
                      "#fb9f3a"
                    ],
                    [
                      0.8888888888888888,
                      "#fdca26"
                    ],
                    [
                      1,
                      "#f0f921"
                    ]
                  ]
                },
                "legend": {
                  "tracegroupgap": 0
                },
                "title": {
                  "text": "3d TSNE Plot for Outliers"
                },
                "height": 800,
                "width": 900
              },
              "config": {
                "plotlyServerURL": "https://plot.ly"
              }
            },
            "text/html": [
              "<div>                            <div id=\"f10d6877-1d5d-46d7-94bf-534c7da89e79\" class=\"plotly-graph-div\" style=\"height:800px; width:900px;\"></div>            <script type=\"text/javascript\">                require([\"plotly\"], function(Plotly) {                    window.PLOTLYENV=window.PLOTLYENV || {};                                    if (document.getElementById(\"f10d6877-1d5d-46d7-94bf-534c7da89e79\")) {                    Plotly.newPlot(                        \"f10d6877-1d5d-46d7-94bf-534c7da89e79\",                        [{\"customdata\":[[0.263995357],[0.546092303],[0.336714104],[0.092107835],[0.325261175],[0.212464853],[0.258565714],[0.869236755],[0.197077957],[0.292984504],[0.82178316],[0.796622959],[0.045577011],[0.613660351],[0.950744566],[0.336346337],[0.034440667],[0.741544275],[0.18443265],[0.664514943],[0.162824858],[0.729838445],[0.62837389],[0.057883661],[0.445534827],[0.80183695],[0.27709612],[0.228634015],[0.834860657],[0.669766511],[0.532527349],[0.170459071],[0.510288468],[0.977561989],[0.249775993],[0.975500682],[0.613701727],[0.167420363],[0.537472516],[0.379899131],[0.633897303],[0.633960424],[0.549974653],[0.178172988],[0.85563814],[0.321796672],[0.817490537],[0.254879417],[0.344140513],[0.806145726],[0.277081671],[0.544328519],[0.07708393],[0.273081458],[0.390877336],[0.349621385],[0.214549744],[0.206075222],[0.86461997],[0.981708854],[0.334829646],[0.648387061],[0.093643561],[0.837802698],[0.760343967],[0.291404174],[0.3413454],[0.761112484],[0.541899775],[0.684176639],[0.983535597],[0.52081245],[0.328227724],[0.097157938],[0.876088593],[0.870214512],[0.656086992],[0.306791514],[0.48126734],[0.259559174],[0.326123655],[0.930568042],[0.6583894],[0.689992335],[0.315781109],[0.566905093],[0.637526619],[0.687540723],[0.324300602],[0.592704906],[0.740253126],[0.594032877],[0.596452977],[0.277680817],[0.258329663],[0.142460864],[0.435533461],[0.702499044],[0.58897535],[0.653304374],[0.336968524],[0.631244736],[0.73530076],[0.050390366],[0.064264924],[0.665359476],[0.917835245],[0.44651012],[0.661938199],[0.439359853],[0.687572404],[0.363462248],[0.654262182],[0.578553536],[0.065927945],[0.550148559],[0.139182814],[0.080004635],[0.278228358],[0.560124266],[0.53639864],[0.426531904],[0.789109796],[0.742900474],[0.901692589],[0.650337401],[0.114057311],[0.260812592],[0.43991232],[0.964409284],[0.184401415],[0.345145446],[0.175894581],[0.312514453],[0.674131879],[0.32825045],[0.598231057],[0.092598817],[0.497916521],[0.419776521],[0.3121767],[0.937857107],[0.049030963],[0.476104526],[0.447397526],[0.295806058],[0.737363977],[0.625896253],[0.408813429],[0.437511156],[0.691351375],[0.935555275],[0.437846654],[0.072217715],[0.67636067],[0.468883999],[0.543820644],[0.655522647],[0.693528924],[0.108878312],[0.285463743],[0.0],[0.706495497],[0.273530633],[0.292320271],[0.673984307],[0.126121828],[0.946707459],[0.936338898],[0.853755364],[0.706071361],[0.693682186],[0.508527882],[0.347170389],[0.704154263],[0.658730088],[0.155841557],[0.311085435],[0.281135347],[0.094587802],[0.683260954],[0.907729251],[0.291512674],[0.752734459],[0.93482964],[0.071413953],[0.594896327],[0.404672015],[0.13837621],[0.747338468],[0.530882486],[0.282649594],[0.699335734],[0.056111251],[0.855234998],[0.077895127],[0.891649583],[0.386742279],[0.27113158],[0.958888961],[0.085120869],[0.526902249],[0.066577785],[0.841506738],[0.255342095],[0.060545771],[0.073385869],[0.187493723],[0.858365688],[0.090640352],[0.709725227],[0.631300647],[0.247504474],[0.822843584],[0.373476759],[0.625538582],[0.292951715],[0.299730324],[0.25121407],[0.344480551],[0.293064767],[0.762803224],[0.738470804],[0.674883265],[0.719151612],[0.130980216],[0.511328036],[0.04492903],[0.560914449],[0.744040641],[0.266961634],[0.644231853],[0.038113352],[0.057155299],[0.341392461],[0.720463632],[0.402878236],[0.635148967],[0.320729467],[0.091209694],[0.23414609],[0.890221131],[0.602170884],[0.633652055],[0.806240837],[0.739731184],[0.465231269],[0.7321109],[0.373874305],[0.501587947],[0.115383158],[0.731946604],[0.418298728],[0.062259591],[0.391496379],[0.35984929],[0.245235627],[0.610028339],[0.435403602],[0.434309675],[0.523763344],[0.171187866],[0.187734303],[0.945014638],[0.027851097],[0.68445706],[0.178014532],[0.643427879],[0.59588355],[0.372361682],[0.586103584],[0.271658852],[0.59951107],[0.468363088],[0.314515565],[0.21893726],[0.254716562],[0.25612815],[0.602259755],[0.134381075],[0.513887424],[0.624241636],[0.160251854],[0.580708108],[0.270540486],[0.832919932],[0.93032134],[0.719157884],[0.886720033],[0.098792281],[0.787174286],[0.365592376],[0.719576193],[0.8058956],[0.755578334],[0.526005909],[0.68880424],[0.221115312],[0.739369477],[0.408440236],[0.348926542],[0.433713763],[0.596496607],[0.6942953],[0.709030966],[0.867652984],[0.89332545],[0.746020922],[0.538284443],[0.892219314],[0.935175765],[0.260527707],[0.956780449],[0.204932484],[0.687733351],[0.329063619],[0.632149831],[0.463744506],[0.698859621],[0.385446564],[0.479975377],[0.732279108],[0.3813543],[0.459326013],[0.257401434],[0.665014804],[0.103399542],[0.425284413],[0.943529051],[0.594750236],[0.543776817],[0.18203988],[0.235842084],[0.585984497],[0.762013168],[0.684982907],[0.676936933],[0.290184964],[0.481068222],[0.492766033],[0.221856234],[0.053875998],[0.082751144],[0.385366225],[0.702513961],[0.91553156],[0.082087436],[0.251280378],[0.416721817],[0.277032672],[0.579539754],[0.569363476],[0.133399703],[0.265045463],[0.936571901],[0.252618554],[0.054033081],[0.802481439],[0.528197693],[0.9515026],[0.572121173],[0.752938227],[0.143857535],[0.513484576],[0.313322389],[0.687797396],[0.37705984],[0.348226142],[0.67763282],[0.241387521],[0.850650179],[0.220348103],[0.476445464],[0.690324025],[0.364695946],[0.649249197],[0.943701921],[0.529645971],[0.299097002],[0.96696247],[0.272005242],[0.314161447],[0.752020991],[0.221882453],[0.720332673],[0.379204782],[0.60168653],[0.582932673],[0.950809853],[0.58830141],[0.880887227],[0.467857701],[0.879902171],[0.619844009],[0.359002573],[0.291511278],[0.694157143],[0.727960353],[0.617703921],[0.39581257],[0.58317282],[0.710332374],[0.253753693],[0.049412228],[0.728378695],[0.432432881],[0.58612345],[0.052342373],[0.053483902],[0.518729378],[0.933040208],[0.703554284],[0.268989899],[0.733006927],[0.444352467],[0.583394621],[0.871172692],[0.428767078],[0.300460841],[0.953329459],[0.606443965],[0.90986815],[0.714896449],[0.497349509],[0.853097486],[0.721804145],[0.303467328],[0.664485096],[0.27978062],[0.569481665],[0.628628926],[0.088368123],[0.733567326],[0.537436778],[0.638593691],[0.954726948],[0.632202332],[0.642134651],[0.744653087],[0.115714007],[0.486250073],[0.440356144],[0.08272289],[0.511591027],[0.394627555],[0.224394],[0.626927584],[0.290254057],[0.779008053],[0.86610579],[0.873326081],[0.49548916],[0.594297695],[0.918201584],[0.577042754],[0.019467671],[0.670298282],[0.546595316],[0.591665146],[0.42155819],[0.685608559],[0.340303024],[0.675626741],[0.319067345],[0.388499664],[0.706949589],[0.559409515],[0.687663508],[0.708804554],[0.681888094],[0.422535109],[0.320004605],[0.658281368],[0.634154867],[0.777332009],[0.812677205],[0.074280797],[0.39600217],[0.054933913],[0.825058925],[0.382642009],[0.868729818],[0.588043346],[0.891551577],[0.10920046],[0.647682781],[0.724342512],[0.070163044],[0.280882054],[0.039113261],[0.579641592],[0.639000922],[0.281745925],[0.647857744],[0.647905797],[0.875226264],[0.567603305],[0.262940591],[0.268026042],[0.40519133],[0.479965451],[0.33552403],[0.777165379],[0.425487963],[0.237986115],[0.142522971],[0.724176488],[0.234698933],[0.078182281],[0.855990155],[0.270251765],[0.435517841],[0.762697513],[0.464487258],[0.396112685],[0.376380921],[0.294594677],[0.694492121],[0.622767949],[0.847559722],[0.301463054],[0.912937812],[0.500017182],[0.902587935],[0.304517943],[0.299165673],[0.092014087],[0.488548917],[0.664664437],[0.265349549],[0.723657021],[0.149262385],[0.04577339],[0.69661064],[0.42181486],[0.733845785],[0.418795386],[0.677443529],[0.261283603],[0.268527767],[0.544322236],[0.431632036],[0.981018141],[0.214980724],[0.394729993],[0.122224944],[0.297496875],[0.374904431],[0.68698771],[0.388549207],[0.039296071],[0.73553424],[0.379294893],[0.732123386],[0.339221439],[0.659450594],[0.054838642],[0.640112102],[0.307141704],[0.396611907],[0.420439161],[0.241714974],[0.065893153],[0.910521937],[0.697163103],[0.072559853],[0.81825094],[0.311888815],[0.961644609],[0.816325524],[0.14647302],[0.548753945],[0.946158087],[0.293992717],[0.331479643],[0.906220031],[0.525540416],[0.83301411],[0.514849806],[0.574609024],[0.468711853],[0.71002775],[0.645973276],[0.229794416],[0.551783393],[0.055822991],[0.331750941],[0.715520198],[0.583924357],[0.306957691],[0.791478237],[0.164236639],[0.065711219],[0.948993132],[0.080423835],[0.052495426],[0.566346135],[0.3630266],[0.605442195],[0.630850584],[0.065791238],[0.286817071],[0.685462839],[0.260853706],[0.659122429],[0.443173922],[0.602063986],[0.060366911],[0.781903153],[0.514579807],[0.483886213],[0.600213807],[0.497364052],[0.411145245],[0.116999171],[0.341890141],[0.746950848],[0.396292746],[0.622143843],[0.335271141],[0.140257137],[0.081620681],[0.069837569],[0.468940008],[0.990857417],[0.896616832],[0.255310561],[0.224645267],[0.01991825],[0.296480415],[0.155458996],[0.577916714],[0.956303031],[0.813464394],[0.529675785],[0.287671353],[0.48039136],[0.281044822],[0.633196521],[0.093325377],[0.284473981],[0.052223775],[0.051129385],[0.967405608],[0.040045728],[0.908582921],[0.662117416],[0.424703209],[0.72207806],[0.666193327],[0.509681253],[0.751353621],[0.279073124],[0.074927],[0.916359535],[0.31040327],[0.716604052],[0.485587085],[0.306075181],[0.477558204],[0.711923941],[0.066348638],[0.274539351],[0.31082252],[0.476073127],[0.186795565],[0.26654207],[0.070231142],[0.26951927],[0.800004713],[0.273633667],[0.146479192],[0.378318951],[0.373849065],[0.242170835],[0.249796488],[0.066591188],[0.372956798],[0.501812291],[0.313097752],[0.880202196],[0.51981893],[0.364138746],[0.492682896],[0.285732652],[0.890114985],[0.316419561],[0.26866354],[0.771975959],[0.968888992],[0.080334377],[0.736828221],[0.300558071],[0.917950393],[0.465815039],[0.054036682],[0.963150123],[0.089653503],[0.707693234],[0.636416037],[0.539521117],[0.114757161],[0.357312419],[0.67639834],[0.43482839],[0.032326387],[0.711365605],[0.187486519],[0.052789653],[0.505863613],[0.927431873],[0.680984256],[0.882822186],[0.495705441],[0.596240398],[0.320610701],[0.3413685],[0.159681797],[0.318133669],[0.839301048],[0.064359251],[0.470216633],[0.776252291],[0.635843383],[0.62510543],[0.52959065],[0.986900166],[0.078585688],[0.233284267],[0.363330957],[0.716716981],[0.375889792],[0.223316889],[0.299343986],[0.538595767],[0.730297124],[0.66033077],[0.435296009],[0.326494313],[0.854402708],[0.573493847],[0.757786135],[0.704743233],[0.281575597],[0.671968208],[0.313726015],[0.364338275],[0.368216396],[0.386295207],[0.655971865],[0.566025273],[0.424999093],[0.090110371],[0.772350538],[0.331047258],[0.273716188],[0.23877568],[0.373079772],[0.331185868],[0.256134531],[0.678373225],[0.434638338],[0.654668307],[0.986681065],[0.371520495],[0.408359618],[0.40932365],[0.283412082],[0.395246531],[0.010984428],[0.306013869],[0.266194806],[0.299318521],[0.318293946],[0.74282591],[0.097664329],[0.079666942],[0.613258767],[0.99443072],[0.568835082],[0.708034516],[0.370592719],[0.669867361],[0.651295625],[0.462531569],[0.719625619],[0.45377248],[0.394863946],[0.323974831],[0.146454724],[0.779067041],[0.401828915],[0.601479585],[0.856423023],[0.565242962],[0.301225108],[0.282108144],[0.594378011],[0.705312368],[0.540869628],[0.319249574],[0.361766138],[0.625000704],[0.316287401],[0.047239021],[0.801182233],[0.508474436],[0.817893411],[0.399235601],[0.974051999],[0.72241535],[0.039564764],[0.908684108],[0.473010134],[0.718049628],[0.763479069],[0.647596537],[0.894997386],[0.222825901],[0.359012234],[0.944910252],[0.297877816],[0.172517997],[0.556586265],[0.876481735],[0.486677843],[0.459496733],[0.474126377],[0.70101144],[0.337597387],[0.537578886],[0.966992448],[0.056849545],[0.233249065],[0.380054711],[0.602929443],[0.303847999],[0.170194553],[0.972168554],[0.332168927],[0.688728689],[0.110773401],[0.273352065],[0.572939678],[0.491457065],[0.281389999],[0.821697261],[0.674977683],[0.585134549],[0.710596116],[0.040488789],[0.568054311],[0.321752928],[0.611850232],[0.926096887],[0.618347428],[0.667629785],[0.397733466],[0.290875487],[0.594375103],[0.508255233],[0.338571357],[0.432302347],[0.302221978],[0.87619819],[0.080204492],[0.092333532],[0.093656447],[0.608452351],[0.732654598],[0.944158855],[0.26742308],[0.731124201],[0.661308553],[0.387766262],[0.962585273],[0.322067067],[0.634081093],[0.475345002],[0.353558973],[0.885936316],[0.876798106],[0.221581064],[0.394362449],[0.805035676],[0.452898486],[0.592520516],[0.761026394],[0.245049023],[0.372139363],[0.681054822],[0.747143148],[0.920739529],[0.097207945],[0.699302998],[0.721647006],[0.535356114],[0.738293805],[0.706467551],[0.67395061],[0.711212291],[0.302558708],[0.080097855],[0.707010837],[0.512248622],[0.659627472],[0.657559694],[0.100645606],[0.92665363],[0.892879338],[0.839157508],[0.890959718],[0.556754471],[0.960361937],[0.631037864],[0.029838065],[0.278843351],[0.926157705],[0.551504258],[0.485942349],[0.437234696],[0.252318018],[0.515466972],[0.437252296],[0.493724207],[0.83324725],[0.317521477],[0.286234562],[0.726833965],[0.495667033],[0.028645255],[0.319671917],[0.674344598],[0.766037189],[0.65456992],[0.756514381],[0.528253719],[0.389719491],[0.355087459],[0.87015202],[0.739083306],[0.305761846],[0.411587673],[0.063633094],[0.735409395],[0.605916669],[0.539395562],[0.566183532],[0.674795186],[0.070993366],[0.1252641],[0.279601492],[0.952174402],[0.233806762],[0.437247429],[0.925423095],[0.433498634],[0.52517902],[0.088435529],[0.447677638],[0.647000631],[0.903603337],[0.265790738],[0.66419695],[0.498120658],[0.490188944],[0.747084187],[0.906783648],[0.678770917],[0.348599859],[0.294839683],[0.705691827],[0.211917931],[0.063201124],[0.276699543],[0.672459395],[0.808205949],[0.296538373],[0.160126862],[0.439385032],[0.555951416],[0.386240112],[0.158689619],[0.214499855],[0.299579429],[0.569161656],[0.488614799],[0.878295021],[0.649380949],[0.465713341],[0.16813774],[0.87529545],[0.841132341],[0.33292081],[0.513047859],[0.305055078],[0.812626991],[0.25096706],[0.502435578],[0.457990741]],\"hovertemplate\":\"0=%{x}<br>1=%{y}<br>2=%{z}<br>Feature=%{customdata[0]}<br>Label=%{marker.color}<extra></extra>\",\"legendgroup\":\"\",\"marker\":{\"color\":[0,0,1,1,0,0,0,0,1,1,0,1,0,1,1,1,0,1,1,0,1,0,0,1,1,1,0,0,1,1,0,0,1,1,0,0,1,0,0,0,0,0,0,1,0,1,1,0,1,0,0,1,0,1,1,1,1,0,0,1,0,1,0,1,0,1,0,0,0,0,0,0,0,0,0,0,0,0,0,0,0,0,0,0,0,0,0,0,0,0,0,0,0,0,0,0,0,0,0,0,0,0,0,0,0,0,0,0,0,0,0,0,0,0,0,0,0,0,0,0,0,0,0,0,0,0,0,0,0,0,0,0,0,0,0,0,0,0,0,0,0,0,0,0,0,0,0,0,0,0,0,0,0,0,0,0,0,0,0,0,0,0,0,0,0,0,0,0,0,0,0,0,0,0,0,0,0,0,0,0,0,0,0,0,0,0,0,0,0,0,0,0,0,0,0,0,0,0,0,0,0,0,0,0,0,0,0,0,0,0,0,0,0,0,0,0,0,0,0,0,0,0,0,0,0,0,0,0,0,0,0,0,0,0,0,0,0,0,0,0,0,0,0,0,0,0,0,0,0,0,0,0,0,0,0,0,0,0,0,0,0,0,0,0,0,0,0,0,0,0,0,0,0,0,0,0,0,0,0,0,0,0,0,0,0,0,0,0,0,0,0,0,0,0,0,0,0,0,0,0,0,0,0,0,0,0,0,0,0,0,0,0,0,0,0,0,0,0,0,0,0,0,0,0,0,0,0,0,0,0,0,0,0,0,0,0,0,0,0,0,0,0,0,0,0,0,0,0,0,0,0,0,0,0,0,0,0,0,0,0,0,0,0,0,0,0,0,0,0,0,0,0,0,0,0,0,0,0,0,0,0,0,0,0,0,0,0,0,0,0,0,0,0,0,0,0,0,0,0,0,0,0,0,0,0,0,0,0,0,0,0,0,0,0,0,0,0,0,0,0,0,0,0,0,0,0,0,0,0,0,0,0,0,0,0,0,0,0,0,0,0,0,0,0,0,0,0,0,0,0,0,0,0,0,0,0,0,0,0,0,0,0,0,0,0,0,0,0,0,0,0,0,0,0,0,0,0,0,0,0,0,0,0,0,0,0,0,0,0,0,0,0,0,0,0,0,0,0,0,0,0,0,0,0,0,0,0,0,0,0,0,0,0,0,0,0,0,0,0,0,0,0,0,0,0,0,0,0,0,0,0,0,0,0,0,0,0,0,0,0,0,0,0,0,0,0,0,0,0,0,0,0,0,0,0,0,0,0,0,0,0,0,0,0,0,0,0,0,0,0,0,0,0,0,0,0,0,0,0,0,0,0,0,0,0,0,0,0,0,0,0,0,0,0,0,0,0,0,0,0,0,0,0,0,0,0,0,0,0,0,0,0,0,0,0,0,0,0,0,0,0,0,0,0,0,0,0,0,0,0,0,0,0,0,0,0,0,0,0,0,0,0,0,0,0,0,0,0,0,0,0,0,0,0,0,0,0,0,0,0,0,0,0,0,0,0,0,0,0,0,0,0,0,0,0,0,0,0,0,0,0,0,0,0,0,0,0,0,0,0,0,0,0,0,0,0,0,0,0,0,1,1,0,1,0,0,0,1,1,1,1,0,1,1,1,0,1,1,1,0,1,0,1,1,1,1,0,0,0,0,0,0,0,0,0,0,0,0,0,0,0,0,0,0,0,0,0,0,0,0,0,0,0,0,0,0,0,0,0,0,0,0,0,0,0,0,0,0,0,0,0,0,0,0,0,0,0,0,0,0,0,0,0,0,0,0,0,0,0,0,0,0,0,0,0,0,0,0,0,0,0,0,0,0,0,0,0,0,0,0,0,0,0,0,0,0,0,0,0,0,0,0,0,0,0,0,0,0,0,0,0,0,0,0,0,0,0,0,0,0,0,0,0,0,0,0,0,0,0,0,0,0,0,0,0,0,0,0,0,0,0,0,0,0,0,0,0,0,0,0,0,0,0,0,0,0,0,0,0,0,0,0,0,0,0,0,0,0,0,0,0,0,0,0,0,0,0,0,0,0,0,0,0,0,0,0,0,0,0,0,0,0,0,0,0,0,0,0,0,0,0,0,0,0,0,0,0,0,0,0,0,0,0,0,0,0,0,0,0,0,0,0,0,0,0,0,0,0,0,0,0,0,0,0,0,0,0,0,0,0,0,0,0,0,0,0,0,0,0,0,0,0,0,0,0,0,0,0,0,0,0,0,0,0,0,0,0,0,0,0,0,0,0,0,0,0,0,0,0,0],\"coloraxis\":\"coloraxis\",\"opacity\":0.7,\"symbol\":\"circle\"},\"mode\":\"markers\",\"name\":\"\",\"scene\":\"scene\",\"showlegend\":false,\"x\":[2.5083720684051514,-8.319713592529297,13.993481636047363,10.25574779510498,13.58446216583252,5.881902694702148,-12.729530334472656,5.771870136260986,1.1754872798919678,2.4457848072052,5.337005138397217,9.780255317687988,12.633039474487305,6.736325263977051,6.230154037475586,1.3006120920181274,12.612918853759766,-6.941803932189941,14.290149688720703,8.370810508728027,5.57832670211792,3.281830310821533,7.886405944824219,0.5348820090293884,6.3673505783081055,6.337697982788086,9.092669486999512,1.4296932220458984,7.873213768005371,4.266643047332764,1.9043071269989014,-6.000240325927734,6.219892978668213,5.285518646240234,-1.4423166513442993,4.578952789306641,-0.23156869411468506,1.6844642162322998,3.7958626747131348,4.967199325561523,-9.6163330078125,6.181629657745361,-8.316336631774902,7.50802755355835,6.715997219085693,0.8910875916481018,5.729151248931885,0.625011146068573,9.593032836914062,-11.311626434326172,9.397377967834473,3.2758002281188965,-0.7508905529975891,1.0194520950317383,7.721350193023682,-3.337049722671509,3.767900228500366,-3.9454572200775146,5.371845722198486,12.359203338623047,-2.166902780532837,-10.26426887512207,12.700637817382812,6.024027347564697,-10.460317611694336,5.058215141296387,-5.811159133911133,-6.45947790145874,9.949195861816406,4.66767692565918,8.006335258483887,7.320806503295898,3.1492555141448975,10.036601066589355,3.6021223068237305,-1.56866455078125,12.009757995605469,9.228930473327637,3.1139869689941406,0.10180717706680298,0.0769360363483429,-0.7030580043792725,9.765542030334473,-9.600152015686035,-9.968189239501953,-6.439520359039307,-7.951136112213135,-11.07283878326416,-4.11768102645874,0.0674910694360733,1.8672105073928833,6.3753662109375,-7.644076824188232,-12.904814720153809,-5.1924543380737305,11.900566101074219,-3.5905861854553223,-6.826744079589844,-12.93156909942627,11.303267478942871,3.206524133682251,-10.126107215881348,-6.3324384689331055,-1.5937892198562622,11.41401195526123,-2.778627634048462,-6.752955913543701,-6.885939598083496,3.814337730407715,8.119736671447754,-2.2143781185150146,5.059005260467529,6.830635070800781,-2.8333399295806885,14.06304931640625,-2.1456100940704346,-9.408669471740723,-13.095507621765137,9.898672103881836,-13.742795944213867,-2.087735176086426,-2.945263624191284,-10.22581672668457,-9.214896202087402,-5.014889717102051,-7.865764617919922,-4.7853474617004395,8.601387023925781,-9.791437149047852,-8.400338172912598,-1.385617971420288,-3.1967077255249023,9.558087348937988,-8.935935974121094,-11.06655502319336,-1.3834991455078125,10.600921630859375,10.566317558288574,-6.32766056060791,-3.7200138568878174,9.428473472595215,0.23993231356143951,-1.852851390838623,11.502127647399902,-13.805232048034668,-0.7471321225166321,5.058414459228516,-8.133304595947266,-6.792753219604492,-4.032353401184082,-1.4299726486206055,-1.567819595336914,-7.671618938446045,-2.625723123550415,3.557337999343872,-4.5435638427734375,-11.240296363830566,-10.059739112854004,2.730257749557495,8.862322807312012,-9.8484468460083,-3.7225375175476074,-0.4609651267528534,2.8135464191436768,8.19214153289795,-11.034294128417969,10.1802978515625,6.249383926391602,10.482560157775879,-5.567121505737305,-6.7372965812683105,-6.799624443054199,6.495181560516357,12.537942886352539,-3.7801454067230225,-10.236392974853516,7.757083415985107,12.25678539276123,-6.827654838562012,9.47435474395752,-5.404455184936523,3.054108142852783,-6.668699264526367,5.1658616065979,5.6396026611328125,-10.652572631835938,8.168601036071777,-1.7748709917068481,-1.465584635734558,-1.2541077136993408,-8.684861183166504,12.676789283752441,6.576709270477295,13.712739944458008,-8.357544898986816,-10.959537506103516,-6.545553684234619,-10.70029067993164,2.3759512901306152,-5.082756042480469,-1.4314006567001343,-3.336280107498169,-5.366918087005615,10.147002220153809,13.558296203613281,-5.74609375,0.34186404943466187,-1.8170270919799805,3.568695306777954,-4.727611541748047,-4.001330852508545,10.426680564880371,9.604117393493652,-1.6096913814544678,-2.9359891414642334,-4.24853515625,-5.290724277496338,10.170513153076172,10.507319450378418,-2.095708131790161,14.200006484985352,-8.007716178894043,10.662755012512207,3.7257487773895264,-8.835999488830566,-0.7781941294670105,-7.41505241394043,-0.2850777804851532,-11.289613723754883,11.4877290725708,-11.042380332946777,-7.747565269470215,9.525480270385742,10.240337371826172,-13.716015815734863,-7.727251052856445,-2.957252025604248,-2.0691006183624268,8.343070030212402,12.144767761230469,-2.310697317123413,-9.580580711364746,10.39322566986084,-10.624950408935547,5.027835369110107,-9.084418296813965,-3.1140804290771484,1.2613515853881836,-6.936553001403809,8.903135299682617,-2.0907673835754395,-3.680152416229248,7.302307605743408,-3.5392353534698486,-1.9676591157913208,0.13420222699642181,0.6249328851699829,-11.693349838256836,11.613448143005371,-13.821002960205078,10.622618675231934,-3.1292026042938232,12.862814903259277,-5.70355749130249,-1.3990496397018433,-10.54251480102539,10.186772346496582,-8.439777374267578,3.6949400901794434,-9.773419380187988,-6.808101654052734,-7.069798946380615,-0.36873555183410645,10.329724311828613,8.568273544311523,-4.521067142486572,11.633052825927734,12.84636116027832,-7.371463775634766,-1.6677464246749878,-7.955356597900391,10.091734886169434,-0.6695674657821655,-1.3977680206298828,13.55874252319336,-9.95026969909668,-11.187280654907227,-7.885512828826904,-10.856191635131836,2.7215113639831543,-0.30880072712898254,-7.620616912841797,-6.358942985534668,-9.75516414642334,-9.347704887390137,8.648660659790039,5.322054862976074,1.6473300457000732,-5.937380790710449,0.9857410788536072,-5.872442722320557,-12.402280807495117,7.898522853851318,5.726520538330078,5.27853536605835,1.1810643672943115,-7.996172904968262,0.1799810230731964,-8.989412307739258,5.279620170593262,5.367685794830322,-7.498357772827148,2.7862050533294678,11.499809265136719,-6.252059459686279,1.9160889387130737,-5.531468391418457,-11.374094009399414,1.7996968030929565,-6.1985273361206055,-6.493217468261719,0.4515033960342407,8.058357238769531,-5.109675407409668,-1.8349148035049438,2.2830159664154053,10.671005249023438,9.101614952087402,8.364127159118652,5.649740695953369,-8.433284759521484,11.506143569946289,-4.356786251068115,-3.3257594108581543,-10.6151704788208,11.003073692321777,-7.5714592933654785,-1.358802080154419,8.004528045654297,11.680709838867188,-0.45128384232521057,1.1629537343978882,10.098954200744629,-3.526756525039673,6.340510845184326,8.927091598510742,-9.189032554626465,-10.189393997192383,8.707709312438965,11.422566413879395,-2.8112971782684326,-0.7084866166114807,-14.24677562713623,-6.881643295288086,-11.22578239440918,1.3847891092300415,-1.8387078046798706,-6.343084812164307,11.15276050567627,3.9802260398864746,-8.175889015197754,-7.194778919219971,-0.32267487049102783,-8.335443496704102,8.379386901855469,-0.47481074929237366,8.171537399291992,-11.313407897949219,-11.595988273620605,-6.51225471496582,-9.923102378845215,-2.502086639404297,12.467918395996094,9.127541542053223,8.11067008972168,-8.711888313293457,1.9597415924072266,5.900313377380371,-6.196392059326172,0.9575242400169373,8.026361465454102,-1.8429275751113892,2.7938079833984375,2.6740596294403076,-8.46505069732666,-3.3452327251434326,-6.017377853393555,-5.11727237701416,-5.133827209472656,5.034768104553223,-9.261746406555176,-3.528520107269287,0.9460972547531128,-2.1297788619995117,-13.452287673950195,-6.859385967254639,-2.984961748123169,5.269843101501465,3.5808470249176025,-3.17610764503479,-13.88762092590332,-7.833913326263428,-7.266242027282715,-6.444483757019043,5.465199947357178,-8.875266075134277,12.275419235229492,-0.7980642318725586,9.307757377624512,-11.618697166442871,-10.619384765625,-0.31871485710144043,10.412620544433594,0.5807615518569946,-8.15057373046875,-8.027929306030273,-9.742229461669922,-11.024688720703125,9.400314331054688,9.03243350982666,5.269611835479736,-7.472114086151123,-8.093875885009766,-6.497239112854004,10.591830253601074,-10.683243751525879,-11.4534273147583,5.413858890533447,2.604264259338379,11.776314735412598,-1.988318681716919,-11.183843612670898,-10.03712272644043,6.165243148803711,8.734089851379395,-6.118191242218018,-12.937031745910645,11.283665657043457,3.5633773803710938,13.86854362487793,-2.3821778297424316,2.446075439453125,13.837857246398926,13.074747085571289,-3.3584070205688477,8.043556213378906,7.7795305252075195,-4.115955352783203,8.794245719909668,2.798795700073242,-8.505997657775879,11.109649658203125,-8.799482345581055,1.025168538093567,6.527400970458984,-4.819321632385254,-4.500716209411621,10.584543228149414,2.9614386558532715,3.198498249053955,-9.130095481872559,13.307892799377441,-8.722804069519043,2.389453172683716,-0.5630748271942139,1.8881629705429077,4.0545148849487305,7.585544109344482,-10.946986198425293,10.67891788482666,-1.7922340631484985,-14.523690223693848,-7.471930027008057,-1.8051800727844238,-8.76606273651123,-9.026994705200195,-10.665975570678711,6.422176361083984,0.14416593313217163,-10.915205955505371,-8.852835655212402,-9.202763557434082,5.200477123260498,11.753188133239746,-10.016054153442383,12.35950756072998,-6.786556243896484,2.649684429168701,-0.6782159805297852,12.604738235473633,0.09080327302217484,7.827690601348877,9.095330238342285,8.255586624145508,10.570002555847168,4.705287456512451,-11.54193115234375,8.496284484863281,-2.997394323348999,0.4199891686439514,-6.5924973487854,1.0263522863388062,2.17661452293396,-4.071277618408203,2.2455742359161377,12.059452056884766,3.46016526222229,-8.854666709899902,3.1807656288146973,2.9466490745544434,13.808394432067871,-10.174714088439941,-8.070444107055664,10.955116271972656,2.4170989990234375,-5.427783966064453,-2.962233781814575,3.3685109615325928,-2.8224704265594482,-8.566190719604492,4.589192867279053,8.685548782348633,10.04745864868164,8.104525566101074,11.327485084533691,-8.486493110656738,2.275968313217163,-12.302979469299316,-3.7474706172943115,2.0473902225494385,-6.442009925842285,8.927295684814453,9.896817207336426,-10.003301620483398,7.5549092292785645,5.236983299255371,-6.7863078117370605,11.066445350646973,-0.27740779519081116,-9.96031665802002,-3.3252809047698975,6.332274436950684,-10.526663780212402,-6.158261299133301,-10.57241439819336,10.605265617370605,-1.5283894538879395,7.105254173278809,4.759340763092041,-0.8373934626579285,-3.8397037982940674,-2.466252088546753,12.610955238342285,2.815816879272461,-4.188246250152588,-6.244639873504639,9.663500785827637,3.085451364517212,10.074991226196289,0.04882848635315895,13.471118927001953,10.405126571655273,-4.554784297943115,4.583396911621094,-12.038089752197266,1.3938324451446533,-10.194331169128418,0.6076055765151978,3.18306827545166,5.419897556304932,1.7155258655548096,6.652637481689453,5.760892391204834,11.764034271240234,-7.572922229766846,6.446516990661621,-11.269173622131348,-11.412422180175781,-0.7881677150726318,-2.7119579315185547,4.487829208374023,-1.4914249181747437,9.577078819274902,-11.236563682556152,-9.106242179870605,0.4416593909263611,2.0000839233398438,-8.124998092651367,-9.686321258544922,8.321605682373047,-8.003144264221191,-6.557069301605225,0.8489811420440674,5.686423301696777,-1.2233474254608154,-1.655062198638916,6.68882417678833,9.40206527709961,5.485429286956787,12.623634338378906,10.154571533203125,-1.532439947128296,3.067481517791748,-11.608224868774414,5.096872329711914,-6.363980293273926,8.252968788146973,12.198883056640625,-13.077960014343262,-5.252618789672852,10.005967140197754,-0.4470957815647125,4.478987216949463,0.3658115267753601,1.6622133255004883,-5.451369285583496,-5.492160797119141,-4.506547927856445,-5.1583662033081055,1.7581088542938232,0.3511670231819153,-1.7384763956069946,-1.9870859384536743,-2.1482999324798584,8.630313873291016,7.390566349029541,-10.046218872070312,14.804298400878906,-1.2022275924682617,2.4748146533966064,-0.671591579914093,-10.445428848266602,3.695762872695923,9.194064140319824,0.3920927047729492,-0.23514994978904724,-1.0297857522964478,0.01797323487699032,6.221447944641113,-1.7411333322525024,13.493870735168457,-4.806794166564941,-10.871525764465332,0.3020121157169342,11.618887901306152,-0.06743457168340683,11.287266731262207,-3.08394193649292,7.718722343444824,0.18027786910533905,-7.405433654785156,-9.624470710754395,-1.8794912099838257,10.372186660766602,-10.06103801727295,-5.022690296173096,10.610432624816895,-1.5993282794952393,-3.787163019180298,8.430683135986328,7.346644878387451,-1.731995701789856,-0.39178580045700073,1.3590484857559204,6.499785423278809,-3.1073780059814453,9.982710838317871,-9.108701705932617,-10.71019172668457,-9.469639778137207,-3.216210126876831,0.7613089084625244,-3.218290328979492,-1.1922096014022827,8.149837493896484,-4.8230743408203125,-5.485518455505371,7.861530303955078,6.396258354187012,-8.882312774658203,10.009159088134766,-8.697362899780273,-0.7110205888748169,6.522334098815918,-5.04486608505249,-9.79365348815918,-1.4177838563919067,-10.014104843139648,5.978748798370361,6.366420745849609,11.220561027526855,5.196488380432129,10.328518867492676,-6.144760608673096,7.307318210601807,10.280152320861816,2.2412662506103516,-1.0436931848526,2.557830572128296,8.401497840881348,-4.388545513153076,-0.7722896337509155,6.767364978790283,7.870135307312012,-3.4618337154388428,-4.24362850189209,6.353103160858154,13.401651382446289,0.904254674911499,7.853207588195801,5.302153587341309,-9.725329399108887,-6.072092056274414,6.5063323974609375,3.5210630893707275,7.090180397033691,5.6902265548706055,0.8999935388565063,3.5306758880615234,-8.009187698364258,14.285601615905762,-7.762392044067383,-6.766643524169922,3.2781436443328857,1.2182618379592896,6.247901916503906,2.822883367538452,10.918630599975586,8.183755874633789,5.333178520202637,-4.190062046051025,13.002623558044434,-0.7975596189498901,-7.3092875480651855,-5.021663665771484,5.779187202453613,-1.9558111429214478,0.5965676307678223,2.011303186416626,10.030464172363281,-3.8664255142211914,-0.9556894302368164,-1.8163647651672363,10.5797758102417,3.608349084854126,1.5930269956588745,-2.248314619064331,7.573366165161133,11.041481971740723,7.850674629211426,-7.962979793548584,12.46119213104248,-5.217502117156982,-8.438862800598145,-7.818853378295898,12.748924255371094,-0.1327066570520401,-2.901015281677246,11.018876075744629,-9.286886215209961,5.60746431350708,-3.2590606212615967,-7.298042297363281,-9.082322120666504,1.9384137392044067,-10.804360389709473,-8.909496307373047,12.760396003723145,-11.548896789550781,13.232319831848145,-0.3489340543746948,-0.6547085642814636,0.5276616215705872,-10.908576011657715,2.5071425437927246,-6.839201927185059,-1.3138928413391113,-5.073797225952148,3.6553194522857666,3.4204940795898438,-2.367814779281616,-9.861876487731934,-6.710604190826416,-1.5281771421432495,1.2730737924575806,6.8407392501831055,-5.16540002822876,7.7328925132751465,2.0498578548431396,-1.6042982339859009,5.110027313232422,-2.654724597930908,11.036564826965332,1.7690718173980713,-8.619504928588867,-7.143146514892578,-6.065154552459717,9.400275230407715,-1.31117582321167,-7.417722702026367,-3.2387921810150146,-1.7783708572387695,-3.1817283630371094,-7.745262145996094,12.618821144104004,-10.696918487548828,-5.294179916381836,-5.340150833129883,9.147001266479492,-10.242642402648926,11.068835258483887,9.86777400970459,2.239025354385376,5.050823211669922,-6.661703586578369,8.62625789642334,-6.228803634643555,6.689739227294922,7.022054195404053,7.667181491851807,4.562413692474365,11.011701583862305,2.364255905151367,-4.958993911743164,-7.558472156524658,-13.706110000610352,8.936193466186523,0.35383012890815735,1.585462212562561,9.53773307800293,-6.002140045166016,2.161029577255249,12.20954704284668,9.285447120666504,10.770628929138184,5.593512535095215,13.556714057922363,12.527606010437012,4.2144622802734375,-3.9532601833343506,-1.6667126417160034,-1.504084825515747,8.17867660522461,-7.624638080596924,-11.01900577545166,8.383963584899902,-10.606209754943848,-1.4082504510879517,-2.0491795539855957,-5.023350715637207,9.599431991577148,4.6592559814453125,-3.555363893508911,-1.8485349416732788,-4.354973793029785,-9.098414421081543,-3.8663601875305176,9.90581226348877,0.2300124317407608,11.127798080444336,3.60567045211792,-0.8968497514724731,-0.18864211440086365,-2.6979799270629883,-8.403585433959961,10.36974048614502,-12.932385444641113,-1.2969896793365479,5.504083633422852,0.18825528025627136,2.768824577331543,-4.125131130218506,-8.185494422912598,-2.2741823196411133,-6.610785484313965,-8.153697967529297,-13.538429260253906,-5.438321590423584,-0.5310020446777344,12.38014030456543,-0.3314361572265625,-0.8142606019973755,0.7155812978744507,8.627132415771484,5.219468593597412,7.079043388366699,3.1733906269073486,-6.172207832336426,0.802249014377594,8.373369216918945,10.998677253723145,5.026911735534668,9.640420913696289,0.06652512401342392,4.735429763793945,-0.7568647861480713,-2.0471956729888916,-10.614611625671387,-4.094974994659424,-3.195430278778076,-7.452934265136719,-2.9486494064331055,-6.33612060546875,7.393484115600586,-1.7701120376586914,10.145076751708984,5.470811367034912,-5.07430362701416,9.320987701416016,3.6055681705474854,-8.585953712463379,-7.929792404174805,-7.508897304534912,3.780918598175049,10.038662910461426,14.66417121887207,0.02371015027165413,-9.61422348022461,9.223362922668457,6.310751438140869,4.339449405670166,9.425300598144531,-13.309024810791016,-2.396507501602173,-9.218262672424316,-0.8352614045143127,-7.1693434715271,0.02502758800983429,-6.019905090332031,-9.388350486755371,14.482673645019531,-3.577132225036621,-7.401043891906738,7.316779613494873,5.771490573883057,11.227931022644043,-3.9626693725585938,13.043709754943848,-7.002310752868652,4.811984062194824,12.055721282958984,-1.6384782791137695,2.4385650157928467,9.18944263458252,0.9884839653968811,10.33570671081543,0.19256672263145447,0.5967797040939331,-7.637530326843262,-7.716342926025391,-0.14112958312034607,-1.4131827354431152,6.456082820892334,8.900778770446777,-4.408748626708984,-9.663612365722656,7.155749797821045,7.91973876953125,9.365790367126465,-4.216617584228516,-10.158296585083008,-7.48194694519043,12.008699417114258,2.6470372676849365,-1.0387592315673828,-10.531414985656738,-9.204816818237305,3.2101800441741943,9.17332935333252,-3.9110894203186035,10.498580932617188,-2.421752452850342,-0.670619547367096,14.389561653137207,-1.4376914501190186,-10.34255599975586,-10.782384872436523,11.15451431274414,-0.7825753688812256,7.3836541175842285,9.777899742126465,3.3990330696105957,1.2961058616638184,-11.31987476348877,10.657628059387207,-7.419389724731445,-4.844691753387451,4.8111653327941895,6.1655354499816895,12.962350845336914,8.492156982421875,2.136768341064453,-0.3023996949195862,13.004341125488281,9.983738899230957,-0.540892481803894,-12.824438095092773,1.3595237731933594,6.306943893432617,13.208410263061523],\"y\":[-1.1441105604171753,-3.8915584087371826,-2.6793580055236816,-5.366106033325195,-10.364727020263672,0.7195656895637512,1.879248857498169,-9.533780097961426,-0.3689880669116974,1.5514382123947144,-7.39974308013916,-12.082892417907715,-3.4943504333496094,-5.254205703735352,-8.511975288391113,-10.557619094848633,-3.47782564163208,9.85678482055664,-1.4330276250839233,-10.947854995727539,1.4594095945358276,1.636982798576355,-5.891732692718506,0.08132970333099365,-2.7942824363708496,0.2384738326072693,-11.077056884765625,1.906534194946289,-14.266462326049805,-10.532658576965332,-0.3007109761238098,-1.2520811557769775,-2.4056813716888428,-9.006641387939453,5.223395347595215,1.0684406757354736,-6.157931804656982,2.247725009918213,3.8486781120300293,-0.23991785943508148,11.78350830078125,-7.266495227813721,8.847407341003418,-1.3598014116287231,-6.700110912322998,-10.777432441711426,-6.919177532196045,-0.29050272703170776,-11.799771308898926,7.1148810386657715,-8.114974975585938,-5.398066520690918,6.5965962409973145,-10.619881629943848,-0.5599994659423828,2.80194354057312,0.470180869102478,3.009899854660034,-8.758872032165527,-5.3547821044921875,5.187961578369141,3.989753484725952,-10.5950288772583,-7.238368988037109,6.701283931732178,-6.529937744140625,9.207694053649902,10.027822494506836,-10.626076698303223,-3.0262467861175537,-13.405763626098633,-8.314451217651367,4.843698978424072,-5.314720153808594,6.526244640350342,1.6296861171722412,-8.574714660644531,-9.01185131072998,7.978856086730957,8.98870849609375,8.51785945892334,2.7118279933929443,-9.110129356384277,3.153310537338257,1.8572806119918823,-3.9246068000793457,5.92673397064209,7.993720054626465,3.2049942016601562,2.9354500770568848,3.2594993114471436,-6.284064292907715,8.319334030151367,3.4506237506866455,2.1969475746154785,-11.447417259216309,10.694618225097656,-1.9544674158096313,2.608656167984009,-9.08742618560791,2.897143602371216,7.638788223266602,-2.119722366333008,8.258172988891602,-11.04437255859375,10.229002952575684,4.660187721252441,0.5660392642021179,7.51917028427124,-8.838150978088379,3.3611655235290527,2.8397626876831055,-4.440112113952637,2.3526716232299805,-7.0053815841674805,5.601009845733643,3.934248208999634,3.6380908489227295,-4.999663352966309,3.588721752166748,6.4024834632873535,2.1138083934783936,-1.3252416849136353,8.143050193786621,-0.32108044624328613,-2.1331982612609863,1.4025429487228394,-6.186091423034668,1.5931681394577026,-1.7658158540725708,3.243450880050659,10.13978385925293,-8.871177673339844,0.5693771243095398,7.792364597320557,-1.12607741355896,-7.297131061553955,-8.318799018859863,-1.7297029495239258,-0.9329447150230408,-6.061061859130859,3.0537240505218506,7.5638322830200195,-9.0859375,4.065337657928467,9.929213523864746,-6.1959228515625,8.51258659362793,-2.5937891006469727,3.329700231552124,3.642765760421753,3.7055346965789795,-2.925229787826538,7.966269493103027,2.789003610610962,10.731099128723145,7.438048362731934,9.460905075073242,4.759566783905029,-3.099112033843994,2.6469998359680176,3.910663604736328,6.18587589263916,9.393293380737305,-4.511331081390381,8.462386131286621,-6.398412227630615,-11.113836288452148,-5.834861755371094,1.1442824602127075,5.559168815612793,-3.110569715499878,-2.872150421142578,-5.592765808105469,-1.368407130241394,8.392364501953125,-1.7154114246368408,-4.6778082847595215,-2.27249813079834,-7.851807594299316,0.05989587679505348,-4.2317914962768555,-0.1672859638929367,-11.961126327514648,-11.50420093536377,4.303243637084961,-6.267087459564209,4.030777931213379,8.242018699645996,3.962968349456787,8.516973495483398,-8.865408897399902,-6.965057373046875,-5.784167766571045,6.686290264129639,1.3175930976867676,0.8042712807655334,-2.7773377895355225,2.3347084522247314,-1.0007046461105347,1.7863470315933228,2.313811779022217,2.7434685230255127,-9.815668106079102,-4.417964458465576,-0.8608766198158264,10.958179473876953,2.1742305755615234,-4.020017147064209,-0.16360466182231903,-0.4524329900741577,-6.211373805999756,-10.348686218261719,4.906706809997559,1.9728467464447021,1.1657421588897705,-0.6760101318359375,-8.715188980102539,-11.313760757446289,-1.3865747451782227,-4.2394609451293945,0.6941059231758118,-9.360057830810547,8.099209785461426,5.770871162414551,10.551273345947266,8.350316047668457,7.379145622253418,8.792262077331543,-2.923358201980591,1.8965752124786377,8.584332466125488,-7.36931848526001,-8.138278007507324,3.647102117538452,1.133315920829773,-1.0356987714767456,3.4819185733795166,-6.3960723876953125,-3.4909942150115967,2.3481109142303467,-0.0045858933590352535,-4.283598899841309,3.398027181625366,-8.390328407287598,6.31872034072876,7.849446773529053,8.306361198425293,8.566725730895996,-6.524150848388672,6.650145530700684,-1.8406561613082886,-7.935150146484375,4.297839164733887,10.3175048828125,-2.218527317047119,-2.0632975101470947,5.313429832458496,-3.5682499408721924,3.5253679752349854,-4.700352668762207,4.743663311004639,-7.3120222091674805,-0.802569568157196,6.362563133239746,3.1744027137756348,-9.683629989624023,4.783027648925781,7.402481555938721,-3.166095733642578,2.2374682426452637,1.4671955108642578,0.5795262455940247,-3.897040605545044,-3.5754754543304443,7.642838954925537,-10.09793472290039,-8.900334358215332,1.3044569492340088,8.298364639282227,8.73970890045166,-4.112236976623535,8.913119316101074,0.6576166749000549,-6.854709625244141,-0.00662554707378149,5.064452648162842,0.28860387206077576,6.359836578369141,1.650516152381897,4.0808329582214355,1.3030216693878174,4.731320858001709,1.1627644300460815,3.071817398071289,-4.945582866668701,-5.606142520904541,9.715328216552734,2.4864585399627686,-1.7135368585586548,-4.484641075134277,4.854938983917236,-10.980380058288574,-8.659619331359863,-4.88224458694458,5.155284404754639,-0.49792933464050293,5.164951324462891,11.054340362548828,-11.692218780517578,-10.70003604888916,9.876046180725098,-4.116206645965576,-3.736255168914795,2.961578130722046,-0.7905642986297607,0.9293600916862488,2.1755332946777344,5.8681559562683105,2.2944624423980713,-3.958185911178589,2.7243974208831787,-8.303228378295898,-1.2854195833206177,9.00460433959961,1.1587326526641846,-10.107928276062012,-10.233840942382812,-6.5082902908325195,-4.989408016204834,4.94973611831665,-8.383792877197266,6.301560878753662,10.332696914672852,8.348099708557129,-8.224640846252441,-1.301145315170288,-1.3836557865142822,-6.499197483062744,-7.02724552154541,-1.2615554332733154,9.225378036499023,-4.933210372924805,7.64784049987793,-9.49056339263916,-7.853035926818848,0.10876768082380295,10.792473793029785,-5.771651268005371,-8.432787895202637,-2.092679262161255,-0.029129330068826675,2.810805559158325,1.7274128198623657,5.091239929199219,8.718767166137695,5.164527416229248,0.34595903754234314,-12.55739688873291,1.0732299089431763,-3.0044171810150146,-0.7072644233703613,0.46057066321372986,9.562834739685059,-7.210498332977295,6.510073184967041,-9.967412948608398,5.336653709411621,5.656546592712402,1.104154348373413,7.925693511962891,2.4323008060455322,-8.78232192993164,-5.855257034301758,-8.243093490600586,7.112886428833008,6.703934192657471,-5.5342817306518555,2.310779094696045,2.46986722946167,-4.837578773498535,2.399524688720703,6.060757637023926,6.3457722663879395,-2.2119030952453613,11.35433292388916,4.824791431427002,3.9622066020965576,-1.4646245241165161,3.136578321456909,5.869380950927734,10.643516540527344,1.4066239595413208,3.7490406036376953,2.8123788833618164,1.575222373008728,10.019322395324707,-8.562800407409668,2.509246349334717,8.313275337219238,3.3572208881378174,4.592360496520996,9.630854606628418,-0.8852792978286743,-10.823718070983887,4.071632385253906,-5.458608150482178,2.7760236263275146,-2.204824924468994,-1.2760261297225952,1.3017243146896362,2.3692455291748047,-12.088444709777832,6.096312999725342,0.9790686368942261,8.681025505065918,8.978018760681152,0.7602077722549438,-9.963281631469727,-8.101239204406738,3.0876245498657227,2.386017322540283,1.0001380443572998,-3.7425451278686523,-6.5678558349609375,6.618447780609131,2.1840155124664307,-5.0759124755859375,3.9186620712280273,-8.640536308288574,4.986955165863037,3.124955654144287,3.475475788116455,-6.655252933502197,-13.104881286621094,-0.4703848659992218,5.109208106994629,-9.154244422912598,7.667123317718506,-4.703232765197754,9.963769912719727,8.396699905395508,-5.6379075050354,-10.721197128295898,3.8010716438293457,-2.3726277351379395,-11.426684379577637,8.15973949432373,-6.089179515838623,-5.1237711906433105,5.117259979248047,-7.649631977081299,8.064699172973633,5.748137950897217,-5.008442401885986,1.6726183891296387,-3.3457229137420654,-6.539829730987549,7.5202155113220215,6.308635711669922,-2.234844446182251,-6.210378646850586,9.212218284606934,8.050843238830566,-0.883389949798584,3.4686827659606934,7.660953044891357,-11.969135284423828,8.31210708618164,-6.038074970245361,7.3252387046813965,5.63532829284668,5.852989673614502,0.657930314540863,6.607155799865723,6.563593864440918,1.022361397743225,-4.242279052734375,-0.3888469338417053,1.9784095287322998,9.973663330078125,4.07374906539917,-5.387235164642334,-11.316936492919922,3.804358959197998,-10.417607307434082,-2.9228947162628174,4.772291660308838,-1.31709623336792,-3.8668665885925293,7.551311016082764,-4.909083366394043,-2.7886722087860107,-11.50168514251709,-4.887102127075195,-6.349055767059326,-1.6160650253295898,-3.3602235317230225,7.3416571617126465,2.312635898590088,-1.4374405145645142,1.2147605419158936,1.8073776960372925,2.7202024459838867,4.01854944229126,-4.127762794494629,6.573143005371094,10.548823356628418,5.206020355224609,-4.256651401519775,-9.199981689453125,9.733660697937012,-0.29211559891700745,-7.038843631744385,8.63767147064209,7.80034065246582,6.734537601470947,6.904453754425049,-1.9759113788604736,-0.9835696220397949,4.691487789154053,-9.625792503356934,-4.363144397735596,-6.768975257873535,-11.28688907623291,4.504185199737549,6.379522323608398,5.023631572723389,-1.8904879093170166,-1.4159501791000366,-1.9566833972930908,-9.499720573425293,-3.942815065383911,8.189041137695312,-3.744687795639038,-9.929037094116211,-0.02696922793984413,-10.348078727722168,1.26698637008667,-3.0499706268310547,-2.1237902641296387,-4.018095970153809,1.0934531688690186,-2.8205373287200928,10.373263359069824,-6.380098342895508,10.368806838989258,-5.673114776611328,-6.418582439422607,9.533677101135254,9.782773971557617,0.3933403491973877,-7.570498466491699,4.720077991485596,7.521157741546631,5.854504108428955,-2.944932699203491,4.920412063598633,-10.124475479125977,-2.458660125732422,-10.635335922241211,-11.672811508178711,8.13467788696289,-5.487303256988525,4.666858196258545,10.245250701904297,7.065420627593994,1.1566877365112305,-6.611577987670898,-4.35076904296875,-0.43141239881515503,-4.307395935058594,-9.738520622253418,-8.595008850097656,-1.6699600219726562,-12.242795944213867,1.1781017780303955,7.097399711608887,0.0797027125954628,6.817481994628906,3.010681390762329,6.940454959869385,-5.847873210906982,0.9118028283119202,10.98501968383789,11.192042350769043,-0.9373789429664612,5.573655128479004,6.143621444702148,-9.787406921386719,3.9369311332702637,10.009154319763184,-1.5272691249847412,-10.326942443847656,-0.9524847865104675,7.062098503112793,-8.610254287719727,-10.719863891601562,-4.149158954620361,-10.392029762268066,-6.244051933288574,1.993666648864746,-4.362855911254883,2.790459394454956,-3.7675082683563232,-1.667187213897705,-10.607599258422852,-10.009456634521484,3.963945150375366,-3.3900420665740967,-3.7347652912139893,3.2039754390716553,4.871881484985352,-0.7763952016830444,7.515587329864502,8.83717155456543,0.9903377890586853,2.909363031387329,0.49097561836242676,-1.2817583084106445,-0.4907696843147278,7.093252658843994,6.651027202606201,-1.7996656894683838,-6.5460286140441895,-11.714583396911621,3.2499430179595947,-7.733068943023682,3.171081066131592,7.839942932128906,2.8393797874450684,-1.9993562698364258,6.220724105834961,-9.356857299804688,2.8481216430664062,1.4078140258789062,3.3715903759002686,-0.3376641571521759,-4.846924304962158,-0.7503946423530579,-4.1598801612854,0.06526218354701996,1.4899036884307861,2.669019937515259,-8.901260375976562,7.171472549438477,-5.02411413192749,-0.4026956260204315,-5.954255104064941,0.797396719455719,8.307720184326172,6.839960098266602,2.384359359741211,-7.189657211303711,7.94290018081665,-1.338417887687683,-9.200029373168945,-0.14790765941143036,4.05694580078125,-9.019770622253418,-11.694181442260742,5.961887359619141,-0.813259482383728,-1.1423697471618652,-4.879133224487305,-0.9093462824821472,-8.443559646606445,0.25508683919906616,-3.0786969661712646,7.8133931159973145,-1.1987377405166626,9.079122543334961,6.731847763061523,0.11947538703680038,-2.6757664680480957,9.859675407409668,-1.397422432899475,-3.735842704772949,-6.2860331535339355,0.6791436672210693,-5.537367820739746,8.845439910888672,-0.7724422216415405,-2.6791510581970215,8.041604042053223,7.426474571228027,10.71944522857666,11.289258003234863,-6.460883617401123,-11.333860397338867,-9.029449462890625,-9.670247077941895,-12.124873161315918,-2.6397409439086914,-6.124745845794678,-3.0361428260803223,1.9242784976959229,10.449075698852539,5.3927202224731445,-5.721787452697754,1.4533908367156982,8.901300430297852,-5.246142864227295,-14.319275856018066,8.693648338317871,2.6373398303985596,-7.756396293640137,-6.210634231567383,-0.496357798576355,-2.015906572341919,-8.336434364318848,8.96730899810791,2.104412794113159,0.14875143766403198,6.287559986114502,-1.4774326086044312,0.8993216156959534,-10.31843090057373,6.285861015319824,3.485297203063965,-1.4659491777420044,4.904147624969482,-3.940913438796997,-5.4132795333862305,-3.591092586517334,-2.467477798461914,-4.560421466827393,-2.7221148014068604,-8.356212615966797,-0.29946327209472656,-0.193403422832489,-8.716777801513672,0.15232113003730774,0.3717700242996216,-3.741940498352051,-5.391921043395996,4.930777072906494,8.448004722595215,8.783028602600098,-4.046515464782715,2.33766508102417,1.0873595476150513,0.5638671517372131,-2.7453458309173584,2.556103467941284,9.418840408325195,8.180368423461914,-4.3591084480285645,-6.028234481811523,-12.12531852722168,-3.281062126159668,-8.21103286743164,2.499434232711792,6.603172779083252,9.313736915588379,-4.9321417808532715,9.025595664978027,4.994882106781006,-7.531014919281006,10.603398323059082,-11.911171913146973,6.666827201843262,6.522077560424805,7.390625,-0.5635557770729065,4.907079696655273,4.128937721252441,-8.785377502441406,1.9567872285842896,-8.5823335647583,8.790675163269043,0.12788185477256775,-0.9522759914398193,1.904163122177124,0.8470073938369751,10.348231315612793,3.0624868869781494,1.3021894693374634,6.049515724182129,2.2752232551574707,4.776456832885742,4.234967231750488,-3.2760581970214844,3.7941787242889404,8.79196548461914,-12.279424667358398,5.052282333374023,-3.0758683681488037,9.873931884765625,11.098695755004883,-11.324041366577148,3.291745662689209,-3.2083687782287598,5.00487756729126,5.929812908172607,-1.1126042604446411,9.773575782775879,-6.0925164222717285,5.75473165512085,8.673383712768555,3.964933156967163,2.2257080078125,-1.833964228630066,-3.2428789138793945,-3.9870734214782715,7.824559688568115,7.525753498077393,-2.5791614055633545,-6.374093532562256,7.333540916442871,-8.562801361083984,-2.4417407512664795,5.692687034606934,2.780750274658203,-3.764648675918579,-6.042750835418701,-1.2475347518920898,-11.259444236755371,-1.4534577131271362,-6.363586902618408,-5.534092903137207,-3.7086029052734375,9.837529182434082,-2.863677740097046,0.35262948274612427,5.454152584075928,-6.287052154541016,8.869138717651367,3.035048484802246,-9.974666595458984,5.816437721252441,1.9512120485305786,-10.472241401672363,-2.7815001010894775,-6.401996612548828,-3.2813851833343506,-9.458481788635254,-8.35886287689209,-4.486104488372803,8.2263765335083,5.552451133728027,8.00521183013916,-6.608755111694336,1.4755936861038208,3.382894515991211,-3.167557954788208,-0.5684145092964172,6.111874580383301,4.082516670227051,-0.13648013770580292,-3.0522382259368896,4.949321746826172,7.771666049957275,5.776170253753662,-1.349043369293213,-1.708775281906128,0.06315670907497406,-5.634591102600098,9.873580932617188,-3.169032573699951,3.155555009841919,9.260175704956055,-3.291738748550415,8.331154823303223,-0.4381571412086487,-8.265447616577148,4.053770065307617,10.776021957397461,-3.8666934967041016,2.8075110912323,-5.857343673706055,9.821039199829102,5.993462085723877,4.852788925170898,3.18963885307312,5.610482692718506,2.8397915363311768,3.048588514328003,0.8151254653930664,-4.4072585105896,3.8439853191375732,7.630746841430664,9.002811431884766,-8.725381851196289,-8.779162406921387,-4.802879333496094,2.551257371902466,3.6817753314971924,-1.7173120975494385,-2.542083263397217,-9.10552978515625,-10.920011520385742,-6.361248970031738,8.266093254089355,-12.115839004516602,2.5033040046691895,-0.3083174526691437,7.410750865936279,-2.194122791290283,-3.530510663986206,0.4266941249370575,5.206198215484619,9.98791790008545,-11.465961456298828,8.82258129119873,-9.673812866210938,-6.187780857086182,-1.2069950103759766,-6.216222286224365,7.829145908355713,3.2305777072906494,5.100716590881348,8.44641399383545,6.396089553833008,-3.203789234161377,-8.17375659942627,1.1094733476638794,-1.2810059785842896,-5.332087993621826,-5.608202934265137,4.145880222320557,-9.133651733398438,2.7678234577178955,8.08584213256836,-2.6570186614990234,4.455770969390869,1.8752564191818237,0.3190059959888458,2.162806749343872,-2.0091631412506104,-8.899478912353516,9.534729957580566,5.826704025268555,-11.434064865112305,-8.506251335144043,-8.18642807006836,10.809234619140625,-4.199851989746094,-2.8077733516693115,-5.630159854888916,-5.378572940826416,3.6738173961639404,8.435443878173828,-3.317073345184326,6.376519680023193,-5.2978692054748535,7.752052307128906,3.4512572288513184,0.7335019111633301,2.292013168334961,-0.747748076915741,2.4022939205169678,-11.080349922180176,-8.120247840881348,3.863304615020752,8.971639633178711,-5.878365516662598,-7.0297651290893555,-2.620394229888916,2.609525203704834,6.3295674324035645,2.7646324634552,-4.1962175369262695,7.218410015106201,-0.07433357834815979,9.812708854675293,1.6262662410736084,4.118760108947754,-4.506694793701172,6.5218424797058105,-10.510998725891113,7.076769828796387,-1.3463125228881836,-8.118380546569824,8.367405891418457,4.468818187713623,2.8486316204071045,-9.36868953704834,0.14855755865573883,-2.737180233001709,-4.104384899139404,2.7730495929718018,10.394781112670898,3.9257521629333496,-9.121841430664062,4.881441593170166,3.1920864582061768,-4.976257801055908,-4.381038665771484,-10.19588565826416,-3.956587076187134,5.126153945922852,7.540453910827637,-4.3190131187438965,-5.7801594734191895,-0.3378758132457733,4.353676795959473,9.827926635742188,-5.7325639724731445,-9.22553825378418],\"z\":[8.350743293762207,-5.537430763244629,3.252483367919922,-6.897497653961182,4.741848468780518,-6.37214469909668,-8.272396087646484,-10.722256660461426,-1.754861831665039,-8.101092338562012,-13.310981750488281,1.2365696430206299,-8.820903778076172,6.8777947425842285,0.8185505270957947,-4.160215854644775,-8.911046981811523,-6.095127105712891,2.561847686767578,0.06739930808544159,-6.11373233795166,10.125470161437988,6.0900492668151855,-1.8672332763671875,-4.093291759490967,10.259020805358887,0.4215714633464813,0.9716196060180664,-2.2722675800323486,-3.2236828804016113,1.1072989702224731,-7.76304292678833,7.77080774307251,-0.6521415114402771,-0.971441924571991,11.410260200500488,-1.5742813348770142,0.9308216571807861,10.194262504577637,-7.370103359222412,-0.587302565574646,-2.772747039794922,2.8788414001464844,-2.9283413887023926,-0.8115077614784241,-4.758976459503174,-0.8618301153182983,-1.6663216352462769,0.9594355225563049,-1.4674688577651978,-12.590767860412598,1.8125487565994263,-0.48015737533569336,-4.654743194580078,-5.799417972564697,-8.944226264953613,-7.988980770111084,-4.444119930267334,-1.2057883739471436,-0.01786714419722557,-4.0948100090026855,1.5710989236831665,-6.019985198974609,-3.3455474376678467,1.4572941064834595,-0.5985590815544128,-3.559751033782959,-6.267700672149658,1.0930644273757935,-7.431699275970459,-5.181032180786133,-7.554463863372803,8.581735610961914,-10.2113618850708,16.498804092407227,11.51060676574707,1.0560067892074585,-4.830749034881592,12.30671501159668,10.02466106414795,9.602279663085938,12.35040283203125,4.284224510192871,0.646104633808136,-6.0465803146362305,-2.589428424835205,-4.423630237579346,-5.581894397735596,-0.7593851089477539,8.388469696044922,12.41738224029541,-11.887469291687012,4.1631011962890625,-7.662257194519043,-7.451875686645508,-5.162487983703613,2.929518699645996,-1.5052571296691895,-1.259650468826294,1.6474007368087769,7.976954460144043,-2.060786247253418,-1.4185253381729126,0.09267330169677734,-7.139930725097656,5.538857460021973,3.318277359008789,-4.4182233810424805,16.564130783081055,-4.539312839508057,9.64571475982666,7.4057297706604,-13.999451637268066,10.021488189697266,3.670590400695801,11.704988479614258,-9.972969055175781,-7.82500696182251,-8.299213409423828,-2.4214940071105957,12.045565605163574,0.15666912496089935,-1.7942384481430054,0.6308982372283936,5.31162691116333,-3.9615774154663086,-6.236739158630371,-7.347787380218506,-5.330491542816162,-2.9456560611724854,-2.5728840827941895,2.613518238067627,-11.579975128173828,-7.170480728149414,-3.005195140838623,10.857933044433594,5.0026397705078125,-8.99669361114502,-4.4717936515808105,-1.804207682609558,-10.748332977294922,10.007509231567383,0.5286180377006531,4.430447578430176,-3.6664748191833496,7.587015628814697,-10.073180198669434,-2.6541383266448975,-5.234524250030518,3.354995012283325,9.122125625610352,13.921157836914062,0.8492013812065125,1.1072837114334106,10.218332290649414,2.592714548110962,0.29827719926834106,-0.19338704645633698,13.892640113830566,-8.745742797851562,-9.797622680664062,-3.9601457118988037,15.395782470703125,11.524736404418945,-7.329273700714111,-1.6354644298553467,-10.389799118041992,-3.796067714691162,1.3842582702636719,6.163069248199463,3.1306045055389404,-0.9369938373565674,-5.82834005355835,4.504880905151367,2.745504379272461,-4.28118371963501,-6.5521955490112305,4.04091215133667,-6.015544891357422,-8.212087631225586,1.2352627515792847,-7.391908645629883,-8.96249008178711,-6.3028459548950195,-4.410553455352783,-9.699125289916992,-3.031463861465454,-2.454616069793701,8.342657089233398,13.162737846374512,-2.219414472579956,4.469300746917725,-12.502680778503418,4.272533416748047,-7.687341690063477,-9.155543327331543,0.8602850437164307,-1.0176938772201538,7.099383354187012,4.536371231079102,-1.085029125213623,3.050760507583618,-5.999429225921631,3.987313747406006,3.5655362606048584,-8.16274642944336,10.430002212524414,-1.472259759902954,-8.208733558654785,-5.529484272003174,3.0852324962615967,-3.6544604301452637,-3.335973024368286,10.64856243133545,0.04329563304781914,1.0944149494171143,-5.165652275085449,-5.904922962188721,-5.50766658782959,-1.4819273948669434,3.8080265522003174,-2.422966480255127,3.120258331298828,15.264647483825684,-6.274473190307617,10.930316925048828,1.7468942403793335,7.8135457038879395,-2.965334415435791,-3.296635866165161,-7.999345779418945,4.09420108795166,-8.97772216796875,-8.81865406036377,-5.986273765563965,-2.3599913120269775,-4.429267883300781,12.863938331604004,-7.2187700271606445,4.770671367645264,-1.3886375427246094,0.3895293176174164,3.179356098175049,-4.759589195251465,-8.144675254821777,-5.457117080688477,8.31207275390625,14.374916076660156,1.494724988937378,5.68766975402832,3.2842862606048584,0.14254014194011688,-7.1733269691467285,-3.636699676513672,6.136526584625244,0.06846751272678375,10.247679710388184,-5.133580684661865,-3.675161600112915,-3.7614870071411133,4.323227882385254,-2.1940653324127197,5.2186102867126465,1.998109221458435,2.1919479370117188,-4.471756458282471,-9.275611877441406,-7.553508281707764,16.716259002685547,0.3819104731082916,-3.810422897338867,-8.040105819702148,12.39237117767334,4.257236003875732,-7.544032573699951,-2.0799307823181152,-4.375777244567871,4.396332263946533,-3.7770988941192627,8.160199165344238,1.552174687385559,4.08417272567749,6.862610340118408,9.20425796508789,3.14003586769104,-2.090031862258911,-0.7224498391151428,-2.78753399848938,-5.745755672454834,7.033593654632568,9.161271095275879,-5.091620445251465,3.483844041824341,-1.707159161567688,0.5262506008148193,-12.25423812866211,-9.014942169189453,12.248157501220703,3.2050845623016357,9.135944366455078,-3.3757660388946533,-6.441589832305908,-4.308833599090576,-8.420319557189941,-6.611753940582275,15.429675102233887,-0.6253581047058105,14.779386520385742,-0.7580215334892273,-4.6267547607421875,-4.344234943389893,-2.6217381954193115,-6.572912693023682,4.727949619293213,0.09155617654323578,10.149600982666016,6.126736164093018,-6.169998645782471,15.014431953430176,-6.340081214904785,-2.878631114959717,14.346535682678223,-8.331584930419922,-2.936166524887085,12.735239028930664,11.572257995605469,-7.838687896728516,-9.572382926940918,1.1611164808273315,-7.66851282119751,-7.980865478515625,-4.8408002853393555,-2.22183895111084,4.257089138031006,-5.438180446624756,1.4183709621429443,-3.633371114730835,11.293643951416016,-3.3643360137939453,-3.6212949752807617,11.669778823852539,7.505465984344482,-8.458155632019043,0.9356347918510437,-10.1537504196167,2.5824227333068848,-7.629242897033691,-2.6653592586517334,-7.818535327911377,-5.399204254150391,0.5204632878303528,12.561144828796387,-3.9971554279327393,-8.10342788696289,-0.7140069603919983,7.306647777557373,0.36952513456344604,-2.214862108230591,-5.126075744628906,10.444408416748047,-4.321819305419922,-1.550955891609192,3.6265816688537598,-0.8287848830223083,-8.55130386352539,15.236287117004395,-3.264827013015747,-8.371273040771484,-4.888379096984863,-5.020186424255371,2.8531079292297363,-1.23116934299469,2.1848537921905518,-0.3508126139640808,-8.255180358886719,1.3528906106948853,16.293447494506836,-7.127430438995361,-6.997396469116211,10.55587387084961,-9.345375061035156,2.125952959060669,17.41657257080078,8.655680656433105,-3.7887721061706543,2.717749834060669,3.680434465408325,3.4911272525787354,3.605640172958374,8.360883712768555,-0.690855085849762,3.549090623855591,13.581450462341309,13.500572204589844,-5.001922130584717,-8.044544219970703,5.57123327255249,-7.8640336990356445,11.313063621520996,8.052888870239258,-2.1731395721435547,-0.7682940363883972,-2.7690317630767822,-8.356661796569824,-8.201240539550781,-8.098474502563477,1.3516602516174316,2.8049895763397217,-9.708606719970703,-0.014053202234208584,-2.9125311374664307,11.03762149810791,-6.824671745300293,15.011930465698242,-5.726094722747803,3.4797441959381104,-5.1202521324157715,-5.300144672393799,-9.829523086547852,2.237205982208252,8.301719665527344,1.8616975545883179,-2.433314800262451,-4.379447937011719,1.0427814722061157,-4.159969329833984,-7.680464744567871,-7.229442119598389,8.122420310974121,0.8868294358253479,11.655792236328125,-9.655509948730469,0.5778913497924805,-6.9994330406188965,-4.869735240936279,2.1957223415374756,-4.613121032714844,2.3038172721862793,15.85449504852295,2.924187660217285,6.124083042144775,12.722474098205566,3.506516695022583,0.6987825632095337,0.33887001872062683,-6.833853244781494,-5.276233673095703,-0.9734864234924316,4.331106185913086,-8.840787887573242,-0.4701533615589142,4.5937299728393555,0.9870996475219727,15.573470115661621,-13.01590347290039,-6.5648064613342285,2.9369282722473145,4.696161270141602,12.868410110473633,10.058680534362793,-3.796921491622925,2.2428529262542725,3.477598190307617,8.667633056640625,-0.30700239539146423,12.566192626953125,16.79725456237793,-6.847731590270996,-2.0531704425811768,2.110215663909912,11.885000228881836,-5.141573905944824,-4.8198652267456055,12.405230522155762,1.4943044185638428,-7.47475004196167,-8.548969268798828,-5.915799140930176,7.6255011558532715,-3.910008668899536,-0.5520678758621216,0.04002479091286659,-5.781594276428223,2.0501034259796143,-9.894649505615234,1.7233433723449707,0.4302523732185364,7.717638969421387,10.4793062210083,5.707281112670898,14.184493064880371,-12.390169143676758,-4.964613437652588,-4.0468268394470215,2.8354430198669434,-9.460911750793457,-0.6101114153862,-10.211002349853516,-0.5729357600212097,7.391886234283447,-4.535706520080566,0.9966599941253662,11.167220115661621,-0.4546453356742859,7.819602966308594,5.412741184234619,13.946905136108398,-2.8194682598114014,7.886375427246094,-6.199149131774902,3.8594651222229004,-0.7264055609703064,0.41958680748939514,-3.764216184616089,11.611233711242676,0.09188611060380936,2.268944501876831,13.196175575256348,0.8414425849914551,-0.2500130236148834,8.0048828125,3.203670024871826,-3.7775535583496094,0.8440366983413696,-5.721738815307617,-9.874733924865723,7.911074161529541,-6.450828552246094,2.7416765689849854,11.227540969848633,-1.3413301706314087,-4.167758464813232,-10.06932258605957,3.3634932041168213,-11.597007751464844,-4.5324625968933105,-9.349860191345215,3.5117199420928955,5.691539764404297,0.07117454707622528,-1.8357112407684326,-8.844188690185547,-2.712496280670166,-5.7837042808532715,-3.015206813812256,-11.840642929077148,6.9238667488098145,-8.760736465454102,-8.728797912597656,6.856766223907471,0.8367003202438354,10.224425315856934,2.5500388145446777,13.927680969238281,-1.7616868019104004,-7.470180988311768,-9.730963706970215,16.704113006591797,-8.80768871307373,0.040742941200733185,1.202385425567627,-5.830696105957031,-2.1535346508026123,-11.106796264648438,-1.4102733135223389,9.951851844787598,-1.0215250253677368,1.1467984914779663,-9.809524536132812,-11.870384216308594,8.679703712463379,-11.945119857788086,-9.302931785583496,-5.436770439147949,-6.926023006439209,-4.2464518547058105,-5.094524383544922,-5.859189987182617,9.529629707336426,12.671774864196777,8.096122741699219,14.129745483398438,0.08969319611787796,-5.989538669586182,-0.6436968445777893,10.240509986877441,10.873221397399902,1.9433600902557373,-7.463352203369141,-3.504804849624634,-1.0867114067077637,-0.3361246883869171,-0.16074897348880768,-8.559842109680176,-2.442274332046509,0.9827525615692139,-8.983333587646484,-3.82300066947937,-6.368997097015381,1.1699706315994263,-9.210241317749023,-0.3339335322380066,-5.485315322875977,-8.75151252746582,-8.67731761932373,-4.740638256072998,-9.412707328796387,-4.667043209075928,-2.2595109939575195,-3.341829299926758,-3.6055188179016113,8.240936279296875,9.124471664428711,11.460253715515137,7.6926727294921875,-1.8310712575912476,0.4398539662361145,-1.4033807516098022,6.017899990081787,11.276095390319824,2.639618158340454,-0.3708496391773224,2.7461557388305664,0.7651879787445068,0.7322417497634888,-8.673219680786133,-9.505918502807617,3.5484135150909424,1.6694449186325073,9.022537231445312,5.919360160827637,-1.3349502086639404,14.624215126037598,3.713787317276001,8.227957725524902,6.049299716949463,7.117568016052246,2.4459121227264404,-12.786505699157715,-3.4503767490386963,3.606260061264038,-5.714225769042969,-8.920137405395508,10.410379409790039,-3.5158557891845703,15.586729049682617,1.905087947845459,11.183446884155273,3.7189126014709473,13.340656280517578,1.8062775135040283,-1.1439260244369507,1.42009699344635,-10.422113418579102,-4.042534351348877,-3.5531861782073975,2.6966066360473633,9.486624717712402,2.9347522258758545,-4.836835861206055,-5.424839019775391,0.35634660720825195,-0.3152922987937927,9.08593463897705,-8.7872953414917,-4.641693592071533,-7.459271430969238,-7.575403690338135,-1.0420454740524292,-3.0462827682495117,-1.918459415435791,7.0309062004089355,2.178189277648926,2.5391504764556885,-7.991935729980469,0.9292740225791931,-6.402982711791992,-13.13732624053955,-8.214983940124512,-7.016885757446289,1.3766549825668335,2.2272789478302,12.470931053161621,-5.973814964294434,2.6881330013275146,-3.2024526596069336,7.671037673950195,-1.6803611516952515,-12.43911361694336,-4.528936862945557,-2.605494737625122,-4.603748798370361,-6.108538627624512,1.802060604095459,-13.760926246643066,-9.508142471313477,10.815754890441895,10.897640228271484,12.797929763793945,-2.361412763595581,-1.0360028743743896,2.573713541030884,6.862091064453125,-2.2391865253448486,7.427497863769531,-8.538408279418945,-11.518437385559082,-3.8151230812072754,3.8456482887268066,-3.157440662384033,-0.6050999164581299,0.3100380003452301,6.070849895477295,10.239449501037598,3.2187392711639404,-9.33206844329834,-6.384749889373779,-5.28817892074585,3.190918445587158,2.986112356185913,2.577082633972168,-9.815549850463867,0.8548303842544556,1.7896392345428467,-4.65810489654541,7.738582611083984,-7.989074230194092,-9.303751945495605,-9.304949760437012,-7.115961074829102,2.9149186611175537,1.0748132467269897,2.7177298069000244,6.62028169631958,2.5239086151123047,-12.65388298034668,11.195253372192383,12.890841484069824,12.06750774383545,-2.366424798965454,3.748298406600952,10.593964576721191,10.149700164794922,-4.640657424926758,11.268510818481445,12.23466682434082,12.112067222595215,-13.104765892028809,4.660635948181152,-5.521148204803467,-5.112081050872803,2.535942792892456,-7.988220691680908,-7.7529778480529785,0.6666640639305115,4.105371952056885,9.982575416564941,-2.2871625423431396,-3.776799201965332,-2.78056001663208,-5.76068115234375,2.3741934299468994,2.4901888370513916,-5.049046039581299,9.695246696472168,-8.390093803405762,-8.18413257598877,3.6043059825897217,-6.402441024780273,5.009988307952881,9.812767028808594,7.663909912109375,1.174509882926941,-7.731753826141357,12.26675033569336,-0.9863419532775879,1.6743144989013672,0.12372490763664246,14.690224647521973,13.17701530456543,13.095793724060059,-8.390596389770508,-1.3462148904800415,9.081185340881348,13.95601749420166,-5.489451885223389,-1.4576328992843628,-8.53342056274414,10.712328910827637,10.770751953125,-8.366978645324707,12.821914672851562,-3.263165235519409,15.800711631774902,-8.346452713012695,-8.484339714050293,1.098931908607483,4.335686206817627,13.484901428222656,-2.7249269485473633,0.4778924286365509,3.1439409255981445,1.9417988061904907,-6.080285549163818,4.86167573928833,-2.357163190841675,-0.21386605501174927,-1.209720253944397,-11.367188453674316,3.5111002922058105,2.6132380962371826,-5.613208293914795,15.743476867675781,7.57311487197876,-1.6303046941757202,4.097894191741943,-1.8899306058883667,-8.104691505432129,-6.300743103027344,-8.980912208557129,-11.268830299377441,4.7542500495910645,12.309455871582031,-3.067176103591919,0.6060107350349426,-5.581836223602295,-11.398259162902832,11.011192321777344,13.347797393798828,-4.609269618988037,-7.384974956512451,10.889857292175293,-4.977353096008301,-4.743949890136719,5.180429935455322,-7.971734523773193,1.3788210153579712,5.14542293548584,-10.780686378479004,-0.7494090795516968,12.988555908203125,0.1659691035747528,-8.786118507385254,-4.082580089569092,-6.39635705947876,-10.501627922058105,0.48653438687324524,13.187061309814453,9.384405136108398,5.549243450164795,-9.642559051513672,9.405649185180664,0.34554728865623474,12.482375144958496,3.3868961334228516,0.1872779130935669,1.2728806734085083,-12.444318771362305,11.24112319946289,-3.4715728759765625,9.404667854309082,10.568828582763672,0.23780186474323273,11.920827865600586,-0.16650331020355225,-9.097585678100586,-8.195028305053711,10.776368141174316,-8.830925941467285,9.287514686584473,-9.645275115966797,0.806556224822998,-4.637287139892578,9.711400985717773,-7.052818298339844,2.693763494491577,-5.37873649597168,-0.2010577768087387,8.41533088684082,2.774474620819092,9.743351936340332,15.970221519470215,6.983569622039795,-6.921546936035156,-8.10004711151123,-13.664477348327637,12.922994613647461,3.3012213706970215,9.397016525268555,-3.5037479400634766,3.257936477661133,-4.371038436889648,1.1024426221847534,7.1670942306518555,-5.274820804595947,12.317753791809082,11.140447616577148,-4.146052837371826,2.913457155227661,0.03973488509654999,-2.4184699058532715,-2.1750383377075195,0.006733654532581568,-8.205550193786621,13.006778717041016,4.506086826324463,-9.133131980895996,-7.775088310241699,0.8076116442680359,15.068392753601074,-1.5093653202056885,2.2083868980407715,4.434805393218994,16.10048484802246,-2.758657455444336,3.951207160949707,7.211976528167725,-2.2918949127197266,-12.418795585632324,-13.303388595581055,8.909475326538086,-11.436783790588379,-2.246894359588623,8.753469467163086,0.32361361384391785,9.141014099121094,-8.680800437927246,7.9341936111450195,3.091379404067993,0.12969104945659637,4.676230430603027,-0.5760823488235474,-4.0419182777404785,-6.2183332443237305,-8.360173225402832,0.9567086100578308,2.880864143371582,2.2493481636047363,-5.641608715057373,-11.728336334228516,0.6674258708953857,-2.4318642616271973,12.127087593078613,-10.761244773864746,14.747739791870117,-2.8292200565338135,13.987076759338379,14.233612060546875,-3.2441022396087646,-9.282997131347656,7.415369510650635,2.833460807800293,-8.229146957397461,-8.742125511169434,3.355923891067505,-5.169376373291016,-13.614745140075684,-4.201981544494629,-4.815874099731445,-0.7072792649269104,-7.529171466827393,2.0787065029144287,4.008835792541504,13.464836120605469,9.587247848510742,-0.9529443979263306,-1.837183952331543,13.839244842529297,-2.789592742919922,-1.8461238145828247,-4.897990703582764,13.757408142089844,12.14095401763916,3.838141918182373,8.924063682556152,-5.223270893096924,-3.9598894119262695,-4.637881278991699,2.5771727561950684,-8.694905281066895,-3.306497812271118,7.950248718261719,12.175948143005371,-9.19517993927002,-5.005685806274414,-0.9170247912406921,-0.2978931963443756,-9.072452545166016,-11.738585472106934,1.927175760269165,-8.218100547790527,15.83372974395752,15.627123832702637,2.159357786178589,-4.1048264503479,8.679427146911621,-2.4628708362579346,10.697427749633789,-7.279502868652344,1.1645843982696533],\"type\":\"scatter3d\"}],                        {\"template\":{\"data\":{\"bar\":[{\"error_x\":{\"color\":\"#2a3f5f\"},\"error_y\":{\"color\":\"#2a3f5f\"},\"marker\":{\"line\":{\"color\":\"#E5ECF6\",\"width\":0.5},\"pattern\":{\"fillmode\":\"overlay\",\"size\":10,\"solidity\":0.2}},\"type\":\"bar\"}],\"barpolar\":[{\"marker\":{\"line\":{\"color\":\"#E5ECF6\",\"width\":0.5},\"pattern\":{\"fillmode\":\"overlay\",\"size\":10,\"solidity\":0.2}},\"type\":\"barpolar\"}],\"carpet\":[{\"aaxis\":{\"endlinecolor\":\"#2a3f5f\",\"gridcolor\":\"white\",\"linecolor\":\"white\",\"minorgridcolor\":\"white\",\"startlinecolor\":\"#2a3f5f\"},\"baxis\":{\"endlinecolor\":\"#2a3f5f\",\"gridcolor\":\"white\",\"linecolor\":\"white\",\"minorgridcolor\":\"white\",\"startlinecolor\":\"#2a3f5f\"},\"type\":\"carpet\"}],\"choropleth\":[{\"colorbar\":{\"outlinewidth\":0,\"ticks\":\"\"},\"type\":\"choropleth\"}],\"contour\":[{\"colorbar\":{\"outlinewidth\":0,\"ticks\":\"\"},\"colorscale\":[[0.0,\"#0d0887\"],[0.1111111111111111,\"#46039f\"],[0.2222222222222222,\"#7201a8\"],[0.3333333333333333,\"#9c179e\"],[0.4444444444444444,\"#bd3786\"],[0.5555555555555556,\"#d8576b\"],[0.6666666666666666,\"#ed7953\"],[0.7777777777777778,\"#fb9f3a\"],[0.8888888888888888,\"#fdca26\"],[1.0,\"#f0f921\"]],\"type\":\"contour\"}],\"contourcarpet\":[{\"colorbar\":{\"outlinewidth\":0,\"ticks\":\"\"},\"type\":\"contourcarpet\"}],\"heatmap\":[{\"colorbar\":{\"outlinewidth\":0,\"ticks\":\"\"},\"colorscale\":[[0.0,\"#0d0887\"],[0.1111111111111111,\"#46039f\"],[0.2222222222222222,\"#7201a8\"],[0.3333333333333333,\"#9c179e\"],[0.4444444444444444,\"#bd3786\"],[0.5555555555555556,\"#d8576b\"],[0.6666666666666666,\"#ed7953\"],[0.7777777777777778,\"#fb9f3a\"],[0.8888888888888888,\"#fdca26\"],[1.0,\"#f0f921\"]],\"type\":\"heatmap\"}],\"heatmapgl\":[{\"colorbar\":{\"outlinewidth\":0,\"ticks\":\"\"},\"colorscale\":[[0.0,\"#0d0887\"],[0.1111111111111111,\"#46039f\"],[0.2222222222222222,\"#7201a8\"],[0.3333333333333333,\"#9c179e\"],[0.4444444444444444,\"#bd3786\"],[0.5555555555555556,\"#d8576b\"],[0.6666666666666666,\"#ed7953\"],[0.7777777777777778,\"#fb9f3a\"],[0.8888888888888888,\"#fdca26\"],[1.0,\"#f0f921\"]],\"type\":\"heatmapgl\"}],\"histogram\":[{\"marker\":{\"pattern\":{\"fillmode\":\"overlay\",\"size\":10,\"solidity\":0.2}},\"type\":\"histogram\"}],\"histogram2d\":[{\"colorbar\":{\"outlinewidth\":0,\"ticks\":\"\"},\"colorscale\":[[0.0,\"#0d0887\"],[0.1111111111111111,\"#46039f\"],[0.2222222222222222,\"#7201a8\"],[0.3333333333333333,\"#9c179e\"],[0.4444444444444444,\"#bd3786\"],[0.5555555555555556,\"#d8576b\"],[0.6666666666666666,\"#ed7953\"],[0.7777777777777778,\"#fb9f3a\"],[0.8888888888888888,\"#fdca26\"],[1.0,\"#f0f921\"]],\"type\":\"histogram2d\"}],\"histogram2dcontour\":[{\"colorbar\":{\"outlinewidth\":0,\"ticks\":\"\"},\"colorscale\":[[0.0,\"#0d0887\"],[0.1111111111111111,\"#46039f\"],[0.2222222222222222,\"#7201a8\"],[0.3333333333333333,\"#9c179e\"],[0.4444444444444444,\"#bd3786\"],[0.5555555555555556,\"#d8576b\"],[0.6666666666666666,\"#ed7953\"],[0.7777777777777778,\"#fb9f3a\"],[0.8888888888888888,\"#fdca26\"],[1.0,\"#f0f921\"]],\"type\":\"histogram2dcontour\"}],\"mesh3d\":[{\"colorbar\":{\"outlinewidth\":0,\"ticks\":\"\"},\"type\":\"mesh3d\"}],\"parcoords\":[{\"line\":{\"colorbar\":{\"outlinewidth\":0,\"ticks\":\"\"}},\"type\":\"parcoords\"}],\"pie\":[{\"automargin\":true,\"type\":\"pie\"}],\"scatter\":[{\"marker\":{\"colorbar\":{\"outlinewidth\":0,\"ticks\":\"\"}},\"type\":\"scatter\"}],\"scatter3d\":[{\"line\":{\"colorbar\":{\"outlinewidth\":0,\"ticks\":\"\"}},\"marker\":{\"colorbar\":{\"outlinewidth\":0,\"ticks\":\"\"}},\"type\":\"scatter3d\"}],\"scattercarpet\":[{\"marker\":{\"colorbar\":{\"outlinewidth\":0,\"ticks\":\"\"}},\"type\":\"scattercarpet\"}],\"scattergeo\":[{\"marker\":{\"colorbar\":{\"outlinewidth\":0,\"ticks\":\"\"}},\"type\":\"scattergeo\"}],\"scattergl\":[{\"marker\":{\"colorbar\":{\"outlinewidth\":0,\"ticks\":\"\"}},\"type\":\"scattergl\"}],\"scattermapbox\":[{\"marker\":{\"colorbar\":{\"outlinewidth\":0,\"ticks\":\"\"}},\"type\":\"scattermapbox\"}],\"scatterpolar\":[{\"marker\":{\"colorbar\":{\"outlinewidth\":0,\"ticks\":\"\"}},\"type\":\"scatterpolar\"}],\"scatterpolargl\":[{\"marker\":{\"colorbar\":{\"outlinewidth\":0,\"ticks\":\"\"}},\"type\":\"scatterpolargl\"}],\"scatterternary\":[{\"marker\":{\"colorbar\":{\"outlinewidth\":0,\"ticks\":\"\"}},\"type\":\"scatterternary\"}],\"surface\":[{\"colorbar\":{\"outlinewidth\":0,\"ticks\":\"\"},\"colorscale\":[[0.0,\"#0d0887\"],[0.1111111111111111,\"#46039f\"],[0.2222222222222222,\"#7201a8\"],[0.3333333333333333,\"#9c179e\"],[0.4444444444444444,\"#bd3786\"],[0.5555555555555556,\"#d8576b\"],[0.6666666666666666,\"#ed7953\"],[0.7777777777777778,\"#fb9f3a\"],[0.8888888888888888,\"#fdca26\"],[1.0,\"#f0f921\"]],\"type\":\"surface\"}],\"table\":[{\"cells\":{\"fill\":{\"color\":\"#EBF0F8\"},\"line\":{\"color\":\"white\"}},\"header\":{\"fill\":{\"color\":\"#C8D4E3\"},\"line\":{\"color\":\"white\"}},\"type\":\"table\"}]},\"layout\":{\"annotationdefaults\":{\"arrowcolor\":\"#2a3f5f\",\"arrowhead\":0,\"arrowwidth\":1},\"autotypenumbers\":\"strict\",\"coloraxis\":{\"colorbar\":{\"outlinewidth\":0,\"ticks\":\"\"}},\"colorscale\":{\"diverging\":[[0,\"#8e0152\"],[0.1,\"#c51b7d\"],[0.2,\"#de77ae\"],[0.3,\"#f1b6da\"],[0.4,\"#fde0ef\"],[0.5,\"#f7f7f7\"],[0.6,\"#e6f5d0\"],[0.7,\"#b8e186\"],[0.8,\"#7fbc41\"],[0.9,\"#4d9221\"],[1,\"#276419\"]],\"sequential\":[[0.0,\"#0d0887\"],[0.1111111111111111,\"#46039f\"],[0.2222222222222222,\"#7201a8\"],[0.3333333333333333,\"#9c179e\"],[0.4444444444444444,\"#bd3786\"],[0.5555555555555556,\"#d8576b\"],[0.6666666666666666,\"#ed7953\"],[0.7777777777777778,\"#fb9f3a\"],[0.8888888888888888,\"#fdca26\"],[1.0,\"#f0f921\"]],\"sequentialminus\":[[0.0,\"#0d0887\"],[0.1111111111111111,\"#46039f\"],[0.2222222222222222,\"#7201a8\"],[0.3333333333333333,\"#9c179e\"],[0.4444444444444444,\"#bd3786\"],[0.5555555555555556,\"#d8576b\"],[0.6666666666666666,\"#ed7953\"],[0.7777777777777778,\"#fb9f3a\"],[0.8888888888888888,\"#fdca26\"],[1.0,\"#f0f921\"]]},\"colorway\":[\"#636efa\",\"#EF553B\",\"#00cc96\",\"#ab63fa\",\"#FFA15A\",\"#19d3f3\",\"#FF6692\",\"#B6E880\",\"#FF97FF\",\"#FECB52\"],\"font\":{\"color\":\"#2a3f5f\"},\"geo\":{\"bgcolor\":\"white\",\"lakecolor\":\"white\",\"landcolor\":\"#E5ECF6\",\"showlakes\":true,\"showland\":true,\"subunitcolor\":\"white\"},\"hoverlabel\":{\"align\":\"left\"},\"hovermode\":\"closest\",\"mapbox\":{\"style\":\"light\"},\"paper_bgcolor\":\"white\",\"plot_bgcolor\":\"#E5ECF6\",\"polar\":{\"angularaxis\":{\"gridcolor\":\"white\",\"linecolor\":\"white\",\"ticks\":\"\"},\"bgcolor\":\"#E5ECF6\",\"radialaxis\":{\"gridcolor\":\"white\",\"linecolor\":\"white\",\"ticks\":\"\"}},\"scene\":{\"xaxis\":{\"backgroundcolor\":\"#E5ECF6\",\"gridcolor\":\"white\",\"gridwidth\":2,\"linecolor\":\"white\",\"showbackground\":true,\"ticks\":\"\",\"zerolinecolor\":\"white\"},\"yaxis\":{\"backgroundcolor\":\"#E5ECF6\",\"gridcolor\":\"white\",\"gridwidth\":2,\"linecolor\":\"white\",\"showbackground\":true,\"ticks\":\"\",\"zerolinecolor\":\"white\"},\"zaxis\":{\"backgroundcolor\":\"#E5ECF6\",\"gridcolor\":\"white\",\"gridwidth\":2,\"linecolor\":\"white\",\"showbackground\":true,\"ticks\":\"\",\"zerolinecolor\":\"white\"}},\"shapedefaults\":{\"line\":{\"color\":\"#2a3f5f\"}},\"ternary\":{\"aaxis\":{\"gridcolor\":\"white\",\"linecolor\":\"white\",\"ticks\":\"\"},\"baxis\":{\"gridcolor\":\"white\",\"linecolor\":\"white\",\"ticks\":\"\"},\"bgcolor\":\"#E5ECF6\",\"caxis\":{\"gridcolor\":\"white\",\"linecolor\":\"white\",\"ticks\":\"\"}},\"title\":{\"x\":0.05},\"xaxis\":{\"automargin\":true,\"gridcolor\":\"white\",\"linecolor\":\"white\",\"ticks\":\"\",\"title\":{\"standoff\":15},\"zerolinecolor\":\"white\",\"zerolinewidth\":2},\"yaxis\":{\"automargin\":true,\"gridcolor\":\"white\",\"linecolor\":\"white\",\"ticks\":\"\",\"title\":{\"standoff\":15},\"zerolinecolor\":\"white\",\"zerolinewidth\":2}}},\"scene\":{\"domain\":{\"x\":[0.0,1.0],\"y\":[0.0,1.0]},\"xaxis\":{\"title\":{\"text\":\"0\"}},\"yaxis\":{\"title\":{\"text\":\"1\"}},\"zaxis\":{\"title\":{\"text\":\"2\"}}},\"coloraxis\":{\"colorbar\":{\"title\":{\"text\":\"Label\"}},\"colorscale\":[[0.0,\"#0d0887\"],[0.1111111111111111,\"#46039f\"],[0.2222222222222222,\"#7201a8\"],[0.3333333333333333,\"#9c179e\"],[0.4444444444444444,\"#bd3786\"],[0.5555555555555556,\"#d8576b\"],[0.6666666666666666,\"#ed7953\"],[0.7777777777777778,\"#fb9f3a\"],[0.8888888888888888,\"#fdca26\"],[1.0,\"#f0f921\"]]},\"legend\":{\"tracegroupgap\":0},\"title\":{\"text\":\"3d TSNE Plot for Outliers\"},\"height\":800,\"width\":900},                        {\"responsive\": true}                    ).then(function(){\n",
              "                            \n",
              "var gd = document.getElementById('f10d6877-1d5d-46d7-94bf-534c7da89e79');\n",
              "var x = new MutationObserver(function (mutations, observer) {{\n",
              "        var display = window.getComputedStyle(gd).display;\n",
              "        if (!display || display === 'none') {{\n",
              "            console.log([gd, 'removed!']);\n",
              "            Plotly.purge(gd);\n",
              "            observer.disconnect();\n",
              "        }}\n",
              "}});\n",
              "\n",
              "// Listen for the removal of the full notebook cells\n",
              "var notebookContainer = gd.closest('#notebook-container');\n",
              "if (notebookContainer) {{\n",
              "    x.observe(notebookContainer, {childList: true});\n",
              "}}\n",
              "\n",
              "// Listen for the clearing of the current output cell\n",
              "var outputEl = gd.closest('.output');\n",
              "if (outputEl) {{\n",
              "    x.observe(outputEl, {childList: true});\n",
              "}}\n",
              "\n",
              "                        })                };                });            </script>        </div>"
            ]
          },
          "metadata": {}
        },
        {
          "output_type": "stream",
          "name": "stderr",
          "text": [
            "INFO:logs:Visual Rendered Successfully\n",
            "INFO:logs:plot_model() succesfully completed......................................\n"
          ]
        }
      ]
    },
    {
      "cell_type": "code",
      "source": [
        "knn_predictions = predict_model(knn, data = anomaly)\n",
        "knn_predictions\n"
      ],
      "metadata": {
        "colab": {
          "base_uri": "https://localhost:8080/",
          "height": 423
        },
        "id": "vTwTIZcTcSN4",
        "outputId": "3dddc40b-b8f5-4675-8608-e775edd6bdae"
      },
      "execution_count": 9,
      "outputs": [
        {
          "output_type": "execute_result",
          "data": {
            "text/plain": [
              "         Col1      Col2      Col3      Col4      Col5      Col6      Col7  \\\n",
              "0    0.263995  0.764929  0.138424  0.935242  0.605867  0.518790  0.912225   \n",
              "1    0.546092  0.653975  0.065575  0.227772  0.845269  0.837066  0.272379   \n",
              "2    0.336714  0.538842  0.192801  0.553563  0.074515  0.332993  0.365792   \n",
              "3    0.092108  0.995017  0.014465  0.176371  0.241530  0.514724  0.562208   \n",
              "4    0.325261  0.805968  0.957033  0.331665  0.307923  0.355315  0.501899   \n",
              "..        ...       ...       ...       ...       ...       ...       ...   \n",
              "995  0.305055  0.656837  0.331665  0.822525  0.907127  0.882276  0.855732   \n",
              "996  0.812627  0.864258  0.616604  0.167966  0.811223  0.938071  0.418462   \n",
              "997  0.250967  0.138627  0.919703  0.461234  0.886555  0.869888  0.800908   \n",
              "998  0.502436  0.936820  0.580062  0.540773  0.151995  0.059452  0.225220   \n",
              "999  0.457991  0.017755  0.714113  0.125992  0.063316  0.154739  0.922974   \n",
              "\n",
              "         Col8      Col9     Col10  Label     Score  \n",
              "0    0.608234  0.723782  0.733591      0  0.558927  \n",
              "1    0.331679  0.429297  0.367422      0  0.477482  \n",
              "2    0.861309  0.899017  0.088600      0  0.676207  \n",
              "3    0.158963  0.073715  0.208463      1  0.804769  \n",
              "4    0.558449  0.885169  0.182754      0  0.630836  \n",
              "..        ...       ...       ...    ...       ...  \n",
              "995  0.584786  0.808640  0.242762      0  0.266822  \n",
              "996  0.472306  0.348347  0.671129      0  0.403480  \n",
              "997  0.530324  0.779433  0.234952      0  0.337727  \n",
              "998  0.242755  0.279385  0.538755      0  0.300265  \n",
              "999  0.692299  0.816777  0.307592      0  0.367867  \n",
              "\n",
              "[1000 rows x 12 columns]"
            ],
            "text/html": [
              "\n",
              "  <div id=\"df-077a3f0b-ea26-4a6c-b7aa-9cf5a730942d\">\n",
              "    <div class=\"colab-df-container\">\n",
              "      <div>\n",
              "<style scoped>\n",
              "    .dataframe tbody tr th:only-of-type {\n",
              "        vertical-align: middle;\n",
              "    }\n",
              "\n",
              "    .dataframe tbody tr th {\n",
              "        vertical-align: top;\n",
              "    }\n",
              "\n",
              "    .dataframe thead th {\n",
              "        text-align: right;\n",
              "    }\n",
              "</style>\n",
              "<table border=\"1\" class=\"dataframe\">\n",
              "  <thead>\n",
              "    <tr style=\"text-align: right;\">\n",
              "      <th></th>\n",
              "      <th>Col1</th>\n",
              "      <th>Col2</th>\n",
              "      <th>Col3</th>\n",
              "      <th>Col4</th>\n",
              "      <th>Col5</th>\n",
              "      <th>Col6</th>\n",
              "      <th>Col7</th>\n",
              "      <th>Col8</th>\n",
              "      <th>Col9</th>\n",
              "      <th>Col10</th>\n",
              "      <th>Label</th>\n",
              "      <th>Score</th>\n",
              "    </tr>\n",
              "  </thead>\n",
              "  <tbody>\n",
              "    <tr>\n",
              "      <th>0</th>\n",
              "      <td>0.263995</td>\n",
              "      <td>0.764929</td>\n",
              "      <td>0.138424</td>\n",
              "      <td>0.935242</td>\n",
              "      <td>0.605867</td>\n",
              "      <td>0.518790</td>\n",
              "      <td>0.912225</td>\n",
              "      <td>0.608234</td>\n",
              "      <td>0.723782</td>\n",
              "      <td>0.733591</td>\n",
              "      <td>0</td>\n",
              "      <td>0.558927</td>\n",
              "    </tr>\n",
              "    <tr>\n",
              "      <th>1</th>\n",
              "      <td>0.546092</td>\n",
              "      <td>0.653975</td>\n",
              "      <td>0.065575</td>\n",
              "      <td>0.227772</td>\n",
              "      <td>0.845269</td>\n",
              "      <td>0.837066</td>\n",
              "      <td>0.272379</td>\n",
              "      <td>0.331679</td>\n",
              "      <td>0.429297</td>\n",
              "      <td>0.367422</td>\n",
              "      <td>0</td>\n",
              "      <td>0.477482</td>\n",
              "    </tr>\n",
              "    <tr>\n",
              "      <th>2</th>\n",
              "      <td>0.336714</td>\n",
              "      <td>0.538842</td>\n",
              "      <td>0.192801</td>\n",
              "      <td>0.553563</td>\n",
              "      <td>0.074515</td>\n",
              "      <td>0.332993</td>\n",
              "      <td>0.365792</td>\n",
              "      <td>0.861309</td>\n",
              "      <td>0.899017</td>\n",
              "      <td>0.088600</td>\n",
              "      <td>0</td>\n",
              "      <td>0.676207</td>\n",
              "    </tr>\n",
              "    <tr>\n",
              "      <th>3</th>\n",
              "      <td>0.092108</td>\n",
              "      <td>0.995017</td>\n",
              "      <td>0.014465</td>\n",
              "      <td>0.176371</td>\n",
              "      <td>0.241530</td>\n",
              "      <td>0.514724</td>\n",
              "      <td>0.562208</td>\n",
              "      <td>0.158963</td>\n",
              "      <td>0.073715</td>\n",
              "      <td>0.208463</td>\n",
              "      <td>1</td>\n",
              "      <td>0.804769</td>\n",
              "    </tr>\n",
              "    <tr>\n",
              "      <th>4</th>\n",
              "      <td>0.325261</td>\n",
              "      <td>0.805968</td>\n",
              "      <td>0.957033</td>\n",
              "      <td>0.331665</td>\n",
              "      <td>0.307923</td>\n",
              "      <td>0.355315</td>\n",
              "      <td>0.501899</td>\n",
              "      <td>0.558449</td>\n",
              "      <td>0.885169</td>\n",
              "      <td>0.182754</td>\n",
              "      <td>0</td>\n",
              "      <td>0.630836</td>\n",
              "    </tr>\n",
              "    <tr>\n",
              "      <th>...</th>\n",
              "      <td>...</td>\n",
              "      <td>...</td>\n",
              "      <td>...</td>\n",
              "      <td>...</td>\n",
              "      <td>...</td>\n",
              "      <td>...</td>\n",
              "      <td>...</td>\n",
              "      <td>...</td>\n",
              "      <td>...</td>\n",
              "      <td>...</td>\n",
              "      <td>...</td>\n",
              "      <td>...</td>\n",
              "    </tr>\n",
              "    <tr>\n",
              "      <th>995</th>\n",
              "      <td>0.305055</td>\n",
              "      <td>0.656837</td>\n",
              "      <td>0.331665</td>\n",
              "      <td>0.822525</td>\n",
              "      <td>0.907127</td>\n",
              "      <td>0.882276</td>\n",
              "      <td>0.855732</td>\n",
              "      <td>0.584786</td>\n",
              "      <td>0.808640</td>\n",
              "      <td>0.242762</td>\n",
              "      <td>0</td>\n",
              "      <td>0.266822</td>\n",
              "    </tr>\n",
              "    <tr>\n",
              "      <th>996</th>\n",
              "      <td>0.812627</td>\n",
              "      <td>0.864258</td>\n",
              "      <td>0.616604</td>\n",
              "      <td>0.167966</td>\n",
              "      <td>0.811223</td>\n",
              "      <td>0.938071</td>\n",
              "      <td>0.418462</td>\n",
              "      <td>0.472306</td>\n",
              "      <td>0.348347</td>\n",
              "      <td>0.671129</td>\n",
              "      <td>0</td>\n",
              "      <td>0.403480</td>\n",
              "    </tr>\n",
              "    <tr>\n",
              "      <th>997</th>\n",
              "      <td>0.250967</td>\n",
              "      <td>0.138627</td>\n",
              "      <td>0.919703</td>\n",
              "      <td>0.461234</td>\n",
              "      <td>0.886555</td>\n",
              "      <td>0.869888</td>\n",
              "      <td>0.800908</td>\n",
              "      <td>0.530324</td>\n",
              "      <td>0.779433</td>\n",
              "      <td>0.234952</td>\n",
              "      <td>0</td>\n",
              "      <td>0.337727</td>\n",
              "    </tr>\n",
              "    <tr>\n",
              "      <th>998</th>\n",
              "      <td>0.502436</td>\n",
              "      <td>0.936820</td>\n",
              "      <td>0.580062</td>\n",
              "      <td>0.540773</td>\n",
              "      <td>0.151995</td>\n",
              "      <td>0.059452</td>\n",
              "      <td>0.225220</td>\n",
              "      <td>0.242755</td>\n",
              "      <td>0.279385</td>\n",
              "      <td>0.538755</td>\n",
              "      <td>0</td>\n",
              "      <td>0.300265</td>\n",
              "    </tr>\n",
              "    <tr>\n",
              "      <th>999</th>\n",
              "      <td>0.457991</td>\n",
              "      <td>0.017755</td>\n",
              "      <td>0.714113</td>\n",
              "      <td>0.125992</td>\n",
              "      <td>0.063316</td>\n",
              "      <td>0.154739</td>\n",
              "      <td>0.922974</td>\n",
              "      <td>0.692299</td>\n",
              "      <td>0.816777</td>\n",
              "      <td>0.307592</td>\n",
              "      <td>0</td>\n",
              "      <td>0.367867</td>\n",
              "    </tr>\n",
              "  </tbody>\n",
              "</table>\n",
              "<p>1000 rows × 12 columns</p>\n",
              "</div>\n",
              "      <button class=\"colab-df-convert\" onclick=\"convertToInteractive('df-077a3f0b-ea26-4a6c-b7aa-9cf5a730942d')\"\n",
              "              title=\"Convert this dataframe to an interactive table.\"\n",
              "              style=\"display:none;\">\n",
              "        \n",
              "  <svg xmlns=\"http://www.w3.org/2000/svg\" height=\"24px\"viewBox=\"0 0 24 24\"\n",
              "       width=\"24px\">\n",
              "    <path d=\"M0 0h24v24H0V0z\" fill=\"none\"/>\n",
              "    <path d=\"M18.56 5.44l.94 2.06.94-2.06 2.06-.94-2.06-.94-.94-2.06-.94 2.06-2.06.94zm-11 1L8.5 8.5l.94-2.06 2.06-.94-2.06-.94L8.5 2.5l-.94 2.06-2.06.94zm10 10l.94 2.06.94-2.06 2.06-.94-2.06-.94-.94-2.06-.94 2.06-2.06.94z\"/><path d=\"M17.41 7.96l-1.37-1.37c-.4-.4-.92-.59-1.43-.59-.52 0-1.04.2-1.43.59L10.3 9.45l-7.72 7.72c-.78.78-.78 2.05 0 2.83L4 21.41c.39.39.9.59 1.41.59.51 0 1.02-.2 1.41-.59l7.78-7.78 2.81-2.81c.8-.78.8-2.07 0-2.86zM5.41 20L4 18.59l7.72-7.72 1.47 1.35L5.41 20z\"/>\n",
              "  </svg>\n",
              "      </button>\n",
              "      \n",
              "  <style>\n",
              "    .colab-df-container {\n",
              "      display:flex;\n",
              "      flex-wrap:wrap;\n",
              "      gap: 12px;\n",
              "    }\n",
              "\n",
              "    .colab-df-convert {\n",
              "      background-color: #E8F0FE;\n",
              "      border: none;\n",
              "      border-radius: 50%;\n",
              "      cursor: pointer;\n",
              "      display: none;\n",
              "      fill: #1967D2;\n",
              "      height: 32px;\n",
              "      padding: 0 0 0 0;\n",
              "      width: 32px;\n",
              "    }\n",
              "\n",
              "    .colab-df-convert:hover {\n",
              "      background-color: #E2EBFA;\n",
              "      box-shadow: 0px 1px 2px rgba(60, 64, 67, 0.3), 0px 1px 3px 1px rgba(60, 64, 67, 0.15);\n",
              "      fill: #174EA6;\n",
              "    }\n",
              "\n",
              "    [theme=dark] .colab-df-convert {\n",
              "      background-color: #3B4455;\n",
              "      fill: #D2E3FC;\n",
              "    }\n",
              "\n",
              "    [theme=dark] .colab-df-convert:hover {\n",
              "      background-color: #434B5C;\n",
              "      box-shadow: 0px 1px 3px 1px rgba(0, 0, 0, 0.15);\n",
              "      filter: drop-shadow(0px 1px 2px rgba(0, 0, 0, 0.3));\n",
              "      fill: #FFFFFF;\n",
              "    }\n",
              "  </style>\n",
              "\n",
              "      <script>\n",
              "        const buttonEl =\n",
              "          document.querySelector('#df-077a3f0b-ea26-4a6c-b7aa-9cf5a730942d button.colab-df-convert');\n",
              "        buttonEl.style.display =\n",
              "          google.colab.kernel.accessAllowed ? 'block' : 'none';\n",
              "\n",
              "        async function convertToInteractive(key) {\n",
              "          const element = document.querySelector('#df-077a3f0b-ea26-4a6c-b7aa-9cf5a730942d');\n",
              "          const dataTable =\n",
              "            await google.colab.kernel.invokeFunction('convertToInteractive',\n",
              "                                                     [key], {});\n",
              "          if (!dataTable) return;\n",
              "\n",
              "          const docLinkHtml = 'Like what you see? Visit the ' +\n",
              "            '<a target=\"_blank\" href=https://colab.research.google.com/notebooks/data_table.ipynb>data table notebook</a>'\n",
              "            + ' to learn more about interactive tables.';\n",
              "          element.innerHTML = '';\n",
              "          dataTable['output_type'] = 'display_data';\n",
              "          await google.colab.output.renderOutput(dataTable, element);\n",
              "          const docLink = document.createElement('div');\n",
              "          docLink.innerHTML = docLinkHtml;\n",
              "          element.appendChild(docLink);\n",
              "        }\n",
              "      </script>\n",
              "    </div>\n",
              "  </div>\n",
              "  "
            ]
          },
          "metadata": {},
          "execution_count": 9
        }
      ]
    },
    {
      "cell_type": "code",
      "source": [
        "import pandas as pd\n",
        "df1=pd.DataFrame(knn_predictions)"
      ],
      "metadata": {
        "id": "lBBif7YGcflf"
      },
      "execution_count": 19,
      "outputs": []
    },
    {
      "cell_type": "code",
      "source": [
        "df1"
      ],
      "metadata": {
        "colab": {
          "base_uri": "https://localhost:8080/",
          "height": 423
        },
        "id": "k6QipW_tc4G7",
        "outputId": "414a99bb-7725-449c-f6ad-f10c42dfab16"
      },
      "execution_count": 20,
      "outputs": [
        {
          "output_type": "execute_result",
          "data": {
            "text/plain": [
              "         Col1      Col2      Col3      Col4      Col5      Col6      Col7  \\\n",
              "0    0.263995  0.764929  0.138424  0.935242  0.605867  0.518790  0.912225   \n",
              "1    0.546092  0.653975  0.065575  0.227772  0.845269  0.837066  0.272379   \n",
              "2    0.336714  0.538842  0.192801  0.553563  0.074515  0.332993  0.365792   \n",
              "3    0.092108  0.995017  0.014465  0.176371  0.241530  0.514724  0.562208   \n",
              "4    0.325261  0.805968  0.957033  0.331665  0.307923  0.355315  0.501899   \n",
              "..        ...       ...       ...       ...       ...       ...       ...   \n",
              "995  0.305055  0.656837  0.331665  0.822525  0.907127  0.882276  0.855732   \n",
              "996  0.812627  0.864258  0.616604  0.167966  0.811223  0.938071  0.418462   \n",
              "997  0.250967  0.138627  0.919703  0.461234  0.886555  0.869888  0.800908   \n",
              "998  0.502436  0.936820  0.580062  0.540773  0.151995  0.059452  0.225220   \n",
              "999  0.457991  0.017755  0.714113  0.125992  0.063316  0.154739  0.922974   \n",
              "\n",
              "         Col8      Col9     Col10  Label     Score  \n",
              "0    0.608234  0.723782  0.733591      0  0.558927  \n",
              "1    0.331679  0.429297  0.367422      0  0.477482  \n",
              "2    0.861309  0.899017  0.088600      0  0.676207  \n",
              "3    0.158963  0.073715  0.208463      1  0.804769  \n",
              "4    0.558449  0.885169  0.182754      0  0.630836  \n",
              "..        ...       ...       ...    ...       ...  \n",
              "995  0.584786  0.808640  0.242762      0  0.266822  \n",
              "996  0.472306  0.348347  0.671129      0  0.403480  \n",
              "997  0.530324  0.779433  0.234952      0  0.337727  \n",
              "998  0.242755  0.279385  0.538755      0  0.300265  \n",
              "999  0.692299  0.816777  0.307592      0  0.367867  \n",
              "\n",
              "[1000 rows x 12 columns]"
            ],
            "text/html": [
              "\n",
              "  <div id=\"df-8a474768-ec44-4835-84df-da5ce5107c44\">\n",
              "    <div class=\"colab-df-container\">\n",
              "      <div>\n",
              "<style scoped>\n",
              "    .dataframe tbody tr th:only-of-type {\n",
              "        vertical-align: middle;\n",
              "    }\n",
              "\n",
              "    .dataframe tbody tr th {\n",
              "        vertical-align: top;\n",
              "    }\n",
              "\n",
              "    .dataframe thead th {\n",
              "        text-align: right;\n",
              "    }\n",
              "</style>\n",
              "<table border=\"1\" class=\"dataframe\">\n",
              "  <thead>\n",
              "    <tr style=\"text-align: right;\">\n",
              "      <th></th>\n",
              "      <th>Col1</th>\n",
              "      <th>Col2</th>\n",
              "      <th>Col3</th>\n",
              "      <th>Col4</th>\n",
              "      <th>Col5</th>\n",
              "      <th>Col6</th>\n",
              "      <th>Col7</th>\n",
              "      <th>Col8</th>\n",
              "      <th>Col9</th>\n",
              "      <th>Col10</th>\n",
              "      <th>Label</th>\n",
              "      <th>Score</th>\n",
              "    </tr>\n",
              "  </thead>\n",
              "  <tbody>\n",
              "    <tr>\n",
              "      <th>0</th>\n",
              "      <td>0.263995</td>\n",
              "      <td>0.764929</td>\n",
              "      <td>0.138424</td>\n",
              "      <td>0.935242</td>\n",
              "      <td>0.605867</td>\n",
              "      <td>0.518790</td>\n",
              "      <td>0.912225</td>\n",
              "      <td>0.608234</td>\n",
              "      <td>0.723782</td>\n",
              "      <td>0.733591</td>\n",
              "      <td>0</td>\n",
              "      <td>0.558927</td>\n",
              "    </tr>\n",
              "    <tr>\n",
              "      <th>1</th>\n",
              "      <td>0.546092</td>\n",
              "      <td>0.653975</td>\n",
              "      <td>0.065575</td>\n",
              "      <td>0.227772</td>\n",
              "      <td>0.845269</td>\n",
              "      <td>0.837066</td>\n",
              "      <td>0.272379</td>\n",
              "      <td>0.331679</td>\n",
              "      <td>0.429297</td>\n",
              "      <td>0.367422</td>\n",
              "      <td>0</td>\n",
              "      <td>0.477482</td>\n",
              "    </tr>\n",
              "    <tr>\n",
              "      <th>2</th>\n",
              "      <td>0.336714</td>\n",
              "      <td>0.538842</td>\n",
              "      <td>0.192801</td>\n",
              "      <td>0.553563</td>\n",
              "      <td>0.074515</td>\n",
              "      <td>0.332993</td>\n",
              "      <td>0.365792</td>\n",
              "      <td>0.861309</td>\n",
              "      <td>0.899017</td>\n",
              "      <td>0.088600</td>\n",
              "      <td>0</td>\n",
              "      <td>0.676207</td>\n",
              "    </tr>\n",
              "    <tr>\n",
              "      <th>3</th>\n",
              "      <td>0.092108</td>\n",
              "      <td>0.995017</td>\n",
              "      <td>0.014465</td>\n",
              "      <td>0.176371</td>\n",
              "      <td>0.241530</td>\n",
              "      <td>0.514724</td>\n",
              "      <td>0.562208</td>\n",
              "      <td>0.158963</td>\n",
              "      <td>0.073715</td>\n",
              "      <td>0.208463</td>\n",
              "      <td>1</td>\n",
              "      <td>0.804769</td>\n",
              "    </tr>\n",
              "    <tr>\n",
              "      <th>4</th>\n",
              "      <td>0.325261</td>\n",
              "      <td>0.805968</td>\n",
              "      <td>0.957033</td>\n",
              "      <td>0.331665</td>\n",
              "      <td>0.307923</td>\n",
              "      <td>0.355315</td>\n",
              "      <td>0.501899</td>\n",
              "      <td>0.558449</td>\n",
              "      <td>0.885169</td>\n",
              "      <td>0.182754</td>\n",
              "      <td>0</td>\n",
              "      <td>0.630836</td>\n",
              "    </tr>\n",
              "    <tr>\n",
              "      <th>...</th>\n",
              "      <td>...</td>\n",
              "      <td>...</td>\n",
              "      <td>...</td>\n",
              "      <td>...</td>\n",
              "      <td>...</td>\n",
              "      <td>...</td>\n",
              "      <td>...</td>\n",
              "      <td>...</td>\n",
              "      <td>...</td>\n",
              "      <td>...</td>\n",
              "      <td>...</td>\n",
              "      <td>...</td>\n",
              "    </tr>\n",
              "    <tr>\n",
              "      <th>995</th>\n",
              "      <td>0.305055</td>\n",
              "      <td>0.656837</td>\n",
              "      <td>0.331665</td>\n",
              "      <td>0.822525</td>\n",
              "      <td>0.907127</td>\n",
              "      <td>0.882276</td>\n",
              "      <td>0.855732</td>\n",
              "      <td>0.584786</td>\n",
              "      <td>0.808640</td>\n",
              "      <td>0.242762</td>\n",
              "      <td>0</td>\n",
              "      <td>0.266822</td>\n",
              "    </tr>\n",
              "    <tr>\n",
              "      <th>996</th>\n",
              "      <td>0.812627</td>\n",
              "      <td>0.864258</td>\n",
              "      <td>0.616604</td>\n",
              "      <td>0.167966</td>\n",
              "      <td>0.811223</td>\n",
              "      <td>0.938071</td>\n",
              "      <td>0.418462</td>\n",
              "      <td>0.472306</td>\n",
              "      <td>0.348347</td>\n",
              "      <td>0.671129</td>\n",
              "      <td>0</td>\n",
              "      <td>0.403480</td>\n",
              "    </tr>\n",
              "    <tr>\n",
              "      <th>997</th>\n",
              "      <td>0.250967</td>\n",
              "      <td>0.138627</td>\n",
              "      <td>0.919703</td>\n",
              "      <td>0.461234</td>\n",
              "      <td>0.886555</td>\n",
              "      <td>0.869888</td>\n",
              "      <td>0.800908</td>\n",
              "      <td>0.530324</td>\n",
              "      <td>0.779433</td>\n",
              "      <td>0.234952</td>\n",
              "      <td>0</td>\n",
              "      <td>0.337727</td>\n",
              "    </tr>\n",
              "    <tr>\n",
              "      <th>998</th>\n",
              "      <td>0.502436</td>\n",
              "      <td>0.936820</td>\n",
              "      <td>0.580062</td>\n",
              "      <td>0.540773</td>\n",
              "      <td>0.151995</td>\n",
              "      <td>0.059452</td>\n",
              "      <td>0.225220</td>\n",
              "      <td>0.242755</td>\n",
              "      <td>0.279385</td>\n",
              "      <td>0.538755</td>\n",
              "      <td>0</td>\n",
              "      <td>0.300265</td>\n",
              "    </tr>\n",
              "    <tr>\n",
              "      <th>999</th>\n",
              "      <td>0.457991</td>\n",
              "      <td>0.017755</td>\n",
              "      <td>0.714113</td>\n",
              "      <td>0.125992</td>\n",
              "      <td>0.063316</td>\n",
              "      <td>0.154739</td>\n",
              "      <td>0.922974</td>\n",
              "      <td>0.692299</td>\n",
              "      <td>0.816777</td>\n",
              "      <td>0.307592</td>\n",
              "      <td>0</td>\n",
              "      <td>0.367867</td>\n",
              "    </tr>\n",
              "  </tbody>\n",
              "</table>\n",
              "<p>1000 rows × 12 columns</p>\n",
              "</div>\n",
              "      <button class=\"colab-df-convert\" onclick=\"convertToInteractive('df-8a474768-ec44-4835-84df-da5ce5107c44')\"\n",
              "              title=\"Convert this dataframe to an interactive table.\"\n",
              "              style=\"display:none;\">\n",
              "        \n",
              "  <svg xmlns=\"http://www.w3.org/2000/svg\" height=\"24px\"viewBox=\"0 0 24 24\"\n",
              "       width=\"24px\">\n",
              "    <path d=\"M0 0h24v24H0V0z\" fill=\"none\"/>\n",
              "    <path d=\"M18.56 5.44l.94 2.06.94-2.06 2.06-.94-2.06-.94-.94-2.06-.94 2.06-2.06.94zm-11 1L8.5 8.5l.94-2.06 2.06-.94-2.06-.94L8.5 2.5l-.94 2.06-2.06.94zm10 10l.94 2.06.94-2.06 2.06-.94-2.06-.94-.94-2.06-.94 2.06-2.06.94z\"/><path d=\"M17.41 7.96l-1.37-1.37c-.4-.4-.92-.59-1.43-.59-.52 0-1.04.2-1.43.59L10.3 9.45l-7.72 7.72c-.78.78-.78 2.05 0 2.83L4 21.41c.39.39.9.59 1.41.59.51 0 1.02-.2 1.41-.59l7.78-7.78 2.81-2.81c.8-.78.8-2.07 0-2.86zM5.41 20L4 18.59l7.72-7.72 1.47 1.35L5.41 20z\"/>\n",
              "  </svg>\n",
              "      </button>\n",
              "      \n",
              "  <style>\n",
              "    .colab-df-container {\n",
              "      display:flex;\n",
              "      flex-wrap:wrap;\n",
              "      gap: 12px;\n",
              "    }\n",
              "\n",
              "    .colab-df-convert {\n",
              "      background-color: #E8F0FE;\n",
              "      border: none;\n",
              "      border-radius: 50%;\n",
              "      cursor: pointer;\n",
              "      display: none;\n",
              "      fill: #1967D2;\n",
              "      height: 32px;\n",
              "      padding: 0 0 0 0;\n",
              "      width: 32px;\n",
              "    }\n",
              "\n",
              "    .colab-df-convert:hover {\n",
              "      background-color: #E2EBFA;\n",
              "      box-shadow: 0px 1px 2px rgba(60, 64, 67, 0.3), 0px 1px 3px 1px rgba(60, 64, 67, 0.15);\n",
              "      fill: #174EA6;\n",
              "    }\n",
              "\n",
              "    [theme=dark] .colab-df-convert {\n",
              "      background-color: #3B4455;\n",
              "      fill: #D2E3FC;\n",
              "    }\n",
              "\n",
              "    [theme=dark] .colab-df-convert:hover {\n",
              "      background-color: #434B5C;\n",
              "      box-shadow: 0px 1px 3px 1px rgba(0, 0, 0, 0.15);\n",
              "      filter: drop-shadow(0px 1px 2px rgba(0, 0, 0, 0.3));\n",
              "      fill: #FFFFFF;\n",
              "    }\n",
              "  </style>\n",
              "\n",
              "      <script>\n",
              "        const buttonEl =\n",
              "          document.querySelector('#df-8a474768-ec44-4835-84df-da5ce5107c44 button.colab-df-convert');\n",
              "        buttonEl.style.display =\n",
              "          google.colab.kernel.accessAllowed ? 'block' : 'none';\n",
              "\n",
              "        async function convertToInteractive(key) {\n",
              "          const element = document.querySelector('#df-8a474768-ec44-4835-84df-da5ce5107c44');\n",
              "          const dataTable =\n",
              "            await google.colab.kernel.invokeFunction('convertToInteractive',\n",
              "                                                     [key], {});\n",
              "          if (!dataTable) return;\n",
              "\n",
              "          const docLinkHtml = 'Like what you see? Visit the ' +\n",
              "            '<a target=\"_blank\" href=https://colab.research.google.com/notebooks/data_table.ipynb>data table notebook</a>'\n",
              "            + ' to learn more about interactive tables.';\n",
              "          element.innerHTML = '';\n",
              "          dataTable['output_type'] = 'display_data';\n",
              "          await google.colab.output.renderOutput(dataTable, element);\n",
              "          const docLink = document.createElement('div');\n",
              "          docLink.innerHTML = docLinkHtml;\n",
              "          element.appendChild(docLink);\n",
              "        }\n",
              "      </script>\n",
              "    </div>\n",
              "  </div>\n",
              "  "
            ]
          },
          "metadata": {},
          "execution_count": 20
        }
      ]
    },
    {
      "cell_type": "code",
      "source": [
        "dd=df1.loc[df1['Label']==1,['Score','Col10']]"
      ],
      "metadata": {
        "id": "POeL2goOwtAB"
      },
      "execution_count": 31,
      "outputs": []
    },
    {
      "cell_type": "code",
      "source": [
        "dd"
      ],
      "metadata": {
        "colab": {
          "base_uri": "https://localhost:8080/",
          "height": 1000
        },
        "id": "fpEyPhWTyH5J",
        "outputId": "5c560984-0e34-440d-dee3-36bf8acbcb47"
      },
      "execution_count": 32,
      "outputs": [
        {
          "output_type": "execute_result",
          "data": {
            "text/plain": [
              "        Score     Col10\n",
              "3    0.804769  0.208463\n",
              "8    0.844047  0.891548\n",
              "9    0.732952  0.308864\n",
              "11   0.830877  0.028729\n",
              "13   0.681433  0.931074\n",
              "14   0.821167  0.305692\n",
              "15   0.718586  0.442781\n",
              "17   0.791093  0.292769\n",
              "18   0.775046  0.265761\n",
              "20   0.856567  0.982711\n",
              "23   0.771412  0.973370\n",
              "24   0.736651  0.857239\n",
              "25   0.762585  0.847391\n",
              "28   0.883633  0.844788\n",
              "29   0.811543  0.410017\n",
              "32   0.747046  0.959144\n",
              "33   0.805365  0.780929\n",
              "43   1.003388  0.842088\n",
              "45   0.756854  0.160779\n",
              "46   0.725131  0.442689\n",
              "48   0.686254  0.160792\n",
              "51   0.898323  0.301297\n",
              "53   0.831916  0.402991\n",
              "54   0.684209  0.641133\n",
              "55   0.809304  0.168724\n",
              "56   0.688223  0.498918\n",
              "59   0.797255  0.406505\n",
              "61   0.704791  0.422957\n",
              "63   0.758680  0.954650\n",
              "65   0.805728  0.277670\n",
              "700  0.847338  0.092027\n",
              "703  0.914955  0.967965\n",
              "707  0.761566  0.770444\n",
              "708  0.827384  0.179371\n",
              "709  0.724600  0.723326\n",
              "710  0.833990  0.508585\n",
              "712  0.719406  0.135646\n",
              "713  0.779267  0.942197\n",
              "716  0.706757  0.874111\n",
              "717  0.971632  0.116204\n",
              "718  0.815154  0.191021\n",
              "720  0.925821  0.215016\n",
              "722  0.823334  0.985357\n",
              "723  0.835272  0.093871\n",
              "724  0.891704  0.748238\n",
              "725  0.695102  0.812012"
            ],
            "text/html": [
              "\n",
              "  <div id=\"df-9521b3f6-4925-4923-bbb2-f2e420ad254b\">\n",
              "    <div class=\"colab-df-container\">\n",
              "      <div>\n",
              "<style scoped>\n",
              "    .dataframe tbody tr th:only-of-type {\n",
              "        vertical-align: middle;\n",
              "    }\n",
              "\n",
              "    .dataframe tbody tr th {\n",
              "        vertical-align: top;\n",
              "    }\n",
              "\n",
              "    .dataframe thead th {\n",
              "        text-align: right;\n",
              "    }\n",
              "</style>\n",
              "<table border=\"1\" class=\"dataframe\">\n",
              "  <thead>\n",
              "    <tr style=\"text-align: right;\">\n",
              "      <th></th>\n",
              "      <th>Score</th>\n",
              "      <th>Col10</th>\n",
              "    </tr>\n",
              "  </thead>\n",
              "  <tbody>\n",
              "    <tr>\n",
              "      <th>3</th>\n",
              "      <td>0.804769</td>\n",
              "      <td>0.208463</td>\n",
              "    </tr>\n",
              "    <tr>\n",
              "      <th>8</th>\n",
              "      <td>0.844047</td>\n",
              "      <td>0.891548</td>\n",
              "    </tr>\n",
              "    <tr>\n",
              "      <th>9</th>\n",
              "      <td>0.732952</td>\n",
              "      <td>0.308864</td>\n",
              "    </tr>\n",
              "    <tr>\n",
              "      <th>11</th>\n",
              "      <td>0.830877</td>\n",
              "      <td>0.028729</td>\n",
              "    </tr>\n",
              "    <tr>\n",
              "      <th>13</th>\n",
              "      <td>0.681433</td>\n",
              "      <td>0.931074</td>\n",
              "    </tr>\n",
              "    <tr>\n",
              "      <th>14</th>\n",
              "      <td>0.821167</td>\n",
              "      <td>0.305692</td>\n",
              "    </tr>\n",
              "    <tr>\n",
              "      <th>15</th>\n",
              "      <td>0.718586</td>\n",
              "      <td>0.442781</td>\n",
              "    </tr>\n",
              "    <tr>\n",
              "      <th>17</th>\n",
              "      <td>0.791093</td>\n",
              "      <td>0.292769</td>\n",
              "    </tr>\n",
              "    <tr>\n",
              "      <th>18</th>\n",
              "      <td>0.775046</td>\n",
              "      <td>0.265761</td>\n",
              "    </tr>\n",
              "    <tr>\n",
              "      <th>20</th>\n",
              "      <td>0.856567</td>\n",
              "      <td>0.982711</td>\n",
              "    </tr>\n",
              "    <tr>\n",
              "      <th>23</th>\n",
              "      <td>0.771412</td>\n",
              "      <td>0.973370</td>\n",
              "    </tr>\n",
              "    <tr>\n",
              "      <th>24</th>\n",
              "      <td>0.736651</td>\n",
              "      <td>0.857239</td>\n",
              "    </tr>\n",
              "    <tr>\n",
              "      <th>25</th>\n",
              "      <td>0.762585</td>\n",
              "      <td>0.847391</td>\n",
              "    </tr>\n",
              "    <tr>\n",
              "      <th>28</th>\n",
              "      <td>0.883633</td>\n",
              "      <td>0.844788</td>\n",
              "    </tr>\n",
              "    <tr>\n",
              "      <th>29</th>\n",
              "      <td>0.811543</td>\n",
              "      <td>0.410017</td>\n",
              "    </tr>\n",
              "    <tr>\n",
              "      <th>32</th>\n",
              "      <td>0.747046</td>\n",
              "      <td>0.959144</td>\n",
              "    </tr>\n",
              "    <tr>\n",
              "      <th>33</th>\n",
              "      <td>0.805365</td>\n",
              "      <td>0.780929</td>\n",
              "    </tr>\n",
              "    <tr>\n",
              "      <th>43</th>\n",
              "      <td>1.003388</td>\n",
              "      <td>0.842088</td>\n",
              "    </tr>\n",
              "    <tr>\n",
              "      <th>45</th>\n",
              "      <td>0.756854</td>\n",
              "      <td>0.160779</td>\n",
              "    </tr>\n",
              "    <tr>\n",
              "      <th>46</th>\n",
              "      <td>0.725131</td>\n",
              "      <td>0.442689</td>\n",
              "    </tr>\n",
              "    <tr>\n",
              "      <th>48</th>\n",
              "      <td>0.686254</td>\n",
              "      <td>0.160792</td>\n",
              "    </tr>\n",
              "    <tr>\n",
              "      <th>51</th>\n",
              "      <td>0.898323</td>\n",
              "      <td>0.301297</td>\n",
              "    </tr>\n",
              "    <tr>\n",
              "      <th>53</th>\n",
              "      <td>0.831916</td>\n",
              "      <td>0.402991</td>\n",
              "    </tr>\n",
              "    <tr>\n",
              "      <th>54</th>\n",
              "      <td>0.684209</td>\n",
              "      <td>0.641133</td>\n",
              "    </tr>\n",
              "    <tr>\n",
              "      <th>55</th>\n",
              "      <td>0.809304</td>\n",
              "      <td>0.168724</td>\n",
              "    </tr>\n",
              "    <tr>\n",
              "      <th>56</th>\n",
              "      <td>0.688223</td>\n",
              "      <td>0.498918</td>\n",
              "    </tr>\n",
              "    <tr>\n",
              "      <th>59</th>\n",
              "      <td>0.797255</td>\n",
              "      <td>0.406505</td>\n",
              "    </tr>\n",
              "    <tr>\n",
              "      <th>61</th>\n",
              "      <td>0.704791</td>\n",
              "      <td>0.422957</td>\n",
              "    </tr>\n",
              "    <tr>\n",
              "      <th>63</th>\n",
              "      <td>0.758680</td>\n",
              "      <td>0.954650</td>\n",
              "    </tr>\n",
              "    <tr>\n",
              "      <th>65</th>\n",
              "      <td>0.805728</td>\n",
              "      <td>0.277670</td>\n",
              "    </tr>\n",
              "    <tr>\n",
              "      <th>700</th>\n",
              "      <td>0.847338</td>\n",
              "      <td>0.092027</td>\n",
              "    </tr>\n",
              "    <tr>\n",
              "      <th>703</th>\n",
              "      <td>0.914955</td>\n",
              "      <td>0.967965</td>\n",
              "    </tr>\n",
              "    <tr>\n",
              "      <th>707</th>\n",
              "      <td>0.761566</td>\n",
              "      <td>0.770444</td>\n",
              "    </tr>\n",
              "    <tr>\n",
              "      <th>708</th>\n",
              "      <td>0.827384</td>\n",
              "      <td>0.179371</td>\n",
              "    </tr>\n",
              "    <tr>\n",
              "      <th>709</th>\n",
              "      <td>0.724600</td>\n",
              "      <td>0.723326</td>\n",
              "    </tr>\n",
              "    <tr>\n",
              "      <th>710</th>\n",
              "      <td>0.833990</td>\n",
              "      <td>0.508585</td>\n",
              "    </tr>\n",
              "    <tr>\n",
              "      <th>712</th>\n",
              "      <td>0.719406</td>\n",
              "      <td>0.135646</td>\n",
              "    </tr>\n",
              "    <tr>\n",
              "      <th>713</th>\n",
              "      <td>0.779267</td>\n",
              "      <td>0.942197</td>\n",
              "    </tr>\n",
              "    <tr>\n",
              "      <th>716</th>\n",
              "      <td>0.706757</td>\n",
              "      <td>0.874111</td>\n",
              "    </tr>\n",
              "    <tr>\n",
              "      <th>717</th>\n",
              "      <td>0.971632</td>\n",
              "      <td>0.116204</td>\n",
              "    </tr>\n",
              "    <tr>\n",
              "      <th>718</th>\n",
              "      <td>0.815154</td>\n",
              "      <td>0.191021</td>\n",
              "    </tr>\n",
              "    <tr>\n",
              "      <th>720</th>\n",
              "      <td>0.925821</td>\n",
              "      <td>0.215016</td>\n",
              "    </tr>\n",
              "    <tr>\n",
              "      <th>722</th>\n",
              "      <td>0.823334</td>\n",
              "      <td>0.985357</td>\n",
              "    </tr>\n",
              "    <tr>\n",
              "      <th>723</th>\n",
              "      <td>0.835272</td>\n",
              "      <td>0.093871</td>\n",
              "    </tr>\n",
              "    <tr>\n",
              "      <th>724</th>\n",
              "      <td>0.891704</td>\n",
              "      <td>0.748238</td>\n",
              "    </tr>\n",
              "    <tr>\n",
              "      <th>725</th>\n",
              "      <td>0.695102</td>\n",
              "      <td>0.812012</td>\n",
              "    </tr>\n",
              "  </tbody>\n",
              "</table>\n",
              "</div>\n",
              "      <button class=\"colab-df-convert\" onclick=\"convertToInteractive('df-9521b3f6-4925-4923-bbb2-f2e420ad254b')\"\n",
              "              title=\"Convert this dataframe to an interactive table.\"\n",
              "              style=\"display:none;\">\n",
              "        \n",
              "  <svg xmlns=\"http://www.w3.org/2000/svg\" height=\"24px\"viewBox=\"0 0 24 24\"\n",
              "       width=\"24px\">\n",
              "    <path d=\"M0 0h24v24H0V0z\" fill=\"none\"/>\n",
              "    <path d=\"M18.56 5.44l.94 2.06.94-2.06 2.06-.94-2.06-.94-.94-2.06-.94 2.06-2.06.94zm-11 1L8.5 8.5l.94-2.06 2.06-.94-2.06-.94L8.5 2.5l-.94 2.06-2.06.94zm10 10l.94 2.06.94-2.06 2.06-.94-2.06-.94-.94-2.06-.94 2.06-2.06.94z\"/><path d=\"M17.41 7.96l-1.37-1.37c-.4-.4-.92-.59-1.43-.59-.52 0-1.04.2-1.43.59L10.3 9.45l-7.72 7.72c-.78.78-.78 2.05 0 2.83L4 21.41c.39.39.9.59 1.41.59.51 0 1.02-.2 1.41-.59l7.78-7.78 2.81-2.81c.8-.78.8-2.07 0-2.86zM5.41 20L4 18.59l7.72-7.72 1.47 1.35L5.41 20z\"/>\n",
              "  </svg>\n",
              "      </button>\n",
              "      \n",
              "  <style>\n",
              "    .colab-df-container {\n",
              "      display:flex;\n",
              "      flex-wrap:wrap;\n",
              "      gap: 12px;\n",
              "    }\n",
              "\n",
              "    .colab-df-convert {\n",
              "      background-color: #E8F0FE;\n",
              "      border: none;\n",
              "      border-radius: 50%;\n",
              "      cursor: pointer;\n",
              "      display: none;\n",
              "      fill: #1967D2;\n",
              "      height: 32px;\n",
              "      padding: 0 0 0 0;\n",
              "      width: 32px;\n",
              "    }\n",
              "\n",
              "    .colab-df-convert:hover {\n",
              "      background-color: #E2EBFA;\n",
              "      box-shadow: 0px 1px 2px rgba(60, 64, 67, 0.3), 0px 1px 3px 1px rgba(60, 64, 67, 0.15);\n",
              "      fill: #174EA6;\n",
              "    }\n",
              "\n",
              "    [theme=dark] .colab-df-convert {\n",
              "      background-color: #3B4455;\n",
              "      fill: #D2E3FC;\n",
              "    }\n",
              "\n",
              "    [theme=dark] .colab-df-convert:hover {\n",
              "      background-color: #434B5C;\n",
              "      box-shadow: 0px 1px 3px 1px rgba(0, 0, 0, 0.15);\n",
              "      filter: drop-shadow(0px 1px 2px rgba(0, 0, 0, 0.3));\n",
              "      fill: #FFFFFF;\n",
              "    }\n",
              "  </style>\n",
              "\n",
              "      <script>\n",
              "        const buttonEl =\n",
              "          document.querySelector('#df-9521b3f6-4925-4923-bbb2-f2e420ad254b button.colab-df-convert');\n",
              "        buttonEl.style.display =\n",
              "          google.colab.kernel.accessAllowed ? 'block' : 'none';\n",
              "\n",
              "        async function convertToInteractive(key) {\n",
              "          const element = document.querySelector('#df-9521b3f6-4925-4923-bbb2-f2e420ad254b');\n",
              "          const dataTable =\n",
              "            await google.colab.kernel.invokeFunction('convertToInteractive',\n",
              "                                                     [key], {});\n",
              "          if (!dataTable) return;\n",
              "\n",
              "          const docLinkHtml = 'Like what you see? Visit the ' +\n",
              "            '<a target=\"_blank\" href=https://colab.research.google.com/notebooks/data_table.ipynb>data table notebook</a>'\n",
              "            + ' to learn more about interactive tables.';\n",
              "          element.innerHTML = '';\n",
              "          dataTable['output_type'] = 'display_data';\n",
              "          await google.colab.output.renderOutput(dataTable, element);\n",
              "          const docLink = document.createElement('div');\n",
              "          docLink.innerHTML = docLinkHtml;\n",
              "          element.appendChild(docLink);\n",
              "        }\n",
              "      </script>\n",
              "    </div>\n",
              "  </div>\n",
              "  "
            ]
          },
          "metadata": {},
          "execution_count": 32
        }
      ]
    },
    {
      "cell_type": "code",
      "source": [],
      "metadata": {
        "id": "ODEx6-j55zcz"
      },
      "execution_count": null,
      "outputs": []
    }
  ]
}